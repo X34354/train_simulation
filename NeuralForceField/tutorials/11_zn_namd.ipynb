{
 "cells": [
  {
   "cell_type": "code",
   "execution_count": 1,
   "metadata": {},
   "outputs": [],
   "source": [
    "%load_ext autoreload\n",
    "%autoreload 2\n",
    "\n",
    "import sys\n",
    "import os\n",
    "\n",
    "# so that NFF is in your path\n",
    "sys.path.insert(0, \"..\")"
   ]
  },
  {
   "cell_type": "markdown",
   "metadata": {},
   "source": [
    "# Non-adiabatic dynamics \n",
    "This tutorial shows how to run non-adiabatic dynamics with a trained model using the [Zhu-Nakamura surface hopping method](https://pubs.rsc.org/en/content/articlelanding/2014/cp/c4cp03498h).\n",
    "\n",
    "First let's import dependencies:\n"
   ]
  },
  {
   "cell_type": "code",
   "execution_count": 2,
   "metadata": {},
   "outputs": [
    {
     "data": {
      "application/vnd.jupyter.widget-view+json": {
       "model_id": "2e6b67b2f5be4c878e745ad328ae44a4",
       "version_major": 2,
       "version_minor": 0
      },
      "text/plain": []
     },
     "metadata": {},
     "output_type": "display_data"
    }
   ],
   "source": [
    "\n",
    "\n",
    "import json\n",
    "import numpy as np\n",
    "from nff.md.zhu_nakamura.dynamics import CombinedZhuNakamura\n",
    "from ase.io.trajectory import Trajectory\n",
    "import nglview as nv\n",
    "from nff.md.utils import csv_read\n",
    "from ase import Atoms\n",
    "from nff.md.zhu_nakamura.run_zn import coords_to_xyz, make_dataset, make_trj\n",
    "\n",
    "\n"
   ]
  },
  {
   "cell_type": "code",
   "execution_count": null,
   "metadata": {},
   "outputs": [],
   "source": []
  },
  {
   "cell_type": "markdown",
   "metadata": {},
   "source": [
    "Now we'll find a trained model. The trained azobenzene models can be found in `NeuralForceField/models/azo_derivatives`. The sub-folders are for diabatic and adiabatic models, trained either with the full set of geometries, or with 40 species held out. There are also three models trained with different splits and different initialization from random seeds:"
   ]
  },
  {
   "cell_type": "code",
   "execution_count": 3,
   "metadata": {},
   "outputs": [
    {
     "name": "stdout",
     "output_type": "stream",
     "text": [
      "['all_diabatic', 'holdout_diabatic', 'holdout_adiabatic']\n",
      "['seed_0', 'seed_2', 'seed_1']\n"
     ]
    }
   ],
   "source": [
    "print(os.listdir('../models/azo_derivatives'))\n",
    "print(os.listdir('../models/azo_derivatives/all_diabatic'))"
   ]
  },
  {
   "cell_type": "markdown",
   "metadata": {},
   "source": [
    "We'll use the diabatic model trained on all species, with seed 0: `../models/azo_derivatives/all_diabatic/seed_0`."
   ]
  },
  {
   "cell_type": "markdown",
   "metadata": {},
   "source": [
    "## Zhu-Nakamura\n",
    "\n",
    "The script for ZN surface hopping is `NeuralForceField/nff/md/zhu_nakamura/run_zn.py`. If you run the script and supply the path of a JSON parameter file, it will do the rest for you. Here we'll go through some parameters to give, and show a little of what goes on behind the scenes.\n",
    "\n",
    "We'll have to define `ground_params`, `zhu_params`, `combined_params`, and `all_params`. The first is for parameters in the ground state MD simulation, the second for ZN surface hopping, and the third is for batching. The fourth is for some remaining parameters, which we'll explain below.\n",
    "\n",
    "Let's define `ground_params`:"
   ]
  },
  {
   "cell_type": "code",
   "execution_count": 4,
   "metadata": {},
   "outputs": [],
   "source": [
    "ground_params = {'ttime': 50, # tau = ttime * dt is the relaxation time\n",
    "                 'logfile': 'ground.log', # log file for ground state MD\n",
    "                 'max_time': 200, # total time in fs\n",
    "                 'savefile': 'ground.trj', # output file with saved geometries\n",
    "                 'timestep': 0.5, # dt in fs\n",
    "                 'equil_time': 100, # ignore this amount of time (fs) when sampling\n",
    "                                    # geoms for NAMD \n",
    "                 'thermostat': 'nosehoover', # use the Nose Hoover thermostat\n",
    "                 'loginterval': 10, # log the energy and save geoms every 10 steps\n",
    "                 'temperature': 300, # temperature in Kelvin\n",
    "                 'cutoff': 5.0, # neighbor list cutoff in Angstrom \n",
    "                 'cutoff_skin': 2.0, # extra distance added to cutoff when updating\n",
    "                                     # neighbor list, to account for atoms coming into\n",
    "                                     # the 5 A sphere between updates \n",
    "                }"
   ]
  },
  {
   "cell_type": "markdown",
   "metadata": {},
   "source": [
    "Now let's do `zhu_params` and `batched_params`:"
   ]
  },
  {
   "cell_type": "code",
   "execution_count": 6,
   "metadata": {},
   "outputs": [],
   "source": [
    "zhu_params = {'log_file': 'trj.log', # log file for NAMD\n",
    "              'max_time': 200, # total time in fs\n",
    "              'out_file': 'trj.csv', # the i^th trajectory gets a csv called `trj_{i}.csv` with all its info\n",
    "              'timestep': 0.5, # dt in fs\n",
    "              'num_states': 2, # number of adiabatic states\n",
    "              'max_gap_hop': 0.0217, # don't hop if the gap is over 0.0217 au (0.59 eV)\n",
    "              'save_period': 5, # save every 5 steps\n",
    "              'initial_surf': 1, # start on the first excited state\n",
    "              'initial_time': 0.0 # start at t=0\n",
    "             }\n",
    "\n",
    "batched_params = {'cutoff': 5.0, # neighbor list cutoff in Angstrom \n",
    "                  'cutoff_skin': 2.0, # extra distance added to cutoff when updating\n",
    "                                      # neighbor list, to account for atoms coming into\n",
    "                                      # the 5 A sphere between updates \n",
    "                  'device': 1, # Use GPU 1 (set to 'cpu' if you don't have a GPU)\n",
    "                  'num_trj': 10, # Number of trajectories\n",
    "                  'batch_size': 5, # Number of trajectories to batch together in one so that calculations\n",
    "                                   # can be done in parallel\n",
    "                  'nbr_update_period': 10, # update the neighbor list every 10 steps\n",
    "                  \n",
    "                 }"
   ]
  },
  {
   "cell_type": "markdown",
   "metadata": {},
   "source": [
    "Lastly we'll define `all_params`, which has the starting coordinates and the model path:"
   ]
  },
  {
   "cell_type": "code",
   "execution_count": 7,
   "metadata": {},
   "outputs": [],
   "source": [
    "with open('data/azo_coords.json', 'r') as f:\n",
    "    coords = json.load(f)\n",
    "\n",
    "all_params = {\"coords\": coords, # starting geometry of the molecule\n",
    "              'model_path': '../models/azo_derivatives/all_diabatic/seed_0', # path to saved model\n",
    "              \"zhu_params\": zhu_params,\n",
    "              \"ground_params\": ground_params,\n",
    "              \"batched_params\": batched_params\n",
    "             }\n"
   ]
  },
  {
   "cell_type": "markdown",
   "metadata": {},
   "source": [
    "When we run the script from the command line, it parses these three dictionaries from a file and makes an instance of `CombinedZhuNakamura`, like this:\n",
    "\n"
   ]
  },
  {
   "cell_type": "code",
   "execution_count": 8,
   "metadata": {},
   "outputs": [
    {
     "name": "stdout",
     "output_type": "stream",
     "text": [
      "loading models\n",
      "running ground state + Zhu-Nakamura dynamics\n"
     ]
    },
    {
     "name": "stderr",
     "output_type": "stream",
     "text": [
      "/home/saxelrod/miniconda3/envs/nff/lib/python3.7/site-packages/ase/md/md.py:48: FutureWarning: Specify the temperature in K using the 'temperature_K' argument\n",
      "  warnings.warn(FutureWarning(w))\n"
     ]
    }
   ],
   "source": [
    "\n",
    "coords = all_params[\"coords\"]\n",
    "nxyz = [coords_to_xyz(coords)]\n",
    "\n",
    "\n",
    "print('loading models')\n",
    "\n",
    "dataset = make_dataset(nxyz=nxyz, \n",
    "                       all_params=all_params)\n",
    "\n",
    "print('running ground state + Zhu-Nakamura dynamics')\n",
    "\n",
    "zn = make_trj(all_params=all_params,\n",
    "              dataset=dataset)\n",
    "\n"
   ]
  },
  {
   "cell_type": "markdown",
   "metadata": {},
   "source": [
    "First we made the xyz of the structure from the dictionary of coordinates. Then we turned it into an NFF dataset and used that to make an instance of `CombinedZhuNakamura`.\n",
    "\n",
    "For an example of how you would use this script in practice, check out `data/zn_info.json`. If you run\n",
    "```bash\n",
    "conda activate nff\n",
    "python ../nff/md/zhu_nakamura/run_zn.py data/zn_info.json\n",
    "```\n",
    "then you should be able to peform neural ZN in one line. Note that in `zn_info.json`, the `all_params` part of the dictionary is its body, i.e. everything that doesn't have the key `ground_params`, `zhu_params`, or `batched_params`.\n"
   ]
  },
  {
   "cell_type": "markdown",
   "metadata": {},
   "source": [
    "Now we can run it!"
   ]
  },
  {
   "cell_type": "code",
   "execution_count": 9,
   "metadata": {},
   "outputs": [
    {
     "name": "stderr",
     "output_type": "stream",
     "text": [
      "../nff/nn/modules/diabat.py:141: UserWarning: torch.symeig is deprecated in favor of torch.linalg.eigh and will be removed in a future PyTorch release.\n",
      "The default behavior has changed from using the upper triangular portion of the matrix by default to using the lower triangular portion.\n",
      "L, _ = torch.symeig(A, upper=upper)\n",
      "should be replaced with\n",
      "L = torch.linalg.eigvalsh(A, UPLO='U' if upper else 'L')\n",
      "and\n",
      "L, V = torch.symeig(A, eigenvectors=True)\n",
      "should be replaced with\n",
      "L, V = torch.linalg.eigh(A, UPLO='U' if upper else 'L') (Triggered internally at  /opt/conda/conda-bld/pytorch_1623448224956/work/aten/src/ATen/native/BatchLinearAlgebra.cpp:2500.)\n",
      "  ad_energies, u = torch.symeig(d_mat, True)\n"
     ]
    },
    {
     "name": "stdout",
     "output_type": "stream",
     "text": [
      "Completed step 0\n",
      "Completed step 10\n",
      "Completed step 20\n",
      "Completed step 30\n",
      "Completed step 40\n",
      "Completed step 50\n",
      "Completed step 60\n",
      "Completed step 70\n",
      "Completed step 80\n",
      "Completed step 90\n",
      "Completed step 100\n",
      "Completed step 110\n",
      "Completed step 120\n",
      "Completed step 130\n",
      "Completed step 140\n",
      "Completed step 150\n",
      "Completed step 160\n",
      "Completed step 170\n",
      "Completed step 180\n",
      "Completed step 190\n",
      "Completed step 200\n",
      "Completed step 210\n",
      "Completed step 220\n",
      "Completed step 230\n",
      "Completed step 240\n",
      "Completed step 250\n",
      "Completed step 260\n",
      "Completed step 270\n",
      "Completed step 280\n",
      "Completed step 290\n",
      "Completed step 300\n",
      "Completed step 310\n",
      "Completed step 320\n",
      "Completed step 330\n",
      "Completed step 340\n",
      "Completed step 350\n",
      "Completed step 360\n",
      "Completed step 370\n",
      "Completed step 380\n",
      "Completed step 390\n",
      "Completed step 400\n",
      "Neural ZN terminated normally.\n"
     ]
    }
   ],
   "source": [
    "zn.run()\n"
   ]
  },
  {
   "cell_type": "markdown",
   "metadata": {},
   "source": [
    "We can view the ground-state log file:"
   ]
  },
  {
   "cell_type": "code",
   "execution_count": 16,
   "metadata": {
    "scrolled": true
   },
   "outputs": [
    {
     "name": "stdout",
     "output_type": "stream",
     "text": [
      "Time[ps]      Etot[eV]     Epot[eV]     Ekin[eV]    T[K]\n",
      "0.0000           0.1020      -0.8128       0.9147   208.1\n",
      "0.0025           0.1067      -0.5076       0.6143   139.8\n",
      "0.0050           0.1085      -0.3109       0.4194    95.4\n",
      "0.0075           0.1146      -0.2349       0.3495    79.5\n",
      "0.0100           0.1211      -0.4860       0.6071   138.2\n",
      "0.0125           0.1381      -0.3638       0.5020   114.2\n",
      "0.0150           0.1522      -0.3410       0.4932   112.2\n",
      "0.0175           0.1703      -0.2687       0.4390    99.9\n",
      "0.0200           0.1911      -0.4260       0.6171   140.4\n",
      "0.0225           0.2206      -0.2439       0.4645   105.7\n",
      "0.0250           0.2459      -0.2879       0.5339   121.5\n",
      "0.0275           0.2795      -0.2799       0.5594   127.3\n",
      "0.0300           0.3203      -0.3854       0.7057   160.6\n",
      "0.0325           0.3676      -0.2013       0.5689   129.5\n",
      "0.0350           0.4128      -0.2612       0.6741   153.4\n",
      "0.0375           0.4683      -0.2329       0.7012   159.6\n",
      "0.0400           0.5327      -0.2912       0.8239   187.5\n",
      "0.0425           0.5994      -0.0355       0.6349   144.5\n",
      "0.0450           0.6607      -0.0697       0.7303   166.2\n",
      "0.0475           0.7327      -0.0181       0.7508   170.8\n",
      "0.0500           0.8153      -0.0754       0.8908   202.7\n",
      "0.0525           0.9056       0.0829       0.8226   187.2\n",
      "0.0550           1.0016       0.0137       0.9880   224.8\n",
      "0.0575           1.1097       0.1259       0.9838   223.9\n",
      "0.0600           1.2241       0.1623       1.0618   241.6\n",
      "0.0625           1.3393       0.3681       0.9712   221.0\n",
      "0.0650           1.4624       0.2635       1.1989   272.8\n",
      "0.0675           1.6021       0.3954       1.2067   274.6\n",
      "0.0700           1.7537       0.3026       1.4511   330.2\n",
      "0.0725           1.9274       0.3395       1.5879   361.3\n",
      "0.0750           2.1185       0.2862       1.8323   416.9\n",
      "0.0775           2.2994       0.8214       1.4780   336.3\n",
      "0.0800           2.4414       1.1728       1.2686   288.7\n",
      "0.0825           2.5797       1.0752       1.5046   342.3\n",
      "0.0850           2.7707       0.4700       2.3008   523.5\n",
      "0.0875           2.9876       0.8534       2.1342   485.6\n",
      "0.0900           3.1606       1.2868       1.8738   426.4\n",
      "0.0925           3.3103       1.4730       1.8373   418.1\n",
      "0.0950           3.4718       0.8334       2.6384   600.3\n",
      "0.0975           3.6493       1.1043       2.5449   579.1\n",
      "0.1000           3.7848       1.3261       2.4587   559.4\n",
      "0.1025           3.8978       1.3297       2.5681   584.3\n",
      "0.1050           3.9858       0.7977       3.1881   725.4\n",
      "0.1075           4.0498       1.4365       2.6132   594.6\n",
      "0.1100           4.0677       1.8398       2.2279   506.9\n",
      "0.1125           4.0638       1.7222       2.3416   532.8\n",
      "0.1150           4.0298       1.1184       2.9114   662.5\n",
      "0.1175           3.9715       1.3888       2.5826   587.6\n",
      "0.1200           3.8914       1.6587       2.2326   508.0\n",
      "0.1225           3.7958       1.5797       2.2161   504.2\n",
      "0.1250           3.6710       0.9931       2.6779   609.3\n",
      "0.1275           3.5045       0.8887       2.6158   595.2\n",
      "0.1300           3.3347       1.1677       2.1670   493.1\n",
      "0.1325           3.1627       1.1052       2.0575   468.2\n",
      "0.1350           2.9801       0.8233       2.1568   490.8\n",
      "0.1375           2.7857       0.8850       1.9007   432.5\n",
      "0.1400           2.6145       0.9907       1.6238   369.5\n",
      "0.1425           2.4406       0.7564       1.6842   383.2\n",
      "0.1450           2.2565       0.4604       1.7961   408.7\n",
      "0.1475           2.0602       0.4177       1.6425   373.7\n",
      "0.1500           1.8942       0.6117       1.2824   291.8\n",
      "0.1525           1.7626       0.7775       0.9851   224.1\n",
      "0.1550           1.6593       0.7130       0.9464   215.3\n",
      "0.1575           1.5437       0.4594       1.0843   246.7\n",
      "0.1600           1.4218       0.2734       1.1484   261.3\n",
      "0.1625           1.2949       0.1911       1.1038   251.2\n",
      "0.1650           1.1887       0.2652       0.9235   210.1\n",
      "0.1675           1.0959       0.2691       0.8268   188.1\n",
      "0.1700           1.0118       0.1558       0.8560   194.8\n",
      "0.1725           0.9223       0.0419       0.8804   200.3\n",
      "0.1750           0.8443       0.0480       0.7964   181.2\n",
      "0.1775           0.7706       0.0076       0.7630   173.6\n",
      "0.1800           0.7050      -0.0402       0.7453   169.6\n",
      "0.1825           0.6406      -0.0729       0.7135   162.3\n",
      "0.1850           0.5899      -0.0065       0.5964   135.7\n",
      "0.1875           0.5457      -0.0150       0.5607   127.6\n",
      "0.1900           0.5057      -0.1150       0.6208   141.3\n",
      "0.1925           0.4608      -0.2290       0.6898   157.0\n",
      "0.1950           0.4223      -0.2110       0.6333   144.1\n",
      "0.1975           0.3869      -0.2326       0.6195   141.0\n",
      "0.2000           0.3556      -0.2915       0.6471   147.2\n",
      "Time[ps]      Etot[eV]     Epot[eV]     Ekin[eV]    T[K]\n",
      "0.0000           1.9270      -0.8128       2.7398   623.4\n",
      "0.0050           1.8984       0.3803       1.5182   345.4\n",
      "0.0100           1.8623       0.4799       1.3824   314.6\n",
      "0.0150           1.8311       0.4821       1.3490   306.9\n",
      "0.0200           1.7902       0.1553       1.6349   372.0\n",
      "0.0250           1.7449       0.3293       1.4156   322.1\n",
      "0.0300           1.6888       0.0757       1.6131   367.0\n",
      "0.0350           1.6358       0.4849       1.1508   261.9\n",
      "0.0400           1.5887       0.1930       1.3957   317.6\n",
      "0.0450           1.5348       0.1107       1.4241   324.0\n",
      "0.0500           1.4775       0.1421       1.3354   303.9\n",
      "0.0550           1.4302       0.3363       1.0939   248.9\n",
      "0.0600           1.3937       0.3050       1.0887   247.7\n",
      "0.0650           1.3617       0.1327       1.2290   279.7\n",
      "0.0700           1.3318       0.1205       1.2114   275.6\n",
      "0.0750           1.3050       0.0713       1.2337   280.7\n",
      "0.0800           1.2855       0.3652       0.9203   209.4\n",
      "0.0850           1.2769       0.2032       1.0737   244.3\n",
      "0.0900           1.2765       0.1962       1.0803   245.8\n",
      "0.0950           1.2817       0.1799       1.1018   250.7\n",
      "0.1000           1.2952       0.3979       0.8973   204.2\n",
      "0.1050           1.3182      -0.0183       1.3366   304.1\n",
      "0.1100           1.3499       0.3226       1.0274   233.8\n",
      "0.1150           1.3800       0.1784       1.2016   273.4\n",
      "0.1200           1.4231       0.2471       1.1760   267.6\n",
      "0.1250           1.4647       0.2840       1.1807   268.7\n",
      "0.1300           1.5132       0.3718       1.1414   259.7\n",
      "0.1350           1.5672       0.2079       1.3593   309.3\n",
      "0.1400           1.6219       0.5350       1.0869   247.3\n",
      "0.1450           1.6758       0.3499       1.3258   301.7\n",
      "0.1500           1.7411       0.3350       1.4062   320.0\n",
      "0.1550           1.7966       0.4656       1.3310   302.9\n",
      "0.1600           1.8507       0.2850       1.5657   356.3\n",
      "0.1650           1.8938       0.6239       1.2700   289.0\n",
      "0.1700           1.9258       0.8015       1.1243   255.8\n",
      "0.1750           1.9637       0.3681       1.5956   363.1\n",
      "0.1800           1.9940       0.2346       1.7594   400.3\n",
      "0.1850           1.9974       0.7661       1.2313   280.2\n",
      "0.1900           1.9945       0.6674       1.3270   302.0\n",
      "0.1950           1.9839       0.5976       1.3864   315.5\n",
      "0.2000           1.9648       0.5259       1.4390   327.4\n",
      "\n"
     ]
    }
   ],
   "source": [
    "with open('ground.log', 'r') as f:\n",
    "    ground_log = f.read()\n",
    "print(ground_log)"
   ]
  },
  {
   "cell_type": "markdown",
   "metadata": {},
   "source": [
    "We see that all energies fluctuate, as kinetic energy is being added into the system fo the thermostat. The temperature also varies, and over enough time it will average out to 300 K. \n",
    "\n",
    "To get the actual geometries, energies, and forces, we can load the trajectory file. And we can visualize it with `nglview`:\n",
    "\n"
   ]
  },
  {
   "cell_type": "code",
   "execution_count": 17,
   "metadata": {},
   "outputs": [
    {
     "data": {
      "application/vnd.jupyter.widget-view+json": {
       "model_id": "1035ce5ddebb4fd9aaef287962eee78b",
       "version_major": 2,
       "version_minor": 0
      },
      "text/plain": [
       "NGLWidget(max_frame=40)"
      ]
     },
     "metadata": {},
     "output_type": "display_data"
    }
   ],
   "source": [
    "trj = Trajectory('ground.trj')\n",
    "nv.show_asetraj(trj)"
   ]
  },
  {
   "cell_type": "markdown",
   "metadata": {},
   "source": [
    "Unlike neural Tully, neural ZN saves the trajectories separately from each other. This should be changed in the future, since saving in one file is much easier. In any case we can examine individual trajectories:"
   ]
  },
  {
   "cell_type": "code",
   "execution_count": 18,
   "metadata": {
    "scrolled": true
   },
   "outputs": [
    {
     "name": "stdout",
     "output_type": "stream",
     "text": [
      "ZHU-NAKAMURA DYNAMICS:  Completed step 1. Currently in state 1.\n",
      "ZHU-NAKAMURA DYNAMICS:  Relative energies are 0.0, 3.1951700962748886 eV\n",
      "ZHU-NAKAMURA DYNAMICS:  Completed step 11. Currently in state 1.\n",
      "ZHU-NAKAMURA DYNAMICS:  Relative energies are 0.0, 2.9353565378686763 eV\n",
      "ZHU-NAKAMURA DYNAMICS:  Completed step 21. Currently in state 1.\n",
      "ZHU-NAKAMURA DYNAMICS:  Relative energies are 0.0, 2.616460329310267 eV\n",
      "ZHU-NAKAMURA DYNAMICS:  Completed step 31. Currently in state 1.\n",
      "ZHU-NAKAMURA DYNAMICS:  Relative energies are 0.0, 2.1108120154249654 eV\n",
      "ZHU-NAKAMURA DYNAMICS:  Completed step 40. Currently in state 1.\n",
      "ZHU-NAKAMURA DYNAMICS:  Relative energies are 0.0, 1.2096664151430496 eV\n",
      "ZHU-NAKAMURA DYNAMICS:  Completed step 50. Currently in state 1.\n",
      "ZHU-NAKAMURA DYNAMICS:  Relative energies are 0.0, 0.7094599128757516 eV\n",
      "ZHU-NAKAMURA DYNAMICS:  Completed step 61. Currently in state 1.\n",
      "ZHU-NAKAMURA DYNAMICS:  Relative energies are 0.0, 0.6952378360590492 eV\n",
      "ZHU-NAKAMURA DYNAMICS:  Completed step 71. Currently in state 1.\n",
      "ZHU-NAKAMURA DYNAMICS:  Relative energies are 0.0, 0.46803597964456506 eV\n",
      "ZHU-NAKAMURA DYNAMICS:  Completed step 81. Currently in state 1.\n",
      "ZHU-NAKAMURA DYNAMICS:  Relative energies are 0.0, 0.512037260823276 eV\n",
      "ZHU-NAKAMURA DYNAMICS:  Completed step 91. Currently in state 1.\n",
      "ZHU-NAKAMURA DYNAMICS:  Relative energies are 0.0, 0.9040872921307203 eV\n",
      "ZHU-NAKAMURA DYNAMICS:  Completed step 101. Currently in state 1.\n",
      "ZHU-NAKAMURA DYNAMICS:  Relative energies are 0.0, 1.180511579315994 eV\n",
      "ZHU-NAKAMURA DYNAMICS:  Completed step 111. Currently in state 1.\n",
      "ZHU-NAKAMURA DYNAMICS:  Relative energies are 0.0, 1.2748990374913947 eV\n",
      "ZHU-NAKAMURA DYNAMICS:  Completed step 121. Currently in state 1.\n",
      "ZHU-NAKAMURA DYNAMICS:  Relative energies are 0.0, 1.3560765374418438 eV\n",
      "ZHU-NAKAMURA DYNAMICS:  Completed step 130. Currently in state 1.\n",
      "ZHU-NAKAMURA DYNAMICS:  Relative energies are 0.0, 1.4498387176471894 eV\n",
      "ZHU-NAKAMURA DYNAMICS:  Completed step 140. Currently in state 1.\n",
      "ZHU-NAKAMURA DYNAMICS:  Relative energies are 0.0, 1.5691252687554829 eV\n",
      "ZHU-NAKAMURA DYNAMICS:  Completed step 150. Currently in state 1.\n",
      "ZHU-NAKAMURA DYNAMICS:  Relative energies are 0.0, 1.6414969566484805 eV\n",
      "ZHU-NAKAMURA DYNAMICS:  Completed step 160. Currently in state 1.\n",
      "ZHU-NAKAMURA DYNAMICS:  Relative energies are 0.0, 1.4515351448146558 eV\n",
      "ZHU-NAKAMURA DYNAMICS:  Completed step 170. Currently in state 1.\n",
      "ZHU-NAKAMURA DYNAMICS:  Relative energies are 0.0, 1.12329504865356 eV\n",
      "ZHU-NAKAMURA DYNAMICS:  Completed step 180. Currently in state 1.\n",
      "ZHU-NAKAMURA DYNAMICS:  Relative energies are 0.0, 0.90600305850942 eV\n",
      "ZHU-NAKAMURA DYNAMICS:  Completed step 190. Currently in state 1.\n",
      "ZHU-NAKAMURA DYNAMICS:  Relative energies are 0.0, 0.6581958829786207 eV\n",
      "ZHU-NAKAMURA DYNAMICS:  Completed step 200. Currently in state 1.\n",
      "ZHU-NAKAMURA DYNAMICS:  Relative energies are 0.0, 0.22246700657381022 eV\n",
      "ZHU-NAKAMURA DYNAMICS:  Completed step 209. Currently in state 0.\n",
      "ZHU-NAKAMURA DYNAMICS:  Relative energies are 0.0, 0.22267204285117798 eV\n",
      "ZHU-NAKAMURA DYNAMICS:  Completed step 219. Currently in state 0.\n",
      "ZHU-NAKAMURA DYNAMICS:  Relative energies are 0.0, 1.0227469117505934 eV\n",
      "ZHU-NAKAMURA DYNAMICS:  Completed step 229. Currently in state 0.\n",
      "ZHU-NAKAMURA DYNAMICS:  Relative energies are 0.0, 1.6839576547657082 eV\n",
      "ZHU-NAKAMURA DYNAMICS:  Completed step 240. Currently in state 0.\n",
      "ZHU-NAKAMURA DYNAMICS:  Relative energies are 0.0, 2.037248554169766 eV\n",
      "ZHU-NAKAMURA DYNAMICS:  Completed step 250. Currently in state 0.\n",
      "ZHU-NAKAMURA DYNAMICS:  Relative energies are 0.0, 2.462941235501079 eV\n",
      "ZHU-NAKAMURA DYNAMICS:  Completed step 260. Currently in state 0.\n",
      "ZHU-NAKAMURA DYNAMICS:  Relative energies are 0.0, 2.536335789855205 eV\n",
      "ZHU-NAKAMURA DYNAMICS:  Completed step 270. Currently in state 0.\n",
      "ZHU-NAKAMURA DYNAMICS:  Relative energies are 0.0, 2.2204759164030667 eV\n",
      "ZHU-NAKAMURA DYNAMICS:  Completed step 280. Currently in state 0.\n",
      "ZHU-NAKAMURA DYNAMICS:  Relative energies are 0.0, 2.049199688862779 eV\n",
      "ZHU-NAKAMURA DYNAMICS:  Attempting hop from state 0 to state 1. Probability is 0.\n",
      "ZHU-NAKAMURA DYNAMICS:  Did not hop from state 0 to state 1.\n",
      "ZHU-NAKAMURA DYNAMICS:  Completed step 290. Currently in state 0.\n",
      "ZHU-NAKAMURA DYNAMICS:  Relative energies are 0.0, 2.291153574730228 eV\n",
      "ZHU-NAKAMURA DYNAMICS:  Completed step 300. Currently in state 0.\n",
      "ZHU-NAKAMURA DYNAMICS:  Relative energies are 0.0, 2.6045465641323227 eV\n",
      "ZHU-NAKAMURA DYNAMICS:  Completed step 310. Currently in state 0.\n",
      "ZHU-NAKAMURA DYNAMICS:  Relative energies are 0.0, 2.5445610516143993 eV\n",
      "ZHU-NAKAMURA DYNAMICS:  Completed step 320. Currently in state 0.\n",
      "ZHU-NAKAMURA DYNAMICS:  Relative energies are 0.0, 2.229761083434784 eV\n",
      "ZHU-NAKAMURA DYNAMICS:  Completed step 330. Currently in state 0.\n",
      "ZHU-NAKAMURA DYNAMICS:  Relative energies are 0.0, 2.3187256627774704 eV\n",
      "ZHU-NAKAMURA DYNAMICS:  Completed step 340. Currently in state 0.\n",
      "ZHU-NAKAMURA DYNAMICS:  Relative energies are 0.0, 2.5270744334879556 eV\n",
      "ZHU-NAKAMURA DYNAMICS:  Completed step 350. Currently in state 0.\n",
      "ZHU-NAKAMURA DYNAMICS:  Relative energies are 0.0, 2.512277593687277 eV\n",
      "ZHU-NAKAMURA DYNAMICS:  Completed step 360. Currently in state 0.\n",
      "ZHU-NAKAMURA DYNAMICS:  Relative energies are 0.0, 2.2980978558113803 eV\n",
      "ZHU-NAKAMURA DYNAMICS:  Completed step 370. Currently in state 0.\n",
      "ZHU-NAKAMURA DYNAMICS:  Relative energies are 0.0, 2.4384152589874457 eV\n",
      "ZHU-NAKAMURA DYNAMICS:  Completed step 380. Currently in state 0.\n",
      "ZHU-NAKAMURA DYNAMICS:  Relative energies are 0.0, 2.7811570419209124 eV\n",
      "ZHU-NAKAMURA DYNAMICS:  Completed step 390. Currently in state 0.\n",
      "ZHU-NAKAMURA DYNAMICS:  Relative energies are 0.0, 2.8238862714207587 eV\n",
      "ZHU-NAKAMURA DYNAMICS:  Completed step 400. Currently in state 0.\n",
      "ZHU-NAKAMURA DYNAMICS:  Relative energies are 0.0, 2.5071730171399933 eV\n",
      "\n"
     ]
    }
   ],
   "source": [
    "with open('trj_4.log', 'r') as f:\n",
    "    zn_log = f.read()\n",
    "print(zn_log)"
   ]
  },
  {
   "cell_type": "markdown",
   "metadata": {},
   "source": [
    "To get the geometries, forces, etc., we can load the trajectory's CSV file:\n",
    "\n"
   ]
  },
  {
   "cell_type": "code",
   "execution_count": 19,
   "metadata": {},
   "outputs": [],
   "source": [
    "trj_dics = csv_read('trj_4.csv')"
   ]
  },
  {
   "cell_type": "markdown",
   "metadata": {},
   "source": [
    "We can turn the xyz's into an ase trajectory and visualize it:\n"
   ]
  },
  {
   "cell_type": "code",
   "execution_count": 20,
   "metadata": {},
   "outputs": [
    {
     "data": {
      "application/vnd.jupyter.widget-view+json": {
       "model_id": "f6f1b01f939243998c08e4ccfb58fbbb",
       "version_major": 2,
       "version_minor": 0
      },
      "text/plain": [
       "NGLWidget(max_frame=40)"
      ]
     },
     "metadata": {},
     "output_type": "display_data"
    }
   ],
   "source": [
    "nxyz_list = [np.array(i['nxyz']) for i in trj_dics]\n",
    "trj = [Atoms(numbers=nxyz[:, 0], positions=nxyz[:, 1:])\n",
    "      for nxyz in nxyz_list]\n",
    "nv.show_asetraj(trj)"
   ]
  },
  {
   "cell_type": "markdown",
   "metadata": {},
   "source": [
    "We can also see some properties. As in neural Tully, everything is given in atomic units, except for coordinates which are given in Angstroms."
   ]
  },
  {
   "cell_type": "code",
   "execution_count": 21,
   "metadata": {},
   "outputs": [
    {
     "name": "stdout",
     "output_type": "stream",
     "text": [
      "(2,)\n",
      "(2, 34, 3)\n",
      "[]\n",
      "True\n",
      "(34, 4)\n",
      "(34, 3)\n",
      "1\n",
      "0.5\n",
      "(34, 3)\n"
     ]
    }
   ],
   "source": [
    "trj_dics[0].keys()\n",
    "\n",
    "dic = trj_dics[0]\n",
    "print(np.array(dic['energy']).shape) # adiabatic energies\n",
    "print(np.array(dic['force']).shape) # forces on each state\n",
    "print(dic['hopping_probability']) # list of dictionaries of ZN a, b, and p parameters between all pairs of\n",
    "                                  # states if an avoided crossing is encountered\n",
    "print(dic['in_trj']) # whether this frame is in the trajectory. An avoided crossing is identified as a geom\n",
    "                     # for which the previous and subsequent geoms had higher gaps. In ZN a hop only occurs\n",
    "                     # at avoided crossings. If a hop does occur, then the frame right after the avoided crossing\n",
    "                     # is no longer part of the trajectory, because you move one frame back to the avoided \n",
    "                     # crossing, and switch energy surfaces. Therefore, those geoms would have `in_trj=False`,\n",
    "                     # and every other one has `in_trj=True`\n",
    "print(np.array(dic['nxyz']).shape) # xyz at this time step\n",
    "print(np.array(dic['position']).shape) # same as nxyz but without atomic numbers\n",
    "print(np.array(dic['surf'])) # current surface \n",
    "print(dic['time']) # current time (fs)\n",
    "print(np.array(dic['velocity']).shape) # current velocity "
   ]
  },
  {
   "cell_type": "code",
   "execution_count": null,
   "metadata": {},
   "outputs": [],
   "source": []
  }
 ],
 "metadata": {
  "kernelspec": {
   "display_name": "Python [conda env:nff]",
   "language": "python",
   "name": "nff"
  },
  "language_info": {
   "codemirror_mode": {
    "name": "ipython",
    "version": 3
   },
   "file_extension": ".py",
   "mimetype": "text/x-python",
   "name": "python",
   "nbconvert_exporter": "python",
   "pygments_lexer": "ipython3",
   "version": "3.7.10"
  }
 },
 "nbformat": 4,
 "nbformat_minor": 2
}
