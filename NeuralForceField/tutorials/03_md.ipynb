{
 "cells": [
  {
   "cell_type": "code",
   "execution_count": 1,
   "metadata": {},
   "outputs": [],
   "source": [
    "%load_ext autoreload\n",
    "%autoreload 2\n",
    "\n",
    "import sys\n",
    "sys.path.insert(0, \"..\")\n",
    "sys.path.insert(0, \"../..\")"
   ]
  },
  {
   "cell_type": "markdown",
   "metadata": {},
   "source": [
    "# Running MD simulations using nff and ASE"
   ]
  },
  {
   "cell_type": "markdown",
   "metadata": {},
   "source": [
    "This Jupyter Notebook shows how the `nff` package interfaces with the Atomistic Simulation Environment (ASE). We assume the user went through tutorial `01_training`, so we can load the pretrained models without having to train them again."
   ]
  },
  {
   "cell_type": "markdown",
   "metadata": {},
   "source": [
    "As before, importing the dependencies:"
   ]
  },
  {
   "cell_type": "code",
   "execution_count": 2,
   "metadata": {},
   "outputs": [],
   "source": [
    "import numpy as np\n",
    "import matplotlib.pyplot as plt\n",
    "\n",
    "import torch\n",
    "from ase import Atoms\n",
    "from ase.md.verlet import VelocityVerlet\n",
    "\n",
    "from nff.md.nve import Dynamics\n",
    "from nff.data import Dataset\n",
    "from nff.train import load_model, evaluate\n",
    "import nff.utils.constants as const\n",
    "from ase import units\n",
    "from nff.io import NeuralFF, AtomsBatch"
   ]
  },
  {
   "cell_type": "markdown",
   "metadata": {},
   "source": [
    "## Loading the relevant data"
   ]
  },
  {
   "cell_type": "markdown",
   "metadata": {},
   "source": [
    "We reload the dataset and create a `GraphLoader` as we did last time:"
   ]
  },
  {
   "cell_type": "code",
   "execution_count": 3,
   "metadata": {},
   "outputs": [],
   "source": [
    "dataset = Dataset.from_file('data/dataset.pth.tar')\n"
   ]
  },
  {
   "cell_type": "markdown",
   "metadata": {},
   "source": [
    "### Creating Atoms"
   ]
  },
  {
   "cell_type": "markdown",
   "metadata": {},
   "source": [
    "As before, we can create an `Atoms` object from any element of the dataset. Let's take the first one, for simplicity:"
   ]
  },
  {
   "cell_type": "code",
   "execution_count": 4,
   "metadata": {},
   "outputs": [],
   "source": [
    "props = dataset[0].copy()\n",
    "atoms = AtomsBatch(positions=props['nxyz'][:, 1:], \n",
    "                   numbers=props['nxyz'][:, 0], \n",
    "                   props=props\n",
    "                   )\n"
   ]
  },
  {
   "cell_type": "markdown",
   "metadata": {},
   "source": [
    "### Creating the ASE calculator"
   ]
  },
  {
   "cell_type": "markdown",
   "metadata": {},
   "source": [
    "Now we just have to load the ASE calculator from a pretrained model. One way of doing so is through the in-build `from_file` method. You just have to specify the folder where the model was trained and subsequently stored."
   ]
  },
  {
   "cell_type": "code",
   "execution_count": 5,
   "metadata": {},
   "outputs": [],
   "source": [
    "nff_ase = NeuralFF.from_file('sandbox/', device=0)"
   ]
  },
  {
   "cell_type": "markdown",
   "metadata": {},
   "source": [
    "Assigning this calculator to `atoms` is easy:"
   ]
  },
  {
   "cell_type": "code",
   "execution_count": 6,
   "metadata": {},
   "outputs": [],
   "source": [
    "atoms.set_calculator(nff_ase)"
   ]
  },
  {
   "cell_type": "markdown",
   "metadata": {},
   "source": [
    "### Configuring the dynamics for the system"
   ]
  },
  {
   "cell_type": "markdown",
   "metadata": {},
   "source": [
    "In this example, we will run an NVE dynamics simulation. We will use the default parameters there implemented to run a trajectory for an ethanol molecule. The parameters we will specify are the following:\n",
    "\n",
    "* `T_init`: initial temperature of the simulation\n",
    "* `time_step`: time step in femtoseconds\n",
    "* `thermostat`: ASE integrator to use when performing the simulation\n",
    "* `thermostat_params`: keyword arguments for ase.Integrator class, will be different case-by-case\n",
    "* `steps`: number of steps to simulate\n",
    "* `save_frequency`: how often (in steps) save the pose of the molecule in a file\n",
    "* `nbr_list_update_freq`: how often (in steps) to update the neighbor list (not yet implemented)\n",
    "* `thermo_filename`: output file for the thermodynamics log\n",
    "* `traj_filename`: output file for the ASE trajectory file\n",
    "* `skip`: number of initial frames to skip when recording the trajectory"
   ]
  },
  {
   "cell_type": "code",
   "execution_count": 7,
   "metadata": {},
   "outputs": [],
   "source": [
    "md_params = {\n",
    "    'T_init': 450,\n",
    "    'time_step': 0.5,\n",
    "#     'thermostat': NoseHoover,   # or Langevin or NPT or NVT or Thermodynamic Integration\n",
    "#     'thermostat_params': {'timestep': 0.5 * units.fs, \"temperature\": 120.0 * units.kB,  \"ttime\": 20.0}\n",
    "    'thermostat': VelocityVerlet,  \n",
    "    'thermostat_params': {'timestep': 0.5 * units.fs},\n",
    "    'steps': 200,\n",
    "    'save_frequency': 10,\n",
    "    'nbr_list_update_freq': 3,\n",
    "    'thermo_filename': 'thermo.log',\n",
    "    'traj_filename': 'atoms.traj',\n",
    "    'skip': 0\n",
    "}"
   ]
  },
  {
   "cell_type": "code",
   "execution_count": null,
   "metadata": {},
   "outputs": [],
   "source": []
  },
  {
   "cell_type": "code",
   "execution_count": 8,
   "metadata": {
    "scrolled": true
   },
   "outputs": [
    {
     "name": "stderr",
     "output_type": "stream",
     "text": [
      "/home/saxelrod/miniconda3/envs/htvs/lib/python3.7/site-packages/ase/md/md.py:48: FutureWarning: Specify the temperature in K using the 'temperature_K' argument\n",
      "  warnings.warn(FutureWarning(w))\n",
      "/home/saxelrod/miniconda3/envs/htvs/lib/python3.7/site-packages/ase/atoms.py:968: VisibleDeprecationWarning: Use get_global_number_of_atoms() instead\n",
      "  np.VisibleDeprecationWarning)\n"
     ]
    },
    {
     "name": "stdout",
     "output_type": "stream",
     "text": [
      "Time[ps]      Etot[eV]     Epot[eV]     Ekin[eV]    T[K]\n",
      "0.0000           0.1497      -0.2563       0.4061   349.0\n",
      "\n",
      "0.0050           0.1495      -0.2296       0.3791   325.9\n",
      "\n",
      "0.0100           0.1483      -0.3977       0.5460   469.3\n",
      "\n",
      "0.0150           0.1481      -0.2730       0.4211   362.0\n",
      "\n",
      "0.0200           0.1474      -0.3391       0.4865   418.2\n",
      "\n",
      "0.0250           0.1483      -0.4296       0.5779   496.8\n",
      "\n",
      "0.0300           0.1494      -0.2021       0.3515   302.2\n",
      "\n",
      "0.0350           0.1493      -0.2785       0.4278   367.7\n",
      "\n",
      "0.0400           0.1495      -0.2821       0.4316   371.0\n",
      "\n",
      "0.0450           0.1494      -0.1838       0.3332   286.4\n",
      "\n",
      "0.0500           0.1485      -0.3953       0.5437   467.4\n",
      "\n",
      "0.0550           0.1495      -0.1611       0.3106   267.0\n",
      "\n",
      "0.0600           0.1502      -0.0800       0.2302   197.9\n",
      "\n",
      "0.0650           0.1504      -0.1538       0.3042   261.5\n",
      "\n",
      "0.0700           0.1506      -0.1133       0.2639   226.8\n",
      "\n",
      "0.0750           0.1491      -0.2431       0.3922   337.2\n",
      "\n",
      "0.0800           0.1489      -0.1949       0.3438   295.6\n",
      "\n",
      "0.0850           0.1482      -0.2800       0.4283   368.1\n",
      "\n",
      "0.0900           0.1490      -0.2049       0.3539   304.2\n",
      "\n",
      "0.0950           0.1494      -0.2846       0.4341   373.1\n",
      "\n"
     ]
    }
   ],
   "source": [
    "nve = Dynamics(atoms, md_params)\n",
    "nve.run()"
   ]
  },
  {
   "cell_type": "markdown",
   "metadata": {},
   "source": [
    "### Models with directed neighbor lists"
   ]
  },
  {
   "cell_type": "markdown",
   "metadata": {},
   "source": [
    "The default assumes that you're using SchNet, which uses an undirected neighbor list to save memory. If you're using Painn, DimeNet, or any model with directional information, you will need a directed neighbor list. If you don't specify this then you will get an error. \n",
    "\n",
    "While these models automatically make any neighbor list into a directed one when called, the same is not true of periodic boundary conditions. The dataest offsets from the PBC depend on whether the dataset neighbor list is directed or not."
   ]
  },
  {
   "cell_type": "code",
   "execution_count": 9,
   "metadata": {},
   "outputs": [
    {
     "name": "stdout",
     "output_type": "stream",
     "text": [
      "Time[ps]      Etot[eV]     Epot[eV]     Ekin[eV]    T[K]\n",
      "Painn needs a directed neighbor list\n"
     ]
    }
   ],
   "source": [
    "props = dataset[0].copy()\n",
    "atoms = AtomsBatch(positions=props['nxyz'][:, 1:], \n",
    "                   numbers=props['nxyz'][:, 0], \n",
    "                   props=props,\n",
    "                   )\n",
    "nff_ase = NeuralFF.from_file('sandbox_painn/', device=0)\n",
    "atoms.set_calculator(nff_ase)\n",
    "\n",
    "try:\n",
    "    nve = Dynamics(atoms, md_params)\n",
    "    nve.run()\n",
    "except Exception as e:\n",
    "    print(e)"
   ]
  },
  {
   "cell_type": "markdown",
   "metadata": {},
   "source": [
    "If you do then you will be fine!"
   ]
  },
  {
   "cell_type": "code",
   "execution_count": 10,
   "metadata": {
    "scrolled": true
   },
   "outputs": [
    {
     "name": "stdout",
     "output_type": "stream",
     "text": [
      "Time[ps]      Etot[eV]     Epot[eV]     Ekin[eV]    T[K]\n",
      "0.0000           0.5324      -0.1617       0.6941   596.6\n",
      "\n",
      "0.0050           0.5332      -0.0530       0.5861   503.8\n",
      "\n",
      "0.0100           0.5320      -0.0389       0.5710   490.8\n",
      "\n",
      "0.0150           0.5365       0.0705       0.4660   400.6\n",
      "\n",
      "0.0200           0.5394       0.0145       0.5248   451.1\n",
      "\n",
      "0.0250           0.5383       0.2448       0.2934   252.2\n",
      "\n",
      "0.0300           0.5336      -0.0760       0.6096   524.0\n",
      "\n",
      "0.0350           0.5341      -0.0614       0.5955   511.9\n",
      "\n",
      "0.0400           0.5311      -0.0386       0.5698   489.8\n",
      "\n",
      "0.0450           0.5302      -0.1988       0.7291   626.7\n",
      "\n",
      "0.0500           0.5334      -0.0635       0.5968   513.0\n",
      "\n",
      "0.0550           0.5345      -0.0539       0.5884   505.7\n",
      "\n",
      "0.0600           0.5346      -0.0884       0.6230   535.5\n",
      "\n",
      "0.0650           0.5321      -0.0729       0.6049   520.0\n",
      "\n",
      "0.0700           0.5351      -0.0080       0.5431   466.8\n",
      "\n",
      "0.0750           0.5318      -0.1914       0.7232   621.7\n",
      "\n",
      "0.0800           0.5334       0.1414       0.3920   337.0\n",
      "\n",
      "0.0850           0.5356      -0.0851       0.6207   533.6\n",
      "\n",
      "0.0900           0.5363       0.1258       0.4105   352.8\n",
      "\n",
      "0.0950           0.5369       0.0175       0.5194   446.5\n",
      "\n"
     ]
    }
   ],
   "source": [
    "props = dataset[0].copy()\n",
    "atoms = AtomsBatch(positions=props['nxyz'][:, 1:], \n",
    "                   numbers=props['nxyz'][:, 0], \n",
    "                   props=props,\n",
    "                   directed=True)\n",
    "nff_ase = NeuralFF.from_file('sandbox_painn/', device=0)\n",
    "atoms.set_calculator(nff_ase)\n",
    "\n",
    "nve = Dynamics(atoms, md_params)\n",
    "\n",
    "try:\n",
    "    nve.run()\n",
    "except Exception as e:\n",
    "    print(e)\n",
    "    import pdb\n",
    "    pdb.post_mortem()"
   ]
  },
  {
   "cell_type": "code",
   "execution_count": null,
   "metadata": {},
   "outputs": [],
   "source": []
  },
  {
   "cell_type": "markdown",
   "metadata": {},
   "source": [
    "The dynamics conserved the energy. The temperature varied throughout the simulation, as expected."
   ]
  },
  {
   "cell_type": "markdown",
   "metadata": {},
   "source": [
    "# Additional properties and options"
   ]
  },
  {
   "cell_type": "markdown",
   "metadata": {},
   "source": [
    "You can also specify the properties that you want the calculator to predict. The default is `energy` and `forces`, but you can also add `stress`.\n",
    "\n",
    "However, if you run this for ethanol you will get an error, because it doesn't have any lattice vectors:"
   ]
  },
  {
   "cell_type": "code",
   "execution_count": 11,
   "metadata": {},
   "outputs": [
    {
     "name": "stdout",
     "output_type": "stream",
     "text": [
      "Time[ps]      Etot[eV]     Epot[eV]     Ekin[eV]    T[K]      ---------------------- stress [GPa] -----------------------\n",
      "You have 0 lattice vectors: volume not defined\n"
     ]
    }
   ],
   "source": [
    "nff_ase.properties = ['energy', 'forces', 'stress']\n",
    "atoms.set_calculator(nff_ase)\n",
    "\n",
    "try:\n",
    "    nve = Dynamics(atoms, md_params)\n",
    "    nve.run()\n",
    "except Exception as e:\n",
    "    print(e)"
   ]
  },
  {
   "cell_type": "markdown",
   "metadata": {},
   "source": [
    "If we make an artificial unit cell, it all works fine:"
   ]
  },
  {
   "cell_type": "code",
   "execution_count": 12,
   "metadata": {
    "scrolled": true
   },
   "outputs": [
    {
     "name": "stdout",
     "output_type": "stream",
     "text": [
      "Time[ps]      Etot[eV]     Epot[eV]     Ekin[eV]    T[K]      ---------------------- stress [GPa] -----------------------\n",
      "0.0000           0.4264      -0.0737       0.5001   429.9    -99.151    -24.362     31.056      1.412      7.989    -56.938\n",
      "\n",
      "0.0050           0.4264      -0.2205       0.6469   556.1     43.490     61.182     -0.875     -9.883      2.269     30.666\n",
      "\n",
      "0.0100           0.4244      -0.0214       0.4458   383.2     30.041     59.364     -0.351    -20.328    -21.915     68.927\n",
      "\n",
      "0.0150           0.4249      -0.1070       0.5319   457.2    101.898     39.245    -17.539    -18.676    -16.221     23.003\n",
      "\n",
      "0.0200           0.4263      -0.1522       0.5785   497.3     54.157    -36.781     22.149      8.034     19.317     38.156\n",
      "\n",
      "0.0250           0.4277       0.0726       0.3550   305.2     -1.747    -43.600      0.491     29.832     20.963    -92.663\n",
      "\n",
      "0.0300           0.4273      -0.0954       0.5227   449.3    -77.737      1.212     10.841     -0.684    -15.015     -3.378\n",
      "\n",
      "0.0350           0.4257      -0.0701       0.4958   426.2    -70.789     55.236      3.652      2.600     -0.946    -45.396\n",
      "\n",
      "0.0400           0.4245      -0.1729       0.5974   513.5     -0.571     -7.472     -6.672    -11.971    -20.790     90.836\n",
      "\n",
      "0.0450           0.4230      -0.1287       0.5517   474.2     74.144      1.581     51.593    -29.001     15.946     32.130\n",
      "\n",
      "0.0500           0.4222      -0.2604       0.6826   586.8     71.666    -25.970    -24.047     34.337      6.241     -1.828\n",
      "\n",
      "0.0550           0.4262      -0.0265       0.4527   389.2    103.536     65.054     22.258    -13.741    -21.921    -26.311\n",
      "\n",
      "0.0600           0.4265      -0.0570       0.4835   415.6    -45.076    -13.769    -27.330     36.293     13.905    -68.433\n",
      "\n",
      "0.0650           0.4268      -0.1083       0.5351   460.0     -3.359     25.898     41.751    -52.597     -6.642      3.052\n",
      "\n",
      "0.0700           0.4266      -0.0564       0.4830   415.2    -93.665    -29.506     -4.711    -15.238     29.968     -0.369\n",
      "\n",
      "0.0750           0.4254      -0.0549       0.4803   412.9      5.794     -8.601     -0.826     -5.070    -14.034     51.360\n",
      "\n",
      "0.0800           0.4239      -0.2089       0.6328   543.9     46.738     20.587      2.243     26.207    -18.525     10.089\n",
      "\n",
      "0.0850           0.4236      -0.1938       0.6174   530.7     -5.214     23.443    -12.327      9.557      4.574      7.750\n",
      "\n",
      "0.0900           0.4272       0.1196       0.3076   264.4     77.812     43.574     25.393     12.942      8.220    -25.246\n",
      "\n",
      "0.0950           0.4270      -0.1154       0.5424   466.3    -37.226    -30.271     -6.314    -22.758      7.622    -65.108\n",
      "\n"
     ]
    }
   ],
   "source": [
    "nff_ase.properties = ['energy', 'forces', 'stress']\n",
    "atoms.set_calculator(nff_ase)\n",
    "atoms.set_cell(2 * np.identity(3))\n",
    "nve = Dynamics(atoms, md_params)\n",
    "nve.run()\n",
    "\n"
   ]
  },
  {
   "cell_type": "markdown",
   "metadata": {},
   "source": [
    "Since `stress` is an implemented property, we can get the stress on the atoms:"
   ]
  },
  {
   "cell_type": "code",
   "execution_count": 13,
   "metadata": {},
   "outputs": [
    {
     "data": {
      "text/plain": [
       "array([ 0.6590634 ,  0.30095565,  0.10327584, -0.03814176,  0.00766306,\n",
       "       -0.2284697 ])"
      ]
     },
     "execution_count": 13,
     "metadata": {},
     "output_type": "execute_result"
    }
   ],
   "source": [
    "atoms.get_stress()"
   ]
  },
  {
   "cell_type": "markdown",
   "metadata": {},
   "source": [
    "You can additionally request larger offsets for periodic structures than the default. To do so, use `requires_large_offsets=True` when making the atoms:"
   ]
  },
  {
   "cell_type": "code",
   "execution_count": 14,
   "metadata": {},
   "outputs": [],
   "source": [
    "lattice = [[1.155363155, 0.0, 0.0], \n",
    "           [0.0, 1.155363155, 0.0], \n",
    "           [0.0, 0.0, 1.07085842]]\n",
    "\n",
    "# default of `requires_large_offsets` is False\n",
    "old_atoms = AtomsBatch(positions=props['nxyz'][:, 1:], \n",
    "                       numbers=props['nxyz'][:, 0], \n",
    "                       props=props,\n",
    "                       cell=lattice,\n",
    "                       pbc=True\n",
    "                       )\n",
    "\n",
    "new_atoms = AtomsBatch(positions=props['nxyz'][:, 1:], \n",
    "                       numbers=props['nxyz'][:, 0], \n",
    "                       props=props,\n",
    "                       requires_large_offsets=True,\n",
    "                       cell=lattice,\n",
    "                       pbc=True\n",
    "                       )"
   ]
  },
  {
   "cell_type": "code",
   "execution_count": null,
   "metadata": {},
   "outputs": [],
   "source": []
  },
  {
   "cell_type": "markdown",
   "metadata": {},
   "source": [
    "If we compare the offsets in the new and old `atoms` objects, we see that there are differences:"
   ]
  },
  {
   "cell_type": "code",
   "execution_count": 15,
   "metadata": {},
   "outputs": [
    {
     "name": "stdout",
     "output_type": "stream",
     "text": [
      "False\n",
      "tensor(indices=tensor([[ 0,  0,  1,  1,  2,  2,  3,  3,  4,  5,  5,  5,  6,  6,\n",
      "                         6,  7,  8,  9,  9,  9, 10, 10, 10, 11, 11, 12, 12, 13,\n",
      "                        14, 15, 15, 15, 16, 16, 16, 17, 17, 18, 18, 18, 19, 19,\n",
      "                        20, 21, 22, 22, 22, 23, 23, 24, 24, 24, 25, 25, 25, 26,\n",
      "                        26, 26, 27, 27, 27, 28, 28, 29, 29, 29, 30, 30, 30, 31,\n",
      "                        31, 31, 32, 33, 34, 34, 34, 35, 35, 35],\n",
      "                       [ 0,  1,  0,  1,  1,  2,  1,  2,  0,  0,  1,  2,  0,  1,\n",
      "                         2,  0,  0,  0,  1,  2,  0,  1,  2,  0,  1,  1,  2,  2,\n",
      "                         0,  0,  1,  2,  0,  1,  2,  0,  1,  0,  1,  2,  0,  2,\n",
      "                         0,  2,  0,  1,  2,  0,  1,  0,  1,  2,  0,  1,  2,  0,\n",
      "                         1,  2,  0,  1,  2,  0,  1,  0,  1,  2,  0,  1,  2,  0,\n",
      "                         1,  2,  0,  2,  0,  1,  2,  0,  1,  2]]),\n",
      "       values=tensor([ 1.1554,  1.1554, -1.1554,  1.1554, -1.1554,  1.0709,\n",
      "                      -1.1554, -1.0709,  1.1554,  1.1554,  1.1554,  1.0709,\n",
      "                       1.1554,  1.1554, -1.0709, -1.1554, -1.1554, -1.1554,\n",
      "                      -1.1554,  1.0709, -1.1554, -1.1554, -1.0709,  1.1554,\n",
      "                      -1.1554,  1.1554,  1.0709, -1.0709, -1.1554,  1.1554,\n",
      "                      -1.1554,  1.0709,  1.1554, -1.1554, -1.0709,  1.1554,\n",
      "                      -1.1554,  1.1554,  1.1554,  1.0709,  1.1554, -1.0709,\n",
      "                      -1.1554, -1.0709,  1.1554,  1.1554, -1.0709,  1.1554,\n",
      "                       1.1554,  1.1554,  1.1554, -1.0709, -1.1554,  1.1554,\n",
      "                      -1.0709,  1.1554,  1.1554,  1.0709,  1.1554,  1.1554,\n",
      "                       1.0709,  1.1554,  1.1554, -1.1554,  1.1554,  1.0709,\n",
      "                      -1.1554,  1.1554,  1.0709, -1.1554,  1.1554, -1.0709,\n",
      "                      -1.1554, -1.0709, -1.1554, -1.1554, -1.0709, -1.1554,\n",
      "                      -1.1554,  1.0709]),\n",
      "       size=(36, 3), nnz=80, layout=torch.sparse_coo)\n",
      "tensor(indices=tensor([[ 0,  0,  1,  1,  2,  2,  3,  3,  4,  5,  5,  5,  6,  6,\n",
      "                         6,  7,  8,  9,  9,  9, 10, 10, 10, 11, 11, 12, 12, 13,\n",
      "                        14, 15, 15, 15, 16, 16, 16, 17, 17, 18, 18, 18, 19, 19,\n",
      "                        20, 21, 22, 22, 22, 23, 23, 24, 24, 24, 25, 25, 25, 26,\n",
      "                        26, 26, 27, 27, 27, 28, 28, 29, 29, 29, 30, 30, 30, 31,\n",
      "                        31, 31, 32, 33, 34, 34, 34, 35, 35, 35],\n",
      "                       [ 0,  1,  0,  1,  1,  2,  1,  2,  0,  0,  1,  2,  0,  1,\n",
      "                         2,  0,  0,  0,  1,  2,  0,  1,  2,  0,  1,  1,  2,  2,\n",
      "                         0,  0,  1,  2,  0,  1,  2,  0,  1,  0,  1,  2,  0,  2,\n",
      "                         0,  2,  0,  1,  2,  0,  1,  0,  1,  2,  0,  1,  2,  0,\n",
      "                         1,  2,  0,  1,  2,  0,  1,  0,  1,  2,  0,  1,  2,  0,\n",
      "                         1,  2,  0,  2,  0,  1,  2,  0,  1,  2]]),\n",
      "       values=tensor([ 1.1554,  1.1554, -1.1554,  1.1554, -1.1554,  1.0709,\n",
      "                      -1.1554, -1.0709,  2.3107,  1.1554,  1.1554,  1.0709,\n",
      "                       1.1554,  1.1554, -1.0709, -2.3107, -2.3107, -1.1554,\n",
      "                      -1.1554,  1.0709, -1.1554, -1.1554, -1.0709,  1.1554,\n",
      "                      -1.1554,  1.1554,  1.0709, -1.0709, -3.4661,  1.1554,\n",
      "                      -1.1554,  1.0709,  1.1554, -1.1554, -1.0709,  3.4661,\n",
      "                      -1.1554,  2.3107,  1.1554,  1.0709,  2.3107, -1.0709,\n",
      "                      -1.1554, -2.1417,  2.3107,  1.1554, -1.0709,  1.1554,\n",
      "                       2.3107,  1.1554,  2.3107, -2.1417, -2.3107,  1.1554,\n",
      "                      -1.0709,  2.3107,  1.1554,  1.0709,  1.1554,  2.3107,\n",
      "                       2.1417,  1.1554,  2.3107, -2.3107,  1.1554,  1.0709,\n",
      "                      -1.1554,  1.1554,  1.0709, -1.1554,  1.1554, -1.0709,\n",
      "                      -4.6215, -2.1417, -3.4661, -1.1554, -1.0709, -3.4661,\n",
      "                      -1.1554,  1.0709]),\n",
      "       size=(36, 3), nnz=80, layout=torch.sparse_coo)\n"
     ]
    }
   ],
   "source": [
    "old_nbrs, old_offsets = old_atoms.update_nbr_list()\n",
    "new_nbrs, new_offsets = new_atoms.update_nbr_list()\n",
    "\n",
    "print((old_offsets.to_dense() == new_offsets.to_dense()).all().item())\n",
    "print(old_offsets)\n",
    "print(new_offsets)\n"
   ]
  },
  {
   "cell_type": "markdown",
   "metadata": {},
   "source": [
    "## Visualizing the trajectory"
   ]
  },
  {
   "cell_type": "markdown",
   "metadata": {},
   "source": [
    "To visualize the trajectory in this Jupyter Notebook, you will have to install the package [nglview](https://github.com/arose/nglview)."
   ]
  },
  {
   "cell_type": "code",
   "execution_count": 16,
   "metadata": {},
   "outputs": [
    {
     "data": {
      "application/vnd.jupyter.widget-view+json": {
       "model_id": "af8360f259de42bf82558349b98e201c",
       "version_major": 2,
       "version_minor": 0
      },
      "text/plain": []
     },
     "metadata": {},
     "output_type": "display_data"
    }
   ],
   "source": [
    "import nglview as nv\n",
    "from ase.io import Trajectory"
   ]
  },
  {
   "cell_type": "markdown",
   "metadata": {},
   "source": [
    "Displaying the trajectory:"
   ]
  },
  {
   "cell_type": "code",
   "execution_count": 17,
   "metadata": {},
   "outputs": [
    {
     "data": {
      "application/vnd.jupyter.widget-view+json": {
       "model_id": "05683426620b46cebb80ee317103b589",
       "version_major": 2,
       "version_minor": 0
      },
      "text/plain": [
       "NGLWidget(max_frame=19)"
      ]
     },
     "metadata": {},
     "output_type": "display_data"
    }
   ],
   "source": [
    "%matplotlib notebook\n",
    "\n",
    "traj = Trajectory('atoms.traj')\n",
    "nv.show_asetraj(traj)"
   ]
  },
  {
   "cell_type": "markdown",
   "metadata": {},
   "source": [
    "Looks like the atoms are still together. Visual inspection says that the trajectory is reasonable. Yay for `nff`!"
   ]
  }
 ],
 "metadata": {
  "kernelspec": {
   "display_name": "Python [conda env:nff]",
   "language": "python",
   "name": "nff"
  },
  "language_info": {
   "codemirror_mode": {
    "name": "ipython",
    "version": 3
   },
   "file_extension": ".py",
   "mimetype": "text/x-python",
   "name": "python",
   "nbconvert_exporter": "python",
   "pygments_lexer": "ipython3",
   "version": "3.9.12"
  }
 },
 "nbformat": 4,
 "nbformat_minor": 2
}
