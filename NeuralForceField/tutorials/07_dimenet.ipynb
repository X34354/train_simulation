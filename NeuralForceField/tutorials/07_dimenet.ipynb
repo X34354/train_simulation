{
 "cells": [
  {
   "cell_type": "markdown",
   "metadata": {},
   "source": [
    "# Training With DimeNet"
   ]
  },
  {
   "cell_type": "markdown",
   "metadata": {},
   "source": [
    "This notebook gives an example of how to build and train DimeNet. DimeNet uses both atom distances and angles to generate a more powerful molecular representation than SchNet, though at higher computational cost.\n",
    "\n",
    "**Note**: DimeNet is currently not implemented for periodic boundary conditions."
   ]
  },
  {
   "cell_type": "code",
   "execution_count": 1,
   "metadata": {},
   "outputs": [],
   "source": [
    "%load_ext autoreload\n",
    "%autoreload 2"
   ]
  },
  {
   "cell_type": "markdown",
   "metadata": {},
   "source": [
    "First we import dependencies for the tutorial:"
   ]
  },
  {
   "cell_type": "code",
   "execution_count": 2,
   "metadata": {},
   "outputs": [],
   "source": [
    "import sys\n",
    "from pathlib import Path\n",
    "\n",
    "# change to your NFF path\n",
    "sys.path.insert(0, \"/home/saxelrod/Repo/projects/master/NeuralForceField\")\n",
    "\n",
    "import os\n",
    "import shutil\n",
    "import numpy as np\n",
    "import matplotlib.pyplot as plt\n",
    "\n",
    "import torch\n",
    "from torch.optim import Adam\n",
    "from torch.utils.data import DataLoader\n",
    "\n",
    "from nff.data import Dataset, split_train_validation_test, collate_dicts, to_tensor\n",
    "from nff.train import Trainer, get_trainer, get_model, load_model, loss, hooks, metrics, evaluate"
   ]
  },
  {
   "cell_type": "markdown",
   "metadata": {},
   "source": [
    "We can use either the original DimeNet model, or DimeNet++, which is much faster. To instantiate the original model, we need to specify:\n",
    "\n",
    "- `n_rbf`: number of radial basis functions\n",
    "- `cutoff`: neighbor list cutoff\n",
    "- `envelope_p`: exponent in the envelope function\n",
    "- `n_spher`: maximum `n` value for the spherical basis functions\n",
    "- `l_spher`: maximum `l` value for the spherical basis functions\n",
    "- `embed_dim`: embedding dimension for the atomic numbers\n",
    "- `n_bilinear`: dimension of the vector into which we transform the angles in the spherical basis\n",
    "- `activation`: name of non-linear activation function\n",
    "- `n_convolutions`: number of convolutions (or interaction blocks)\n",
    "- `output_keys`: names of the values we want our model to predict\n",
    "- `grad_keys`: names of the gradients we want out model to take\n",
    "\n",
    "For DimeNet++ we need to specify `use_pp=True`, along with the following keys:\n",
    "- `int_dim`: The dimension to which we reduce the feature vectors when combining them in the interaction block. This dimension reduction saves time because the interaction block is the most demanding, updating edge vectors with their neighbors.\n",
    "- `basis_emb_dim`: The first dimension into which we transform the SBF and RBF representation of angles and distances, respectively, before they get transformed into `int_dim` and `embed_dim`, respectively.  \n",
    "- `out_dim`: The dimension into which we transform the node vectors in the output block before applying the remaining layers. The output block is the least expensive block, because it only uses node vectors, and not edge vectors or angles. This means we can afford to use a higher dimension for the node vectors than for the edge or angle vectors, and so `out_dim` is greater than `embed_dim` and `int_dim`.\n",
    "\n",
    "We also don't need `n_bilinear` for DimeNet++.\n",
    "\n",
    "Note that instantiating the model takes around 10 seconds. This is mainly because the spherical Bessel functions and spherical harmonics need to be translated from `scipy` into `lambda` expresasions with analytical gradients in PyTorch."
   ]
  },
  {
   "cell_type": "code",
   "execution_count": 3,
   "metadata": {},
   "outputs": [],
   "source": [
    "# for DimeNet++. These are the parameters used here\n",
    "# https://github.com/klicperajo/dimenet/blob/master/config_pp.yaml\n",
    "\n",
    "pp_modelparams = {\"n_rbf\": 6,\n",
    "                  \"cutoff\": 5.0,\n",
    "                  \"envelope_p\": 5,\n",
    "                  \"n_spher\": 7,\n",
    "                  \"l_spher\": 7,\n",
    "                  \"embed_dim\": 128,\n",
    "                  \"int_dim\": 64,\n",
    "                  \"out_dim\": 256,\n",
    "                  \"basis_emb_dim\": 8,\n",
    "                  \"activation\": \"swish\",\n",
    "                  \"n_convolutions\": 4, # as mentioned in the paper, 4 convs are as good as 6\n",
    "                  \"use_pp\": True,\n",
    "                  \"output_keys\": [\"energy\"],\n",
    "                  \"grad_keys\": [\"energy_grad\"]}\n",
    "\n",
    "# for DimeNet. These are the parameters used here\n",
    "# https://github.com/klicperajo/dimenet/blob/master/config.yaml\n",
    "old_modelparams = {\"n_rbf\": 6,\n",
    "                   \"cutoff\": 5.0,\n",
    "                   \"envelope_p\": 5,\n",
    "                   \"n_spher\": 7,\n",
    "                   \"l_spher\": 7,\n",
    "                   \"embed_dim\": 128,\n",
    "                   \"n_bilinear\": 8,\n",
    "                   \"activation\": \"swish\",\n",
    "                   \"n_convolutions\": 6,\n",
    "                   \"output_keys\": [\"energy\"],\n",
    "                   \"grad_keys\": [\"energy_grad\"]}\n",
    "\n",
    "# modelparams = old_modelparams\n",
    "modelparams = pp_modelparams\n",
    "\n",
    "model = get_model(modelparams, model_type=\"DimeNet\")\n"
   ]
  },
  {
   "cell_type": "markdown",
   "metadata": {},
   "source": [
    "Next we make a directory for our work and load the ethanol dataset:"
   ]
  },
  {
   "cell_type": "code",
   "execution_count": 4,
   "metadata": {},
   "outputs": [],
   "source": [
    "DEVICE = 0\n",
    "OUTDIR = './sandbox'\n",
    "BATCH_SIZE = 40\n",
    "\n",
    "if os.path.exists(OUTDIR):\n",
    "    newpath = os.path.join(os.path.dirname(OUTDIR), 'backup')\n",
    "    if os.path.exists(newpath):\n",
    "        shutil.rmtree(newpath)\n",
    "        \n",
    "    shutil.move(OUTDIR, newpath)\n",
    "    \n",
    "dataset = Dataset.from_file('./data/dataset.pth.tar')"
   ]
  },
  {
   "cell_type": "markdown",
   "metadata": {},
   "source": [
    "Because DimeNet uses angles as well as distances, we need to generate an angle list in addition to a neighbor list:"
   ]
  },
  {
   "cell_type": "code",
   "execution_count": 5,
   "metadata": {},
   "outputs": [
    {
     "name": "stderr",
     "output_type": "stream",
     "text": [
      "100%|██████████| 1000/1000 [00:01<00:00, 649.79it/s]\n"
     ]
    },
    {
     "data": {
      "text/plain": [
       "tensor([[0, 1, 2],\n",
       "        [0, 1, 3],\n",
       "        [0, 1, 4],\n",
       "        ...,\n",
       "        [8, 7, 4],\n",
       "        [8, 7, 5],\n",
       "        [8, 7, 6]])"
      ]
     },
     "execution_count": 5,
     "metadata": {},
     "output_type": "execute_result"
    }
   ],
   "source": [
    "angles = dataset.generate_angle_list()\n",
    "angles[0]"
   ]
  },
  {
   "cell_type": "markdown",
   "metadata": {},
   "source": [
    "Next we make the training splits, loaders, and trainer:"
   ]
  },
  {
   "cell_type": "code",
   "execution_count": 6,
   "metadata": {},
   "outputs": [],
   "source": [
    "train, val, test = split_train_validation_test(dataset, val_size=0.2, test_size=0.2)\n",
    "\n",
    "train_loader = DataLoader(train, batch_size=BATCH_SIZE, collate_fn=collate_dicts)\n",
    "val_loader = DataLoader(val, batch_size=BATCH_SIZE, collate_fn=collate_dicts)\n",
    "test_loader = DataLoader(test, batch_size=BATCH_SIZE, collate_fn=collate_dicts)\n",
    "\n",
    "loss_fn = loss.build_mse_loss(loss_coef={'energy': 0.1, 'energy_grad': 1})\n",
    "trainable_params = filter(lambda p: p.requires_grad, model.parameters())\n",
    "optimizer = Adam(trainable_params, lr=3e-4)\n",
    "\n",
    "train_metrics = [\n",
    "    metrics.MeanAbsoluteError('energy'),\n",
    "    metrics.MeanAbsoluteError('energy_grad')\n",
    "]\n",
    "\n",
    "\n",
    "train_hooks = [\n",
    "    hooks.MaxEpochHook(100),\n",
    "    hooks.CSVHook(\n",
    "        OUTDIR,\n",
    "        metrics=train_metrics,\n",
    "    ),\n",
    "    hooks.PrintingHook(\n",
    "        OUTDIR,\n",
    "        metrics=train_metrics,\n",
    "        separator = ' | ',\n",
    "        time_strf='%M:%S'\n",
    "    ),\n",
    "    hooks.ReduceLROnPlateauHook(\n",
    "        optimizer=optimizer,\n",
    "        patience=30,\n",
    "        factor=0.5,\n",
    "        min_lr=1e-7,\n",
    "        window_length=1,\n",
    "        stop_after_min=True\n",
    "    )\n",
    "]\n",
    "\n",
    "T = Trainer(\n",
    "    model_path=OUTDIR,\n",
    "    model=model,\n",
    "    loss_fn=loss_fn,\n",
    "    optimizer=optimizer,\n",
    "    train_loader=train_loader,\n",
    "    validation_loader=val_loader,\n",
    "    checkpoint_interval=1,\n",
    "    hooks=train_hooks\n",
    ")"
   ]
  },
  {
   "cell_type": "markdown",
   "metadata": {},
   "source": [
    "Now we train and see the results!"
   ]
  },
  {
   "cell_type": "code",
   "execution_count": 7,
   "metadata": {},
   "outputs": [
    {
     "name": "stdout",
     "output_type": "stream",
     "text": [
      " Time | Epoch | Learning rate | Train loss | Validation loss | MAE_energy | MAE_energy_grad | GPU Memory (MB)\n"
     ]
    },
    {
     "name": "stderr",
     "output_type": "stream",
     "text": [
      " 93%|█████████▎| 14/15 [00:02<00:00,  5.65it/s]\n"
     ]
    },
    {
     "name": "stdout",
     "output_type": "stream",
     "text": [
      "01:19 |     1 |     3.000e-04 |   760.8428 |        733.2004 |     4.0844 |         20.0058 |            1189\n"
     ]
    },
    {
     "name": "stderr",
     "output_type": "stream",
     "text": [
      " 93%|█████████▎| 14/15 [00:02<00:00,  6.11it/s]\n"
     ]
    },
    {
     "name": "stdout",
     "output_type": "stream",
     "text": [
      "01:22 |     2 |     3.000e-04 |   650.2338 |        542.4120 |     3.4530 |         16.8876 |            1189\n"
     ]
    },
    {
     "name": "stderr",
     "output_type": "stream",
     "text": [
      " 93%|█████████▎| 14/15 [00:02<00:00,  5.98it/s]\n"
     ]
    },
    {
     "name": "stdout",
     "output_type": "stream",
     "text": [
      "01:25 |     3 |     3.000e-04 |   359.7835 |        244.3489 |     6.9508 |         11.0232 |            1189\n"
     ]
    },
    {
     "name": "stderr",
     "output_type": "stream",
     "text": [
      " 93%|█████████▎| 14/15 [00:02<00:00,  6.11it/s]\n"
     ]
    },
    {
     "name": "stdout",
     "output_type": "stream",
     "text": [
      "01:27 |     4 |     3.000e-04 |   156.2627 |         90.7600 |     9.8113 |          6.2493 |            1189\n"
     ]
    },
    {
     "name": "stderr",
     "output_type": "stream",
     "text": [
      " 93%|█████████▎| 14/15 [00:02<00:00,  5.99it/s]\n"
     ]
    },
    {
     "name": "stdout",
     "output_type": "stream",
     "text": [
      "01:30 |     5 |     3.000e-04 |    69.1579 |         57.3205 |     1.5996 |          5.4389 |            1189\n"
     ]
    },
    {
     "name": "stderr",
     "output_type": "stream",
     "text": [
      " 93%|█████████▎| 14/15 [00:02<00:00,  6.03it/s]\n"
     ]
    },
    {
     "name": "stdout",
     "output_type": "stream",
     "text": [
      "01:33 |     6 |     3.000e-04 |    46.7437 |         34.8032 |     3.2612 |          4.1720 |            1189\n"
     ]
    },
    {
     "name": "stderr",
     "output_type": "stream",
     "text": [
      " 93%|█████████▎| 14/15 [00:02<00:00,  6.04it/s]\n"
     ]
    },
    {
     "name": "stdout",
     "output_type": "stream",
     "text": [
      "01:35 |     7 |     3.000e-04 |    30.5492 |         25.4622 |     1.3662 |          3.6305 |            1189\n"
     ]
    },
    {
     "name": "stderr",
     "output_type": "stream",
     "text": [
      " 93%|█████████▎| 14/15 [00:02<00:00,  6.07it/s]\n"
     ]
    },
    {
     "name": "stdout",
     "output_type": "stream",
     "text": [
      "01:38 |     8 |     3.000e-04 |    24.0718 |         20.1204 |     1.3975 |          3.2682 |            1189\n"
     ]
    },
    {
     "name": "stderr",
     "output_type": "stream",
     "text": [
      " 93%|█████████▎| 14/15 [00:02<00:00,  5.91it/s]\n"
     ]
    },
    {
     "name": "stdout",
     "output_type": "stream",
     "text": [
      "01:41 |     9 |     3.000e-04 |    20.6299 |         17.9780 |     1.2423 |          3.1262 |            1189\n"
     ]
    },
    {
     "name": "stderr",
     "output_type": "stream",
     "text": [
      " 93%|█████████▎| 14/15 [00:02<00:00,  5.93it/s]\n"
     ]
    },
    {
     "name": "stdout",
     "output_type": "stream",
     "text": [
      "01:44 |    10 |     3.000e-04 |    26.1657 |         28.9642 |     6.0204 |          3.5433 |            1189\n"
     ]
    },
    {
     "name": "stderr",
     "output_type": "stream",
     "text": [
      " 93%|█████████▎| 14/15 [00:02<00:00,  6.10it/s]\n"
     ]
    },
    {
     "name": "stdout",
     "output_type": "stream",
     "text": [
      "01:46 |    11 |     3.000e-04 |    20.9426 |         15.2350 |     2.7488 |          2.7179 |            1189\n"
     ]
    },
    {
     "name": "stderr",
     "output_type": "stream",
     "text": [
      " 93%|█████████▎| 14/15 [00:02<00:00,  5.84it/s]\n"
     ]
    },
    {
     "name": "stdout",
     "output_type": "stream",
     "text": [
      "01:49 |    12 |     3.000e-04 |    15.4402 |         12.0414 |     1.4425 |          2.5225 |            1189\n"
     ]
    },
    {
     "name": "stderr",
     "output_type": "stream",
     "text": [
      " 93%|█████████▎| 14/15 [00:02<00:00,  6.08it/s]\n"
     ]
    },
    {
     "name": "stdout",
     "output_type": "stream",
     "text": [
      "01:52 |    13 |     3.000e-04 |    12.5321 |         10.9411 |     1.7900 |          2.3941 |            1189\n"
     ]
    },
    {
     "name": "stderr",
     "output_type": "stream",
     "text": [
      " 93%|█████████▎| 14/15 [00:02<00:00,  5.93it/s]\n"
     ]
    },
    {
     "name": "stdout",
     "output_type": "stream",
     "text": [
      "01:54 |    14 |     3.000e-04 |    11.1786 |          9.8578 |     1.4142 |          2.2814 |            1189\n"
     ]
    },
    {
     "name": "stderr",
     "output_type": "stream",
     "text": [
      " 93%|█████████▎| 14/15 [00:02<00:00,  6.02it/s]\n"
     ]
    },
    {
     "name": "stdout",
     "output_type": "stream",
     "text": [
      "01:57 |    15 |     3.000e-04 |    10.2561 |          9.3292 |     1.5168 |          2.2051 |            1189\n"
     ]
    },
    {
     "name": "stderr",
     "output_type": "stream",
     "text": [
      " 93%|█████████▎| 14/15 [00:02<00:00,  6.03it/s]\n"
     ]
    },
    {
     "name": "stdout",
     "output_type": "stream",
     "text": [
      "02:00 |    16 |     3.000e-04 |     9.7118 |          9.5322 |     2.5201 |          2.1759 |            1189\n"
     ]
    },
    {
     "name": "stderr",
     "output_type": "stream",
     "text": [
      " 93%|█████████▎| 14/15 [00:02<00:00,  6.04it/s]\n"
     ]
    },
    {
     "name": "stdout",
     "output_type": "stream",
     "text": [
      "02:03 |    17 |     3.000e-04 |     9.3280 |          9.9480 |     3.4966 |          2.1522 |            1189\n"
     ]
    },
    {
     "name": "stderr",
     "output_type": "stream",
     "text": [
      " 93%|█████████▎| 14/15 [00:02<00:00,  6.08it/s]\n"
     ]
    },
    {
     "name": "stdout",
     "output_type": "stream",
     "text": [
      "02:05 |    18 |     3.000e-04 |     8.8692 |          9.8313 |     3.9630 |          2.0910 |            1189\n"
     ]
    },
    {
     "name": "stderr",
     "output_type": "stream",
     "text": [
      " 93%|█████████▎| 14/15 [00:02<00:00,  6.02it/s]\n"
     ]
    },
    {
     "name": "stdout",
     "output_type": "stream",
     "text": [
      "02:08 |    19 |     3.000e-04 |     8.3278 |          9.4212 |     4.0203 |          2.0294 |            1189\n"
     ]
    },
    {
     "name": "stderr",
     "output_type": "stream",
     "text": [
      " 93%|█████████▎| 14/15 [00:02<00:00,  6.09it/s]\n"
     ]
    },
    {
     "name": "stdout",
     "output_type": "stream",
     "text": [
      "02:10 |    20 |     3.000e-04 |     7.8528 |          8.9186 |     3.7420 |          1.9878 |            1189\n"
     ]
    },
    {
     "name": "stderr",
     "output_type": "stream",
     "text": [
      " 93%|█████████▎| 14/15 [00:02<00:00,  6.04it/s]\n"
     ]
    },
    {
     "name": "stdout",
     "output_type": "stream",
     "text": [
      "02:13 |    21 |     3.000e-04 |     7.4407 |          8.2262 |     2.9262 |          1.9639 |            1189\n"
     ]
    },
    {
     "name": "stderr",
     "output_type": "stream",
     "text": [
      " 93%|█████████▎| 14/15 [00:02<00:00,  5.92it/s]\n"
     ]
    },
    {
     "name": "stdout",
     "output_type": "stream",
     "text": [
      "02:16 |    22 |     3.000e-04 |     6.9916 |          7.4991 |     2.2304 |          1.9215 |            1189\n"
     ]
    },
    {
     "name": "stderr",
     "output_type": "stream",
     "text": [
      " 93%|█████████▎| 14/15 [00:02<00:00,  6.03it/s]\n"
     ]
    },
    {
     "name": "stdout",
     "output_type": "stream",
     "text": [
      "02:19 |    23 |     3.000e-04 |     6.5869 |          7.0569 |     2.0407 |          1.8920 |            1189\n"
     ]
    },
    {
     "name": "stderr",
     "output_type": "stream",
     "text": [
      " 93%|█████████▎| 14/15 [00:02<00:00,  6.09it/s]\n"
     ]
    },
    {
     "name": "stdout",
     "output_type": "stream",
     "text": [
      "02:21 |    24 |     3.000e-04 |     6.3937 |          7.2365 |     2.4091 |          1.8938 |            1189\n"
     ]
    },
    {
     "name": "stderr",
     "output_type": "stream",
     "text": [
      " 93%|█████████▎| 14/15 [00:02<00:00,  6.12it/s]\n"
     ]
    },
    {
     "name": "stdout",
     "output_type": "stream",
     "text": [
      "02:24 |    25 |     3.000e-04 |     6.3321 |          7.6094 |     3.0060 |          1.9215 |            1189\n"
     ]
    },
    {
     "name": "stderr",
     "output_type": "stream",
     "text": [
      " 93%|█████████▎| 14/15 [00:02<00:00,  5.99it/s]\n"
     ]
    },
    {
     "name": "stdout",
     "output_type": "stream",
     "text": [
      "02:27 |    26 |     3.000e-04 |     6.3902 |          8.0109 |     3.5722 |          1.9383 |            1189\n"
     ]
    },
    {
     "name": "stderr",
     "output_type": "stream",
     "text": [
      " 93%|█████████▎| 14/15 [00:02<00:00,  5.92it/s]\n"
     ]
    },
    {
     "name": "stdout",
     "output_type": "stream",
     "text": [
      "02:29 |    27 |     3.000e-04 |     6.4305 |          7.9447 |     3.6511 |          1.9305 |            1189\n"
     ]
    },
    {
     "name": "stderr",
     "output_type": "stream",
     "text": [
      " 93%|█████████▎| 14/15 [00:02<00:00,  6.13it/s]\n"
     ]
    },
    {
     "name": "stdout",
     "output_type": "stream",
     "text": [
      "02:32 |    28 |     3.000e-04 |     6.3459 |          7.2133 |     2.9284 |          1.8957 |            1189\n"
     ]
    },
    {
     "name": "stderr",
     "output_type": "stream",
     "text": [
      " 93%|█████████▎| 14/15 [00:02<00:00,  6.13it/s]\n"
     ]
    },
    {
     "name": "stdout",
     "output_type": "stream",
     "text": [
      "02:34 |    29 |     3.000e-04 |     6.1513 |          6.3565 |     1.9029 |          1.8299 |            1189\n"
     ]
    },
    {
     "name": "stderr",
     "output_type": "stream",
     "text": [
      " 93%|█████████▎| 14/15 [00:02<00:00,  5.93it/s]\n"
     ]
    },
    {
     "name": "stdout",
     "output_type": "stream",
     "text": [
      "02:37 |    30 |     3.000e-04 |     5.8717 |          5.9394 |     1.4914 |          1.7794 |            1189\n"
     ]
    },
    {
     "name": "stderr",
     "output_type": "stream",
     "text": [
      " 93%|█████████▎| 14/15 [00:02<00:00,  6.06it/s]\n"
     ]
    },
    {
     "name": "stdout",
     "output_type": "stream",
     "text": [
      "02:40 |    31 |     3.000e-04 |     5.7119 |          5.6509 |     1.1844 |          1.7515 |            1189\n"
     ]
    },
    {
     "name": "stderr",
     "output_type": "stream",
     "text": [
      " 93%|█████████▎| 14/15 [00:02<00:00,  5.95it/s]\n"
     ]
    },
    {
     "name": "stdout",
     "output_type": "stream",
     "text": [
      "02:43 |    32 |     3.000e-04 |     5.6034 |          5.4393 |     0.9191 |          1.7309 |            1189\n"
     ]
    },
    {
     "name": "stderr",
     "output_type": "stream",
     "text": [
      " 93%|█████████▎| 14/15 [00:02<00:00,  6.11it/s]\n"
     ]
    },
    {
     "name": "stdout",
     "output_type": "stream",
     "text": [
      "02:45 |    33 |     3.000e-04 |     5.4095 |          5.2604 |     0.8311 |          1.7015 |            1189\n"
     ]
    },
    {
     "name": "stderr",
     "output_type": "stream",
     "text": [
      " 93%|█████████▎| 14/15 [00:02<00:00,  6.08it/s]\n"
     ]
    },
    {
     "name": "stdout",
     "output_type": "stream",
     "text": [
      "02:48 |    34 |     3.000e-04 |     5.2542 |          5.1013 |     0.7622 |          1.6731 |            1189\n"
     ]
    },
    {
     "name": "stderr",
     "output_type": "stream",
     "text": [
      " 93%|█████████▎| 14/15 [00:02<00:00,  6.08it/s]\n"
     ]
    },
    {
     "name": "stdout",
     "output_type": "stream",
     "text": [
      "02:51 |    35 |     3.000e-04 |     5.1426 |          4.9748 |     0.7860 |          1.6521 |            1189\n"
     ]
    },
    {
     "name": "stderr",
     "output_type": "stream",
     "text": [
      " 93%|█████████▎| 14/15 [00:02<00:00,  5.91it/s]\n"
     ]
    },
    {
     "name": "stdout",
     "output_type": "stream",
     "text": [
      "02:53 |    36 |     3.000e-04 |     5.0321 |          4.8802 |     0.8301 |          1.6397 |            1189\n"
     ]
    },
    {
     "name": "stderr",
     "output_type": "stream",
     "text": [
      " 93%|█████████▎| 14/15 [00:02<00:00,  6.09it/s]\n"
     ]
    },
    {
     "name": "stdout",
     "output_type": "stream",
     "text": [
      "02:56 |    37 |     3.000e-04 |     4.9323 |          4.7751 |     0.8163 |          1.6257 |            1189\n"
     ]
    },
    {
     "name": "stderr",
     "output_type": "stream",
     "text": [
      " 93%|█████████▎| 14/15 [00:02<00:00,  5.95it/s]\n"
     ]
    },
    {
     "name": "stdout",
     "output_type": "stream",
     "text": [
      "02:59 |    38 |     3.000e-04 |     4.8378 |          4.7776 |     1.1013 |          1.6224 |            1189\n"
     ]
    },
    {
     "name": "stderr",
     "output_type": "stream",
     "text": [
      " 93%|█████████▎| 14/15 [00:02<00:00,  6.00it/s]\n"
     ]
    },
    {
     "name": "stdout",
     "output_type": "stream",
     "text": [
      "03:02 |    39 |     3.000e-04 |     4.7877 |          4.7585 |     1.3964 |          1.6056 |            1189\n"
     ]
    },
    {
     "name": "stderr",
     "output_type": "stream",
     "text": [
      " 93%|█████████▎| 14/15 [00:02<00:00,  6.13it/s]\n"
     ]
    },
    {
     "name": "stdout",
     "output_type": "stream",
     "text": [
      "03:04 |    40 |     3.000e-04 |     4.7589 |          4.8774 |     1.8336 |          1.6040 |            1189\n"
     ]
    },
    {
     "name": "stderr",
     "output_type": "stream",
     "text": [
      " 93%|█████████▎| 14/15 [00:02<00:00,  5.95it/s]\n"
     ]
    },
    {
     "name": "stdout",
     "output_type": "stream",
     "text": [
      "03:07 |    41 |     3.000e-04 |     4.7606 |          4.9003 |     2.0029 |          1.5978 |            1189\n"
     ]
    },
    {
     "name": "stderr",
     "output_type": "stream",
     "text": [
      " 93%|█████████▎| 14/15 [00:02<00:00,  5.95it/s]\n"
     ]
    },
    {
     "name": "stdout",
     "output_type": "stream",
     "text": [
      "03:10 |    42 |     3.000e-04 |     4.6811 |          4.8524 |     1.9445 |          1.5958 |            1189\n"
     ]
    },
    {
     "name": "stderr",
     "output_type": "stream",
     "text": [
      " 93%|█████████▎| 14/15 [00:02<00:00,  5.96it/s]\n"
     ]
    },
    {
     "name": "stdout",
     "output_type": "stream",
     "text": [
      "03:12 |    43 |     3.000e-04 |     4.6142 |          4.9460 |     2.1352 |          1.6038 |            1189\n"
     ]
    },
    {
     "name": "stderr",
     "output_type": "stream",
     "text": [
      " 93%|█████████▎| 14/15 [00:02<00:00,  6.10it/s]\n"
     ]
    },
    {
     "name": "stdout",
     "output_type": "stream",
     "text": [
      "03:15 |    44 |     3.000e-04 |     4.5658 |          5.0050 |     2.2833 |          1.6098 |            1189\n"
     ]
    },
    {
     "name": "stderr",
     "output_type": "stream",
     "text": [
      " 93%|█████████▎| 14/15 [00:02<00:00,  6.05it/s]\n"
     ]
    },
    {
     "name": "stdout",
     "output_type": "stream",
     "text": [
      "03:18 |    45 |     3.000e-04 |     4.4930 |          4.8401 |     2.0538 |          1.5974 |            1189\n"
     ]
    },
    {
     "name": "stderr",
     "output_type": "stream",
     "text": [
      " 93%|█████████▎| 14/15 [00:02<00:00,  5.94it/s]\n"
     ]
    },
    {
     "name": "stdout",
     "output_type": "stream",
     "text": [
      "03:20 |    46 |     3.000e-04 |     4.3620 |          4.7995 |     2.1884 |          1.5811 |            1189\n"
     ]
    },
    {
     "name": "stderr",
     "output_type": "stream",
     "text": [
      " 93%|█████████▎| 14/15 [00:02<00:00,  6.11it/s]\n"
     ]
    },
    {
     "name": "stdout",
     "output_type": "stream",
     "text": [
      "03:23 |    47 |     3.000e-04 |     4.3359 |          4.7154 |     2.2788 |          1.5573 |            1189\n"
     ]
    },
    {
     "name": "stderr",
     "output_type": "stream",
     "text": [
      " 93%|█████████▎| 14/15 [00:02<00:00,  5.98it/s]\n"
     ]
    },
    {
     "name": "stdout",
     "output_type": "stream",
     "text": [
      "03:26 |    48 |     3.000e-04 |     4.2133 |          4.4728 |     2.0606 |          1.5275 |            1189\n"
     ]
    },
    {
     "name": "stderr",
     "output_type": "stream",
     "text": [
      " 93%|█████████▎| 14/15 [00:02<00:00,  6.07it/s]\n"
     ]
    },
    {
     "name": "stdout",
     "output_type": "stream",
     "text": [
      "03:28 |    49 |     3.000e-04 |     4.1596 |          4.4037 |     2.0947 |          1.5053 |            1189\n"
     ]
    },
    {
     "name": "stderr",
     "output_type": "stream",
     "text": [
      " 93%|█████████▎| 14/15 [00:02<00:00,  6.05it/s]\n"
     ]
    },
    {
     "name": "stdout",
     "output_type": "stream",
     "text": [
      "03:31 |    50 |     3.000e-04 |     4.0597 |          4.3191 |     2.1444 |          1.4911 |            1189\n"
     ]
    },
    {
     "name": "stderr",
     "output_type": "stream",
     "text": [
      " 93%|█████████▎| 14/15 [00:02<00:00,  5.97it/s]\n"
     ]
    },
    {
     "name": "stdout",
     "output_type": "stream",
     "text": [
      "03:34 |    51 |     3.000e-04 |     4.0280 |          4.2754 |     2.2053 |          1.4767 |            1189\n"
     ]
    },
    {
     "name": "stderr",
     "output_type": "stream",
     "text": [
      " 93%|█████████▎| 14/15 [00:02<00:00,  6.07it/s]\n"
     ]
    },
    {
     "name": "stdout",
     "output_type": "stream",
     "text": [
      "03:36 |    52 |     3.000e-04 |     3.9363 |          4.0800 |     1.8021 |          1.4626 |            1189\n"
     ]
    },
    {
     "name": "stderr",
     "output_type": "stream",
     "text": [
      " 93%|█████████▎| 14/15 [00:02<00:00,  5.98it/s]\n"
     ]
    },
    {
     "name": "stdout",
     "output_type": "stream",
     "text": [
      "03:39 |    53 |     3.000e-04 |     3.9207 |          4.1852 |     1.8265 |          1.4753 |            1189\n"
     ]
    },
    {
     "name": "stderr",
     "output_type": "stream",
     "text": [
      " 93%|█████████▎| 14/15 [00:02<00:00,  5.93it/s]\n"
     ]
    },
    {
     "name": "stdout",
     "output_type": "stream",
     "text": [
      "03:42 |    54 |     3.000e-04 |     3.7347 |          3.9965 |     1.9721 |          1.4437 |            1189\n"
     ]
    },
    {
     "name": "stderr",
     "output_type": "stream",
     "text": [
      " 93%|█████████▎| 14/15 [00:02<00:00,  6.02it/s]\n"
     ]
    },
    {
     "name": "stdout",
     "output_type": "stream",
     "text": [
      "03:44 |    55 |     3.000e-04 |     3.7553 |          4.6272 |     2.7626 |          1.5172 |            1189\n"
     ]
    },
    {
     "name": "stderr",
     "output_type": "stream",
     "text": [
      " 93%|█████████▎| 14/15 [00:02<00:00,  6.06it/s]\n"
     ]
    },
    {
     "name": "stdout",
     "output_type": "stream",
     "text": [
      "03:47 |    56 |     3.000e-04 |     3.6702 |          3.6796 |     1.3977 |          1.4231 |            1189\n"
     ]
    },
    {
     "name": "stderr",
     "output_type": "stream",
     "text": [
      " 93%|█████████▎| 14/15 [00:02<00:00,  5.98it/s]\n"
     ]
    },
    {
     "name": "stdout",
     "output_type": "stream",
     "text": [
      "03:50 |    57 |     3.000e-04 |     4.2923 |          6.3891 |     1.7037 |          1.7701 |            1189\n"
     ]
    },
    {
     "name": "stderr",
     "output_type": "stream",
     "text": [
      " 93%|█████████▎| 14/15 [00:02<00:00,  6.12it/s]\n"
     ]
    },
    {
     "name": "stdout",
     "output_type": "stream",
     "text": [
      "03:52 |    58 |     3.000e-04 |     3.8929 |          3.2204 |     0.9073 |          1.3395 |            1189\n"
     ]
    },
    {
     "name": "stderr",
     "output_type": "stream",
     "text": [
      " 93%|█████████▎| 14/15 [00:02<00:00,  5.97it/s]\n"
     ]
    },
    {
     "name": "stdout",
     "output_type": "stream",
     "text": [
      "03:55 |    59 |     3.000e-04 |     3.3776 |          3.0927 |     0.3709 |          1.3219 |            1189\n"
     ]
    },
    {
     "name": "stderr",
     "output_type": "stream",
     "text": [
      " 93%|█████████▎| 14/15 [00:02<00:00,  6.00it/s]\n"
     ]
    },
    {
     "name": "stdout",
     "output_type": "stream",
     "text": [
      "03:58 |    60 |     3.000e-04 |     3.0230 |          3.8838 |     2.6041 |          1.3598 |            1189\n"
     ]
    },
    {
     "name": "stderr",
     "output_type": "stream",
     "text": [
      " 93%|█████████▎| 14/15 [00:02<00:00,  6.04it/s]\n"
     ]
    },
    {
     "name": "stdout",
     "output_type": "stream",
     "text": [
      "04:01 |    61 |     3.000e-04 |     3.4092 |          3.1879 |     1.0128 |          1.3299 |            1189\n"
     ]
    },
    {
     "name": "stderr",
     "output_type": "stream",
     "text": [
      " 93%|█████████▎| 14/15 [00:02<00:00,  6.10it/s]\n"
     ]
    },
    {
     "name": "stdout",
     "output_type": "stream",
     "text": [
      "04:03 |    62 |     3.000e-04 |     2.8977 |          3.1299 |     0.7411 |          1.3192 |            1189\n"
     ]
    },
    {
     "name": "stderr",
     "output_type": "stream",
     "text": [
      " 93%|█████████▎| 14/15 [00:02<00:00,  6.13it/s]\n"
     ]
    },
    {
     "name": "stdout",
     "output_type": "stream",
     "text": [
      "04:06 |    63 |     3.000e-04 |     3.2897 |          3.2591 |     1.2370 |          1.3291 |            1189\n"
     ]
    },
    {
     "name": "stderr",
     "output_type": "stream",
     "text": [
      " 93%|█████████▎| 14/15 [00:02<00:00,  6.08it/s]\n"
     ]
    },
    {
     "name": "stdout",
     "output_type": "stream",
     "text": [
      "04:08 |    64 |     3.000e-04 |     2.8491 |          3.8278 |     2.2925 |          1.3973 |            1189\n"
     ]
    },
    {
     "name": "stderr",
     "output_type": "stream",
     "text": [
      " 93%|█████████▎| 14/15 [00:02<00:00,  6.01it/s]\n"
     ]
    },
    {
     "name": "stdout",
     "output_type": "stream",
     "text": [
      "04:11 |    65 |     3.000e-04 |     3.5681 |          3.1074 |     0.5374 |          1.3200 |            1189\n"
     ]
    },
    {
     "name": "stderr",
     "output_type": "stream",
     "text": [
      " 93%|█████████▎| 14/15 [00:02<00:00,  5.97it/s]\n"
     ]
    },
    {
     "name": "stdout",
     "output_type": "stream",
     "text": [
      "04:14 |    66 |     3.000e-04 |     2.8123 |          3.2710 |     1.2939 |          1.3453 |            1189\n"
     ]
    },
    {
     "name": "stderr",
     "output_type": "stream",
     "text": [
      " 93%|█████████▎| 14/15 [00:02<00:00,  6.07it/s]\n"
     ]
    },
    {
     "name": "stdout",
     "output_type": "stream",
     "text": [
      "04:16 |    67 |     3.000e-04 |     3.0403 |          3.1102 |     1.0673 |          1.3201 |            1189\n"
     ]
    },
    {
     "name": "stderr",
     "output_type": "stream",
     "text": [
      " 93%|█████████▎| 14/15 [00:02<00:00,  5.84it/s]\n"
     ]
    },
    {
     "name": "stdout",
     "output_type": "stream",
     "text": [
      "04:19 |    68 |     3.000e-04 |     2.7238 |          3.3480 |     1.5163 |          1.3523 |            1189\n"
     ]
    },
    {
     "name": "stderr",
     "output_type": "stream",
     "text": [
      " 93%|█████████▎| 14/15 [00:02<00:00,  6.10it/s]\n"
     ]
    },
    {
     "name": "stdout",
     "output_type": "stream",
     "text": [
      "04:22 |    69 |     3.000e-04 |     2.9431 |          2.8424 |     0.5914 |          1.2623 |            1189\n"
     ]
    },
    {
     "name": "stderr",
     "output_type": "stream",
     "text": [
      " 93%|█████████▎| 14/15 [00:02<00:00,  6.09it/s]\n"
     ]
    },
    {
     "name": "stdout",
     "output_type": "stream",
     "text": [
      "04:24 |    70 |     3.000e-04 |     3.4042 |          3.1101 |     0.3149 |          1.2894 |            1189\n"
     ]
    },
    {
     "name": "stderr",
     "output_type": "stream",
     "text": [
      " 93%|█████████▎| 14/15 [00:02<00:00,  6.07it/s]\n"
     ]
    },
    {
     "name": "stdout",
     "output_type": "stream",
     "text": [
      "04:27 |    71 |     3.000e-04 |     3.5183 |          2.6977 |     0.8645 |          1.1913 |            1189\n"
     ]
    },
    {
     "name": "stderr",
     "output_type": "stream",
     "text": [
      " 93%|█████████▎| 14/15 [00:02<00:00,  5.96it/s]\n"
     ]
    },
    {
     "name": "stdout",
     "output_type": "stream",
     "text": [
      "04:30 |    72 |     3.000e-04 |     2.9843 |          2.5849 |     0.9575 |          1.1927 |            1189\n"
     ]
    },
    {
     "name": "stderr",
     "output_type": "stream",
     "text": [
      " 93%|█████████▎| 14/15 [00:02<00:00,  6.03it/s]\n"
     ]
    },
    {
     "name": "stdout",
     "output_type": "stream",
     "text": [
      "04:32 |    73 |     3.000e-04 |     4.0230 |          3.1461 |     0.4275 |          1.3718 |            1189\n"
     ]
    },
    {
     "name": "stderr",
     "output_type": "stream",
     "text": [
      " 93%|█████████▎| 14/15 [00:02<00:00,  6.12it/s]\n"
     ]
    },
    {
     "name": "stdout",
     "output_type": "stream",
     "text": [
      "04:35 |    74 |     3.000e-04 |     3.3721 |          2.8488 |     0.3025 |          1.2165 |            1189\n"
     ]
    },
    {
     "name": "stderr",
     "output_type": "stream",
     "text": [
      " 93%|█████████▎| 14/15 [00:02<00:00,  6.04it/s]\n"
     ]
    },
    {
     "name": "stdout",
     "output_type": "stream",
     "text": [
      "04:38 |    75 |     3.000e-04 |     3.2023 |          4.1387 |     2.3143 |          1.3347 |            1189\n"
     ]
    },
    {
     "name": "stderr",
     "output_type": "stream",
     "text": [
      " 93%|█████████▎| 14/15 [00:02<00:00,  6.07it/s]\n"
     ]
    },
    {
     "name": "stdout",
     "output_type": "stream",
     "text": [
      "04:40 |    76 |     3.000e-04 |     3.0806 |          2.3445 |     0.3770 |          1.1160 |            1189\n"
     ]
    },
    {
     "name": "stderr",
     "output_type": "stream",
     "text": [
      " 93%|█████████▎| 14/15 [00:02<00:00,  6.08it/s]\n"
     ]
    },
    {
     "name": "stdout",
     "output_type": "stream",
     "text": [
      "04:43 |    77 |     3.000e-04 |     2.2837 |          2.1831 |     0.3239 |          1.0943 |            1189\n"
     ]
    },
    {
     "name": "stderr",
     "output_type": "stream",
     "text": [
      " 93%|█████████▎| 14/15 [00:02<00:00,  5.96it/s]\n"
     ]
    },
    {
     "name": "stdout",
     "output_type": "stream",
     "text": [
      "04:46 |    78 |     3.000e-04 |     2.2038 |          2.3269 |     0.7406 |          1.1121 |            1189\n"
     ]
    },
    {
     "name": "stderr",
     "output_type": "stream",
     "text": [
      " 93%|█████████▎| 14/15 [00:02<00:00,  6.05it/s]\n"
     ]
    },
    {
     "name": "stdout",
     "output_type": "stream",
     "text": [
      "04:48 |    79 |     3.000e-04 |     2.2556 |          2.4818 |     1.1407 |          1.1252 |            1189\n"
     ]
    },
    {
     "name": "stderr",
     "output_type": "stream",
     "text": [
      " 93%|█████████▎| 14/15 [00:02<00:00,  6.03it/s]\n"
     ]
    },
    {
     "name": "stdout",
     "output_type": "stream",
     "text": [
      "04:51 |    80 |     3.000e-04 |     2.2293 |          2.5323 |     1.4510 |          1.1206 |            1189\n"
     ]
    },
    {
     "name": "stderr",
     "output_type": "stream",
     "text": [
      " 93%|█████████▎| 14/15 [00:02<00:00,  6.04it/s]\n"
     ]
    },
    {
     "name": "stdout",
     "output_type": "stream",
     "text": [
      "04:54 |    81 |     3.000e-04 |     2.2894 |          2.6565 |     1.8192 |          1.1220 |            1189\n"
     ]
    },
    {
     "name": "stderr",
     "output_type": "stream",
     "text": [
      " 93%|█████████▎| 14/15 [00:02<00:00,  6.13it/s]\n"
     ]
    },
    {
     "name": "stdout",
     "output_type": "stream",
     "text": [
      "04:56 |    82 |     3.000e-04 |     2.2259 |          2.6218 |     1.6936 |          1.1236 |            1189\n"
     ]
    },
    {
     "name": "stderr",
     "output_type": "stream",
     "text": [
      " 93%|█████████▎| 14/15 [00:02<00:00,  6.02it/s]\n"
     ]
    },
    {
     "name": "stdout",
     "output_type": "stream",
     "text": [
      "04:59 |    83 |     3.000e-04 |     2.3292 |          3.0052 |     2.6781 |          1.1249 |            1189\n"
     ]
    },
    {
     "name": "stderr",
     "output_type": "stream",
     "text": [
      " 93%|█████████▎| 14/15 [00:02<00:00,  6.08it/s]\n"
     ]
    },
    {
     "name": "stdout",
     "output_type": "stream",
     "text": [
      "05:02 |    84 |     3.000e-04 |     2.5406 |          3.1328 |     2.9238 |          1.1249 |            1189\n"
     ]
    },
    {
     "name": "stderr",
     "output_type": "stream",
     "text": [
      " 93%|█████████▎| 14/15 [00:02<00:00,  6.03it/s]\n"
     ]
    },
    {
     "name": "stdout",
     "output_type": "stream",
     "text": [
      "05:04 |    85 |     3.000e-04 |     2.3228 |          2.6507 |     1.7851 |          1.1227 |            1189\n"
     ]
    },
    {
     "name": "stderr",
     "output_type": "stream",
     "text": [
      " 93%|█████████▎| 14/15 [00:02<00:00,  6.03it/s]\n"
     ]
    },
    {
     "name": "stdout",
     "output_type": "stream",
     "text": [
      "05:07 |    86 |     3.000e-04 |     2.1887 |          2.5819 |     1.4320 |          1.1310 |            1189\n"
     ]
    },
    {
     "name": "stderr",
     "output_type": "stream",
     "text": [
      " 93%|█████████▎| 14/15 [00:02<00:00,  6.00it/s]\n"
     ]
    },
    {
     "name": "stdout",
     "output_type": "stream",
     "text": [
      "05:10 |    87 |     3.000e-04 |     2.1611 |          2.7317 |     2.2938 |          1.0996 |            1189\n"
     ]
    },
    {
     "name": "stderr",
     "output_type": "stream",
     "text": [
      " 93%|█████████▎| 14/15 [00:02<00:00,  5.99it/s]\n"
     ]
    },
    {
     "name": "stdout",
     "output_type": "stream",
     "text": [
      "05:12 |    88 |     3.000e-04 |     2.3294 |          3.0498 |     2.9304 |          1.1070 |            1189\n"
     ]
    },
    {
     "name": "stderr",
     "output_type": "stream",
     "text": [
      " 93%|█████████▎| 14/15 [00:02<00:00,  6.12it/s]\n"
     ]
    },
    {
     "name": "stdout",
     "output_type": "stream",
     "text": [
      "05:15 |    89 |     3.000e-04 |     2.7065 |          3.1640 |     3.0779 |          1.1215 |            1189\n"
     ]
    },
    {
     "name": "stderr",
     "output_type": "stream",
     "text": [
      " 93%|█████████▎| 14/15 [00:02<00:00,  6.06it/s]\n"
     ]
    },
    {
     "name": "stdout",
     "output_type": "stream",
     "text": [
      "05:18 |    90 |     3.000e-04 |     2.2230 |          2.2705 |     0.8166 |          1.0939 |            1189\n"
     ]
    },
    {
     "name": "stderr",
     "output_type": "stream",
     "text": [
      " 93%|█████████▎| 14/15 [00:02<00:00,  6.13it/s]\n"
     ]
    },
    {
     "name": "stdout",
     "output_type": "stream",
     "text": [
      "05:20 |    91 |     3.000e-04 |     2.0544 |          2.2367 |     0.5637 |          1.0931 |            1189\n"
     ]
    },
    {
     "name": "stderr",
     "output_type": "stream",
     "text": [
      " 93%|█████████▎| 14/15 [00:02<00:00,  6.05it/s]\n"
     ]
    },
    {
     "name": "stdout",
     "output_type": "stream",
     "text": [
      "05:23 |    92 |     3.000e-04 |     2.1146 |          2.4715 |     2.0845 |          1.0628 |            1189\n"
     ]
    },
    {
     "name": "stderr",
     "output_type": "stream",
     "text": [
      " 93%|█████████▎| 14/15 [00:02<00:00,  5.83it/s]\n"
     ]
    },
    {
     "name": "stdout",
     "output_type": "stream",
     "text": [
      "05:26 |    93 |     3.000e-04 |     2.0138 |          2.2782 |     1.4248 |          1.0640 |            1189\n"
     ]
    },
    {
     "name": "stderr",
     "output_type": "stream",
     "text": [
      " 93%|█████████▎| 14/15 [00:02<00:00,  6.03it/s]\n"
     ]
    },
    {
     "name": "stdout",
     "output_type": "stream",
     "text": [
      "05:28 |    94 |     3.000e-04 |     1.9205 |          2.2247 |     0.7574 |          1.0844 |            1189\n"
     ]
    },
    {
     "name": "stderr",
     "output_type": "stream",
     "text": [
      " 93%|█████████▎| 14/15 [00:02<00:00,  6.11it/s]\n"
     ]
    },
    {
     "name": "stdout",
     "output_type": "stream",
     "text": [
      "05:31 |    95 |     3.000e-04 |     1.8919 |          2.1557 |     1.0947 |          1.0546 |            1189\n"
     ]
    },
    {
     "name": "stderr",
     "output_type": "stream",
     "text": [
      " 93%|█████████▎| 14/15 [00:02<00:00,  6.04it/s]\n"
     ]
    },
    {
     "name": "stdout",
     "output_type": "stream",
     "text": [
      "05:33 |    96 |     3.000e-04 |     1.8991 |          2.2159 |     1.5280 |          1.0451 |            1189\n"
     ]
    },
    {
     "name": "stderr",
     "output_type": "stream",
     "text": [
      " 93%|█████████▎| 14/15 [00:02<00:00,  6.12it/s]\n"
     ]
    },
    {
     "name": "stdout",
     "output_type": "stream",
     "text": [
      "05:36 |    97 |     3.000e-04 |     2.0231 |          2.0611 |     0.8831 |          1.0365 |            1189\n"
     ]
    },
    {
     "name": "stderr",
     "output_type": "stream",
     "text": [
      " 93%|█████████▎| 14/15 [00:02<00:00,  6.10it/s]\n"
     ]
    },
    {
     "name": "stdout",
     "output_type": "stream",
     "text": [
      "05:39 |    98 |     3.000e-04 |     1.8510 |          2.4954 |     2.1181 |          1.0706 |            1189\n"
     ]
    },
    {
     "name": "stderr",
     "output_type": "stream",
     "text": [
      " 93%|█████████▎| 14/15 [00:02<00:00,  6.10it/s]\n"
     ]
    },
    {
     "name": "stdout",
     "output_type": "stream",
     "text": [
      "05:41 |    99 |     3.000e-04 |     2.3616 |          2.1503 |     1.5846 |          1.0241 |            1189\n"
     ]
    },
    {
     "name": "stderr",
     "output_type": "stream",
     "text": [
      " 93%|█████████▎| 14/15 [00:02<00:00,  5.97it/s]\n"
     ]
    },
    {
     "name": "stdout",
     "output_type": "stream",
     "text": [
      "05:44 |   100 |     3.000e-04 |     2.0510 |          2.0055 |     0.8736 |          1.0279 |            1189\n"
     ]
    }
   ],
   "source": [
    "try:\n",
    "    T.train(device=DEVICE, n_epochs=100)\n",
    "except Exception as e:\n",
    "    print(e)\n",
    "    import pdb\n",
    "    pdb.post_mortem()"
   ]
  },
  {
   "cell_type": "markdown",
   "metadata": {},
   "source": [
    "We pick the model that got the best validation score and evaluate it on the test set:"
   ]
  },
  {
   "cell_type": "code",
   "execution_count": null,
   "metadata": {},
   "outputs": [],
   "source": []
  },
  {
   "cell_type": "code",
   "execution_count": 8,
   "metadata": {},
   "outputs": [
    {
     "data": {
      "image/png": "[encoded data removed]",
      "text/plain": [
       "<Figure size 864x432 with 2 Axes>"
      ]
     },
     "metadata": {
      "needs_background": "light"
     },
     "output_type": "display_data"
    }
   ],
   "source": [
    "results, targets, val_loss = evaluate(T.get_best_model(), test_loader, loss_fn, device=DEVICE)\n",
    "\n",
    "\n",
    "units = {\n",
    "    'energy_grad': r'kcal/mol/$\\AA$',\n",
    "    'energy': 'kcal/mol'\n",
    "}\n",
    "\n",
    "fig, ax_fig = plt.subplots(1, 2, figsize=(12, 6))\n",
    "\n",
    "for ax, key in zip(ax_fig, units.keys()):\n",
    "    pred_fn = torch.cat\n",
    "    targ_fn = torch.cat\n",
    "    if all([len(i.shape) == 0 for i in results[key]]):\n",
    "        pred_fn = torch.stack\n",
    "    if all([len(i.shape) == 0 for i in targets[key]]):\n",
    "        targ_fn = torch.stack\n",
    "        \n",
    "    pred = pred_fn(results[key], dim=0).view(-1).detach().cpu().numpy()\n",
    "    targ = targ_fn(targets[key], dim=0).view(-1).detach().cpu().numpy()\n",
    "\n",
    "    mae = abs(pred-targ).mean()\n",
    "    \n",
    "    ax.scatter(pred, targ, color='#ff7f0e', alpha=0.3)\n",
    "    \n",
    "    lim_min = min(np.min(pred), np.min(targ)) * 1.1\n",
    "    lim_max = max(np.max(pred), np.max(targ)) * 1.1\n",
    "    \n",
    "    ax.set_xlim(lim_min, lim_max)\n",
    "    ax.set_ylim(lim_min, lim_max)\n",
    "    ax.set_aspect('equal')\n",
    "    \n",
    "    ax.plot((lim_min, lim_max),\n",
    "            (lim_min, lim_max),\n",
    "            color='#000000',\n",
    "            zorder=-1,\n",
    "            linewidth=0.5)\n",
    "    \n",
    "    ax.set_title(key.upper(), fontsize=14)\n",
    "    ax.set_xlabel('predicted %s (%s)' % (key, units[key]), fontsize=12)\n",
    "    ax.set_ylabel('target %s (%s)' % (key, units[key]), fontsize=12)\n",
    "    ax.text(0.1, 0.9, 'MAE: %.2f %s' % (mae, units[key]), \n",
    "           transform=ax.transAxes, fontsize=14)\n",
    "\n",
    "plt.show()"
   ]
  },
  {
   "cell_type": "markdown",
   "metadata": {},
   "source": [
    "**Note**: In this example you have to train DimeNet++ for longer than DimeNet to get comparable performance. But if you do then DimeNet++ is only a bit worse than DimeNet. For example, after 500 epochs the errors are: \n",
    "- DimeNet++: 0.49 kcal/mol/A force MAE and 0.10 kcal/mol energy MAE\n",
    "- DimeNet: 0.32 kcal/mol/A force MAE and 0.07 kcal/mol energy MAE\n",
    "\n",
    "The DimeNet++ paper claims that it does even better than DimeNet on QM9, so I'm not sure if the worse performance here is an issue with my implementation, or if it could be because of the small system we're using (ethanol)."
   ]
  },
  {
   "cell_type": "markdown",
   "metadata": {},
   "source": [
    "# For fun: visualizing the basis functions\n",
    "We can look at the radial and spherical basis functions to see what they look like. We can build the radial functions ourselves and compare them with and without the polynomial envelope: "
   ]
  },
  {
   "cell_type": "code",
   "execution_count": 9,
   "metadata": {},
   "outputs": [],
   "source": [
    "from nff.nn.layers import Envelope\n",
    "\n",
    "envelope_p = 5\n",
    "envelope = Envelope(envelope_p)"
   ]
  },
  {
   "cell_type": "markdown",
   "metadata": {},
   "source": [
    "Layers with and without envelope function:"
   ]
  },
  {
   "cell_type": "code",
   "execution_count": 10,
   "metadata": {},
   "outputs": [
    {
     "data": {
      "image/png": "[encoded data removed]",
      "text/plain": [
       "<Figure size 432x288 with 1 Axes>"
      ]
     },
     "metadata": {
      "needs_background": "light"
     },
     "output_type": "display_data"
    },
    {
     "data": {
      "image/png": "[encoded data removed]",
      "text/plain": [
       "<Figure size 432x288 with 1 Axes>"
      ]
     },
     "metadata": {
      "needs_background": "light"
     },
     "output_type": "display_data"
    }
   ],
   "source": [
    "cutoff = 5.0\n",
    "\n",
    "n_rbf = 5\n",
    "d = torch.arange(0, cutoff, 0.05).reshape(-1, 1)\n",
    "n = torch.arange(1, n_rbf + 1).float()\n",
    "k_n = n * np.pi / cutoff\n",
    "env = envelope(d / 5)\n",
    "\n",
    "arg = torch.sin(k_n * d) / d\n",
    "plt.plot(d, arg)\n",
    "plt.xlabel(\"r ($\\AA$)\")\n",
    "plt.show()\n",
    "\n",
    "plt.plot(d, arg *env)\n",
    "plt.xlabel(\"r ($\\AA$)\")\n",
    "\n",
    "plt.show()"
   ]
  },
  {
   "cell_type": "markdown",
   "metadata": {},
   "source": [
    "We can also get the layers directly from the module `DimeNetRadialBasis`:"
   ]
  },
  {
   "cell_type": "code",
   "execution_count": 11,
   "metadata": {},
   "outputs": [
    {
     "data": {
      "image/png": "[encoded data removed]",
      "text/plain": [
       "<Figure size 432x288 with 1 Axes>"
      ]
     },
     "metadata": {
      "needs_background": "light"
     },
     "output_type": "display_data"
    }
   ],
   "source": [
    "from nff.nn.layers import DimeNetRadialBasis, DimeNetSphericalBasis\n",
    "\n",
    "dime_rbf = DimeNetRadialBasis(n_rbf=n_rbf,\n",
    "                 cutoff=cutoff,\n",
    "                 envelope_p=envelope_p)\n",
    "out = dime_rbf(d)\n",
    "plt.plot(d, out.detach().numpy())\n",
    "plt.xlabel(\"r ($\\AA$)\")\n",
    "plt.show()"
   ]
  },
  {
   "cell_type": "markdown",
   "metadata": {},
   "source": [
    "Let's take a look at spherical basis functions, which we get from the `DimeNetSphericalBasis` module. First instantiate the module:"
   ]
  },
  {
   "cell_type": "code",
   "execution_count": 12,
   "metadata": {},
   "outputs": [],
   "source": [
    "n_spher = 4\n",
    "l_spher = 4\n",
    "dime_sbf = DimeNetSphericalBasis(l_spher=l_spher,\n",
    "                 n_spher=n_spher,\n",
    "                 cutoff=5.0,\n",
    "                 envelope_p=6)"
   ]
  },
  {
   "cell_type": "markdown",
   "metadata": {},
   "source": [
    "Then make an x-y grid, calculate the distances and angles at each point on the grid, get the radial and angular parts of the spherical basis functions, and plot their product:"
   ]
  },
  {
   "cell_type": "code",
   "execution_count": 13,
   "metadata": {},
   "outputs": [],
   "source": [
    "self = dime_sbf\n",
    "\n",
    "pos_x = torch.arange(0.05, self.cutoff * 1.2, 0.05)\n",
    "neg_x = torch.arange(-self.cutoff * 1.2, -0.05, 0.05)\n",
    "\n",
    "x = torch.cat([neg_x, pos_x])\n",
    "y = torch.cat([neg_x, pos_x])\n",
    "\n",
    "\n",
    "xv, yv = np.meshgrid(x, y)\n",
    "xv = torch.Tensor(xv)\n",
    "yv = torch.Tensor(yv)\n",
    "                     \n",
    "angles = torch.atan2(input=xv, other=yv)\n",
    "d = (xv ** 2 + yv ** 2) ** 0.5\n",
    "\n",
    "d_scaled = d / self.cutoff\n",
    "rbf = [f(d_scaled) for f in self.bessel_funcs]\n",
    "rbf = torch.stack(rbf, dim=1)\n",
    "\n",
    "u = self.envelope(d_scaled)\n",
    "cbf = [f(angles) for f in self.sph_funcs]\n",
    "cbf = torch.stack(cbf, dim=1)\n"
   ]
  },
  {
   "cell_type": "code",
   "execution_count": 14,
   "metadata": {},
   "outputs": [
    {
     "name": "stderr",
     "output_type": "stream",
     "text": [
      "/home/saxelrod/miniconda3/envs/nff/lib/python3.7/site-packages/ipykernel_launcher.py:15: MatplotlibDeprecationWarning: shading='flat' when X and Y have the same dimensions as C is deprecated since 3.3.  Either specify the corners of the quadrilaterals with X and Y, or pass shading='auto', 'nearest' or 'gouraud', or set rcParams['pcolor.shading'].  This will become an error two minor releases later.\n",
      "  from ipykernel import kernelapp as app\n"
     ]
    },
    {
     "data": {
      "image/png": "[encoded data removed]",
      "text/plain": [
       "<Figure size 864x432 with 4 Axes>"
      ]
     },
     "metadata": {
      "needs_background": "light"
     },
     "output_type": "display_data"
    },
    {
     "data": {
      "image/png": "[encoded data removed]",
      "text/plain": [
       "<Figure size 864x432 with 4 Axes>"
      ]
     },
     "metadata": {
      "needs_background": "light"
     },
     "output_type": "display_data"
    },
    {
     "data": {
      "image/png": "[encoded data removed]",
      "text/plain": [
       "<Figure size 864x432 with 4 Axes>"
      ]
     },
     "metadata": {
      "needs_background": "light"
     },
     "output_type": "display_data"
    },
    {
     "data": {
      "image/png": "[encoded data removed]",
      "text/plain": [
       "<Figure size 864x432 with 4 Axes>"
      ]
     },
     "metadata": {
      "needs_background": "light"
     },
     "output_type": "display_data"
    }
   ],
   "source": [
    "for l in range(l_spher):\n",
    "    totals = []\n",
    "    for n in range(n_spher):\n",
    "        total = cbf[:, l, :] * rbf[:, n, :] * u\n",
    "        mask = np.heaviside(cutoff - d, 0)\n",
    "        totals.append(total * mask)\n",
    "        \n",
    "    fig, ax_fig = plt.subplots(1, n_spher, figsize=(12, 6))\n",
    "\n",
    "    \n",
    "    for i, ax in enumerate(ax_fig):\n",
    "        z = -totals[i].numpy() \n",
    "        mesh = ax.pcolormesh(xv, yv, z, cmap='RdBu',\n",
    "                            vmin=-3,\n",
    "                            vmax=3)\n",
    "        ax.set_aspect(1)\n",
    "        "
   ]
  },
  {
   "cell_type": "code",
   "execution_count": null,
   "metadata": {},
   "outputs": [],
   "source": []
  }
 ],
 "metadata": {
  "kernelspec": {
   "display_name": "Python 3 (ipykernel)",
   "language": "python",
   "name": "python3"
  },
  "language_info": {
   "codemirror_mode": {
    "name": "ipython",
    "version": 3
   },
   "file_extension": ".py",
   "mimetype": "text/x-python",
   "name": "python",
   "nbconvert_exporter": "python",
   "pygments_lexer": "ipython3",
   "version": "3.9.12"
  }
 },
 "nbformat": 4,
 "nbformat_minor": 2
}
