{
 "cells": [
  {
   "cell_type": "code",
   "execution_count": 1,
   "metadata": {},
   "outputs": [],
   "source": [
    "%load_ext autoreload\n",
    "%autoreload 2"
   ]
  },
  {
   "cell_type": "markdown",
   "metadata": {},
   "source": [
    "# SpookyNet\n"
   ]
  },
  {
   "cell_type": "markdown",
   "metadata": {},
   "source": [
    "This tutorial gives an example of implementing the [SpookyNet architecture](https://arxiv.org/pdf/2105.00304.pdf). SpookyNet explicitly encodes charge and spin properties of the system. It allows the charge to be delocalized across the system by using an attention mechanism among all pairs of atoms in the system. The attention scales linearly with the system size, even though it incorporates $N^2$ interactions for N atoms. This is thanks to the [FAVOR+ algorithm](https://arxiv.org/pdf/2009.14794.pdf). Further, SpookyNet contains (optional) electrostatic terms that couple atomic partial charges, nuclear-nuclear repulsion terms, and D4 dispersion.\n",
    "\n",
    "First we import dependencies for the tutorial:"
   ]
  },
  {
   "cell_type": "code",
   "execution_count": 3,
   "metadata": {},
   "outputs": [
    {
     "ename": "ModuleNotFoundError",
     "evalue": "No module named 'prueba'",
     "output_type": "error",
     "traceback": [
      "\u001b[1;31m---------------------------------------------------------------------------\u001b[0m",
      "\u001b[1;31mModuleNotFoundError\u001b[0m                       Traceback (most recent call last)",
      "\u001b[1;32mc:\\Users\\fraja\\Documents\\prueba\\NeuralForceField\\tutorials\\12_spooky_net.ipynb Cell 4\u001b[0m in \u001b[0;36m<cell line: 1>\u001b[1;34m()\u001b[0m\n\u001b[1;32m----> <a href='vscode-notebook-cell:/c%3A/Users/fraja/Documents/prueba/NeuralForceField/tutorials/12_spooky_net.ipynb#X32sZmlsZQ%3D%3D?line=0'>1</a>\u001b[0m \u001b[39mfrom\u001b[39;00m \u001b[39mprueba\u001b[39;00m\u001b[39m.\u001b[39;00m\u001b[39mNeuralForceField\u001b[39;00m\u001b[39m.\u001b[39;00m\u001b[39mnff\u001b[39;00m\u001b[39m.\u001b[39;00m\u001b[39mdata\u001b[39;00m \u001b[39mimport\u001b[39;00m Dataset, split_train_validation_test, collate_dicts, to_tensor\n",
      "\u001b[1;31mModuleNotFoundError\u001b[0m: No module named 'prueba'"
     ]
    }
   ],
   "source": [
    "from prueba.NeuralForceField.nff.data import Dataset, split_train_validation_test, collate_dicts, to_tensor"
   ]
  },
  {
   "cell_type": "code",
   "execution_count": 2,
   "metadata": {
    "scrolled": true
   },
   "outputs": [],
   "source": [
    "import sys\n",
    "from pathlib import Path\n",
    "\n",
    "# change to your NFF path\n",
    "sys.path.insert(0, \"C:/Users/fraja/Documents/prueba/NeuralForceField\")\n",
    "\n",
    "import os\n",
    "import shutil\n",
    "import numpy as np\n",
    "import matplotlib.pyplot as plt\n",
    "import copy\n",
    "\n",
    "import torch\n",
    "from torch.optim import Adam\n",
    "from torch.utils.data import DataLoader\n",
    "from torch.utils.data.sampler import RandomSampler\n",
    "\n",
    "\n",
    "from prueba.NeuralForceField.nff.data import Dataset, split_train_validation_test, collate_dicts, to_tensor\n",
    "from  prueba.NeuralForceField.nff.train import Trainer, get_trainer, get_model, load_model, loss, hooks, metrics, evaluate"
   ]
  },
  {
   "cell_type": "markdown",
   "metadata": {},
   "source": [
    "In this tutorial we'll load a carbene chain dataset used as a benchmark in the SpookyNet paper. The dataset contains half C10H2 molecules and half C10H3+ molecules. When one end of the chain is protonated, the electronic structure along the whole chain is modified. \n",
    "\n",
    "When making a dataset with dipoles, make sure they're in units of e Angstroms, where e is the charge of the electron (the database dipoles are in units of Debye = 0.2081943 $eA$; when using the dataset export script `neuralnet/utils//dataset/dset_v2.py`, these are converted to $eA$). Here we only train on partial charges, not dipoles (see below), but training on dipoles is also an option for SpookyNet."
   ]
  },
  {
   "cell_type": "code",
   "execution_count": 3,
   "metadata": {},
   "outputs": [],
   "source": [
    "DEVICE = 3\n",
    "OUTDIR = './spooky'\n",
    "# batch size in the original paper\n",
    "BATCH_SIZE = 10\n",
    "# cutoff in original paper \n",
    "bohr_radius = 0.529\n",
    "r_cut = 10 * bohr_radius\n",
    "\n",
    "path = 'data/carbene_chain.pth.tar'\n",
    "dataset = Dataset.from_file(path)\n",
    "\n"
   ]
  },
  {
   "cell_type": "markdown",
   "metadata": {},
   "source": [
    "In addition to the usual neighbor list, we must also generate a neighbor list that has infinite cutoff (i.e. couples all pairs of atoms in each molecule) so that we can add the electrostatics terms. This neighbor list should be called `mol_nbrs`:"
   ]
  },
  {
   "cell_type": "code",
   "execution_count": 4,
   "metadata": {},
   "outputs": [],
   "source": [
    "_ = dataset.generate_neighbor_list(cutoff=r_cut,\n",
    "                                   key='nbr_list',\n",
    "                                   undirected=False,\n",
    "                                   offset_key='offsets')\n",
    "\n",
    "_ = dataset.generate_neighbor_list(cutoff=float('inf'),\n",
    "                                   key='mol_nbrs',\n",
    "                                   undirected=True,\n",
    "                                   offset_key='mol_offsets')"
   ]
  },
  {
   "cell_type": "markdown",
   "metadata": {},
   "source": [
    "Note also that this dataset has `charge` and `spin` as properties, which are necessary for SpookyNet:"
   ]
  },
  {
   "cell_type": "code",
   "execution_count": 5,
   "metadata": {
    "scrolled": true
   },
   "outputs": [
    {
     "data": {
      "text/plain": [
       "dict_keys(['nxyz', 'energy', 'energy_grad', 'q', 'spin', 'charge', 'num_atoms', 'nbr_list', 'offsets', 'mol_nbrs', 'mol_offsets'])"
      ]
     },
     "execution_count": 5,
     "metadata": {},
     "output_type": "execute_result"
    }
   ],
   "source": [
    "dataset.props.keys()"
   ]
  },
  {
   "cell_type": "markdown",
   "metadata": {},
   "source": [
    "Now we split the dataset:"
   ]
  },
  {
   "cell_type": "code",
   "execution_count": 6,
   "metadata": {},
   "outputs": [],
   "source": [
    "train, val, test = split_train_validation_test(dataset, \n",
    "                                               val_size=0.1, \n",
    "                                               test_size=0.01,\n",
    "                                               seed=0)"
   ]
  },
  {
   "cell_type": "markdown",
   "metadata": {},
   "source": [
    "Next we make the model. If you set `non_local=True`, make sure to install [PyTorch Performer](https://github.com/lucidrains/performer-pytorch), which computes attention in order N time for N atoms. This can be done with `pip install performer-pytorch`.\n",
    "\n"
   ]
  },
  {
   "cell_type": "code",
   "execution_count": 7,
   "metadata": {},
   "outputs": [],
   "source": [
    "modelparams = dict(\n",
    "        output_key='energy',\n",
    "        dip_key='dipole',\n",
    "        charge_key='q',\n",
    "        activation=\"swish\",\n",
    "        num_features=128, # Dimensions of feature space\n",
    "        num_basis_functions=16, # Number of radial basis functions.\n",
    "        num_modules=6, # Number of modules (iterations) for constructing atomic features.\n",
    "        num_residual_electron=1, # Number of residual blocks applied to features encoding the electronic \n",
    "                                 # state\n",
    "        num_residual_pre=1, # Number of residual blocks applied to atomic features in each module\n",
    "                            # (before other transformations)\n",
    "        num_residual_local_x=1, # Number of residual blocks (per module) applied to atomic features in \n",
    "                                # local interaction\n",
    "        num_residual_local_s=1, # Number of residual blocks (per module) applied to s-type interaction \n",
    "                                # featur esin local interaction\n",
    "        num_residual_local_p=1, # Number of residual blocks (per module) applied to p-type interaction \n",
    "                                # features in local interaction\n",
    "        num_residual_local_d=1, # Number of residual blocks (per module) applied to d-type interaction \n",
    "                                # features in local interaction\n",
    "        num_residual_local=1,\n",
    "        num_residual_nonlocal_q=1,\n",
    "        num_residual_nonlocal_k=1,\n",
    "        num_residual_nonlocal_v=1,\n",
    "        num_residual_post=1, # Number of residual blocks applied to atomic features after\n",
    "                             # interaction with neighbouring atoms (per module)\n",
    "        num_residual_output=1, # Number of residual blocks applied to atomic features in output\n",
    "                               # branch (per module)\n",
    "        basis_functions=\"exp-bernstein\", #  Kind of radial basis functions. Possible values:\n",
    "                                         # 'exp-bernstein': Exponential Bernstein polynomials.\n",
    "                                         # 'exp-gaussian': Exponential Gaussian functions.\n",
    "                                         # 'bernstein': Bernstein polynomials.\n",
    "                                         # 'gaussian': Gaussian functions.\n",
    "        exp_weighting=True, # Apply exponentially decaying weights to radial basis functions. Only\n",
    "                            # used when 'basis_functions' argument is 'exp-bernstein' or\n",
    "                            # 'exp-gaussian'. Probably has almost no effect unless the weights of\n",
    "                            # radial functions are regularized.\n",
    "        cutoff=r_cut, # Cutoff radius for (neural network) interactions.\n",
    "        lr_cutoff=None, # Cutoff radius for long-range interactions (no cutoff is applied when\n",
    "                        # this argument is None)\n",
    "        use_zbl_repulsion=True, # If True, short-range repulsion inspired by the ZBL repulsive\n",
    "                                # potential is applied to the energy prediction.\n",
    "        use_electrostatics=True, # If True, point-charge electrostatics for the predicted atomic\n",
    "                                 # partial charges is applied to the energy prediction\n",
    "        use_d4_dispersion=True, # If True, Grimme's D4 dispersion correction is applied to the energy\n",
    "                                # prediction\n",
    "        use_irreps=True, # For compatibility with older versions of the code\n",
    "        use_nonlinear_embedding=False, # For compatibility with older versions of the code\n",
    "        compute_d4_atomic=False, # If True, atomic polarizabilities and C6 coefficients in Grimme's D4\n",
    "                                 # dispersion correction are computed\n",
    "        module_keep_prob=1.0, # Probability of keeping the last module during training. Module\n",
    "                              # dropout can be a useful regularization that encourages\n",
    "                              # hierarchicacally decaying contributions to the atomic features.\n",
    "                              # Earlier modules are dropped with an automatically determined lower\n",
    "                              # probability. Should be between 0.0 and 1.0\n",
    "        load_from=None, # Load saved parameters from the given path instead of using random\n",
    "                        # initialization (when 'load_from' is None)\n",
    "        Zmax=87, # Maximum nuclear charge +1 of atoms. The default is 87, so all\n",
    "                 # elements up to Rn (Z=86) are supported. Can be kept at the default\n",
    "                 # value (has minimal memory impact). Note that Grimme's D4 dispersion\n",
    "                 # can only handle elements up to Rn (Z=86)\n",
    "        zero_init=True # Initialize parameters with zero whenever possible?\n",
    ")\n",
    "\n",
    "model = get_model(modelparams, model_type=\"RealSpookyNet\")\n",
    "\n",
    "# untrained model to test for equivariant/invariant outputs\n",
    "original_model = copy.deepcopy(model)"
   ]
  },
  {
   "cell_type": "markdown",
   "metadata": {},
   "source": [
    "Note that you should probably only use the D4 dispersion term if your ground truth quantum chemistry method contains dispersion"
   ]
  },
  {
   "cell_type": "code",
   "execution_count": 8,
   "metadata": {},
   "outputs": [],
   "source": [
    "if os.path.exists(OUTDIR):\n",
    "    newpath = os.path.join(os.path.dirname(OUTDIR), 'backup')\n",
    "    if os.path.exists(newpath):\n",
    "        shutil.rmtree(newpath)\n",
    "        \n",
    "    shutil.move(OUTDIR, newpath)"
   ]
  },
  {
   "cell_type": "markdown",
   "metadata": {},
   "source": [
    "Next we make the training splits, loaders, and trainer. A few notes:\n",
    "- In addition the normal force and energy loss terms, you can add a loss term for the dipole moment, so that the model can learn partial charges to reproduce the dipole. In addition or in place of this loss, you can add a loss term for partial charges. This dataset contains partial charges and not dipoles, so we use the latter.\n",
    "- Remember to use a random sampler for the train loader, because that makes a big difference in the results (at least for small datasets)\n"
   ]
  },
  {
   "cell_type": "code",
   "execution_count": 9,
   "metadata": {},
   "outputs": [],
   "source": [
    "from nff.utils.constants import BOHR_RADIUS, KCAL_TO_AU\n",
    "\n",
    "grad_conv = KCAL_TO_AU['energy'] * KCAL_TO_AU['_grad']\n",
    "en_conv = KCAL_TO_AU['energy']\n",
    "\n",
    "\n",
    "train_loader = DataLoader(train, \n",
    "                          batch_size=BATCH_SIZE, \n",
    "                          collate_fn=collate_dicts,\n",
    "                          sampler=RandomSampler(train))\n",
    "\n",
    "val_loader = DataLoader(val, \n",
    "                        batch_size=BATCH_SIZE, \n",
    "                        collate_fn=collate_dicts)\n",
    "\n",
    "test_loader = DataLoader(test, \n",
    "                         batch_size=BATCH_SIZE, \n",
    "                         collate_fn=collate_dicts)\n",
    "\n",
    "# loss coefficients in the original paper (the paper used AU so\n",
    "# we convert their 1/1/1 loss from atomic units). They also\n",
    "# use an RMSE loss\n",
    "\n",
    "loss_fn = loss.build_rmse_loss(loss_coef={'energy_grad': 1.0 * grad_conv, \n",
    "                                          'energy': 1.0 * en_conv,\n",
    "                                          'q': 1.0})\n",
    "\n",
    "trainable_params = filter(lambda p: p.requires_grad, model.parameters())\n",
    "# Loss rate in original paper was 1e-3 and they used amsgrad\n",
    "optimizer = Adam(trainable_params, \n",
    "                 lr=1e-3,\n",
    "                 amsgrad=True)\n",
    "\n",
    "\n",
    "train_metrics = [\n",
    "    metrics.MeanAbsoluteError('energy'),\n",
    "    metrics.MeanAbsoluteError('energy_grad'),\n",
    "\n",
    "]\n",
    "\n",
    "\n",
    "train_hooks = [\n",
    "    hooks.MaxEpochHook(5000),\n",
    "    hooks.CSVHook(\n",
    "        OUTDIR,\n",
    "        metrics=train_metrics,\n",
    "    ),\n",
    "    hooks.PrintingHook(\n",
    "        OUTDIR,\n",
    "        metrics=train_metrics,\n",
    "        separator = ' | ',\n",
    "        time_strf='%M:%S'\n",
    "    ),\n",
    "    hooks.ReduceLROnPlateauHook(\n",
    "        optimizer=optimizer,\n",
    "        patience=25,\n",
    "        factor=0.5,\n",
    "        min_lr=1e-5,\n",
    "        window_length=1,\n",
    "        stop_after_min=True\n",
    "    )\n",
    "]\n",
    "\n",
    "T = Trainer(\n",
    "    model_path=OUTDIR,\n",
    "    model=model,\n",
    "    loss_fn=loss_fn,\n",
    "    optimizer=optimizer,\n",
    "    train_loader=train_loader,\n",
    "    validation_loader=val_loader,\n",
    "    checkpoint_interval=1,\n",
    "    hooks=train_hooks,\n",
    "    mini_batches=1\n",
    ")"
   ]
  },
  {
   "cell_type": "code",
   "execution_count": 10,
   "metadata": {
    "scrolled": false
   },
   "outputs": [
    {
     "name": "stdout",
     "output_type": "stream",
     "text": [
      " Time | Epoch | Learning rate | Train loss | Validation loss | MAE_energy | MAE_energy_grad | GPU Memory (MB)\n"
     ]
    },
    {
     "name": "stderr",
     "output_type": "stream",
     "text": [
      "100%|█████████▉| 891/892 [04:03<00:00,  3.66it/s]\n"
     ]
    },
    {
     "name": "stdout",
     "output_type": "stream",
     "text": [
      "55:00 |     1 |     1.000e-03 |     0.0586 |          0.0357 |     8.4529 |         16.6785 |               0\n"
     ]
    },
    {
     "name": "stderr",
     "output_type": "stream",
     "text": [
      "100%|█████████▉| 891/892 [04:14<00:00,  3.50it/s]\n"
     ]
    },
    {
     "name": "stdout",
     "output_type": "stream",
     "text": [
      "59:22 |     2 |     1.000e-03 |     0.0351 |          0.0329 |     9.1121 |         16.3530 |               0\n"
     ]
    },
    {
     "name": "stderr",
     "output_type": "stream",
     "text": [
      "100%|█████████▉| 891/892 [04:18<00:00,  3.45it/s]\n"
     ]
    },
    {
     "name": "stdout",
     "output_type": "stream",
     "text": [
      "03:49 |     3 |     1.000e-03 |     0.6084 |          0.0468 |    14.1126 |         16.7964 |               0\n"
     ]
    },
    {
     "name": "stderr",
     "output_type": "stream",
     "text": [
      "100%|█████████▉| 891/892 [04:10<00:00,  3.56it/s]\n"
     ]
    },
    {
     "name": "stdout",
     "output_type": "stream",
     "text": [
      "08:07 |     4 |     1.000e-03 |     0.0405 |          0.0365 |    10.9211 |         16.4510 |               0\n"
     ]
    },
    {
     "name": "stderr",
     "output_type": "stream",
     "text": [
      "100%|█████████▉| 891/892 [04:16<00:00,  3.48it/s]\n"
     ]
    },
    {
     "name": "stdout",
     "output_type": "stream",
     "text": [
      "12:30 |     5 |     1.000e-03 |     0.0319 |          0.0294 |     6.9169 |         16.3242 |               0\n"
     ]
    }
   ],
   "source": [
    "T.train(device=DEVICE, n_epochs=5)\n"
   ]
  },
  {
   "cell_type": "markdown",
   "metadata": {},
   "source": [
    "#### The reported accuracy in the paper was:\n",
    "- Energy: 0.10 kcal/mol\n",
    "- Forces: 0.13 kcal/mol/A\n",
    "- Charges: 0.00012 $e$\n",
    "\n",
    "#### The previous best results from 4G-BPNN were:\n",
    "- Energy: 0.34 kcal/mol\n",
    "- Forces: 1.8 kcal/mol/A \n",
    "- Charges: 0.0066 $e$\n",
    "\n",
    "If you continue training until convergence you should get the same as in the SpookyNet paper! For now we'll just plot what we got after a few epochs:"
   ]
  },
  {
   "cell_type": "code",
   "execution_count": 12,
   "metadata": {
    "scrolled": false
   },
   "outputs": [
    {
     "name": "stderr",
     "output_type": "stream",
     "text": [
      "100%|██████████| 101/101 [00:07<00:00, 14.07it/s]\n"
     ]
    },
    {
     "data": {
      "image/png": "[encoded data removed]",
      "text/plain": [
       "<Figure size 864x864 with 4 Axes>"
      ]
     },
     "metadata": {
      "needs_background": "light"
     },
     "output_type": "display_data"
    }
   ],
   "source": [
    "from sklearn.metrics import r2_score\n",
    "\n",
    "best_model = load_model(OUTDIR, modelparams, 'RealSpookyNet')\n",
    "results, targets, val_loss = evaluate(best_model,\n",
    "                                      val_loader, \n",
    "                                      loss_fn, \n",
    "                                      device=DEVICE)\n",
    "\n",
    "units = {\n",
    "    'energy': 'kcal/mol',\n",
    "    'energy_grad': r'kcal/mol/$\\AA$',\n",
    "    'q': '$e$'\n",
    "}\n",
    "\n",
    "fig, ax_figs = plt.subplots(2, 2, figsize=(12, 12))\n",
    "all_units = list(units.keys())\n",
    "\n",
    "for i, ax_fig in enumerate(ax_figs):\n",
    "    \n",
    "    keys = all_units[i * 2: i * 2 + 2]\n",
    "    \n",
    "    for ax, key in zip(ax_fig, keys):\n",
    "        pred_fn = torch.cat\n",
    "        targ_fn = torch.cat\n",
    "        if all([len(i.shape) == 0 for i in results[key]]):\n",
    "            pred_fn = torch.stack\n",
    "        if all([len(i.shape) == 0 for i in targets[key]]):\n",
    "            targ_fn = torch.stack\n",
    "\n",
    "        pred = pred_fn(results[key], dim=0).view(-1).detach().cpu().numpy()\n",
    "        targ = targ_fn(targets[key], dim=0).view(-1).detach().cpu().numpy()\n",
    "\n",
    "        mae = abs(pred-targ).mean()\n",
    "\n",
    "        ax.hexbin(pred, targ, mincnt=1)\n",
    "\n",
    "        lim_min = min(np.min(pred), np.min(targ)) * 1.1\n",
    "        lim_max = max(np.max(pred), np.max(targ)) * 1.1\n",
    "\n",
    "        ax.set_xlim(lim_min, lim_max)\n",
    "        ax.set_ylim(lim_min, lim_max)\n",
    "        ax.set_aspect('equal')\n",
    "\n",
    "        ax.plot((lim_min, lim_max),\n",
    "                (lim_min, lim_max),\n",
    "                color='#000000',\n",
    "                zorder=-1,\n",
    "                linewidth=0.5)\n",
    "    \n",
    "        r2 = r2_score(pred, targ)\n",
    "        \n",
    "        ax.set_title(key.upper(), fontsize=14)\n",
    "        ax.set_xlabel('predicted %s (%s)' % (key, units[key]), fontsize=12)\n",
    "        ax.set_ylabel('target %s (%s)' % (key, units[key]), fontsize=12)\n",
    "        ax.text(0.1, 0.9, 'MAE: %.3f %s' % (mae, units[key]), \n",
    "               transform=ax.transAxes, fontsize=14)\n",
    "        ax.text(0.1, 0.8, '$R^2=%.3f$' % r2, \n",
    "               transform=ax.transAxes, fontsize=14)\n",
    "    \n",
    "plt.show()"
   ]
  },
  {
   "cell_type": "markdown",
   "metadata": {},
   "source": [
    "\n"
   ]
  },
  {
   "cell_type": "code",
   "execution_count": null,
   "metadata": {},
   "outputs": [],
   "source": []
  }
 ],
 "metadata": {
  "kernelspec": {
   "display_name": "tesis",
   "language": "python",
   "name": "python3"
  },
  "language_info": {
   "codemirror_mode": {
    "name": "ipython",
    "version": 3
   },
   "file_extension": ".py",
   "mimetype": "text/x-python",
   "name": "python",
   "nbconvert_exporter": "python",
   "pygments_lexer": "ipython3",
   "version": "3.8.13"
  },
  "vscode": {
   "interpreter": {
    "hash": "636d9dbd09f343db93f690d00eb847b13aa0ab781b5253ac04c0ea6aaadbb194"
   }
  }
 },
 "nbformat": 4,
 "nbformat_minor": 2
}
