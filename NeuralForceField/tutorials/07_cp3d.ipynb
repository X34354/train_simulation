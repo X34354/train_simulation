{
 "cells": [
  {
   "cell_type": "markdown",
   "metadata": {},
   "source": [
    "# Property predictions using 3D conformer geometries\n",
    "\n",
    "This tutorial takes you through 3D-based property predictions. The `README` in `cp3d/scripts` gives an in-depth description of how to run the necessary scripts, while this tutorial is more focused on exploring what goes on behind the scripts."
   ]
  },
  {
   "cell_type": "markdown",
   "metadata": {},
   "source": [
    "#### Some preliminaries\n",
    "Automatically reload any changes made to files:"
   ]
  },
  {
   "cell_type": "code",
   "execution_count": 1,
   "metadata": {},
   "outputs": [],
   "source": [
    "%load_ext autoreload\n",
    "%autoreload 2"
   ]
  },
  {
   "cell_type": "markdown",
   "metadata": {},
   "source": [
    "Make sure that `nff` is in your path:"
   ]
  },
  {
   "cell_type": "code",
   "execution_count": 2,
   "metadata": {},
   "outputs": [],
   "source": [
    "import sys\n",
    "\n",
    "sys.path.insert(0, \"..\")\n",
    "sys.path.insert(0, \"../..\")"
   ]
  },
  {
   "cell_type": "markdown",
   "metadata": {},
   "source": [
    "# Making a dataset"
   ]
  },
  {
   "cell_type": "markdown",
   "metadata": {},
   "source": [
    "To make a dataset we'll need two things. First, we need a folder consisting of pickle files, one for each species. Second we'll need a `JSON` file that summarizes the information about each of the species. If you only have SMILES strings and properties and you need to generate 3D structures, please see the section \"Generating 3D structures\" in `scripts/cp3d/README.md`. \n",
    "\n",
    "This tutorial will use the `GEOM` dataset as an example. To follow along, download the file `rdkit_folder.tar.gz` from [this page](https://dataverse.harvard.edu/file.xhtml?fileId=4327252&version=2.0). Untar the file by running\n",
    "```\n",
    "tar -xzvf rdkit_folder.tar.gz\n",
    "```\n",
    "in the command line. This should generate a folder called rdkit_folder. We'll start by getting familiar with the contents of this folder.\n",
    "\n"
   ]
  },
  {
   "cell_type": "markdown",
   "metadata": {},
   "source": [
    "## Getting acquainted with the pickle folder"
   ]
  },
  {
   "cell_type": "markdown",
   "metadata": {},
   "source": [
    "We'll define `pickle_folder` as the full path to this RDKit folder, and `summary_path` as the full path to the summary file:\n",
    "\n"
   ]
  },
  {
   "cell_type": "code",
   "execution_count": 3,
   "metadata": {},
   "outputs": [],
   "source": [
    "import os\n",
    "\n",
    "# change to wherever you have downloaded the zip file\n",
    "directory = \"/home/saxelrod/rgb_nfs/GEOM_DATA_ROUND_2\"\n",
    "\n",
    "rd_folder = os.path.join(directory, \"rdkit_folder\")\n",
    "summary_path = os.path.join(rd_folder, \"summary_drugs.json\")"
   ]
  },
  {
   "cell_type": "markdown",
   "metadata": {},
   "source": [
    "You can find more information about the structure of the GEOM dataset and loading the files [here](https://github.com/learningmatter-mit/geom). For now we'll take a quick look at the summary file and a sample pickle file.\n",
    "\n",
    "First we'll load the summary dictionary:"
   ]
  },
  {
   "cell_type": "code",
   "execution_count": 4,
   "metadata": {},
   "outputs": [],
   "source": [
    "import json\n",
    "with open(summary_path, \"r\") as f:\n",
    "    summary = json.load(f)"
   ]
  },
  {
   "cell_type": "markdown",
   "metadata": {},
   "source": [
    "Now let's look at a sample SMILES string:"
   ]
  },
  {
   "cell_type": "code",
   "execution_count": 5,
   "metadata": {},
   "outputs": [
    {
     "name": "stdout",
     "output_type": "stream",
     "text": [
      "CC(=O)N1CCN(C(=O)CCl)CC1\n"
     ]
    },
    {
     "data": {
      "text/plain": [
       "{'charge': 0,\n",
       " 'datasets': ['mpro_xchem'],\n",
       " 'ensembleenergy': 0.224,\n",
       " 'ensembleentropy': 5.131,\n",
       " 'ensemblefreeenergy': -1.53,\n",
       " 'lowestenergy': -42.33811,\n",
       " 'pickle_path': 'drugs/CC(=O)N1CCN(C(=O)CCl)CC1.pickle',\n",
       " 'poplowestpct': 66.181,\n",
       " 'sars_cov_two_cl_protease_active': 1,\n",
       " 'temperature': 298.15,\n",
       " 'totalconfs': 67,\n",
       " 'uniqueconfs': 16}"
      ]
     },
     "execution_count": 5,
     "metadata": {},
     "output_type": "execute_result"
    }
   ],
   "source": [
    "smiles = list(summary.keys())[10078]\n",
    "print(smiles)\n",
    "dic = summary[smiles]\n",
    "dic"
   ]
  },
  {
   "cell_type": "markdown",
   "metadata": {},
   "source": [
    "Say we want to create a dataset for a set of species with the known property `sars_cov_two_cl_protease_active`. Then the most important two things in this dictionary are the value of `sars_cov_two_cl_protease_active`, and the key `pickle_path`, which tells us where to find the associated pickle file with 3D conformer information.\n",
    "\n",
    "Let's load the associated pickle file and take a look at it:"
   ]
  },
  {
   "cell_type": "code",
   "execution_count": 6,
   "metadata": {},
   "outputs": [],
   "source": [
    "import pickle\n",
    "\n",
    "pickle_path = os.path.join(rd_folder, dic['pickle_path'])\n",
    "with open(pickle_path, \"rb\") as f:\n",
    "    conf_dic = pickle.load(f)"
   ]
  },
  {
   "cell_type": "markdown",
   "metadata": {},
   "source": [
    "The key `conformers` gives a list of dictionaries, one for each conformer. The most important part of that dictionary is `rd_mol`, an RDKit `mol` object. This `mol` object contains 3D information as well as bond information. It will allow us to create our dataset for training."
   ]
  },
  {
   "cell_type": "code",
   "execution_count": 7,
   "metadata": {
    "scrolled": true
   },
   "outputs": [
    {
     "data": {
      "text/plain": [
       "{'geom_id': 133329555,\n",
       " 'set': 4,\n",
       " 'degeneracy': 6,\n",
       " 'totalenergy': -42.33411442,\n",
       " 'relativeenergy': 2.505,\n",
       " 'boltzmannweight': 0.00968,\n",
       " 'conformerweights': [0.00161, 0.00161, 0.00161, 0.00161, 0.00161, 0.00161],\n",
       " 'rd_mol': <rdkit.Chem.rdchem.Mol at 0x7f9dd9dce770>}"
      ]
     },
     "metadata": {},
     "output_type": "display_data"
    },
    {
     "name": "stdout",
     "output_type": "stream",
     "text": [
      "Statistical weight: 9.68e-03\n"
     ]
    },
    {
     "data": {
      "image/png": "[encoded data removed]",
      "text/plain": [
       "<PIL.PngImagePlugin.PngImageFile image mode=RGB size=600x200 at 0x7F9D94AA8E50>"
      ]
     },
     "metadata": {},
     "output_type": "display_data"
    },
    {
     "name": "stdout",
     "output_type": "stream",
     "text": [
      "Statistical weight: 7.07e-03\n"
     ]
    },
    {
     "data": {
      "image/png": "[encoded data removed]",
      "text/plain": [
       "<PIL.PngImagePlugin.PngImageFile image mode=RGB size=600x200 at 0x7F9D943FD190>"
      ]
     },
     "metadata": {},
     "output_type": "display_data"
    },
    {
     "name": "stdout",
     "output_type": "stream",
     "text": [
      "Statistical weight: 2.42e-03\n"
     ]
    },
    {
     "data": {
      "image/png": "[encoded data removed]",
      "text/plain": [
       "<PIL.PngImagePlugin.PngImageFile image mode=RGB size=600x200 at 0x7F9D97D07350>"
      ]
     },
     "metadata": {},
     "output_type": "display_data"
    },
    {
     "name": "stdout",
     "output_type": "stream",
     "text": [
      "Statistical weight: 7.20e-04\n"
     ]
    },
    {
     "data": {
      "image/png": "[encoded data removed]",
      "text/plain": [
       "<PIL.PngImagePlugin.PngImageFile image mode=RGB size=600x200 at 0x7F9D97D07690>"
      ]
     },
     "metadata": {},
     "output_type": "display_data"
    },
    {
     "name": "stdout",
     "output_type": "stream",
     "text": [
      "Statistical weight: 2.40e-04\n"
     ]
    },
    {
     "data": {
      "image/png": "[encoded data removed]",
      "text/plain": [
       "<PIL.PngImagePlugin.PngImageFile image mode=RGB size=600x200 at 0x7F9D94405090>"
      ]
     },
     "metadata": {},
     "output_type": "display_data"
    },
    {
     "name": "stdout",
     "output_type": "stream",
     "text": [
      "Statistical weight: 1.70e-04\n"
     ]
    },
    {
     "data": {
      "image/png": "[encoded data removed]",
      "text/plain": [
       "<PIL.PngImagePlugin.PngImageFile image mode=RGB size=600x200 at 0x7F9D944050D0>"
      ]
     },
     "metadata": {},
     "output_type": "display_data"
    },
    {
     "name": "stdout",
     "output_type": "stream",
     "text": [
      "Statistical weight: 1.60e-04\n"
     ]
    },
    {
     "data": {
      "image/png": "[encoded data removed]",
      "text/plain": [
       "<PIL.PngImagePlugin.PngImageFile image mode=RGB size=600x200 at 0x7F9D94AA8E50>"
      ]
     },
     "metadata": {},
     "output_type": "display_data"
    },
    {
     "name": "stdout",
     "output_type": "stream",
     "text": [
      "Statistical weight: 4.00e-05\n"
     ]
    },
    {
     "data": {
      "image/png": "[encoded data removed]",
      "text/plain": [
       "<PIL.PngImagePlugin.PngImageFile image mode=RGB size=600x200 at 0x7F9D94405250>"
      ]
     },
     "metadata": {},
     "output_type": "display_data"
    },
    {
     "name": "stdout",
     "output_type": "stream",
     "text": [
      "Statistical weight: 2.00e-05\n"
     ]
    },
    {
     "data": {
      "image/png": "[encoded data removed]",
      "text/plain": [
       "<PIL.PngImagePlugin.PngImageFile image mode=RGB size=600x200 at 0x7F9D94405250>"
      ]
     },
     "metadata": {},
     "output_type": "display_data"
    },
    {
     "name": "stdout",
     "output_type": "stream",
     "text": [
      "Statistical weight: 8.00e-05\n"
     ]
    },
    {
     "data": {
      "image/png": "[encoded data removed]",
      "text/plain": [
       "<PIL.PngImagePlugin.PngImageFile image mode=RGB size=600x200 at 0x7F9D97D07350>"
      ]
     },
     "metadata": {},
     "output_type": "display_data"
    },
    {
     "name": "stdout",
     "output_type": "stream",
     "text": [
      "Statistical weight: 2.00e-05\n"
     ]
    },
    {
     "data": {
      "image/png": "[encoded data removed]",
      "text/plain": [
       "<PIL.PngImagePlugin.PngImageFile image mode=RGB size=600x200 at 0x7F9D943EE150>"
      ]
     },
     "metadata": {},
     "output_type": "display_data"
    },
    {
     "name": "stdout",
     "output_type": "stream",
     "text": [
      "Statistical weight: 5.00e-05\n"
     ]
    },
    {
     "data": {
      "image/png": "[encoded data removed]",
      "text/plain": [
       "<PIL.PngImagePlugin.PngImageFile image mode=RGB size=600x200 at 0x7F9D97D071D0>"
      ]
     },
     "metadata": {},
     "output_type": "display_data"
    },
    {
     "name": "stdout",
     "output_type": "stream",
     "text": [
      "Statistical weight: 5.00e-05\n"
     ]
    },
    {
     "data": {
      "image/png": "[encoded data removed]",
      "text/plain": [
       "<PIL.PngImagePlugin.PngImageFile image mode=RGB size=600x200 at 0x7F9D97CF8110>"
      ]
     },
     "metadata": {},
     "output_type": "display_data"
    },
    {
     "name": "stdout",
     "output_type": "stream",
     "text": [
      "Statistical weight: 6.62e-01\n"
     ]
    },
    {
     "data": {
      "image/png": "[encoded data removed]",
      "text/plain": [
       "<PIL.PngImagePlugin.PngImageFile image mode=RGB size=600x200 at 0x7F9D97D025D0>"
      ]
     },
     "metadata": {},
     "output_type": "display_data"
    },
    {
     "name": "stdout",
     "output_type": "stream",
     "text": [
      "Statistical weight: 3.07e-01\n"
     ]
    },
    {
     "data": {
      "image/png": "[encoded data removed]",
      "text/plain": [
       "<PIL.PngImagePlugin.PngImageFile image mode=RGB size=600x200 at 0x7F9D97CF8110>"
      ]
     },
     "metadata": {},
     "output_type": "display_data"
    },
    {
     "name": "stdout",
     "output_type": "stream",
     "text": [
      "Statistical weight: 1.08e-02\n"
     ]
    },
    {
     "data": {
      "image/png": "[encoded data removed]",
      "text/plain": [
       "<PIL.PngImagePlugin.PngImageFile image mode=RGB size=600x200 at 0x7F9D97D07690>"
      ]
     },
     "metadata": {},
     "output_type": "display_data"
    }
   ],
   "source": [
    "from rdkit.Chem.Draw import MolsToGridImage\n",
    "\n",
    "display(conf_dic[\"conformers\"][0])\n",
    "for conf in conf_dic[\"conformers\"]:\n",
    "    weight = conf[\"boltzmannweight\"]\n",
    "    print(\"Statistical weight: %.2e\" % weight)\n",
    "    display(MolsToGridImage([conf[\"rd_mol\"]]))"
   ]
  },
  {
   "cell_type": "markdown",
   "metadata": {},
   "source": [
    "## Generating training splits"
   ]
  },
  {
   "cell_type": "markdown",
   "metadata": {},
   "source": [
    "Now that we have a pickle folder with pickle files and a summary, let's navigate to `scripts/cp3d/make_dset/splits` to generate training splits. \n",
    "\n",
    "First we'll want to modify the config file. Here we use `config/cov_2_3cl_test.json`. A detailed description of the keys can be found in the `README` file. The most important things for us are `summary_path`, which we've located, `csv_folder`, the folder in which we want to save our splits, and `props`, the properties we'll want to predict (`sars_cov_two_cl_protease_active` for us).\n",
    "\n",
    "Now let's run the script itself:\n",
    "```\n",
    "cd ../scripts/cp3d/make_dset/splits\n",
    "bash split.sh\n",
    "```\n",
    "\n",
    "Your output should look something like this:\n",
    "\n",
    "```\n",
    "python split.py --config_file config/cov_2_cl_test.json\n",
    "100%|███████████████████████████████████████████████████████████| 816/816 [00:00<00:00, 11735.74it/s]\n",
    "100%|███████████████████████████████████████████████████████████| 816/816 [00:00<00:00, 332254.35it/s]\n",
    "100%|███████████████████████████████████████████████████████████| 816/816 [00:00<00:00, 8500.55it/s]\n",
    "Splits saved in /home/saxelrod/rgb_nfs/models/cov_2_cl\n",
    "Train files: train_smiles.csv and train_full.csv (489 species, 51 positives)\n",
    "Validation files: val_smiles.csv and val_full.csv (163 species, 15 positives) \n",
    "Test files: test_smiles.csv and test_full.csv (164 species, 12 positives)\n",
    "Combined file: all.csv (816 species, 78 positives)\n",
    "```\n",
    "\n",
    "We see that the script has generated CSV files with dataset splits for us, finding a total of 816 species with the property we want, including 78 hits. In this example we've used a scaffold split, so that the different sets do not have molecules that share a scaffold. We can see that the files are saved in `/home/saxelrod/rgb_nfs/models/cov_2_cl`:"
   ]
  },
  {
   "cell_type": "code",
   "execution_count": 8,
   "metadata": {},
   "outputs": [
    {
     "data": {
      "text/plain": [
       "['all.csv',\n",
       " 'train_smiles.csv',\n",
       " 'val_smiles.csv',\n",
       " 'test_smiles.csv',\n",
       " 'train_full.csv',\n",
       " 'val_full.csv',\n",
       " 'test_full.csv',\n",
       " '0',\n",
       " '1']"
      ]
     },
     "execution_count": 8,
     "metadata": {},
     "output_type": "execute_result"
    }
   ],
   "source": [
    "# change to your folder\n",
    "csv_folder = \"/home/saxelrod/rgb_nfs/models/cov_2_cl\"\n",
    "os.listdir(csv_folder)"
   ]
  },
  {
   "cell_type": "markdown",
   "metadata": {},
   "source": [
    "## Creating the dataset from the pickle files and the splits"
   ]
  },
  {
   "cell_type": "markdown",
   "metadata": {},
   "source": [
    "Now that we've created splits, we can use the splits together with the pickle files to generate a dataset. To do so, we run\n",
    "\n",
    "```\n",
    "cd ../scripts/cp3d/make_dset/get_dset\n",
    "bash dset_from_pickles.sh\n",
    "```\n",
    "\n",
    "on the command line. The details for this job are in `config/cov_2_3cl_test.json `, and are described in detail in the `README`. Here we choose to save the dataset in two chunks. Running the script should give something like this:\n",
    "\n",
    "```\n",
    "100%|█████████████████████████████████████████| 408/408 [00:04<00:00, 88.06it/s]\n",
    "Converting data...\n",
    "100%|█████████████████████████████████████████| 408/408 [00:02<00:00, 167.46it/s]\n",
    "Combining to make NFF dataset...\n",
    "Making dataset with 408 species\n",
    "100%|██████████████████████████████████████████| 408/408 [00:05<00:00, 81.59it/s]\n",
    "Featurizing dataset with 40 parallel processes.\n",
    "Featurizing bonds...\n",
    "100%|██████████████████████████████████████████| 11/11 [00:00<00:00, 12.44it/s]\n",
    "Featurizing atoms...\n",
    "100%|██████████████████████████████████████████| 11/11 [00:01<00:00,  6.21it/s]\n",
    "Cleaning up dataset...\n",
    "100%|██████████████████████████████████████████| 408/408 [00:03<00:00, 126.90it/s]\n",
    "100%|██████████████████████████████████████████| 408/408 [00:00<00:00, 2977.52it/s]\n",
    " 50%|██████████████████████████████████████████| 2/4 [00:03<00:04,  2.29s/it]\n",
    " Adding bond indices with 1 parallel processes\n",
    "100%|██████████████████████████████████████████| 408/408 [00:16<00:00, 24.99it/s]\n",
    " 75%|██████████████████████████████████████████| 3/4 [00:19<00:06,  6.54s/it]\n",
    " Adding kj and ji indices with 1 parallel processes\n",
    "100%|██████████████████████████████████████████| 408/408 [01:04<00:00,  6.34it/s]\n",
    "100%|██████████████████████████████████████████| 4/4 [01:24<00:00, 21.09s/it]\n",
    "0it [00:00, ?it/s]\n",
    "Creating test/train/val splits...\n",
    "Saving...\n",
    "Complete! Saved section 0 of the dataset in /home/saxelrod/rgb_nfs/models/cov_2_cl/0.\n",
    "\n",
    "\n",
    "python dset_from_pickles.py --thread 1 --config_file dset_config.json\n",
    "Loading splits...\n",
    "Loading data from pickle files...\n",
    "\n",
    "100%|████████████████████████████████████████████| 408/408 [00:04<00:00, 90.78it/s]\n",
    "Converting data...\n",
    "100%|████████████████████████████████████████████| 408/408 [00:01<00:00, 212.17it/s]\n",
    "Combining to make NFF dataset...\n",
    "Making dataset with 408 species\n",
    "100%|████████████████████████████████████████████| 408/408 [00:04<00:00, 83.91it/s]\n",
    "Featurizing dataset with 40 parallel processes.\n",
    "Featurizing bonds...\n",
    "100%|████████████████████████████████████████████| 11/11 [00:01<00:00,  9.97it/s]\n",
    "Featurizing atoms...\n",
    "100%|████████████████████████████████████████████| 11/11 [00:02<00:00,  5.34it/s]\n",
    "Cleaning up dataset...\n",
    "100%|████████████████████████████████████████████| 408/408 [00:03<00:00, 132.34it/s]\n",
    "100%|████████████████████████████████████████████| 407/407 [00:00<00:00, 3141.59it/s]\n",
    " 50%|████████████████████████████████████████████| 2/4 [00:03<00:04,  2.20s/it]\n",
    " Adding bond indices with 1 parallel processes\n",
    "100%|████████████████████████████████████████████| 407/407 [00:14<00:00, 27.61it/s]\n",
    " 75%|████████████████████████████████████████████| 3/4 [00:18<00:05,  6.00s/it]\n",
    " Adding kj and ji indices with 1 parallel processes\n",
    "100%|████████████████████████████████████████████| 407/407 [00:59<00:00,  6.83it/s]\n",
    "100%|████████████████████████████████████████████| 4/4 [01:17<00:00, 19.46s/it]\n",
    "WARNING: the original SMILES splits have been re-saved with 407 species, reduced from the original 408, because only 407 species made it into the final dataset. This could be because of conformers with bond lengths greater than the cutoff distance of 5.00, or because the conformers of certain species didn't all have the same SMILES string.\n",
    "0it [00:00, ?it/s]\n",
    "Creating test/train/val splits...\n",
    "Saving...\n",
    "Complete! Saved section 1 of the dataset in /home/saxelrod/rgb_nfs/models/cov_2_cl/1.\n",
    "\n",
    "```\n"
   ]
  },
  {
   "cell_type": "markdown",
   "metadata": {},
   "source": [
    "A few notes:\n",
    "\n",
    "1. In the config file we chose to make the features with 40 parallel processes. This works for a small dataset, but for bigger datasets like CoV 3CL, this inexplicably fails. The feature generation either hangs indefinitely or fails with the error `OSError: [Errno 24] Too many open files`. I haven't been able to figure out why yet, but if you're making a big dataset you may have to just use one process.\n",
    "\n",
    "2. In the config file we set `strict_conformers` to `true`, which means the dataset excludes any species for which the conformers don't all have the same graph. The script also modifies the CSV files to remove these species. This way we can train a 2D model with the CSV files and know that we're using the same species as in the 3D models.\n",
    "\n",
    "3. Making the dataset is pretty quick for our small dataset with only 816 species. But for a big dataset (e.g. for SARS-CoV, which has 289,000 species), it can take much longer. We recommend running the script in `tmux` so that it can go on in the background, or submitting it as a job on a cluster. The slowest part of this job is adding the edge indices (`kj` and `ji` indices). See more details about this in the `scripts/README.md` file. This saves a significant amount of memory for ChemProp3D models, but also takes up a huge amount of disk space and slows down dataset generation. It will take up WAY to much disk space for the CoV 3CL dataset, so you probably won't be able to do it (we didn't do it either).\n"
   ]
  },
  {
   "cell_type": "markdown",
   "metadata": {},
   "source": [
    "The datasets are saved in the folder `dataset_folder` specified in the config file. Let's see what these folders look like:"
   ]
  },
  {
   "cell_type": "markdown",
   "metadata": {},
   "source": [
    "![alt text](dset_folder.png \"Title\")"
   ]
  },
  {
   "cell_type": "markdown",
   "metadata": {},
   "source": [
    "We see that two folders have been created, one for each dataset split. Each folder contains its own training, validation, and test splits. This division of datasets is useful if the dataset is too large to be loaded into memory on its own (this is the case with the SARS-CoV dataset). \n",
    "\n",
    "If you save the dataset into `N` separate folders, then when you train over `M` different GPUs, it will load data from the first `M` folders. That means that if you separate it into 4 folders and train over 4 GPUs, you will be training on the whole dataset. But if you divide it into 8 folders and train on 4 GPUs, you will only be training on half the dataset. Finally, if you don't divide the dataset, and store it in `<model_path>` (rather than `<model_path/0>`, you can train on as many GPUs as you want."
   ]
  },
  {
   "cell_type": "markdown",
   "metadata": {},
   "source": [
    "## Getting acquainted with the dataset"
   ]
  },
  {
   "cell_type": "markdown",
   "metadata": {},
   "source": [
    "Now that we have our datasets, let's see what they actually look like and what they can do. First let's load one: "
   ]
  },
  {
   "cell_type": "code",
   "execution_count": 9,
   "metadata": {},
   "outputs": [],
   "source": [
    "from nff.data import Dataset\n",
    "\n",
    "# change to your folder\n",
    "dset_folder = \"/home/saxelrod/rgb_nfs/models/cov_2_cl\"\n",
    "\n",
    "train_0_path = os.path.join(dset_folder, \"0/train.pth.tar\")\n",
    "train_0 = Dataset.from_file(train_0_path)"
   ]
  },
  {
   "cell_type": "markdown",
   "metadata": {},
   "source": [
    "The defining attribute of a dataset is `props`, its dictionary of properties:"
   ]
  },
  {
   "cell_type": "code",
   "execution_count": 10,
   "metadata": {},
   "outputs": [
    {
     "data": {
      "text/plain": [
       "dict_keys(['nxyz', 'num_atoms', 'uniqueconfs', 'pickle_path', 'weights', 'totalenergy', 'sars_cov_two_active', 'charge', 'mol_size', 'sars_cov_two_cl_protease_active', 'temperature', 'poplowestpct', 'smiles', 'geom_id', 'pseudomonas_active', 'lowestenergy', 'set', 'sars_cov_one_cl_protease_active', 'ensembleentropy', 'sars_cov_one_pl_protease_active', 'ensembleenergy', 'ecoli_inhibitor', 'ensemblefreeenergy', 'degeneracy', 'energy', 'nbr_list', 'rd_mols', 'bond_features', 'num_bonds', 'atom_features', 'bonded_nbr_list', 'offsets', 'bond_idx', 'ji_idx', 'kj_idx'])"
      ]
     },
     "execution_count": 10,
     "metadata": {},
     "output_type": "execute_result"
    }
   ],
   "source": [
    "props = train_0.props\n",
    "props.keys()"
   ]
  },
  {
   "cell_type": "markdown",
   "metadata": {},
   "source": [
    "These keys can be more or less divided into four categories:\n",
    "1. Properties you want to predict\n",
    "2. Extra properties that you don't care about\n",
    "3. Species attributes that are used to predict properties\n",
    "4. Auxiliary properties used to help in training"
   ]
  },
  {
   "cell_type": "markdown",
   "metadata": {},
   "source": [
    "Many of the keys fall into category 2 (`totalenergy`, `uniqueconfs`, etc.). As for category 1, here we're interested in `sars_cov_two_cl_protease_active`. Most molecules are inactive, but some are active:\n"
   ]
  },
  {
   "cell_type": "code",
   "execution_count": 11,
   "metadata": {},
   "outputs": [
    {
     "data": {
      "text/plain": [
       "tensor([0, 0, 0, 0, 0, 0, 0, 0, 0, 0, 0, 0, 0, 0, 0, 0, 0, 0, 0, 1, 1, 0, 0, 0,\n",
       "        0, 0, 0, 1, 0, 0, 0, 0, 0, 0, 0, 1, 0, 0, 0, 0, 0, 0, 0, 0, 0, 0, 0, 1,\n",
       "        0, 0, 0, 0, 0, 0, 0, 0, 0, 0, 0, 0, 0, 0, 0, 0, 1, 0, 0, 0, 0, 0, 0, 0,\n",
       "        0, 0, 0, 0, 0, 0, 0, 0, 0, 0, 0, 0, 0, 0, 1, 1, 0, 0, 0, 0, 0, 0, 0, 0,\n",
       "        0, 0, 0, 1, 0, 0, 0, 0, 0, 0, 0, 0, 1, 0, 0, 0, 0, 1, 0, 0, 0, 0, 0, 0,\n",
       "        0, 0, 0, 0, 0, 0, 0, 0, 0, 0, 0, 0, 0, 0, 0, 1, 0, 0, 0, 0, 0, 0, 0, 0,\n",
       "        0, 0, 0, 0, 0, 0, 0, 0, 0, 0, 0, 0, 0, 0, 0, 0, 0, 0, 0, 0, 0, 0, 0, 0,\n",
       "        0, 0, 0, 0, 0, 0, 0, 0, 0, 0, 0, 0, 0, 0, 0, 1, 0, 0, 0, 0, 0, 0, 0, 0,\n",
       "        0, 0, 0, 0, 0, 0, 0, 0, 0, 0, 0, 0, 0, 0, 0, 0, 0, 0, 0, 0, 1, 0, 0, 0,\n",
       "        0, 0, 0, 0, 0, 0, 1, 1, 0, 0, 0, 0, 0, 0, 0, 0, 0, 0, 0, 0, 0, 0, 0, 0,\n",
       "        0, 0, 0, 0, 0, 0, 0, 0, 0, 0, 0, 1])"
      ]
     },
     "execution_count": 11,
     "metadata": {},
     "output_type": "execute_result"
    }
   ],
   "source": [
    "props['sars_cov_two_cl_protease_active']"
   ]
  },
  {
   "cell_type": "markdown",
   "metadata": {},
   "source": [
    "Category 3 includes `atom_features` (graph-based atomic features), `bond_features` (graph-based bond features), and `nxyz` (geometry of the conformers):"
   ]
  },
  {
   "cell_type": "code",
   "execution_count": 12,
   "metadata": {},
   "outputs": [
    {
     "data": {
      "text/plain": [
       "tensor([[0.0000, 0.0000, 0.0000,  ..., 0.0000, 0.0000, 0.1201],\n",
       "        [0.0000, 0.0000, 0.0000,  ..., 0.0000, 0.0000, 0.1201],\n",
       "        [0.0000, 0.0000, 0.0000,  ..., 0.0000, 1.0000, 0.1201],\n",
       "        ...,\n",
       "        [1.0000, 0.0000, 0.0000,  ..., 0.0000, 0.0000, 0.0101],\n",
       "        [1.0000, 0.0000, 0.0000,  ..., 0.0000, 0.0000, 0.0101],\n",
       "        [1.0000, 0.0000, 0.0000,  ..., 0.0000, 0.0000, 0.0101]])"
      ]
     },
     "metadata": {},
     "output_type": "display_data"
    },
    {
     "data": {
      "text/plain": [
       "tensor([[ 6.0000e+00, -3.1657e-02, -9.6860e-01,  5.8763e-01],\n",
       "        [ 6.0000e+00, -1.1637e+00, -6.2373e-01,  3.6238e-01],\n",
       "        [ 6.0000e+00, -2.4939e+00, -2.2325e-01,  1.0933e-01],\n",
       "        [ 6.0000e+00, -3.0580e+00,  8.2389e-01,  8.4049e-01],\n",
       "        [ 6.0000e+00, -4.3623e+00,  1.2054e+00,  5.9344e-01],\n",
       "        [ 6.0000e+00, -5.1084e+00,  5.5239e-01, -3.7588e-01],\n",
       "        [ 6.0000e+00, -4.5497e+00, -4.8772e-01, -1.1030e+00],\n",
       "        [ 6.0000e+00, -3.2463e+00, -8.7927e-01, -8.6663e-01],\n",
       "        [ 1.0000e+00, -2.8052e+00, -1.6914e+00, -1.4254e+00],\n",
       "        [ 1.0000e+00, -5.1332e+00, -9.9599e-01, -1.8551e+00],\n",
       "        [ 1.0000e+00, -6.1274e+00,  8.5316e-01, -5.6342e-01],\n",
       "        [ 1.0000e+00, -4.8001e+00,  2.0131e+00,  1.1597e+00],\n",
       "        [ 1.0000e+00, -2.4722e+00,  1.3242e+00,  1.5976e+00],\n",
       "        [ 6.0000e+00,  1.3286e+00, -1.3871e+00,  8.4822e-01],\n",
       "        [ 1.0000e+00,  1.5652e+00, -1.2823e+00,  1.9113e+00],\n",
       "        [ 1.0000e+00,  1.4559e+00, -2.4353e+00,  5.6056e-01],\n",
       "        [ 7.0000e+00,  2.2987e+00, -5.5725e-01,  6.8473e-02],\n",
       "        [ 1.0000e+00,  2.0064e+00, -5.8725e-01, -9.1600e-01],\n",
       "        [ 6.0000e+00,  2.2542e+00,  8.6680e-01,  4.8414e-01],\n",
       "        [ 6.0000e+00,  3.1300e+00,  1.7101e+00, -4.3206e-01],\n",
       "        [ 6.0000e+00,  4.5681e+00,  1.1992e+00, -4.0394e-01],\n",
       "        [ 6.0000e+00,  4.5978e+00, -2.8048e-01, -7.7656e-01],\n",
       "        [ 6.0000e+00,  3.6834e+00, -1.0796e+00,  1.4400e-01],\n",
       "        [ 1.0000e+00,  3.6808e+00, -2.1343e+00, -1.3964e-01],\n",
       "        [ 1.0000e+00,  4.0193e+00, -9.9743e-01,  1.1803e+00],\n",
       "        [ 1.0000e+00,  5.6109e+00, -6.7160e-01, -6.9066e-01],\n",
       "        [ 1.0000e+00,  4.2826e+00, -4.0951e-01, -1.8145e+00],\n",
       "        [ 1.0000e+00,  5.1784e+00,  1.7688e+00, -1.1025e+00],\n",
       "        [ 1.0000e+00,  4.9896e+00,  1.3377e+00,  5.9278e-01],\n",
       "        [ 1.0000e+00,  3.0906e+00,  2.7467e+00, -9.9788e-02],\n",
       "        [ 1.0000e+00,  2.7407e+00,  1.6772e+00, -1.4521e+00],\n",
       "        [ 1.0000e+00,  1.2139e+00,  1.1991e+00,  4.5267e-01],\n",
       "        [ 1.0000e+00,  2.6117e+00,  9.2760e-01,  1.5146e+00],\n",
       "        [ 6.0000e+00, -4.0047e-02, -1.0527e+00,  4.1112e-01],\n",
       "        [ 6.0000e+00, -1.1685e+00, -6.6276e-01,  2.5117e-01],\n",
       "        [ 6.0000e+00, -2.4959e+00, -2.1578e-01,  7.0239e-02],\n",
       "        [ 6.0000e+00, -3.4787e+00, -1.1144e+00, -3.4780e-01],\n",
       "        [ 6.0000e+00, -4.7783e+00, -6.7707e-01, -5.1469e-01],\n",
       "        [ 6.0000e+00, -5.1051e+00,  6.4859e-01, -2.7362e-01],\n",
       "        [ 6.0000e+00, -4.1294e+00,  1.5430e+00,  1.3893e-01],\n",
       "        [ 6.0000e+00, -2.8268e+00,  1.1181e+00,  3.1431e-01],\n",
       "        [ 1.0000e+00, -2.0639e+00,  1.8102e+00,  6.4033e-01],\n",
       "        [ 1.0000e+00, -4.3857e+00,  2.5742e+00,  3.2714e-01],\n",
       "        [ 1.0000e+00, -6.1216e+00,  9.8507e-01, -4.0585e-01],\n",
       "        [ 1.0000e+00, -5.5395e+00, -1.3722e+00, -8.3369e-01],\n",
       "        [ 1.0000e+00, -3.2155e+00, -2.1454e+00, -5.3092e-01],\n",
       "        [ 6.0000e+00,  1.3167e+00, -1.5217e+00,  5.9654e-01],\n",
       "        [ 1.0000e+00,  1.5533e+00, -1.6019e+00,  1.6621e+00],\n",
       "        [ 1.0000e+00,  1.4333e+00, -2.5073e+00,  1.3541e-01],\n",
       "        [ 7.0000e+00,  2.2936e+00, -5.8018e-01, -3.0081e-02],\n",
       "        [ 1.0000e+00,  2.0018e+00, -4.3787e-01, -1.0049e+00],\n",
       "        [ 6.0000e+00,  2.2618e+00,  7.5115e-01,  6.2514e-01],\n",
       "        [ 6.0000e+00,  3.1462e+00,  1.7322e+00, -1.3159e-01],\n",
       "        [ 6.0000e+00,  4.5796e+00,  1.2111e+00, -1.9150e-01],\n",
       "        [ 6.0000e+00,  4.5966e+00, -1.8196e-01, -8.1468e-01],\n",
       "        [ 6.0000e+00,  3.6736e+00, -1.1202e+00, -4.6607e-02],\n",
       "        [ 1.0000e+00,  3.6619e+00, -2.1096e+00, -5.0902e-01],\n",
       "        [ 1.0000e+00,  4.0087e+00, -1.2221e+00,  9.8818e-01],\n",
       "        [ 1.0000e+00,  5.6060e+00, -5.9127e-01, -7.9756e-01],\n",
       "        [ 1.0000e+00,  4.2822e+00, -1.2642e-01, -1.8594e+00],\n",
       "        [ 1.0000e+00,  5.1966e+00,  1.8873e+00, -7.8049e-01],\n",
       "        [ 1.0000e+00,  5.0001e+00,  1.1711e+00,  8.1444e-01],\n",
       "        [ 1.0000e+00,  3.1156e+00,  2.6961e+00,  3.7486e-01],\n",
       "        [ 1.0000e+00,  2.7587e+00,  1.8793e+00, -1.1422e+00],\n",
       "        [ 1.0000e+00,  1.2245e+00,  1.0927e+00,  6.5250e-01],\n",
       "        [ 1.0000e+00,  2.6183e+00,  6.2990e-01,  1.6506e+00],\n",
       "        [ 6.0000e+00, -3.6700e-02, -1.0204e+00, -4.9398e-01],\n",
       "        [ 6.0000e+00, -1.1667e+00, -6.4717e-01, -3.0738e-01],\n",
       "        [ 6.0000e+00, -2.4947e+00, -2.1761e-01, -9.2844e-02],\n",
       "        [ 6.0000e+00, -2.8911e+00,  1.0598e+00, -4.9265e-01],\n",
       "        [ 6.0000e+00, -4.1936e+00,  1.4690e+00, -2.8233e-01],\n",
       "        [ 6.0000e+00, -5.1044e+00,  6.1445e-01,  3.1973e-01],\n",
       "        [ 6.0000e+00, -4.7128e+00, -6.5534e-01,  7.1560e-01],\n",
       "        [ 6.0000e+00, -3.4125e+00, -1.0760e+00,  5.1506e-01],\n",
       "        [ 1.0000e+00, -3.0995e+00, -2.0642e+00,  8.1745e-01],\n",
       "        [ 1.0000e+00, -5.4240e+00, -1.3197e+00,  1.1816e+00],\n",
       "        [ 1.0000e+00, -6.1213e+00,  9.3809e-01,  4.7885e-01],\n",
       "        [ 1.0000e+00, -4.5008e+00,  2.4563e+00, -5.9118e-01],\n",
       "        [ 1.0000e+00, -2.1785e+00,  1.7193e+00, -9.6637e-01],\n",
       "        [ 6.0000e+00,  1.3218e+00, -1.4693e+00, -7.1172e-01],\n",
       "        [ 1.0000e+00,  1.4415e+00, -2.4866e+00, -3.2668e-01],\n",
       "        [ 1.0000e+00,  1.5611e+00, -1.4667e+00, -1.7796e+00],\n",
       "        [ 7.0000e+00,  2.2944e+00, -5.7470e-01, -1.2248e-02],\n",
       "        [ 1.0000e+00,  1.9988e+00, -5.0732e-01,  9.6946e-01],\n",
       "        [ 6.0000e+00,  3.6760e+00, -1.1104e+00, -3.1650e-02],\n",
       "        [ 6.0000e+00,  4.5932e+00, -2.3042e-01,  8.0894e-01],\n",
       "        [ 6.0000e+00,  4.5741e+00,  1.2057e+00,  2.9288e-01],\n",
       "        [ 6.0000e+00,  3.1393e+00,  1.7258e+00,  2.6700e-01],\n",
       "        [ 6.0000e+00,  2.2603e+00,  8.0233e-01, -5.6481e-01],\n",
       "        [ 1.0000e+00,  1.2221e+00,  1.1422e+00, -5.6905e-01],\n",
       "        [ 1.0000e+00,  2.6204e+00,  7.6010e-01, -1.5954e+00],\n",
       "        [ 1.0000e+00,  3.1075e+00,  2.7251e+00, -1.6537e-01],\n",
       "        [ 1.0000e+00,  2.7477e+00,  1.7953e+00,  1.2843e+00],\n",
       "        [ 1.0000e+00,  5.1868e+00,  1.8372e+00,  9.3377e-01],\n",
       "        [ 1.0000e+00,  4.9985e+00,  1.2431e+00, -7.1153e-01],\n",
       "        [ 1.0000e+00,  5.6040e+00, -6.3437e-01,  7.6498e-01],\n",
       "        [ 1.0000e+00,  4.2745e+00, -2.5499e-01,  1.8535e+00],\n",
       "        [ 1.0000e+00,  3.6658e+00, -2.1320e+00,  3.5428e-01],\n",
       "        [ 1.0000e+00,  4.0151e+00, -1.1325e+00, -1.0699e+00],\n",
       "        [ 6.0000e+00, -1.5038e-01, -1.3726e+00,  3.0010e-04],\n",
       "        [ 6.0000e+00,  9.4753e-01, -8.7688e-01,  1.6038e-04],\n",
       "        [ 6.0000e+00,  2.2352e+00, -2.9711e-01,  5.7652e-05],\n",
       "        [ 6.0000e+00,  2.8722e+00, -1.2977e-02,  1.2094e+00],\n",
       "        [ 6.0000e+00,  4.1346e+00,  5.4788e-01,  1.2020e+00],\n",
       "        [ 6.0000e+00,  4.7661e+00,  8.2838e-01, -1.3740e-04],\n",
       "        [ 6.0000e+00,  4.1346e+00,  5.4730e-01, -1.2022e+00],\n",
       "        [ 6.0000e+00,  2.8723e+00, -1.3562e-02, -1.2094e+00],\n",
       "        [ 1.0000e+00,  2.3757e+00, -2.4018e-01, -2.1413e+00],\n",
       "        [ 1.0000e+00,  4.6292e+00,  7.6422e-01, -2.1364e+00],\n",
       "        [ 1.0000e+00,  5.7529e+00,  1.2647e+00, -2.1186e-04],\n",
       "        [ 1.0000e+00,  4.6291e+00,  7.6524e-01,  2.1361e+00],\n",
       "        [ 1.0000e+00,  2.3756e+00, -2.3915e-01,  2.1414e+00],\n",
       "        [ 6.0000e+00, -1.4660e+00, -1.9751e+00,  3.4993e-04],\n",
       "        [ 1.0000e+00, -1.5903e+00, -2.6007e+00, -8.8907e-01],\n",
       "        [ 1.0000e+00, -1.5904e+00, -2.6004e+00,  8.8998e-01],\n",
       "        [ 7.0000e+00, -2.5382e+00, -9.2965e-01,  1.4198e-04],\n",
       "        [ 1.0000e+00, -3.4495e+00, -1.4011e+00,  1.7737e-04],\n",
       "        [ 6.0000e+00, -2.4767e+00, -8.6577e-02,  1.2205e+00],\n",
       "        [ 6.0000e+00, -3.6376e+00,  8.9803e-01,  1.2465e+00],\n",
       "        [ 6.0000e+00, -3.6150e+00,  1.7770e+00, -3.2250e-04],\n",
       "        [ 6.0000e+00, -3.6375e+00,  8.9764e-01, -1.2469e+00],\n",
       "        [ 6.0000e+00, -2.4766e+00, -8.6956e-02, -1.2204e+00],\n",
       "        [ 1.0000e+00, -2.5024e+00, -7.3818e-01, -2.0968e+00],\n",
       "        [ 1.0000e+00, -1.5199e+00,  4.4037e-01, -1.2072e+00],\n",
       "        [ 1.0000e+00, -3.5560e+00,  1.5103e+00, -2.1438e+00],\n",
       "        [ 1.0000e+00, -4.5848e+00,  3.5612e-01, -1.3039e+00],\n",
       "        [ 1.0000e+00, -4.4756e+00,  2.4436e+00, -4.6136e-04],\n",
       "        [ 1.0000e+00, -2.7156e+00,  2.3942e+00, -3.8232e-04],\n",
       "        [ 1.0000e+00, -3.5562e+00,  1.5109e+00,  2.1433e+00],\n",
       "        [ 1.0000e+00, -4.5849e+00,  3.5652e-01,  1.3036e+00],\n",
       "        [ 1.0000e+00, -2.5026e+00, -7.3753e-01,  2.0970e+00],\n",
       "        [ 1.0000e+00, -1.5200e+00,  4.4074e-01,  1.2072e+00]])"
      ]
     },
     "metadata": {},
     "output_type": "display_data"
    },
    {
     "data": {
      "text/plain": [
       "tensor(4)"
      ]
     },
     "metadata": {},
     "output_type": "display_data"
    }
   ],
   "source": [
    "display(props['atom_features'][3])\n",
    "display(props['nxyz'][3])\n",
    "display(props[\"uniqueconfs\"][3])"
   ]
  },
  {
   "cell_type": "markdown",
   "metadata": {},
   "source": [
    "The atom features and xyz coordinates are a set of `N` vectors, where `N` is the total number of atoms of *all conformers*:"
   ]
  },
  {
   "cell_type": "code",
   "execution_count": 13,
   "metadata": {},
   "outputs": [
    {
     "name": "stdout",
     "output_type": "stream",
     "text": [
      "torch.Size([250, 133])\n",
      "torch.Size([250, 4])\n",
      "250\n"
     ]
    }
   ],
   "source": [
    "print(props['atom_features'][4].shape)\n",
    "print(props['nxyz'][4].shape)\n",
    "\n",
    "# mol_size is the number of atoms in one conformer\n",
    "print((props[\"uniqueconfs\"][4] * props[\"mol_size\"][4]).item())\n"
   ]
  },
  {
   "cell_type": "markdown",
   "metadata": {},
   "source": [
    "By having `mol_size` (the number of atoms in one conformer) as a property, we can easily split these into per-conformer properties:"
   ]
  },
  {
   "cell_type": "code",
   "execution_count": 14,
   "metadata": {},
   "outputs": [
    {
     "data": {
      "text/plain": [
       "10"
      ]
     },
     "execution_count": 14,
     "metadata": {},
     "output_type": "execute_result"
    }
   ],
   "source": [
    "import torch\n",
    "\n",
    "nxyz = props['nxyz'][4]\n",
    "mol_size = props[\"mol_size\"][4].item()\n",
    "num_confs = nxyz.shape[0] // mol_size\n",
    "\n",
    "nxyz_by_conformer = torch.split(props['nxyz'][4], [mol_size] * num_confs)\n",
    "len(nxyz_by_conformer)"
   ]
  },
  {
   "cell_type": "markdown",
   "metadata": {},
   "source": [
    "Category 4 includes keys like `nbr_list` and `bonded_nbr_list`. Each of these is a set of pairs that tell you which atoms are within 5 Angstroms of each other, or bonded to each other, respectively:"
   ]
  },
  {
   "cell_type": "code",
   "execution_count": 15,
   "metadata": {},
   "outputs": [
    {
     "data": {
      "text/plain": [
       "tensor([[ 0,  1],\n",
       "        [ 0,  2],\n",
       "        [ 0,  3],\n",
       "        [ 0,  4],\n",
       "        [ 0,  5],\n",
       "        [ 0,  9],\n",
       "        [ 0, 10],\n",
       "        [ 0, 11],\n",
       "        [ 0, 12],\n",
       "        [ 0, 17]])"
      ]
     },
     "execution_count": 15,
     "metadata": {},
     "output_type": "execute_result"
    }
   ],
   "source": [
    "props['nbr_list'][4][:10]"
   ]
  },
  {
   "cell_type": "code",
   "execution_count": 16,
   "metadata": {},
   "outputs": [
    {
     "data": {
      "text/plain": [
       "tensor([[ 0,  1],\n",
       "        [ 0, 22],\n",
       "        [ 0, 23],\n",
       "        [ 0, 24],\n",
       "        [ 1,  2],\n",
       "        [ 1,  3],\n",
       "        [ 3,  4],\n",
       "        [ 3, 18],\n",
       "        [ 4,  5],\n",
       "        [ 4,  9]])"
      ]
     },
     "execution_count": 16,
     "metadata": {},
     "output_type": "execute_result"
    }
   ],
   "source": [
    "props['bonded_nbr_list'][4][:10]"
   ]
  },
  {
   "cell_type": "markdown",
   "metadata": {},
   "source": [
    "## Adding extra features"
   ]
  },
  {
   "cell_type": "markdown",
   "metadata": {},
   "source": [
    "We can also add extra features to the dataset, like Morgan fingerprints. Here we add Morgan fingerprints of size 100:"
   ]
  },
  {
   "cell_type": "code",
   "execution_count": 17,
   "metadata": {},
   "outputs": [
    {
     "name": "stdout",
     "output_type": "stream",
     "text": [
      "tensor([1., 0., 0., 0., 0., 0., 0., 0., 1., 0., 0., 1., 1., 0., 0., 1., 0., 0.,\n",
      "        0., 0., 0., 0., 0., 0., 0., 1., 0., 0., 0., 0., 1., 0., 0., 0., 0., 0.,\n",
      "        0., 1., 0., 1., 0., 0., 1., 0., 0., 0., 0., 0., 0., 0., 0., 0., 0., 0.,\n",
      "        1., 0., 0., 1., 0., 0., 0., 0., 0., 0., 0., 0., 0., 0., 1., 1., 1., 0.,\n",
      "        0., 1., 0., 0., 0., 0., 0., 0., 0., 1., 0., 0., 1., 0., 0., 0., 0., 1.,\n",
      "        0., 1., 0., 0., 0., 1., 0., 1., 1., 0.])\n"
     ]
    }
   ],
   "source": [
    "train_0.add_morgan(100)\n",
    "\n",
    "print(train_0.props[\"morgan\"][4])"
   ]
  },
  {
   "cell_type": "markdown",
   "metadata": {},
   "source": [
    "We can add 3D features, like WHIM or 3D autocorrelations:"
   ]
  },
  {
   "cell_type": "code",
   "execution_count": 18,
   "metadata": {},
   "outputs": [],
   "source": [
    "# add whim descriptors\n",
    "train_0.featurize_rdkit('whim')\n",
    "\n",
    "# add autocorrelation_3d descriptors\n",
    "train_0.featurize_rdkit('autocorrelation_3d')\n"
   ]
  },
  {
   "cell_type": "code",
   "execution_count": 19,
   "metadata": {},
   "outputs": [
    {
     "data": {
      "image/png": "[encoded data removed]",
      "text/plain": [
       "<Figure size 288x288 with 2 Axes>"
      ]
     },
     "metadata": {
      "needs_background": "light"
     },
     "output_type": "display_data"
    },
    {
     "data": {
      "image/png": "[encoded data removed]",
      "text/plain": [
       "<Figure size 288x288 with 2 Axes>"
      ]
     },
     "metadata": {
      "needs_background": "light"
     },
     "output_type": "display_data"
    }
   ],
   "source": [
    "import numpy as np\n",
    "from matplotlib import pyplot as plt\n",
    "\n",
    "\n",
    "# look at the RMSDS between conformers of species 2\n",
    "\n",
    "whims = train_0.props['whim'][4]\n",
    "autcorr = train_0.props['autocorrelation_3d'][4]\n",
    "\n",
    "num_fps = whims.shape[0]\n",
    "\n",
    "whim_rmsds = ((whims.expand(num_fps, num_fps, -1) \n",
    "              - whims.expand(num_fps, num_fps, -1).transpose(0, 1)) ** 2).mean(-1)\n",
    "\n",
    "corr_rmsds = ((autcorr.expand(num_fps, num_fps, -1) \n",
    "              - autcorr.expand(num_fps, num_fps, -1).transpose(0, 1)) ** 2).mean(-1)\n",
    "\n",
    "plt.matshow(whim_rmsds)\n",
    "plt.colorbar()\n",
    "plt.xlabel(\"\\nConformer index\")\n",
    "plt.ylabel(\"Conformer index\")\n",
    "plt.title(\"Conformer WHIM RMSDs\\n\")\n",
    "plt.show()\n",
    "\n",
    "plt.matshow(corr_rmsds)\n",
    "plt.colorbar()\n",
    "plt.xlabel(\"\\nConformer index\")\n",
    "plt.ylabel(\"Conformer index\")\n",
    "plt.title(\"Conformer Autocorrelation RMSDs\\n\")\n",
    "plt.show()\n",
    "\n",
    "\n",
    "\n"
   ]
  },
  {
   "cell_type": "markdown",
   "metadata": {},
   "source": [
    "We can add E3FP fingerprints, which contain both 3D and graph information (note: using `num_procs > 1` seems to have issues on some computers. Creating the fingerprints with one process takes a few minutes for this dataset, so you can comment out these cells to avoid slowing down the tutorial.)"
   ]
  },
  {
   "cell_type": "code",
   "execution_count": 60,
   "metadata": {
    "scrolled": true
   },
   "outputs": [
    {
     "name": "stdout",
     "output_type": "stream",
     "text": [
      "Adding E3FP fingerprints with 1 parallel process.\n"
     ]
    },
    {
     "name": "stderr",
     "output_type": "stream",
     "text": [
      "100%|██████████| 489/489 [11:19<00:00,  1.39s/it]\n"
     ]
    }
   ],
   "source": [
    "train_0.add_e3fp(256, num_procs=1)"
   ]
  },
  {
   "cell_type": "markdown",
   "metadata": {},
   "source": [
    "We can plot RMSDs for E3FP as well:"
   ]
  },
  {
   "cell_type": "code",
   "execution_count": 62,
   "metadata": {},
   "outputs": [
    {
     "data": {
      "image/png": "[encoded data removed]",
      "text/plain": [
       "<Figure size 288x288 with 2 Axes>"
      ]
     },
     "metadata": {
      "needs_background": "light"
     },
     "output_type": "display_data"
    }
   ],
   "source": [
    "e3fp = train_0.props['e3fp'][4]\n",
    "e3fp_rmsds = ((e3fp.expand(num_fps, num_fps, -1) \n",
    "              - e3fp.expand(num_fps, num_fps, -1).transpose(0, 1)) ** 2).mean(-1) ** 0.5\n",
    "\n",
    "plt.matshow(e3fp_rmsds)\n",
    "plt.colorbar()\n",
    "plt.xlabel(\"\\nConformer index\")\n",
    "plt.ylabel(\"Conformer index\")\n",
    "plt.title(\"Conformer E3FP RMSDs\\n\")\n",
    "plt.show()\n",
    "\n"
   ]
  },
  {
   "cell_type": "markdown",
   "metadata": {},
   "source": [
    "# Training a model"
   ]
  },
  {
   "cell_type": "markdown",
   "metadata": {},
   "source": [
    "The script for training a model is `cp3d/train/train_parallel.sh`. Details about the config file, parallelizing over GPUs, submitting to a cluster, and so on can be found in the README file. When it comes to running the script it is most helpful to use the README file. Here we'll look at some of what goes on underneath the hood of the scripts, so that you have a better understanding of the process.\n"
   ]
  },
  {
   "cell_type": "markdown",
   "metadata": {},
   "source": [
    "## Making a model and seeing how it works\n",
    "Let's first look at creating the model. Here we'll the model type `OnlyBondUpdateCP3D`, which means that ChemProp edge updates are used for bond features, but Gaussian-embedded distance features are not updated. They are simply concatenated with the updated bond features. \n",
    "\n",
    "For this we'll use some of the parameters in the config file:\n"
   ]
  },
  {
   "cell_type": "code",
   "execution_count": 22,
   "metadata": {},
   "outputs": [],
   "source": [
    "morgan_len = 100\n",
    "whim_len = 114\n",
    "\n",
    "modelparams =  {\n",
    "    \n",
    "        \"model_type\": \"OnlyBondUpdateCP3D\",\n",
    "\n",
    "        \"mol_basis\": 300,\n",
    "        \"cp_dropout\": 0.02,\n",
    "        \"schnet_dropout\": 0.2,\n",
    "        \"activation\": \"ReLU\",\n",
    "        \"n_atom_basis\": 133,\n",
    "        \"n_bond_features\": 26,\n",
    "        \"n_bond_hidden\": 300,\n",
    "        \"n_convolutions\": 2,\n",
    "        \"n_filters\": 64,\n",
    "        \"n_gaussians\": 10,\n",
    "        \"cutoff\": 5.0,\n",
    "\n",
    "        \"input_layers\": [\n",
    "            {\n",
    "                \"name\": \"linear\",\n",
    "                \"param\": {\n",
    "                    \"in_features\": 159,\n",
    "                    \"out_features\": 300\n",
    "                }\n",
    "            },\n",
    "            {\n",
    "                \"name\": \"ReLU\",\n",
    "                \"param\": {}\n",
    "            }\n",
    "        ],\n",
    "\n",
    "        \"output_layers\": [\n",
    "            {\n",
    "                \"name\": \"linear\",\n",
    "                \"param\": {\n",
    "                    # 497 node features from 300 ChemProp hidden features\n",
    "                    # + 133 node features + 64 distance features\n",
    "                    \"in_features\": 497,\n",
    "                    \"out_features\": 300\n",
    "                }\n",
    "            },\n",
    "            {\n",
    "                \"name\": \"ReLU\",\n",
    "                \"param\": {}\n",
    "            }\n",
    "        ],\n",
    "\n",
    "        \"mol_fp_layers\": [],\n",
    "\n",
    "        \"boltzmann_dict\": {\n",
    "            \"boltz_basis\": 10,\n",
    "            \"dropout_rate\": 0.1,\n",
    "            \"final_act\": \"ReLU\",\n",
    "            \"head_pool\": \"concatenate\",\n",
    "            \n",
    "            # add the length of the whim fingerprint\n",
    "            # here, as it will be concatenated with the\n",
    "            # learned 3D fingerprint\n",
    "            \n",
    "            \"mol_basis\": (300 + whim_len),\n",
    "            \"num_heads\": 3,\n",
    "            \"type\": \"linear_attention\"\n",
    "        },\n",
    "\n",
    "\n",
    "        \"readoutdict\": {\n",
    "            \"sars_cov_two_cl_protease_active\": [\n",
    "                {\n",
    "                    \"name\": \"linear\",\n",
    "                    \"param\": {\n",
    "                        \n",
    "                        # add the length of the whim fingerprint\n",
    "                        # since it gets concatenated with the learned fingerprint,\n",
    "                        # and multiply the total by 3 for 3 heads. Then add\n",
    "                        # the Morgan fingerprint length at the end (only one\n",
    "                        # for the whole species, so not multiplied by 3)\n",
    "                        \n",
    "                        \"in_features\": (300 + whim_len ) * 3 + morgan_len,\n",
    "                        \"out_features\": 450\n",
    "                    }\n",
    "                },\n",
    "                {\n",
    "                    \"name\": \"Dropout\",\n",
    "                    \"param\": {\n",
    "                        \"p\": 0.02\n",
    "                    }\n",
    "                },\n",
    "                {\n",
    "                    \"name\": \"ReLU\",\n",
    "                    \"param\": {}\n",
    "                },\n",
    "                {\n",
    "                    \"name\": \"linear\",\n",
    "                    \"param\": {\n",
    "                        \"in_features\": 450,\n",
    "                        \"out_features\": 1\n",
    "                    }\n",
    "                },\n",
    "                {\n",
    "                    \"name\": \"Dropout\",\n",
    "                    \"param\": {\n",
    "                        \"p\": 0.02\n",
    "                    }\n",
    "                }\n",
    "            ]\n",
    "        },\n",
    "    \n",
    "        \"classifier\": True,\n",
    "        \"gauss_embed\": True,\n",
    "        \"same_filters\": True,\n",
    "        \"trainable_gauss\": False,\n",
    "        \"base_keys\": [\"sars_cov_two_cl_protease_active\"],\n",
    "        \"grad_keys\": [],\n",
    "    \n",
    "        \"extra_features\": [\"whim\", \"morgan\"],\n",
    "        \"ext_feat_types\": [\"conformer\", \"species\"],\n",
    "    \n",
    "        \"use_mpnn\": True\n",
    "    \n",
    "}\n"
   ]
  },
  {
   "cell_type": "markdown",
   "metadata": {},
   "source": [
    "For this demonstration we've changed the `extra_features` and `extra_feat_types` parameters from the config file. Before they were set to `None`, but here we add Whim and Morgan fingerprints to show how you can add non-learned fingerprints in training. We set `extra_features` to `[\"whim\", \"morgan\"]`, and  `ext_feat_types` to `[\"conformer\", \"species\"]`, meaning that the whim fingerprint applies to conformers separately, and Morgan to the entire species.\n",
    "\n",
    "We've also changed some input dimensions in the layers. The pooling dictionary `boltzmann_dict` now pools molecular fingerprints of size `(300 + whim_len)`, as the learned fingerprint gets concatenated with the whim fingerprint. And the readout dictionary also acquires the length of the Morgan fingerprint. Three attention heads leads to an input dimension of size `(300 + whim_len ) * 3 + morgan_len`.\n",
    "\n",
    "Now we create a model with these parameters:"
   ]
  },
  {
   "cell_type": "code",
   "execution_count": 23,
   "metadata": {},
   "outputs": [],
   "source": [
    "from nff.train import get_model\n",
    "import torch\n",
    "\n",
    "torch.manual_seed(0)\n",
    "model = get_model(params=modelparams,\n",
    "                  model_type=modelparams[\"model_type\"])"
   ]
  },
  {
   "cell_type": "markdown",
   "metadata": {},
   "source": [
    "Here's what the model looks like:"
   ]
  },
  {
   "cell_type": "code",
   "execution_count": 24,
   "metadata": {
    "scrolled": true
   },
   "outputs": [
    {
     "data": {
      "text/plain": [
       "OnlyBondUpdateCP3D(\n",
       "  (atom_embed): Embedding(100, 133, padding_idx=0)\n",
       "  (convolutions): ModuleList(\n",
       "    (0): CpSchNetConv(\n",
       "      (dense): Dense(\n",
       "        in_features=300, out_features=300, bias=False\n",
       "        (dropout): Dropout(p=0.02, inplace=False)\n",
       "      )\n",
       "      (activation): ReLU()\n",
       "      (moduledict): ModuleDict(\n",
       "        (edge_filter): Sequential(\n",
       "          (0): GaussianSmearing()\n",
       "          (1): Dense(\n",
       "            in_features=10, out_features=64, bias=True\n",
       "            (dropout): Dropout(p=0.2, inplace=False)\n",
       "          )\n",
       "          (2): ReLU()\n",
       "        )\n",
       "      )\n",
       "    )\n",
       "    (1): CpSchNetConv(\n",
       "      (dense): Dense(\n",
       "        in_features=300, out_features=300, bias=False\n",
       "        (dropout): Dropout(p=0.02, inplace=False)\n",
       "      )\n",
       "      (activation): ReLU()\n",
       "      (moduledict): ModuleDict(\n",
       "        (edge_filter): Sequential(\n",
       "          (0): GaussianSmearing()\n",
       "          (1): Dense(\n",
       "            in_features=10, out_features=64, bias=True\n",
       "            (dropout): Dropout(p=0.2, inplace=False)\n",
       "          )\n",
       "          (2): ReLU()\n",
       "        )\n",
       "      )\n",
       "    )\n",
       "  )\n",
       "  (mol_fp_nn): Sequential()\n",
       "  (boltz_nns): ModuleList(\n",
       "    (0): LinearConfAttention(\n",
       "      (boltz_lin): Linear(in_features=1, out_features=10, bias=True)\n",
       "      (boltz_act): Softmax(dim=1)\n",
       "      (fp_linear): Linear(in_features=424, out_features=414, bias=False)\n",
       "      (W): Linear(in_features=414, out_features=414, bias=True)\n",
       "      (final_act): ReLU()\n",
       "      (activation): LeakyReLU(negative_slope=0.01)\n",
       "    )\n",
       "    (1): LinearConfAttention(\n",
       "      (boltz_lin): Linear(in_features=1, out_features=10, bias=True)\n",
       "      (boltz_act): Softmax(dim=1)\n",
       "      (fp_linear): Linear(in_features=424, out_features=414, bias=False)\n",
       "      (W): Linear(in_features=414, out_features=414, bias=True)\n",
       "      (final_act): ReLU()\n",
       "      (activation): LeakyReLU(negative_slope=0.01)\n",
       "    )\n",
       "    (2): LinearConfAttention(\n",
       "      (boltz_lin): Linear(in_features=1, out_features=10, bias=True)\n",
       "      (boltz_act): Softmax(dim=1)\n",
       "      (fp_linear): Linear(in_features=424, out_features=414, bias=False)\n",
       "      (W): Linear(in_features=414, out_features=414, bias=True)\n",
       "      (final_act): ReLU()\n",
       "      (activation): LeakyReLU(negative_slope=0.01)\n",
       "    )\n",
       "  )\n",
       "  (readout): NodeMultiTaskReadOut(\n",
       "    (readout): ModuleDict(\n",
       "      (sars_cov_two_cl_protease_active): Sequential(\n",
       "        (linear0): Linear(in_features=1342, out_features=450, bias=True)\n",
       "        (Dropout1): Dropout(p=0.02, inplace=False)\n",
       "        (ReLU2): ReLU()\n",
       "        (linear3): Linear(in_features=450, out_features=1, bias=True)\n",
       "        (Dropout4): Dropout(p=0.02, inplace=False)\n",
       "      )\n",
       "    )\n",
       "  )\n",
       "  (W_i): ChemPropInit(\n",
       "    (input): Sequential(\n",
       "      (linear0): Linear(in_features=159, out_features=300, bias=False)\n",
       "      (ReLU1): ReLU()\n",
       "    )\n",
       "  )\n",
       "  (W_o): ChemPropMsgToNode(\n",
       "    (output): Sequential(\n",
       "      (linear0): Linear(in_features=497, out_features=300, bias=False)\n",
       "      (ReLU1): ReLU()\n",
       "    )\n",
       "  )\n",
       ")"
      ]
     },
     "execution_count": 24,
     "metadata": {},
     "output_type": "execute_result"
    }
   ],
   "source": [
    "model"
   ]
  },
  {
   "cell_type": "markdown",
   "metadata": {},
   "source": [
    "The input module `W_i` first converts the concatenation of atomic features with edge features into hidden edge vectors:"
   ]
  },
  {
   "cell_type": "code",
   "execution_count": 25,
   "metadata": {},
   "outputs": [
    {
     "data": {
      "text/plain": [
       "ChemPropInit(\n",
       "  (input): Sequential(\n",
       "    (linear0): Linear(in_features=159, out_features=300, bias=False)\n",
       "    (ReLU1): ReLU()\n",
       "  )\n",
       ")"
      ]
     },
     "execution_count": 25,
     "metadata": {},
     "output_type": "execute_result"
    }
   ],
   "source": [
    "model.W_i # dimension (133 + 26 x 300)"
   ]
  },
  {
   "cell_type": "markdown",
   "metadata": {},
   "source": [
    "The model then consists of two convolutions to generate atomic fingerprints. Each convolution involves a dense (linear) layer with dropout acting on the atomic features, a Gaussian smearing layre for the distances, and a dense layer to conver them to dimension 64. These edge features are then concatenated and updated. You can look at the source code for `CpSchNetConv` (in `nff/modules.py`) for more details."
   ]
  },
  {
   "cell_type": "code",
   "execution_count": 26,
   "metadata": {
    "scrolled": true
   },
   "outputs": [
    {
     "name": "stdout",
     "output_type": "stream",
     "text": [
      "2\n"
     ]
    },
    {
     "data": {
      "text/plain": [
       "CpSchNetConv(\n",
       "  (dense): Dense(\n",
       "    in_features=300, out_features=300, bias=False\n",
       "    (dropout): Dropout(p=0.02, inplace=False)\n",
       "  )\n",
       "  (activation): ReLU()\n",
       "  (moduledict): ModuleDict(\n",
       "    (edge_filter): Sequential(\n",
       "      (0): GaussianSmearing()\n",
       "      (1): Dense(\n",
       "        in_features=10, out_features=64, bias=True\n",
       "        (dropout): Dropout(p=0.2, inplace=False)\n",
       "      )\n",
       "      (2): ReLU()\n",
       "    )\n",
       "  )\n",
       ")"
      ]
     },
     "execution_count": 26,
     "metadata": {},
     "output_type": "execute_result"
    }
   ],
   "source": [
    "print(len(model.convolutions))\n",
    "model.convolutions[0]"
   ]
  },
  {
   "cell_type": "markdown",
   "metadata": {},
   "source": [
    "The edge vectors are turned back into atomic feature vectors before summation through `W_o`:"
   ]
  },
  {
   "cell_type": "code",
   "execution_count": 27,
   "metadata": {},
   "outputs": [
    {
     "data": {
      "text/plain": [
       "ChemPropMsgToNode(\n",
       "  (output): Sequential(\n",
       "    (linear0): Linear(in_features=497, out_features=300, bias=False)\n",
       "    (ReLU1): ReLU()\n",
       "  )\n",
       ")"
      ]
     },
     "execution_count": 27,
     "metadata": {},
     "output_type": "execute_result"
    }
   ],
   "source": [
    "model.W_o # dimension (133 + 64 + 300 x 300)"
   ]
  },
  {
   "cell_type": "markdown",
   "metadata": {},
   "source": [
    "Next an empty set of layers `mol_fp_nn` acts on the sum of the atomic fingerprints (this is necessary if the atomic fingerprints have a different dimension than the desired dimension for the molecular fingeprint). \n",
    "\n",
    "`boltz_nns` is a set of three linear attention modules to pool the fingerprints together:"
   ]
  },
  {
   "cell_type": "code",
   "execution_count": 28,
   "metadata": {},
   "outputs": [
    {
     "name": "stdout",
     "output_type": "stream",
     "text": [
      "3\n",
      "Linear(in_features=1, out_features=10, bias=True)\n",
      "Softmax(dim=1)\n",
      "Linear(in_features=424, out_features=414, bias=False)\n",
      "Linear(in_features=414, out_features=414, bias=True)\n",
      "torch.Size([1, 414])\n"
     ]
    }
   ],
   "source": [
    "print(len(model.boltz_nns))\n",
    "\n",
    "# layer to convert boltzmann weight to vector\n",
    "print(model.boltz_nns[0].boltz_lin)\n",
    "\n",
    "# activation function that follows\n",
    "print(model.boltz_nns[0].boltz_act)\n",
    "\n",
    "# linear layer to convert cat([fingerprint, boltz_vec])\n",
    "# back to original dimension\n",
    "print(model.boltz_nns[0].fp_linear)\n",
    "\n",
    "# linear layer applied to this fingerprint\n",
    "print(model.boltz_nns[0].W)\n",
    "\n",
    "# numbers that multiply W.fp before getting summed and turned into\n",
    "# weights through a softmax\n",
    "\n",
    "print(model.boltz_nns[0].att_weight.shape)"
   ]
  },
  {
   "cell_type": "markdown",
   "metadata": {},
   "source": [
    "The readout module converts the concatenation of the three sets of pooled fingerprints into a prediction. **Caution**: do not add a sigmoid layer for a classifier. This will automatically be added in `eval` mode and automatically **not added** when in `train` mode. This allows us to use the more stable logits cross entropy loss in train mode."
   ]
  },
  {
   "cell_type": "code",
   "execution_count": 29,
   "metadata": {},
   "outputs": [
    {
     "data": {
      "text/plain": [
       "NodeMultiTaskReadOut(\n",
       "  (readout): ModuleDict(\n",
       "    (sars_cov_two_cl_protease_active): Sequential(\n",
       "      (linear0): Linear(in_features=1342, out_features=450, bias=True)\n",
       "      (Dropout1): Dropout(p=0.02, inplace=False)\n",
       "      (ReLU2): ReLU()\n",
       "      (linear3): Linear(in_features=450, out_features=1, bias=True)\n",
       "      (Dropout4): Dropout(p=0.02, inplace=False)\n",
       "    )\n",
       "  )\n",
       ")"
      ]
     },
     "execution_count": 29,
     "metadata": {},
     "output_type": "execute_result"
    }
   ],
   "source": [
    "model.readout"
   ]
  },
  {
   "cell_type": "markdown",
   "metadata": {},
   "source": [
    "We can make a data loader to sample a batch from the dataset and apply our model to it. We can use a custom balanced sampler to make sure we get approximately equal amounts of positive and negative binders:"
   ]
  },
  {
   "cell_type": "code",
   "execution_count": 30,
   "metadata": {},
   "outputs": [],
   "source": [
    "from nff.data import collate_dicts\n",
    "from torch.utils.data import DataLoader\n",
    "from torch import sigmoid\n",
    "from nff.data.loader import ImbalancedDatasetSampler\n",
    "from nff.data import concatenate_dict\n",
    "from nff.utils.cuda import batch_detach\n",
    "\n",
    "torch.manual_seed(0)\n",
    "\n",
    "sampler = ImbalancedDatasetSampler(target_name=\"sars_cov_two_cl_protease_active\",\n",
    "                                   props=train_0.props)\n",
    "\n",
    "loader = DataLoader(dataset=train_0,\n",
    "                    batch_size=1,\n",
    "                    collate_fn=collate_dicts,\n",
    "                    shuffle=False,\n",
    "                    sampler=sampler)\n",
    "\n",
    "all_results = []\n",
    "all_batches = []\n",
    "key = 'sars_cov_two_cl_protease_active'\n",
    "\n",
    "for i, batch in enumerate(loader):\n",
    "\n",
    "    # get batch\n",
    "    batch = next(iter(loader))\n",
    "\n",
    "    # put model in evaluation mode and apply it\n",
    "    # note that if it's not in evaluation mode\n",
    "    # then the sigmoid layer won't be applied!\n",
    "    model.eval()\n",
    "    results = model(batch, sub_batch_size=7)\n",
    "\n",
    "    # detach computational graph\n",
    "    all_results.append(batch_detach(results))\n",
    "\n",
    "    all_batches.append(batch_detach(batch))\n",
    "\n",
    "    if i >= 19:\n",
    "        break\n",
    "\n",
    "# convert from list of dictionaries to dictionary of lists\n",
    "\n",
    "all_batches = concatenate_dict(*all_batches)\n",
    "all_results =  concatenate_dict(*all_results)"
   ]
  },
  {
   "cell_type": "markdown",
   "metadata": {},
   "source": [
    "Around half of the molecules seen are indeed active:"
   ]
  },
  {
   "cell_type": "code",
   "execution_count": 31,
   "metadata": {},
   "outputs": [
    {
     "data": {
      "text/plain": [
       "tensor([1, 1, 0, 0, 1, 0, 1, 1, 1, 1, 1, 0, 1, 0, 0, 0, 0, 0, 1, 0])"
      ]
     },
     "metadata": {},
     "output_type": "display_data"
    },
    {
     "data": {
      "text/plain": [
       "tensor(10)"
      ]
     },
     "metadata": {},
     "output_type": "display_data"
    }
   ],
   "source": [
    "display(torch.stack(all_batches[key]))\n",
    "display(sum(all_batches[key]))"
   ]
  },
  {
   "cell_type": "markdown",
   "metadata": {},
   "source": [
    "The predictions include both property predictions and the learned conformer weights:"
   ]
  },
  {
   "cell_type": "code",
   "execution_count": 32,
   "metadata": {},
   "outputs": [
    {
     "name": "stdout",
     "output_type": "stream",
     "text": [
      "Conformer weights for second species:\n",
      " tensor([[0.0264, 0.0242, 0.0430, 0.0472, 0.0999, 0.0783, 0.1144, 0.0155, 0.0101,\n",
      "         0.0102, 0.0270, 0.0125, 0.0078, 0.0106, 0.0087, 0.0226, 0.0276, 0.0085,\n",
      "         0.0267, 0.0188, 0.0109, 0.0122, 0.0108, 0.0187, 0.0194, 0.0179, 0.0064,\n",
      "         0.0080, 0.0139, 0.0042, 0.0131, 0.0051, 0.0098, 0.0109, 0.0283, 0.0095,\n",
      "         0.0081, 0.0261, 0.0183, 0.0347, 0.0361, 0.0206, 0.0170],\n",
      "        [0.0417, 0.0136, 0.0125, 0.0099, 0.0246, 0.0083, 0.0027, 0.0045, 0.0279,\n",
      "         0.0167, 0.0027, 0.0108, 0.1117, 0.0109, 0.0398, 0.0033, 0.0052, 0.1007,\n",
      "         0.0021, 0.0054, 0.0059, 0.0071, 0.0296, 0.0017, 0.0595, 0.0029, 0.1089,\n",
      "         0.0494, 0.0060, 0.0998, 0.0058, 0.0846, 0.0064, 0.0102, 0.0147, 0.0121,\n",
      "         0.0084, 0.0011, 0.0176, 0.0015, 0.0033, 0.0020, 0.0067],\n",
      "        [0.0086, 0.0268, 0.0101, 0.0221, 0.0391, 0.1037, 0.0425, 0.0065, 0.0348,\n",
      "         0.0090, 0.0412, 0.0047, 0.0175, 0.0126, 0.0042, 0.0368, 0.0088, 0.0090,\n",
      "         0.0061, 0.0318, 0.0096, 0.0051, 0.0419, 0.0079, 0.0130, 0.0127, 0.0105,\n",
      "         0.0143, 0.0123, 0.0186, 0.0022, 0.0100, 0.0062, 0.0217, 0.0131, 0.0073,\n",
      "         0.0142, 0.0028, 0.0498, 0.0560, 0.1435, 0.0341, 0.0177]])\n",
      "All predicted sars_cov_two_cl_protease_active values:\n",
      " tensor([0.8585, 0.8782, 0.8984, 0.8399, 0.6613, 0.8491, 0.9450, 0.8761, 0.8166,\n",
      "        0.8608, 0.8954, 0.8725, 0.9006, 0.8545, 0.8946, 0.8639, 0.9520, 0.8855,\n",
      "        0.9324, 0.9031])\n"
     ]
    }
   ],
   "source": [
    "learned_weights = all_results['learned_weights']\n",
    "pred = torch.cat(all_results[key]).reshape(-1)\n",
    "\n",
    "# 7 weights for 7 conformers, x 3 for the 3 attention heads\n",
    "\n",
    "print(f\"Conformer weights for second species:\\n {learned_weights[2].reshape(3, -1)}\")\n",
    "\n",
    "# all predictions\n",
    "print(f\"All predicted {key} values:\\n {pred}\")"
   ]
  },
  {
   "cell_type": "markdown",
   "metadata": {},
   "source": [
    "## Training a model\n",
    "\n",
    "Now that we're familiar with how the model works, we can train it.  To prepare the trainer class, we'll first need a train loader. We'll load both of the train splits and combine them into one dataset so we can train on overything. If we were training on multiple GPUs then we wouldn't need to do this, but to keep things simple we'll combine them all into one here:"
   ]
  },
  {
   "cell_type": "code",
   "execution_count": 33,
   "metadata": {},
   "outputs": [
    {
     "data": {
      "text/plain": [
       "'/home/saxelrod/rgb_nfs/models/cov_2_cl'"
      ]
     },
     "execution_count": 33,
     "metadata": {},
     "output_type": "execute_result"
    }
   ],
   "source": [
    "dset_folder"
   ]
  },
  {
   "cell_type": "code",
   "execution_count": 34,
   "metadata": {},
   "outputs": [],
   "source": [
    "# train\n",
    "train_0_path = os.path.join(dset_folder, \"0/train.pth.tar\")\n",
    "train_0 = Dataset.from_file(train_0_path)\n",
    "\n",
    "train_1_path = os.path.join(dset_folder, \"1/train.pth.tar\")\n",
    "train_1 = Dataset.from_file(train_1_path)\n",
    "\n",
    "# validation\n",
    "\n",
    "val_0_path = os.path.join(dset_folder, \"0/val.pth.tar\")\n",
    "val_0 = Dataset.from_file(val_0_path)\n",
    "\n",
    "val_1_path = os.path.join(dset_folder, \"1/val.pth.tar\")\n",
    "val_1 = Dataset.from_file(val_1_path)\n",
    "\n",
    "# test\n",
    "test_0_path = os.path.join(dset_folder, \"0/test.pth.tar\")\n",
    "test_0 = Dataset.from_file(test_0_path)\n",
    "\n",
    "test_1_path = os.path.join(dset_folder, \"1/test.pth.tar\")\n",
    "test_1 = Dataset.from_file(test_1_path)\n",
    "    \n",
    "# add custom features\n",
    "\n",
    "dsets = [train_0, train_1, val_0, val_1, test_0, test_1]\n",
    "paths = [train_0_path, train_1_path,\n",
    "         val_0_path, val_1_path,\n",
    "         test_0_path, test_1_path]\n",
    "    \n",
    "for dset, path in zip(dsets, paths):\n",
    "    dset.featurize_rdkit('whim')\n",
    "    dset.add_morgan(100)\n",
    "    dset.save(path)\n",
    "\n",
    "\n",
    "# datasets can be added!\n",
    "\n",
    "train = train_0 + train_1\n",
    "val = val_0 + val_1\n",
    "\n"
   ]
  },
  {
   "cell_type": "markdown",
   "metadata": {},
   "source": [
    "Now we make data loaders, a loss function, and an optimizer:"
   ]
  },
  {
   "cell_type": "code",
   "execution_count": 35,
   "metadata": {},
   "outputs": [],
   "source": [
    "from nff.train import Trainer, loss, hooks, metrics\n",
    "from torch.optim import Adam\n",
    "\n",
    "# make loaders\n",
    "sampler = ImbalancedDatasetSampler(target_name=\"sars_cov_two_cl_protease_active\",\n",
    "                                   props=train.props)\n",
    "train_loader = DataLoader(dataset=train,\n",
    "                          batch_size=1,\n",
    "                          collate_fn=collate_dicts,\n",
    "                          shuffle=False,\n",
    "                          sampler=sampler)\n",
    "\n",
    "\n",
    "# Make the validation loader.\n",
    "# Unlike the train loader, we don't use an equal sampler here\n",
    "# because we want to know the performance on a realistic sample\n",
    "# of the data\n",
    "\n",
    "\n",
    "val_loader = DataLoader(dataset=val,\n",
    "                       batch_size=1,\n",
    "                       collate_fn=collate_dicts,\n",
    "                       shuffle=False,)\n",
    "\n",
    "# build the loss function\n",
    "loss_fn = loss.build_logits_cross_entropy_loss({key: 1})\n",
    "\n",
    "# make an Adam optimizer\n",
    "trainable_params = filter(lambda p: p.requires_grad, model.parameters())\n",
    "optimizer = Adam(trainable_params, lr=1e-4)"
   ]
  },
  {
   "cell_type": "markdown",
   "metadata": {},
   "source": [
    "Next we add some custom hooks to the training process. One reduces the learning rate after the validation score plateau, one limits the total training to 100 epochs, and one creates as CSV log file of the training process:"
   ]
  },
  {
   "cell_type": "code",
   "execution_count": 52,
   "metadata": {},
   "outputs": [],
   "source": [
    "import shutil\n",
    "\n",
    "# model path where the csv file gets created\n",
    "\n",
    "log_path = \"./test\"\n",
    "\n",
    "# remove it if it exists\n",
    "if os.path.isdir(log_path):\n",
    "    if os.path.isdir(\"backup\"):\n",
    "        shutil.rmtree(\"backup\")\n",
    "    shutil.move(log_path, \"backup\")\n",
    "    \n",
    "max_epochs = 100\n",
    "\n",
    "# monitor ROC and PRC-AUC\n",
    "\n",
    "train_metrics = [metrics.RocAuc(key), metrics.PrAuc(key)]\n",
    "\n",
    "# add custom hooks\n",
    "\n",
    "train_hooks = [\n",
    "    \n",
    "    # 1. Limit to 100 epochs\n",
    "    hooks.MaxEpochHook(max_epochs),\n",
    "    \n",
    "    # 2. Reduce learning rate on plateau\n",
    "    hooks.ReduceLROnPlateauHook(\n",
    "        optimizer=optimizer,\n",
    "        patience=10,\n",
    "        factor=0.5,\n",
    "        min_lr=1e-7,\n",
    "        window_length=1,\n",
    "        stop_after_min=True\n",
    "    ),\n",
    "    \n",
    "    # 3. Print results of various metrics\n",
    "    hooks.PrintingHook(\n",
    "        log_path,\n",
    "        metrics=train_metrics,\n",
    "        separator=' | ',\n",
    "        world_size=1,\n",
    "        global_rank=0\n",
    "    )\n",
    "]\n",
    "\n",
    "\n"
   ]
  },
  {
   "cell_type": "markdown",
   "metadata": {},
   "source": [
    "We put all of this together to make the `Trainer` instance:"
   ]
  },
  {
   "cell_type": "code",
   "execution_count": 53,
   "metadata": {},
   "outputs": [],
   "source": [
    "\n",
    "# Create a `Trainer` instance\n",
    "        \n",
    "T = Trainer(\n",
    "    model_path=\"./test\",\n",
    "    model=model,\n",
    "    loss_fn=loss_fn,\n",
    "    optimizer=optimizer,\n",
    "    train_loader=train_loader,\n",
    "    validation_loader=val_loader,\n",
    "    world_size=1,\n",
    "    global_rank=0,\n",
    "    hooks=train_hooks,\n",
    "    model_kwargs={\"sub_batch_size\": 7},\n",
    "    mini_batches=32,\n",
    "    checkpoint_interval=1,\n",
    "    checkpoints_to_keep=100\n",
    "    \n",
    ")\n",
    "\n"
   ]
  },
  {
   "cell_type": "code",
   "execution_count": null,
   "metadata": {},
   "outputs": [],
   "source": []
  },
  {
   "cell_type": "code",
   "execution_count": 54,
   "metadata": {
    "scrolled": true
   },
   "outputs": [
    {
     "name": "stdout",
     "output_type": "stream",
     "text": [
      "               Time | Epoch | Learning rate | Train loss | Validation loss | RocAuc_sars_cov_two_cl_protease_active | PrAuc_sars_cov_two_cl_protease_active | GPU Memory (MB)\n"
     ]
    },
    {
     "name": "stderr",
     "output_type": "stream",
     "text": [
      "100%|█████████▉| 488/489 [00:21<00:00, 22.79it/s]\n"
     ]
    },
    {
     "name": "stdout",
     "output_type": "stream",
     "text": [
      "2020-12-01 14:04:05 |     1 |     1.000e-04 |     1.2629 |          0.7450 |                                 0.6249 |                                0.1948 |               0\n"
     ]
    },
    {
     "name": "stderr",
     "output_type": "stream",
     "text": [
      "100%|█████████▉| 488/489 [00:21<00:00, 22.64it/s]\n"
     ]
    },
    {
     "name": "stdout",
     "output_type": "stream",
     "text": [
      "2020-12-01 14:04:30 |     2 |     1.000e-04 |     0.9082 |          0.7756 |                                 0.6426 |                                0.2647 |               0\n"
     ]
    },
    {
     "name": "stderr",
     "output_type": "stream",
     "text": [
      "100%|█████████▉| 488/489 [00:20<00:00, 23.93it/s]\n"
     ]
    },
    {
     "name": "stdout",
     "output_type": "stream",
     "text": [
      "2020-12-01 14:04:54 |     3 |     1.000e-04 |     0.5604 |          0.7571 |                                 0.6426 |                                0.3623 |               0\n"
     ]
    }
   ],
   "source": [
    "# change to \"cpu\" if you have no gpu\n",
    "device = 2\n",
    "\n",
    "T.train(n_epochs=3, device=device)"
   ]
  },
  {
   "cell_type": "markdown",
   "metadata": {},
   "source": [
    "The model learns! \n",
    "\n",
    "The log information, best model and checkpoints can be found in the model folder. Here's an example of what a model folder looks like when the training is divided over 16 GPUs:"
   ]
  },
  {
   "cell_type": "markdown",
   "metadata": {},
   "source": [
    "![alt text](model_folder.png \"Title\")"
   ]
  },
  {
   "cell_type": "markdown",
   "metadata": {},
   "source": [
    "`best_model` is the best model according to the validation loss, `checkpoints` stores models of past epochs, and `log_human_read.csv` records the validation scores and metrics after each epoch. Our folder looks the same, except without the 16 folders for the different test splits:"
   ]
  },
  {
   "cell_type": "code",
   "execution_count": 39,
   "metadata": {},
   "outputs": [
    {
     "data": {
      "text/plain": [
       "['0', 'best_model', 'checkpoints', 'log_human_read.csv']"
      ]
     },
     "execution_count": 39,
     "metadata": {},
     "output_type": "execute_result"
    }
   ],
   "source": [
    "os.listdir(\"test\")"
   ]
  },
  {
   "cell_type": "markdown",
   "metadata": {},
   "source": [
    "Because of the checkpointing we can restart the model at any time and it will pick up where it left off:"
   ]
  },
  {
   "cell_type": "code",
   "execution_count": 55,
   "metadata": {
    "scrolled": true
   },
   "outputs": [
    {
     "name": "stdout",
     "output_type": "stream",
     "text": [
      "               Time | Epoch | Learning rate | Train loss | Validation loss | RocAuc_sars_cov_two_cl_protease_active | PrAuc_sars_cov_two_cl_protease_active | GPU Memory (MB)\n"
     ]
    },
    {
     "name": "stderr",
     "output_type": "stream",
     "text": [
      "100%|█████████▉| 488/489 [00:22<00:00, 21.73it/s]\n"
     ]
    },
    {
     "name": "stdout",
     "output_type": "stream",
     "text": [
      "2020-12-01 14:05:24 |     4 |     1.000e-04 |     0.4742 |          0.7882 |                                 0.6776 |                                0.3641 |               0\n"
     ]
    }
   ],
   "source": [
    "T.train(n_epochs=1, device=device)"
   ]
  },
  {
   "cell_type": "markdown",
   "metadata": {},
   "source": [
    "# Different model types\n",
    "\n",
    "There are a few other models we can try, including:\n",
    "- Full-blown `ChemProp3D` (all edge features are a concatenation of bond and distance features, and they all get updated)\n",
    "- `SchNetFeatures` (SchNet model where node features get updated, and where the edge and node features include both graph and distance information)\n",
    "- `WeightedConformers` (straight SchNet model applied to conformers without any graph information)\n"
   ]
  },
  {
   "cell_type": "markdown",
   "metadata": {},
   "source": [
    "### ChemProp3D\n"
   ]
  },
  {
   "cell_type": "code",
   "execution_count": 41,
   "metadata": {},
   "outputs": [],
   "source": [
    "cp_params = {'model_type': 'ChemProp3D',\n",
    "             # only need to specify `mol_basis`, not `n_bond_hidden`\n",
    "             'mol_basis': 300,\n",
    "             'activation': 'ReLU',\n",
    "             'n_atom_basis': 133,\n",
    "             'n_bond_features': 26,\n",
    "             'n_convolutions': 2,\n",
    "             'n_filters': 64,\n",
    "             'n_gaussians': 10,\n",
    "             'cutoff': 5.0,\n",
    "             \n",
    "             'output_layers': [{'name': 'linear',\n",
    "                                # here there are 433 input features, because you simply get\n",
    "                                # the 300 hidden features + the 133 node features. There are\n",
    "                                # no additional 64 SchNet features because they're all mixed in\n",
    "                                # with the hidden features\n",
    "                               'param': {'in_features': 433, \n",
    "                                         'out_features': 300}},\n",
    "                                {'name': 'ReLU', 'param': {}}],\n",
    "             'mol_fp_layers': [],\n",
    "             \n",
    "             'boltzmann_dict': {'boltz_basis': 10,\n",
    "                                'dropout_rate': 0.1,\n",
    "                                'final_act': 'ReLU',\n",
    "                                'head_pool': 'concatenate',\n",
    "                                'mol_basis': 300,\n",
    "                                'num_heads': 3,\n",
    "                                 'type': 'linear_attention'},\n",
    "             \n",
    "             'readoutdict': {'sars_cov_two_cl_protease_active': [\n",
    "                                 {'name': 'linear',\n",
    "                                    'param': {'in_features': 900, \n",
    "                                              'out_features': 450}},\n",
    "                                 {'name': 'Dropout', 'param': {'p': 0.02}},\n",
    "                                 {'name': 'ReLU', 'param': {}},\n",
    "                                 {'name': 'linear', 'param': {'in_features': 450, \n",
    "                                                              'out_features': 1}},\n",
    "                                 {'name': 'Dropout', 'param': {'p': 0.02}}]\n",
    "                            },\n",
    "             \n",
    "             'classifier': True,\n",
    "             'gauss_embed': True,\n",
    "             'trainable_gauss': False,\n",
    "             'base_keys': ['sars_cov_two_cl_protease_active'],\n",
    "             'grad_keys': [],\n",
    "             'extra_features': [],\n",
    "             'ext_feat_types': [],\n",
    "             'use_mpnn': True,\n",
    "\n",
    "              # layers that convert node and bond features to\n",
    "              # hidden bond features. There are 133 atom features\n",
    "              # + 26 bond features = 159 input features\n",
    "             \n",
    "             'cp_input_layers': [{'name': 'linear',\n",
    "                                  'param': {'in_features': 159, \n",
    "                                            'out_features': 150}},\n",
    "                                  {'name': 'ReLU', 'param': {}}],\n",
    "             \n",
    "             # layers that convert node and distance features to\n",
    "             # hidden distance features. There are 133 atom features\n",
    "             # + 64 distance features = 197 input features.\n",
    "             \n",
    "             # The SchNet and ChemProp hidden edge features get concatenated \n",
    "             # to give edge features of dimension 300\n",
    "             \n",
    "             'schnet_input_layers': [{'name': 'linear',\n",
    "                                      'param': {'in_features': 197, \n",
    "                                                'out_features': 150}},\n",
    "                                      {'name': 'ReLU', 'param': {}}],\n",
    "             \n",
    "              # only one combined covolution dropout rate, rather than one\n",
    "              # for schnet and one for chemprop\n",
    "             'dropout_rate': 0.2}\n"
   ]
  },
  {
   "cell_type": "markdown",
   "metadata": {},
   "source": [
    "### SchNetFeatures"
   ]
  },
  {
   "cell_type": "code",
   "execution_count": 42,
   "metadata": {},
   "outputs": [],
   "source": [
    "n_atom_hidden = 300\n",
    "\n",
    "schnet_feat_params = {\n",
    "             'model_type': 'SchNetFeatures',\n",
    "             'n_bond_hidden': 300,\n",
    "             'activation': 'ReLU',\n",
    "             'n_atom_basis': 133,\n",
    "             # hidden size of the atomic features\n",
    "             'n_atom_hidden': n_atom_hidden,\n",
    "             'n_bond_features': 26,\n",
    "             'n_convolutions': 2,\n",
    "             'n_filters': 64,\n",
    "             'n_gaussians': 10,\n",
    "             'cutoff': 5.0,\n",
    "             'mol_fp_layers': [],\n",
    "             \n",
    "             'boltzmann_dict': {'boltz_basis': 10,\n",
    "                                'dropout_rate': 0.1,\n",
    "                                'final_act': 'ReLU',\n",
    "                                'head_pool': 'concatenate',\n",
    "                                 # because we're using atom features\n",
    "                                'mol_basis': n_atom_hidden,\n",
    "                                'num_heads': 3,\n",
    "                                'type': 'linear_attention'},\n",
    "             \n",
    "             'readoutdict': {'sars_cov_two_cl_protease_active': [\n",
    "                                 {'name': 'linear',\n",
    "                                    # because we're using atom features\n",
    "                                    'param': {'in_features': n_atom_hidden * 3, \n",
    "                                              'out_features': 100}},\n",
    "                                 {'name': 'Dropout', 'param': {'p': 0.02}},\n",
    "                                 {'name': 'ReLU', 'param': {}},\n",
    "                                 {'name': 'linear', 'param': {'in_features': 100, \n",
    "                                                              'out_features': 1}},\n",
    "                                 {'name': 'Dropout', 'param': {'p': 0.02}}]\n",
    "                            },\n",
    "             \n",
    "             'classifier': True,\n",
    "             'gauss_embed': True,\n",
    "             'trainable_gauss': False,\n",
    "             'base_keys': ['sars_cov_two_cl_protease_active'],\n",
    "             'grad_keys': [],\n",
    "             'extra_features': [],\n",
    "             'ext_feat_types': [],\n",
    "             'use_mpnn': True,\n",
    "             'dropout_rate': 0.2}\n"
   ]
  },
  {
   "cell_type": "markdown",
   "metadata": {},
   "source": [
    "### WeightedConformers (SchNet without graph features)"
   ]
  },
  {
   "cell_type": "code",
   "execution_count": 43,
   "metadata": {},
   "outputs": [],
   "source": [
    "wc_params = {\n",
    "             'model_type': 'WeightedConformers',\n",
    "             'activation': 'ReLU',\n",
    "             'n_atom_basis': 300,\n",
    "             'n_convolutions': 2,\n",
    "             'n_filters': 64,\n",
    "             'n_gaussians': 10,\n",
    "             'cutoff': 5.0,\n",
    "             'mol_fp_layers': [],\n",
    "             \n",
    "             'boltzmann_dict': {'boltz_basis': 10,\n",
    "                                'dropout_rate': 0.1,\n",
    "                                'final_act': 'ReLU',\n",
    "                                'head_pool': 'concatenate',\n",
    "                                'mol_basis': 300,\n",
    "                                'num_heads': 3,\n",
    "                                'type': 'linear_attention'},\n",
    "             \n",
    "             'readoutdict': {'sars_cov_two_cl_protease_active': [\n",
    "                                 {'name': 'linear',\n",
    "                                    'param': {'in_features': 300 * 3, \n",
    "                                              'out_features': 450}},\n",
    "                                 {'name': 'Dropout', 'param': {'p': 0.02}},\n",
    "                                 {'name': 'ReLU', 'param': {}},\n",
    "                                 {'name': 'linear', 'param': {'in_features': 450, \n",
    "                                                              'out_features': 1}},\n",
    "                                 {'name': 'Dropout', 'param': {'p': 0.02}}]\n",
    "                            },\n",
    "             \n",
    "             'classifier': True,\n",
    "             'gauss_embed': True,\n",
    "             'trainable_gauss': False,\n",
    "             'base_keys': ['sars_cov_two_cl_protease_active'],\n",
    "             'grad_keys': [],\n",
    "             'extra_features': [],\n",
    "             'ext_feat_types': [],\n",
    "             'use_mpnn': True,\n",
    "             'dropout_rate': 0.2}\n",
    "\n"
   ]
  },
  {
   "cell_type": "markdown",
   "metadata": {},
   "source": [
    "### Training\n",
    "- Here we do a short train of each model to check that everything is working:"
   ]
  },
  {
   "cell_type": "code",
   "execution_count": null,
   "metadata": {},
   "outputs": [],
   "source": []
  },
  {
   "cell_type": "code",
   "execution_count": 44,
   "metadata": {},
   "outputs": [
    {
     "name": "stdout",
     "output_type": "stream",
     "text": [
      "\n",
      "Training model of type ChemProp3D\n",
      "\n",
      "               Time | Epoch | Learning rate | Train loss | Validation loss | RocAuc_sars_cov_two_cl_protease_active | PrAuc_sars_cov_two_cl_protease_active | GPU Memory (MB)\n"
     ]
    },
    {
     "name": "stderr",
     "output_type": "stream",
     "text": [
      "100%|█████████▉| 488/489 [01:11<00:00,  6.85it/s]\n"
     ]
    },
    {
     "name": "stdout",
     "output_type": "stream",
     "text": [
      "2020-12-01 13:54:09 |     1 |     1.000e-04 |   194.2165 |          1.1996 |                                 0.4735 |                                0.5138 |               0\n"
     ]
    },
    {
     "name": "stderr",
     "output_type": "stream",
     "text": [
      "100%|█████████▉| 488/489 [01:18<00:00,  6.19it/s]\n"
     ]
    },
    {
     "name": "stdout",
     "output_type": "stream",
     "text": [
      "2020-12-01 13:55:42 |     2 |     1.000e-04 |    72.4931 |          1.1991 |                                 0.5102 |                                0.5170 |               0\n",
      "\n",
      "Training model of type SchNetFeatures\n",
      "\n",
      "               Time | Epoch | Learning rate | Train loss | Validation loss | RocAuc_sars_cov_two_cl_protease_active | PrAuc_sars_cov_two_cl_protease_active | GPU Memory (MB)\n"
     ]
    },
    {
     "name": "stderr",
     "output_type": "stream",
     "text": [
      " 98%|█████████▊| 48/49 [00:10<00:00,  4.52it/s]\n"
     ]
    },
    {
     "name": "stdout",
     "output_type": "stream",
     "text": [
      "2020-12-01 13:55:54 |     1 |     1.000e-04 |     0.7373 |          1.0180 |                                 0.5719 |                                0.1472 |               0\n"
     ]
    },
    {
     "name": "stderr",
     "output_type": "stream",
     "text": [
      " 98%|█████████▊| 48/49 [00:09<00:00,  5.06it/s]\n"
     ]
    },
    {
     "name": "stdout",
     "output_type": "stream",
     "text": [
      "2020-12-01 13:56:06 |     2 |     1.000e-04 |     0.4540 |          1.0305 |                                 0.5764 |                                0.1475 |               0\n",
      "\n",
      "Training model of type WeightedConformers\n",
      "\n",
      "               Time | Epoch | Learning rate | Train loss | Validation loss | RocAuc_sars_cov_two_cl_protease_active | PrAuc_sars_cov_two_cl_protease_active | GPU Memory (MB)\n"
     ]
    },
    {
     "name": "stderr",
     "output_type": "stream",
     "text": [
      "100%|█████████▉| 488/489 [01:20<00:00,  6.10it/s]\n"
     ]
    },
    {
     "name": "stdout",
     "output_type": "stream",
     "text": [
      "2020-12-01 13:57:37 |     1 |     1.000e-04 |     1.8054 |          1.1585 |                                 0.5900 |                                0.1867 |               0\n"
     ]
    },
    {
     "name": "stderr",
     "output_type": "stream",
     "text": [
      "100%|█████████▉| 488/489 [01:09<00:00,  7.01it/s]\n"
     ]
    },
    {
     "name": "stdout",
     "output_type": "stream",
     "text": [
      "2020-12-01 13:58:58 |     2 |     1.000e-04 |     0.8542 |          0.7307 |                                 0.6426 |                                0.2532 |               0\n"
     ]
    }
   ],
   "source": [
    "params_list = [cp_params, schnet_feat_params, wc_params]\n",
    "\n",
    "\n",
    "for params in params_list:\n",
    "    model = get_model(params, model_type=params['model_type'])\n",
    "    \n",
    "    device = 2\n",
    "    model_path = \"./test_2\"\n",
    "    if os.path.isdir(model_path):\n",
    "        if os.path.isdir('backup_2'):\n",
    "            shutil.rmtree('backup_2')\n",
    "        shutil.move(model_path, 'backup_2')\n",
    "\n",
    "    trainable_params = filter(lambda p: p.requires_grad, model.parameters())\n",
    "    optimizer = Adam(trainable_params, lr=1e-4)\n",
    "    train_hooks = [hooks.MaxEpochHook(max_epochs),\n",
    "                   hooks.ReduceLROnPlateauHook(\n",
    "                        optimizer=optimizer,\n",
    "                        patience=10,\n",
    "                        factor=0.5,\n",
    "                        min_lr=1e-7,\n",
    "                        window_length=1,\n",
    "                        stop_after_min=True\n",
    "                    ),\n",
    "                   hooks.PrintingHook(\n",
    "                        log_path,\n",
    "                        metrics=train_metrics,\n",
    "                        separator=' | ',\n",
    "                        world_size=1,\n",
    "                        global_rank=0\n",
    "                    )\n",
    "    ]\n",
    "    loss_fn = loss.build_logits_cross_entropy_loss({key: 1})\n",
    "    \n",
    "    print(f\"\\nTraining model of type {model.__class__.__name__}\\n\")\n",
    "\n",
    "    if model.__class__.__name__ == \"SchNetFeatures\":\n",
    "        batch_size = 10\n",
    "        model_kwargs = {}\n",
    "    else:\n",
    "        batch_size = 1\n",
    "        model_kwargs = {\"sub_batch_size\": 1}\n",
    "        \n",
    "    train_loader = DataLoader(dataset=train,\n",
    "                              batch_size=batch_size,\n",
    "                              collate_fn=collate_dicts,\n",
    "                              shuffle=False,\n",
    "                              sampler=sampler)\n",
    "\n",
    "    val_loader = DataLoader(dataset=val,\n",
    "                           batch_size=batch_size,\n",
    "                           collate_fn=collate_dicts,\n",
    "                           shuffle=False,)\n",
    "\n",
    "    T = Trainer(\n",
    "        model_path=\"./test_2\",\n",
    "        model=model,\n",
    "        loss_fn=loss_fn,\n",
    "        optimizer=optimizer,\n",
    "        train_loader=train_loader,\n",
    "        validation_loader=val_loader,\n",
    "        world_size=1,\n",
    "        global_rank=0,\n",
    "        hooks=train_hooks,\n",
    "\n",
    "        model_kwargs=model_kwargs,\n",
    "        mini_batches=32,\n",
    "\n",
    "    )\n",
    "\n",
    "    T.train(n_epochs=2, device=1)"
   ]
  },
  {
   "cell_type": "markdown",
   "metadata": {},
   "source": [
    "# Exporting results and using transfer learning"
   ]
  },
  {
   "cell_type": "markdown",
   "metadata": {},
   "source": [
    "The model can be used to generate predictions, conformer fingerprints, pooled fingerprints, and learned conformer weights. To get and save these predictions, we run `transfer/get_fps/make_fps.sh`, using the config file `config/cov2_cl_test.json`. Running\n",
    "\n",
    "```\n",
    "cd ../scripts/cp3d/transfer/get_fps\n",
    "bash make_fps.sh\n",
    "```\n",
    "\n",
    "should give you something like this:\n",
    "\n",
    "```\n",
    "\n",
    "Evaluating model using the \"binary_cross_entropy\" metric\n",
    "python make_fps.py --metric \"binary_cross_entropy\" --config_file config/cov2_cl_test.json\n",
    "python /home/saxelrod/Repo/projects/public_nff/NeuralForceField/scripts/cp3d/transfer/get_fps/fps_single.py --config_file config/cov2_cl_test_base.json\n",
    "Loading model with best validation binary_cross_entropy\n",
    "Loading model state dict from /home/saxelrod/Repo/projects/public_nff/NeuralForceField/tutorials/test/checkpoints/checkpoint-1.pth.tar\n",
    "100%|█████████████████████████████████████████| 485/485 [00:25<00:00, 18.84it/s]\n",
    "100%|█████████████████████████████████████████| 1/1 [00:27<00:00, 27.89s/it]\n",
    "100%|█████████████████████████████████████████| 157/157 [00:08<00:00, 18.75it/s]\n",
    "100%|█████████████████████████████████████████| 1/1 [00:08<00:00,  8.53s/it]\n",
    "100%|█████████████████████████████████████████| 162/162 [00:08<00:00, 18.57it/s]\n",
    "100%|█████████████████████████████████████████| 1/1 [00:08<00:00,  8.82s/it]\n",
    "100%|█████████████████████████████████████████| 3/3 [00:45<00:00, 15.11s/it]\n",
    "\n",
    "Evaluating model using the \"prc-auc\" metric\n",
    "python make_fps.py --metric \"prc-auc\" --config_file config/cov2_cl_test.json\n",
    "python /home/saxelrod/Repo/projects/public_nff/NeuralForceField/scripts/cp3d/transfer/get_fps/fps_single.py --config_file config/cov2_cl_test_base.json\n",
    "Loading model with best validation prc-auc\n",
    "Loading model state dict from /home/saxelrod/Repo/projects/public_nff/NeuralForceField/tutorials/test/checkpoints/checkpoint-4.pth.tar\n",
    "100%|██████████████████████████████████████████| 485/485 [00:25<00:00, 19.27it/s]\n",
    "100%|██████████████████████████████████████████| 1/1 [00:27<00:00, 27.35s/it]\n",
    "100%|██████████████████████████████████████████| 157/157 [00:08<00:00, 18.66it/s]\n",
    "100%|██████████████████████████████████████████| 1/1 [00:08<00:00,  8.56s/it]\n",
    "100%|██████████████████████████████████████████| 162/162 [00:08<00:00, 18.63it/s]\n",
    "100%|██████████████████████████████████████████| 1/1 [00:08<00:00,  8.80s/it]\n",
    "100%|██████████████████████████████████████████| 3/3 [00:44<00:00, 14.94s/it]\n",
    "\n",
    "Evaluating model using the \"auc\" metric\n",
    "python make_fps.py --metric \"auc\" --config_file config/cov2_cl_test.json\n",
    "python /home/saxelrod/Repo/projects/public_nff/NeuralForceField/scripts/cp3d/transfer/get_fps/fps_single.py --config_file config/cov2_cl_test_base.json\n",
    "Loading model with best validation auc\n",
    "Loading model state dict from /home/saxelrod/Repo/projects/public_nff/NeuralForceField/tutorials/test/checkpoints/checkpoint-4.pth.tar\n",
    "100%|████████████████████████████████████████████| 485/485 [00:25<00:00, 18.91it/s]\n",
    "100%|████████████████████████████████████████████| 1/1 [00:27<00:00, 27.79s/it]\n",
    "100%|████████████████████████████████████████████| 157/157 [00:08<00:00, 18.07it/s]\n",
    "100%|████████████████████████████████████████████| 1/1 [00:08<00:00,  8.84s/it]\n",
    "100%|████████████████████████████████████████████| 162/162 [00:08<00:00, 18.45it/s]\n",
    "100%|████████████████████████████████████████████| 1/1 [00:08<00:00,  8.89s/it]\n",
    "100%|████████████████████████████████████████████| 3/3 [00:45<00:00, 15.20s/it]\n",
    "\n",
    "\n",
    "```\n",
    "\n",
    "\n",
    "The script generates predictions using the best model, but with different definitions of best: the lowest validation loss, the highest validation auc, etc. Let's look, for example, at predictions from a model with the highest validation prc-auc (note, this is a separate pre-trained model from the one above, so you will see different results):"
   ]
  },
  {
   "cell_type": "code",
   "execution_count": 57,
   "metadata": {},
   "outputs": [],
   "source": [
    "folder = \"./cov_2_cl_feats\"\n",
    "path = os.path.join(folder, \"pred_prc-auc_test.pickle\")\n",
    "\n",
    "with open(path, \"rb\") as f:\n",
    "    dic = pickle.load(f)"
   ]
  },
  {
   "cell_type": "markdown",
   "metadata": {},
   "source": [
    "Let's look at a sample species:"
   ]
  },
  {
   "cell_type": "code",
   "execution_count": 58,
   "metadata": {},
   "outputs": [
    {
     "data": {
      "text/plain": [
       "dict_keys(['fp', 'conf_fps', 'learned_weights', 'energy', 'boltz_weights', 'true', 'pred'])"
      ]
     },
     "execution_count": 58,
     "metadata": {},
     "output_type": "execute_result"
    }
   ],
   "source": [
    "smiles = list(dic.keys())[10]\n",
    "dic[smiles].keys()"
   ]
  },
  {
   "cell_type": "markdown",
   "metadata": {},
   "source": [
    "We get the conformer fingerprints (`conf_fps`), the pooled fingerprints (`fp`), the learned weights, the Boltzmann weights, the energy, and the predicted vs. true values. We can use these results, for example, to calculate the PRC-AUC, or any other metric.\n",
    "\n",
    "If we want to use these features as extra features in ChemProp, we first run\n",
    "\n",
    "\n",
    "```\n",
    "cd ../scripts/cp3d/transfer/export_to_cp\n",
    "bash save_feats.sh\n",
    "```\n",
    "\n",
    "\n",
    "with the config file `config/cov_2_cl_test.json`, which should give you something like this:\n",
    "\n",
    "```\n",
    "python save_feats.py --config_file config/cov_2_cl_test.json\n",
    "Saved 12 files with features \n",
    "Used model in /home/saxelrod/Repo/projects/public_nff/NeuralForceField/tutorials/cov_2_cl_feats \n",
    "\n",
    "Save folder: \n",
    "/home/saxelrod/Repo/projects/public_nff/NeuralForceField/tutorials/cov_2_cl_feat_for_chemprop\n",
    "\n",
    "Save names: \n",
    "train_binary_cross_entropy.npz\n",
    "val_binary_cross_entropy.npz\n",
    "test_binary_cross_entropy.npz\n",
    "train_auc.npz\n",
    "val_auc.npz\n",
    "test_auc.npz\n",
    "train_prc-auc.npz\n",
    "val_prc-auc.npz\n",
    "test_prc-auc.npz\n",
    "hyperopt_binary_cross_entropy.npz\n",
    "hyperopt_auc.npz\n",
    "hyperopt_prc-auc.npz\n",
    "\n",
    "```\n",
    "\n",
    "\n",
    "And now that the features are in ChemProp-usable form, we can run `run_cp/run_all_tls.sh`, which will train ChemProp models using the different sets of features above (`loss`, `auc`, and `prc-auc`). Finally we can get all the ChemProp model predictions on the test set using `run_cp/predict.sh`.\n",
    "\n",
    "You can use the config folder `config/cov2_test`, which uses the models you created in the tutorial for transfer learning. It will give you an idea of what transfer learning looks like with hyperparameter optimization, testing and training, without taking too long (only a few epochs and hyperparameter combinations are used in these sample config files)."
   ]
  },
  {
   "cell_type": "code",
   "execution_count": null,
   "metadata": {},
   "outputs": [],
   "source": []
  }
 ],
 "metadata": {
  "kernelspec": {
   "display_name": "Python [conda env:nff]",
   "language": "python",
   "name": "nff"
  },
  "language_info": {
   "codemirror_mode": {
    "name": "ipython",
    "version": 3
   },
   "file_extension": ".py",
   "mimetype": "text/x-python",
   "name": "python",
   "nbconvert_exporter": "python",
   "pygments_lexer": "ipython3",
   "version": "3.7.3"
  }
 },
 "nbformat": 4,
 "nbformat_minor": 2
}
