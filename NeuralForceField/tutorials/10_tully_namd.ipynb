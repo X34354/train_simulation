{
 "cells": [
  {
   "cell_type": "code",
   "execution_count": 1,
   "metadata": {},
   "outputs": [],
   "source": [
    "%load_ext autoreload\n",
    "%autoreload 2\n",
    "\n",
    "import sys\n",
    "sys.path.insert(0, \"..\")\n",
    "sys.path.insert(0, \"../..\")\n",
    "\n"
   ]
  },
  {
   "cell_type": "markdown",
   "metadata": {},
   "source": [
    "# Non-adiabatic dynamics \n",
    "This tutorial shows how to run non-adiabatic dynamics with a trained model using [Tully's surface hopping](https://doi.org/10.1063/1.459170).\n",
    "\n",
    "First let's import dependencies:\n"
   ]
  },
  {
   "cell_type": "code",
   "execution_count": 4,
   "metadata": {},
   "outputs": [],
   "source": [
    "import os\n",
    "import json\n",
    "from nff.md.tully.io import get_results, load_json, get_atoms\n",
    "from nff.md.tully.dynamics import NeuralTully, CombinedNeuralTully\n",
    "from ase.io.trajectory import Trajectory\n",
    "import nglview as nv\n",
    "\n"
   ]
  },
  {
   "cell_type": "code",
   "execution_count": null,
   "metadata": {},
   "outputs": [],
   "source": []
  },
  {
   "cell_type": "markdown",
   "metadata": {},
   "source": [
    "Now we'll find a trained model. The trained azobenzene models can be found in `NeuralForceField/models/azo_derivatives`. The sub-folders are for diabatic and adiabatic models, trained either with the full set of geometries, or with 40 species held out. There are also three models trained with different splits and different initialization from random seeds:"
   ]
  },
  {
   "cell_type": "code",
   "execution_count": 5,
   "metadata": {},
   "outputs": [
    {
     "name": "stdout",
     "output_type": "stream",
     "text": [
      "['all_diabatic', 'holdout_diabatic', 'holdout_adiabatic']\n",
      "['seed_0', 'seed_2', 'seed_1']\n"
     ]
    }
   ],
   "source": [
    "print(os.listdir('../models/azo_derivatives'))\n",
    "print(os.listdir('../models/azo_derivatives/all_diabatic'))"
   ]
  },
  {
   "cell_type": "markdown",
   "metadata": {},
   "source": [
    "We'll use the diabatic model trained on all species, with seed 0: `../models/azo_derivatives/all_diabatic/seed_0`."
   ]
  },
  {
   "cell_type": "markdown",
   "metadata": {},
   "source": [
    "## Tully\n",
    "\n",
    "The script for Tully's surface hopping is `NeuralForceField/nff/md/tully/dynamics.py`. If you run the script and supply the path of a JSON parameter file, it will do the rest for you. Here we'll go through some parameters to give, and show a little of what goes on behind the scenes.\n",
    "\n",
    "We'll have to define `ground_params`, `tully_params`, and `all_params`. The first is for parameters in the ground state MD simulation, and the second for Tully's surface hopping. The third is for some remaining parameters, which we'll explain below.\n",
    "\n",
    "Let's define `ground_params`:"
   ]
  },
  {
   "cell_type": "code",
   "execution_count": 6,
   "metadata": {},
   "outputs": [],
   "source": [
    "ground_params = {'ttime': 50, # tau = ttime * dt is the relaxation time\n",
    "                 'logfile': 'ground.log', # log file for ground state MD\n",
    "                 'max_time': 200, # total time in fs\n",
    "                 'savefile': 'ground.trj', # output file with saved geometries\n",
    "                 'timestep': 0.5, # dt in fs\n",
    "                 'equil_time': 100, # ignore this amount of time (fs) when sampling\n",
    "                                  # geoms for NAMD\n",
    "                 'thermostat': 'nosehoover', # use the Nose Hoover thermostat\n",
    "                 'loginterval': 5, # log the energy and save geoms every 5 steps\n",
    "                 'temperature': 300, # temperature in Kelvin\n",
    "                 'maxwell_temp': 300, # initialization temperature from\n",
    "                                      # Maxwell-Boltzmann distribution\n",
    "                 'nbr_update_period': 10, # update the neighbor list every 10 steps\n",
    "                 'cutoff': 5.0, # neighbor list cutoff in Angstrom \n",
    "                 'cutoff_skin': 2.0, # extra distance added to cutoff when updating\n",
    "                                     # neighbor list, to account for atoms coming into\n",
    "                                     # the 5 A sphere between updates \n",
    "                 'model_type': 'PainnDiabat', # model class we're using\n",
    "                 'device': 1, # GPU to use. Set to \"cpu\" if you don't have a GPU\n",
    "                }"
   ]
  },
  {
   "cell_type": "markdown",
   "metadata": {},
   "source": [
    "Now let's do `tully_params`:"
   ]
  },
  {
   "cell_type": "code",
   "execution_count": 7,
   "metadata": {},
   "outputs": [],
   "source": [
    "diabat_keys = [['d_00', 'd_01', 'd_02'],\n",
    "               ['d_01', 'd_11', 'd_12'],\n",
    "               ['d_02', 'd_12', 'd_22']]\n",
    "\n",
    "tully_params = {\n",
    "                 'dt': 0.5, # dt in fs\n",
    "                 'cutoff': 5.0, # neighbor list cutoff in Angstrom \n",
    "                 'hop_eqn': 'sharc', # use the SHARC equation for computing the \n",
    "                                     # hopping probability\n",
    "                 'num_trj': 10, # number of surface hopping trajectories\n",
    "                 'max_time': 200, # maximum time in fs\n",
    "                 'batch_size': 5, # number of trajectories to batch together \n",
    "                                  # so that inference is done in parallel\n",
    "                 'num_states': 2, # number of adiabatic states\n",
    "                 'cutoff_skin': 2.0, # extra distance added to cutoff when updating\n",
    "                                     # neighbor list, to account for atoms coming into\n",
    "                                     # the 5 A sphere between updates \n",
    "                 'decoherence': {'name': 'truhlar'}, # use Truhlar's decoherence method\n",
    "                 'max_gap_hop': None, # maximum gap, above which hops cannot occur\n",
    "                 'save_period': 10, # save every 10 steps (5 fs)\n",
    "                 'initial_surf': 1, # start on the first excited adiabatic state\n",
    "                 'initial_time': 0.0, # start at t = 0\n",
    "                 'elec_substeps': 25, # 25 electronic steps for every nuclear step\n",
    "                 'reload_ground': False, # If the ground state trajectory is already\n",
    "                                        # complete from a previous run, then do not load\n",
    "                                        # it instead of re-running\n",
    "                 'diabat_propagate': True, # propagate in the diabatic basis\n",
    "                 'simple_vel_scale': True, # after a hop, simply rescale the velocity\n",
    "                                           # to conserve energy, instead of scaling in\n",
    "                                           # NACV direction\n",
    "                 'nbr_update_period': 10, # update neighbor list every 10 steps\n",
    "                 'explicit_diabat_prop': True, # propagate in diabatic basis,                                 \n",
    "                 'device': 1, # GPU to use. Set to \"cpu\" if you don't have a GPU\n",
    "                 'diabat_keys': diabat_keys # names of diabatic energies predicted\n",
    "                                # by model\n",
    "                \n",
    "    \n",
    "                \n",
    "}"
   ]
  },
  {
   "cell_type": "markdown",
   "metadata": {},
   "source": [
    "Lastly we'll define `all_params`, which has the starting coordinates and the model path:"
   ]
  },
  {
   "cell_type": "code",
   "execution_count": 9,
   "metadata": {},
   "outputs": [],
   "source": [
    "with open('data/azo_coords.json', 'r') as f:\n",
    "    coords = json.load(f)\n",
    "\n",
    "all_params = {\"coords\": coords, # starting geometry of the molecule\n",
    "              'model_path': '../models/azo_derivatives/all_diabatic/seed_0'\n",
    "             }"
   ]
  },
  {
   "cell_type": "markdown",
   "metadata": {},
   "source": [
    "When we run the script from the command line, it parses these three dictionaries from a file and makes an instance of `CombinedNeuralTully`, like this:"
   ]
  },
  {
   "cell_type": "code",
   "execution_count": 10,
   "metadata": {},
   "outputs": [
    {
     "name": "stderr",
     "output_type": "stream",
     "text": [
      "/home/saxelrod/miniconda3/envs/nff/lib/python3.7/site-packages/ase/md/md.py:48: FutureWarning: Specify the temperature in K using the 'temperature_K' argument\n",
      "  warnings.warn(FutureWarning(w))\n"
     ]
    }
   ],
   "source": [
    "atomsbatch = get_atoms(ground_params=ground_params,\n",
    "                      all_params=all_params)\n",
    "\n",
    "tully_params.update({\"model_path\": all_params['model_path']})\n",
    "\n",
    "neural_tully = CombinedNeuralTully(atoms=atomsbatch,\n",
    "                                   ground_params=ground_params,\n",
    "                                   tully_params=tully_params)\n",
    "    \n"
   ]
  },
  {
   "cell_type": "markdown",
   "metadata": {},
   "source": [
    "The first thing it does is make an `AtomsBatch` object. This is a class we made that inherits from the ASE `Atoms` object, and has othe functionalities to interface with NFF. Then an instance of `CombinedNeuralTully` is made. This object runs ground-state dynamics to generate starting frames and velocities, and then performs surface hopping. It's called \"combined\" because it combines ground- and excited-state dynamics.\n",
    "\n",
    "For an example of how you would use this script in practice, check out `data/tully_info.json`. If you run\n",
    "```bash\n",
    "conda activate nff\n",
    "python ../nff/md/tully/dynamics.py --params_file data/tully_info.json\n",
    "```\n",
    "then you should be able to peform neural Tully in one line. Note that in `tully_info.json`, the `all_params` part of the dictionary is its body, i.e. everything that doesn't have the key `ground_params` or `tully_params`.\n",
    "\n",
    "**Note**: it is very important to have PyTorch version >=1.9 installed. PyTorch is used for exponentiation of complex matrices, which the older versions could not do. Instead of raising an error, the old versions silently return garbage!"
   ]
  },
  {
   "cell_type": "code",
   "execution_count": 11,
   "metadata": {},
   "outputs": [
    {
     "name": "stderr",
     "output_type": "stream",
     "text": [
      "../nff/nn/modules/diabat.py:141: UserWarning: torch.symeig is deprecated in favor of torch.linalg.eigh and will be removed in a future PyTorch release.\n",
      "The default behavior has changed from using the upper triangular portion of the matrix by default to using the lower triangular portion.\n",
      "L, _ = torch.symeig(A, upper=upper)\n",
      "should be replaced with\n",
      "L = torch.linalg.eigvalsh(A, UPLO='U' if upper else 'L')\n",
      "and\n",
      "L, V = torch.symeig(A, eigenvectors=True)\n",
      "should be replaced with\n",
      "L, V = torch.linalg.eigh(A, UPLO='U' if upper else 'L') (Triggered internally at  /opt/conda/conda-bld/pytorch_1623448224956/work/aten/src/ATen/native/BatchLinearAlgebra.cpp:2500.)\n",
      "  ad_energies, u = torch.symeig(d_mat, True)\n"
     ]
    }
   ],
   "source": [
    "# This takes a few minutes to run\n",
    "neural_tully.run()"
   ]
  },
  {
   "cell_type": "markdown",
   "metadata": {},
   "source": [
    "We can view the ground-state log file:"
   ]
  },
  {
   "cell_type": "code",
   "execution_count": 12,
   "metadata": {
    "scrolled": true
   },
   "outputs": [
    {
     "name": "stdout",
     "output_type": "stream",
     "text": [
      "Time[ps]      Etot[eV]     Epot[eV]     Ekin[eV]    T[K]\n",
      "0.0000           0.1020      -0.8128       0.9147   208.1\n",
      "0.0025           0.1067      -0.5076       0.6143   139.8\n",
      "0.0050           0.1085      -0.3109       0.4194    95.4\n",
      "0.0075           0.1146      -0.2349       0.3495    79.5\n",
      "0.0100           0.1211      -0.4860       0.6071   138.2\n",
      "0.0125           0.1381      -0.3638       0.5020   114.2\n",
      "0.0150           0.1522      -0.3410       0.4932   112.2\n",
      "0.0175           0.1703      -0.2687       0.4390    99.9\n",
      "0.0200           0.1911      -0.4260       0.6171   140.4\n",
      "0.0225           0.2206      -0.2439       0.4645   105.7\n",
      "0.0250           0.2459      -0.2879       0.5339   121.5\n",
      "0.0275           0.2795      -0.2799       0.5594   127.3\n",
      "0.0300           0.3203      -0.3854       0.7057   160.6\n",
      "0.0325           0.3676      -0.2013       0.5689   129.5\n",
      "0.0350           0.4128      -0.2612       0.6741   153.4\n",
      "0.0375           0.4683      -0.2329       0.7012   159.6\n",
      "0.0400           0.5327      -0.2912       0.8239   187.5\n",
      "0.0425           0.5994      -0.0355       0.6349   144.5\n",
      "0.0450           0.6607      -0.0697       0.7303   166.2\n",
      "0.0475           0.7327      -0.0181       0.7508   170.8\n",
      "0.0500           0.8153      -0.0754       0.8908   202.7\n",
      "0.0525           0.9056       0.0829       0.8226   187.2\n",
      "0.0550           1.0016       0.0137       0.9880   224.8\n",
      "0.0575           1.1097       0.1259       0.9838   223.9\n",
      "0.0600           1.2241       0.1623       1.0618   241.6\n",
      "0.0625           1.3393       0.3681       0.9712   221.0\n",
      "0.0650           1.4624       0.2635       1.1989   272.8\n",
      "0.0675           1.6021       0.3954       1.2067   274.6\n",
      "0.0700           1.7537       0.3026       1.4511   330.2\n",
      "0.0725           1.9274       0.3395       1.5879   361.3\n",
      "0.0750           2.1185       0.2862       1.8323   416.9\n",
      "0.0775           2.2994       0.8214       1.4780   336.3\n",
      "0.0800           2.4414       1.1728       1.2686   288.7\n",
      "0.0825           2.5797       1.0752       1.5046   342.3\n",
      "0.0850           2.7707       0.4700       2.3008   523.5\n",
      "0.0875           2.9876       0.8534       2.1342   485.6\n",
      "0.0900           3.1606       1.2868       1.8738   426.4\n",
      "0.0925           3.3103       1.4730       1.8373   418.1\n",
      "0.0950           3.4718       0.8334       2.6384   600.3\n",
      "0.0975           3.6493       1.1043       2.5449   579.1\n",
      "0.1000           3.7848       1.3261       2.4587   559.4\n",
      "0.1025           3.8978       1.3297       2.5681   584.3\n",
      "0.1050           3.9858       0.7977       3.1881   725.4\n",
      "0.1075           4.0498       1.4365       2.6132   594.6\n",
      "0.1100           4.0677       1.8398       2.2279   506.9\n",
      "0.1125           4.0638       1.7222       2.3416   532.8\n",
      "0.1150           4.0298       1.1184       2.9114   662.5\n",
      "0.1175           3.9715       1.3888       2.5826   587.6\n",
      "0.1200           3.8914       1.6587       2.2326   508.0\n",
      "0.1225           3.7958       1.5797       2.2161   504.2\n",
      "0.1250           3.6710       0.9931       2.6779   609.3\n",
      "0.1275           3.5045       0.8887       2.6158   595.2\n",
      "0.1300           3.3347       1.1677       2.1670   493.1\n",
      "0.1325           3.1627       1.1052       2.0575   468.2\n",
      "0.1350           2.9801       0.8233       2.1568   490.8\n",
      "0.1375           2.7857       0.8850       1.9007   432.5\n",
      "0.1400           2.6145       0.9907       1.6238   369.5\n",
      "0.1425           2.4406       0.7564       1.6842   383.2\n",
      "0.1450           2.2565       0.4604       1.7961   408.7\n",
      "0.1475           2.0602       0.4177       1.6425   373.7\n",
      "0.1500           1.8942       0.6117       1.2824   291.8\n",
      "0.1525           1.7626       0.7775       0.9851   224.1\n",
      "0.1550           1.6593       0.7130       0.9464   215.3\n",
      "0.1575           1.5437       0.4594       1.0843   246.7\n",
      "0.1600           1.4218       0.2734       1.1484   261.3\n",
      "0.1625           1.2949       0.1911       1.1038   251.2\n",
      "0.1650           1.1887       0.2652       0.9235   210.1\n",
      "0.1675           1.0959       0.2691       0.8268   188.1\n",
      "0.1700           1.0118       0.1558       0.8560   194.8\n",
      "0.1725           0.9223       0.0419       0.8804   200.3\n",
      "0.1750           0.8443       0.0480       0.7964   181.2\n",
      "0.1775           0.7706       0.0076       0.7630   173.6\n",
      "0.1800           0.7050      -0.0402       0.7453   169.6\n",
      "0.1825           0.6406      -0.0729       0.7135   162.3\n",
      "0.1850           0.5899      -0.0065       0.5964   135.7\n",
      "0.1875           0.5457      -0.0150       0.5607   127.6\n",
      "0.1900           0.5057      -0.1150       0.6208   141.3\n",
      "0.1925           0.4608      -0.2290       0.6898   157.0\n",
      "0.1950           0.4223      -0.2110       0.6333   144.1\n",
      "0.1975           0.3869      -0.2326       0.6195   141.0\n",
      "0.2000           0.3556      -0.2915       0.6471   147.2\n",
      "\n"
     ]
    }
   ],
   "source": [
    "with open('ground.log', 'r') as f:\n",
    "    ground_log = f.read()\n",
    "print(ground_log)"
   ]
  },
  {
   "cell_type": "markdown",
   "metadata": {},
   "source": [
    "We see that all energies fluctuate, as kinetic energy is being added into the system fo the thermostat. The temperature also varies, and over enough time it will average out to 300 K. \n",
    "\n",
    "To get the actual geometries, energies, and forces, we can load the trajectory file. And we can visualize it with `nglview`:\n",
    "\n"
   ]
  },
  {
   "cell_type": "code",
   "execution_count": 13,
   "metadata": {},
   "outputs": [
    {
     "data": {
      "application/vnd.jupyter.widget-view+json": {
       "model_id": "7b4a7cd6901a4567aac5f00899084033",
       "version_major": 2,
       "version_minor": 0
      },
      "text/plain": [
       "NGLWidget(max_frame=80)"
      ]
     },
     "metadata": {},
     "output_type": "display_data"
    }
   ],
   "source": [
    "trj = Trajectory('ground.trj')\n",
    "nv.show_asetraj(trj)"
   ]
  },
  {
   "cell_type": "markdown",
   "metadata": {},
   "source": [
    "We can also view the excited state log:"
   ]
  },
  {
   "cell_type": "code",
   "execution_count": 14,
   "metadata": {
    "scrolled": true
   },
   "outputs": [
    {
     "name": "stdout",
     "output_type": "stream",
     "text": [
      "Time [fs]         State 0         State 1             |c|       Hop prob. \n",
      "0.5                 0.0000%       100.0000%         1.0000         0.0000\n",
      "1.0                 0.0000%       100.0000%         1.0000         0.0000\n",
      "1.5                 0.0000%       100.0000%         1.0000         0.0000\n",
      "2.0                 0.0000%       100.0000%         1.0000         0.0000\n",
      "2.5                 0.0000%       100.0000%         1.0000         0.0000\n",
      "3.0                 0.0000%       100.0000%         1.0000         0.0000\n",
      "3.5                 0.0000%       100.0000%         1.0000         0.0000\n",
      "4.0                 0.0000%       100.0000%         1.0000         0.0000\n",
      "4.5                 0.0000%       100.0000%         1.0000         0.0000\n",
      "5.0                 0.0000%       100.0000%         1.0000         0.0000\n",
      "5.5                 0.0000%       100.0000%         1.0000         0.0000\n",
      "6.0                 0.0000%       100.0000%         1.0000         0.0000\n",
      "6.5                 0.0000%       100.0000%         1.0000         0.0000\n",
      "7.0                 0.0000%       100.0000%         1.0000         0.0000\n",
      "7.5                 0.0000%       100.0000%         1.0000         0.0000\n",
      "8.0                 0.0000%       100.0000%         1.0000         0.0000\n",
      "8.5                 0.0000%       100.0000%         1.0000         0.0000\n",
      "9.0                 0.0000%       100.0000%         1.0000         0.0000\n",
      "9.5                 0.0000%       100.0000%         1.0000         0.0000\n",
      "10.0                0.0000%       100.0000%         1.0000         0.0000\n",
      "10.5                0.0000%       100.0000%         1.0000         0.0000\n",
      "11.0                0.0000%       100.0000%         1.0000         0.0000\n",
      "11.5                0.0000%       100.0000%         1.0000         0.0000\n",
      "12.0                0.0000%       100.0000%         1.0000         0.0000\n",
      "12.5                0.0000%       100.0000%         1.0000         0.0000\n",
      "13.0                0.0000%       100.0000%         1.0000         0.0000\n",
      "13.5                0.0000%       100.0000%         1.0000         0.0001\n",
      "14.0                0.0000%       100.0000%         1.0000         0.0000\n",
      "14.5                0.0000%       100.0000%         1.0000         0.0000\n",
      "15.0                0.0000%       100.0000%         1.0000         0.0000\n",
      "15.5                0.0000%       100.0000%         1.0000         0.0001\n",
      "16.0                0.0000%       100.0000%         1.0000         0.0003\n",
      "16.5                0.0000%       100.0000%         1.0000         0.0004\n",
      "17.0                0.0000%       100.0000%         1.0000         0.0009\n",
      "17.5                0.0000%       100.0000%         1.0000         0.0015\n",
      "18.0                0.0000%       100.0000%         1.0000         0.0021\n",
      "18.5                0.0000%       100.0000%         1.0000         0.0024\n",
      "19.0                0.0000%       100.0000%         1.0000         0.0033\n",
      "19.5                0.0000%       100.0000%         1.0000         0.0060\n",
      "20.0                0.0000%       100.0000%         1.0000         0.0101\n",
      "20.5               10.0000%        90.0000%         1.0000         0.0124\n",
      "21.0               10.0000%        90.0000%         1.0000         0.0056\n",
      "21.5               10.0000%        90.0000%         1.0000         0.0113\n",
      "22.0               10.0000%        90.0000%         1.0000         0.0181\n",
      "22.5               20.0000%        80.0000%         1.0000         0.0167\n",
      "23.0               20.0000%        80.0000%         1.0000         0.0039\n",
      "23.5               20.0000%        80.0000%         1.0000         0.0040\n",
      "24.0               20.0000%        80.0000%         1.0000         0.0034\n",
      "24.5               20.0000%        80.0000%         1.0000         0.0026\n",
      "25.0               20.0000%        80.0000%         1.0000         0.0018\n",
      "25.5               20.0000%        80.0000%         1.0000         0.0013\n",
      "26.0               20.0000%        80.0000%         1.0000         0.0012\n",
      "26.5               20.0000%        80.0000%         1.0000         0.0013\n",
      "27.0               20.0000%        80.0000%         1.0000         0.0020\n",
      "27.5               20.0000%        80.0000%         1.0000         0.0028\n",
      "28.0               20.0000%        80.0000%         1.0000         0.0032\n",
      "28.5               20.0000%        80.0000%         1.0000         0.0028\n",
      "29.0               20.0000%        80.0000%         1.0000         0.0022\n",
      "29.5               20.0000%        80.0000%         1.0000         0.0023\n",
      "30.0               20.0000%        80.0000%         1.0000         0.0041\n",
      "30.5               20.0000%        80.0000%         1.0000         0.0091\n",
      "31.0               20.0000%        80.0000%         1.0000         0.0160\n",
      "31.5               30.0000%        70.0000%         1.0000         0.0173\n",
      "32.0               30.0000%        70.0000%         1.0000         0.0043\n",
      "32.5               30.0000%        70.0000%         1.0000         0.0035\n",
      "33.0               30.0000%        70.0000%         1.0000         0.0026\n",
      "33.5               30.0000%        70.0000%         1.0000         0.0018\n",
      "34.0               30.0000%        70.0000%         1.0000         0.0015\n",
      "34.5               30.0000%        70.0000%         1.0000         0.0016\n",
      "35.0               30.0000%        70.0000%         1.0000         0.0017\n",
      "35.5               30.0000%        70.0000%         1.0000         0.0015\n",
      "36.0               30.0000%        70.0000%         1.0000         0.0011\n",
      "36.5               30.0000%        70.0000%         1.0000         0.0006\n",
      "37.0               30.0000%        70.0000%         1.0000         0.0002\n",
      "37.5               30.0000%        70.0000%         1.0000         0.0000\n",
      "38.0               30.0000%        70.0000%         1.0000         0.0001\n",
      "38.5               30.0000%        70.0000%         1.0000         0.0003\n",
      "39.0               30.0000%        70.0000%         1.0000         0.0003\n",
      "39.5               30.0000%        70.0000%         1.0000         0.0003\n",
      "40.0               30.0000%        70.0000%         1.0000         0.0003\n",
      "40.5               30.0000%        70.0000%         1.0000         0.0002\n",
      "41.0               30.0000%        70.0000%         1.0000         0.0002\n",
      "41.5               30.0000%        70.0000%         1.0000         0.0001\n",
      "42.0               30.0000%        70.0000%         1.0000         0.0001\n",
      "42.5               30.0000%        70.0000%         1.0000         0.0002\n",
      "43.0               30.0000%        70.0000%         1.0000         0.0008\n",
      "43.5               30.0000%        70.0000%         1.0000         0.0024\n",
      "44.0               30.0000%        70.0000%         1.0000         0.0067\n",
      "44.5               30.0000%        70.0000%         1.0000         0.0167\n",
      "45.0               30.0000%        70.0000%         1.0000         0.0283\n",
      "45.5               30.0000%        70.0000%         1.0000         0.0308\n",
      "46.0               30.0000%        70.0000%         1.0000         0.0261\n",
      "46.5               30.0000%        70.0000%         1.0000         0.0202\n",
      "47.0               30.0000%        70.0000%         1.0000         0.0154\n",
      "47.5               40.0000%        60.0000%         1.0000         0.0125\n",
      "48.0               40.0000%        60.0000%         1.0000         0.0000\n",
      "48.5               40.0000%        60.0000%         1.0000         0.0003\n",
      "49.0               40.0000%        60.0000%         1.0000         0.0005\n",
      "49.5               40.0000%        60.0000%         1.0000         0.0010\n",
      "50.0               40.0000%        60.0000%         1.0000         0.0012\n",
      "50.5               40.0000%        60.0000%         1.0000         0.0009\n",
      "51.0               40.0000%        60.0000%         1.0000         0.0002\n",
      "51.5               40.0000%        60.0000%         1.0000         0.0001\n",
      "52.0               40.0000%        60.0000%         1.0000         0.0001\n",
      "52.5               40.0000%        60.0000%         1.0000         0.0000\n",
      "53.0               40.0000%        60.0000%         1.0000         0.0006\n",
      "53.5               40.0000%        60.0000%         1.0000         0.0078\n",
      "54.0               40.0000%        60.0000%         1.0000         0.0114\n",
      "54.5               30.0000%        70.0000%         1.0000         0.0093\n",
      "55.0               30.0000%        70.0000%         1.0000         0.0007\n",
      "55.5               30.0000%        70.0000%         1.0000         0.0009\n",
      "56.0               30.0000%        70.0000%         1.0000         0.0010\n",
      "56.5               30.0000%        70.0000%         1.0000         0.0009\n",
      "57.0               30.0000%        70.0000%         1.0000         0.0030\n",
      "57.5               30.0000%        70.0000%         1.0000         0.0044\n",
      "58.0               30.0000%        70.0000%         1.0000         0.0048\n",
      "58.5               30.0000%        70.0000%         1.0000         0.0043\n",
      "59.0               30.0000%        70.0000%         1.0000         0.0031\n",
      "59.5               30.0000%        70.0000%         1.0000         0.0018\n",
      "60.0               30.0000%        70.0000%         1.0000         0.0009\n",
      "60.5               30.0000%        70.0000%         1.0000         0.0005\n",
      "61.0               30.0000%        70.0000%         1.0000         0.0006\n",
      "61.5               30.0000%        70.0000%         1.0000         0.0006\n",
      "62.0               30.0000%        70.0000%         1.0000         0.0005\n",
      "62.5               30.0000%        70.0000%         1.0000         0.0003\n",
      "63.0               30.0000%        70.0000%         1.0000         0.0002\n",
      "63.5               30.0000%        70.0000%         1.0000         0.0001\n",
      "64.0               30.0000%        70.0000%         1.0000         0.0000\n",
      "64.5               30.0000%        70.0000%         1.0000         0.0000\n",
      "65.0               30.0000%        70.0000%         1.0000         0.0000\n",
      "65.5               30.0000%        70.0000%         1.0000         0.0001\n",
      "66.0               30.0000%        70.0000%         1.0000         0.0001\n",
      "66.5               30.0000%        70.0000%         1.0000         0.0001\n",
      "67.0               30.0000%        70.0000%         1.0000         0.0001\n",
      "67.5               30.0000%        70.0000%         1.0000         0.0001\n",
      "68.0               30.0000%        70.0000%         1.0000         0.0001\n",
      "68.5               30.0000%        70.0000%         1.0000         0.0000\n",
      "69.0               30.0000%        70.0000%         1.0000         0.0000\n",
      "69.5               30.0000%        70.0000%         1.0000         0.0000\n",
      "70.0               30.0000%        70.0000%         1.0000         0.0000\n",
      "70.5               30.0000%        70.0000%         1.0000         0.0001\n",
      "71.0               30.0000%        70.0000%         1.0000         0.0001\n",
      "71.5               30.0000%        70.0000%         1.0000         0.0001\n",
      "72.0               30.0000%        70.0000%         1.0000         0.0001\n",
      "72.5               30.0000%        70.0000%         1.0000         0.0002\n",
      "73.0               30.0000%        70.0000%         1.0000         0.0003\n",
      "73.5               30.0000%        70.0000%         1.0000         0.0006\n",
      "74.0               30.0000%        70.0000%         1.0000         0.0010\n",
      "74.5               30.0000%        70.0000%         1.0000         0.0024\n",
      "75.0               30.0000%        70.0000%         1.0000         0.0771\n",
      "75.5               40.0000%        60.0000%         1.0000         0.0959\n",
      "76.0               40.0000%        60.0000%         1.0000         0.0030\n",
      "76.5               40.0000%        60.0000%         1.0000         0.0031\n",
      "77.0               40.0000%        60.0000%         1.0000         0.0035\n",
      "77.5               50.0000%        50.0000%         1.0000         0.0037\n",
      "78.0               50.0000%        50.0000%         1.0000         0.0024\n",
      "78.5               50.0000%        50.0000%         1.0000         0.0021\n",
      "79.0               50.0000%        50.0000%         1.0000         0.0017\n",
      "79.5               50.0000%        50.0000%         1.0000         0.0016\n",
      "80.0               50.0000%        50.0000%         1.0000         0.0021\n",
      "80.5               50.0000%        50.0000%         1.0000         0.0021\n",
      "81.0               50.0000%        50.0000%         1.0000         0.0020\n",
      "81.5               50.0000%        50.0000%         1.0000         0.0022\n",
      "82.0               50.0000%        50.0000%         1.0000         0.0027\n",
      "82.5               50.0000%        50.0000%         1.0000         0.0032\n",
      "83.0               50.0000%        50.0000%         1.0000         0.0035\n",
      "83.5               50.0000%        50.0000%         1.0000         0.0034\n",
      "84.0               50.0000%        50.0000%         1.0000         0.0028\n",
      "84.5               50.0000%        50.0000%         1.0000         0.0020\n",
      "85.0               50.0000%        50.0000%         1.0000         0.0011\n",
      "85.5               50.0000%        50.0000%         1.0000         0.0008\n",
      "86.0               50.0000%        50.0000%         1.0000         0.0008\n",
      "86.5               50.0000%        50.0000%         1.0000         0.0010\n",
      "87.0               50.0000%        50.0000%         1.0000         0.0025\n",
      "87.5               50.0000%        50.0000%         1.0000         0.0051\n",
      "88.0               50.0000%        50.0000%         1.0000         0.0075\n",
      "88.5               50.0000%        50.0000%         1.0000         0.0084\n",
      "89.0               50.0000%        50.0000%         1.0000         0.0076\n",
      "89.5               50.0000%        50.0000%         1.0000         0.0060\n",
      "90.0               50.0000%        50.0000%         1.0000         0.0047\n",
      "90.5               50.0000%        50.0000%         1.0000         0.0042\n",
      "91.0               50.0000%        50.0000%         1.0000         0.0046\n",
      "91.5               50.0000%        50.0000%         1.0000         0.0059\n",
      "92.0               50.0000%        50.0000%         1.0000         0.0079\n",
      "92.5               60.0000%        40.0000%         1.0000         0.0100\n",
      "93.0               60.0000%        40.0000%         1.0000         0.0052\n",
      "93.5               60.0000%        40.0000%         1.0000         0.0053\n",
      "94.0               60.0000%        40.0000%         1.0000         0.0054\n",
      "94.5               60.0000%        40.0000%         1.0000         0.0059\n",
      "95.0               60.0000%        40.0000%         1.0000         0.0081\n",
      "95.5               70.0000%        30.0000%         1.0000         0.0168\n",
      "96.0               70.0000%        30.0000%         1.0000         0.0017\n",
      "96.5               70.0000%        30.0000%         1.0000         0.0018\n",
      "97.0               70.0000%        30.0000%         1.0000         0.0025\n",
      "97.5               70.0000%        30.0000%         1.0000         0.0065\n",
      "98.0               70.0000%        30.0000%         1.0000         0.0101\n",
      "98.5               70.0000%        30.0000%         1.0000         0.0141\n",
      "99.0               70.0000%        30.0000%         1.0000         0.0165\n",
      "99.5               70.0000%        30.0000%         1.0000         0.0162\n",
      "100.0              70.0000%        30.0000%         1.0000         0.0141\n",
      "100.5              70.0000%        30.0000%         1.0000         0.0115\n",
      "101.0              70.0000%        30.0000%         1.0000         0.0093\n",
      "101.5              70.0000%        30.0000%         1.0000         0.0077\n",
      "102.0              70.0000%        30.0000%         1.0000         0.0060\n",
      "102.5              70.0000%        30.0000%         1.0000         0.0077\n",
      "103.0              70.0000%        30.0000%         1.0000         0.0115\n",
      "103.5              80.0000%        20.0000%         1.0000         0.0340\n",
      "104.0              80.0000%        20.0000%         1.0000         0.0222\n",
      "104.5              80.0000%        20.0000%         1.0000         0.0509\n",
      "105.0             100.0000%         0.0000%         1.0000         0.1013\n",
      "105.5             100.0000%         0.0000%         1.0000         0.0191\n",
      "106.0             100.0000%         0.0000%         1.0000         0.0189\n",
      "106.5             100.0000%         0.0000%         1.0000         0.0162\n",
      "107.0              90.0000%        10.0000%         1.0000         0.0130\n",
      "107.5              90.0000%        10.0000%         1.0000         0.0013\n",
      "108.0              90.0000%        10.0000%         1.0000         0.0002\n",
      "108.5              90.0000%        10.0000%         1.0000         0.0003\n",
      "109.0              90.0000%        10.0000%         1.0000         0.0004\n",
      "109.5              90.0000%        10.0000%         1.0000         0.0004\n",
      "110.0              90.0000%        10.0000%         1.0000         0.0012\n",
      "110.5              90.0000%        10.0000%         1.0000         0.0019\n",
      "111.0              90.0000%        10.0000%         1.0000         0.0020\n",
      "111.5              90.0000%        10.0000%         1.0000         0.0015\n",
      "112.0              90.0000%        10.0000%         1.0000         0.0009\n",
      "112.5              90.0000%        10.0000%         1.0000         0.0003\n",
      "113.0              90.0000%        10.0000%         1.0000         0.0001\n",
      "113.5              90.0000%        10.0000%         1.0000         0.0001\n",
      "114.0              90.0000%        10.0000%         1.0000         0.0001\n",
      "114.5              90.0000%        10.0000%         1.0000         0.0000\n",
      "115.0              90.0000%        10.0000%         1.0000         0.0001\n",
      "115.5              90.0000%        10.0000%         1.0000         0.0001\n",
      "116.0              90.0000%        10.0000%         1.0000         0.0001\n",
      "116.5              90.0000%        10.0000%         1.0000         0.0000\n",
      "117.0              90.0000%        10.0000%         1.0000         0.0000\n",
      "117.5              90.0000%        10.0000%         1.0000         0.0001\n",
      "118.0              90.0000%        10.0000%         1.0000         0.0001\n",
      "118.5              90.0000%        10.0000%         1.0000         0.0001\n",
      "119.0              90.0000%        10.0000%         1.0000         0.0001\n",
      "119.5              90.0000%        10.0000%         1.0000         0.0001\n",
      "120.0              90.0000%        10.0000%         1.0000         0.0002\n",
      "120.5              90.0000%        10.0000%         1.0000         0.0001\n",
      "121.0              90.0000%        10.0000%         1.0000         0.0001\n",
      "121.5              90.0000%        10.0000%         1.0000         0.0001\n",
      "122.0              90.0000%        10.0000%         1.0000         0.0000\n",
      "122.5              90.0000%        10.0000%         1.0000         0.0000\n",
      "123.0              90.0000%        10.0000%         1.0000         0.0003\n",
      "123.5              90.0000%        10.0000%         1.0000         0.0011\n",
      "124.0              90.0000%        10.0000%         1.0000         0.0030\n",
      "124.5              90.0000%        10.0000%         1.0000         0.0058\n",
      "125.0              90.0000%        10.0000%         1.0000         0.0089\n",
      "125.5              90.0000%        10.0000%         1.0000         0.0096\n",
      "126.0              90.0000%        10.0000%         1.0000         0.0080\n",
      "126.5              90.0000%        10.0000%         1.0000         0.0053\n",
      "127.0              90.0000%        10.0000%         1.0000         0.0027\n",
      "127.5              90.0000%        10.0000%         1.0000         0.0003\n",
      "128.0              90.0000%        10.0000%         1.0000         0.0000\n",
      "128.5              90.0000%        10.0000%         1.0000         0.0000\n",
      "129.0              90.0000%        10.0000%         1.0000         0.0061\n",
      "129.5              90.0000%        10.0000%         1.0000         0.0300\n",
      "130.0              90.0000%        10.0000%         1.0000         0.0267\n",
      "130.5             100.0000%         0.0000%         1.0000         0.0162\n",
      "131.0             100.0000%         0.0000%         1.0000         0.0000\n",
      "131.5             100.0000%         0.0000%         1.0000         0.0000\n",
      "132.0             100.0000%         0.0000%         1.0000         0.0016\n",
      "132.5             100.0000%         0.0000%         1.0000         0.0031\n",
      "133.0             100.0000%         0.0000%         1.0000         0.0037\n",
      "133.5             100.0000%         0.0000%         1.0000         0.0038\n",
      "134.0             100.0000%         0.0000%         1.0000         0.0033\n",
      "134.5             100.0000%         0.0000%         1.0000         0.0023\n",
      "135.0             100.0000%         0.0000%         1.0000         0.0012\n",
      "135.5             100.0000%         0.0000%         1.0000         0.0003\n",
      "136.0             100.0000%         0.0000%         1.0000         0.0000\n",
      "136.5             100.0000%         0.0000%         1.0000         0.0000\n",
      "137.0             100.0000%         0.0000%         1.0000         0.0000\n",
      "137.5             100.0000%         0.0000%         1.0000         0.0000\n",
      "138.0             100.0000%         0.0000%         1.0000         0.0000\n",
      "138.5             100.0000%         0.0000%         1.0000         0.0000\n",
      "139.0             100.0000%         0.0000%         1.0000         0.0000\n",
      "139.5             100.0000%         0.0000%         1.0000         0.0000\n",
      "140.0             100.0000%         0.0000%         1.0000         0.0000\n",
      "140.5             100.0000%         0.0000%         1.0000         0.0000\n",
      "141.0             100.0000%         0.0000%         1.0000         0.0000\n",
      "141.5             100.0000%         0.0000%         1.0000         0.0000\n",
      "142.0             100.0000%         0.0000%         1.0000         0.0000\n",
      "142.5             100.0000%         0.0000%         1.0000         0.0000\n",
      "143.0             100.0000%         0.0000%         1.0000         0.0000\n",
      "143.5             100.0000%         0.0000%         1.0000         0.0000\n",
      "144.0             100.0000%         0.0000%         1.0000         0.0000\n",
      "144.5             100.0000%         0.0000%         1.0000         0.0000\n",
      "145.0             100.0000%         0.0000%         1.0000         0.0000\n",
      "145.5             100.0000%         0.0000%         1.0000         0.0000\n",
      "146.0             100.0000%         0.0000%         1.0000         0.0000\n",
      "146.5             100.0000%         0.0000%         1.0000         0.0000\n",
      "147.0             100.0000%         0.0000%         1.0000         0.0000\n",
      "147.5             100.0000%         0.0000%         1.0000         0.0000\n",
      "148.0             100.0000%         0.0000%         1.0000         0.0000\n",
      "148.5             100.0000%         0.0000%         1.0000         0.0000\n",
      "149.0             100.0000%         0.0000%         1.0000         0.0000\n",
      "149.5             100.0000%         0.0000%         1.0000         0.0000\n",
      "150.0             100.0000%         0.0000%         1.0000         0.0000\n",
      "150.5             100.0000%         0.0000%         1.0000         0.0000\n",
      "151.0             100.0000%         0.0000%         1.0000         0.0000\n",
      "151.5             100.0000%         0.0000%         1.0000         0.0000\n",
      "152.0             100.0000%         0.0000%         1.0000         0.0000\n",
      "152.5             100.0000%         0.0000%         1.0000         0.0000\n",
      "153.0             100.0000%         0.0000%         1.0000         0.0000\n",
      "153.5             100.0000%         0.0000%         1.0000         0.0000\n",
      "154.0             100.0000%         0.0000%         1.0000         0.0000\n",
      "154.5             100.0000%         0.0000%         1.0000         0.0000\n",
      "155.0             100.0000%         0.0000%         1.0000         0.0000\n",
      "155.5             100.0000%         0.0000%         1.0000         0.0000\n",
      "156.0             100.0000%         0.0000%         1.0000         0.0000\n",
      "156.5             100.0000%         0.0000%         1.0000         0.0000\n",
      "157.0             100.0000%         0.0000%         1.0000         0.0000\n",
      "157.5             100.0000%         0.0000%         1.0000         0.0000\n",
      "158.0             100.0000%         0.0000%         1.0000         0.0000\n",
      "158.5             100.0000%         0.0000%         1.0000         0.0000\n",
      "159.0             100.0000%         0.0000%         1.0000         0.0000\n",
      "159.5             100.0000%         0.0000%         1.0000         0.0000\n",
      "160.0             100.0000%         0.0000%         1.0000         0.0000\n",
      "160.5             100.0000%         0.0000%         1.0000         0.0000\n",
      "161.0             100.0000%         0.0000%         1.0000         0.0000\n",
      "161.5             100.0000%         0.0000%         1.0000         0.0000\n",
      "162.0             100.0000%         0.0000%         1.0000         0.0000\n",
      "162.5             100.0000%         0.0000%         1.0000         0.0000\n",
      "163.0             100.0000%         0.0000%         1.0000         0.0000\n",
      "163.5             100.0000%         0.0000%         1.0000         0.0000\n",
      "164.0             100.0000%         0.0000%         1.0000         0.0000\n",
      "164.5             100.0000%         0.0000%         1.0000         0.0000\n",
      "165.0             100.0000%         0.0000%         1.0000         0.0000\n",
      "165.5             100.0000%         0.0000%         1.0000         0.0000\n",
      "166.0             100.0000%         0.0000%         1.0000         0.0000\n",
      "166.5             100.0000%         0.0000%         1.0000         0.0000\n",
      "167.0             100.0000%         0.0000%         1.0000         0.0000\n",
      "167.5             100.0000%         0.0000%         1.0000         0.0000\n",
      "168.0             100.0000%         0.0000%         1.0000         0.0000\n",
      "168.5             100.0000%         0.0000%         1.0000         0.0000\n",
      "169.0             100.0000%         0.0000%         1.0000         0.0000\n",
      "169.5             100.0000%         0.0000%         1.0000         0.0000\n",
      "170.0             100.0000%         0.0000%         1.0000         0.0000\n",
      "170.5             100.0000%         0.0000%         1.0000         0.0000\n",
      "171.0             100.0000%         0.0000%         1.0000         0.0000\n",
      "171.5             100.0000%         0.0000%         1.0000         0.0000\n",
      "172.0             100.0000%         0.0000%         1.0000         0.0000\n",
      "172.5             100.0000%         0.0000%         1.0000         0.0000\n",
      "173.0             100.0000%         0.0000%         1.0000         0.0000\n",
      "173.5             100.0000%         0.0000%         1.0000         0.0000\n",
      "174.0             100.0000%         0.0000%         1.0000         0.0000\n",
      "174.5             100.0000%         0.0000%         1.0000         0.0000\n",
      "175.0             100.0000%         0.0000%         1.0000         0.0000\n",
      "175.5             100.0000%         0.0000%         1.0000         0.0000\n",
      "176.0             100.0000%         0.0000%         1.0000         0.0000\n",
      "176.5             100.0000%         0.0000%         1.0000         0.0000\n",
      "177.0             100.0000%         0.0000%         1.0000         0.0000\n",
      "177.5             100.0000%         0.0000%         1.0000         0.0000\n",
      "178.0             100.0000%         0.0000%         1.0000         0.0000\n",
      "178.5             100.0000%         0.0000%         1.0000         0.0000\n",
      "179.0             100.0000%         0.0000%         1.0000         0.0000\n",
      "179.5             100.0000%         0.0000%         1.0000         0.0000\n",
      "180.0             100.0000%         0.0000%         1.0000         0.0000\n",
      "180.5             100.0000%         0.0000%         1.0000         0.0000\n",
      "181.0             100.0000%         0.0000%         1.0000         0.0000\n",
      "181.5             100.0000%         0.0000%         1.0000         0.0000\n",
      "182.0             100.0000%         0.0000%         1.0000         0.0000\n",
      "182.5             100.0000%         0.0000%         1.0000         0.0000\n",
      "183.0             100.0000%         0.0000%         1.0000         0.0000\n",
      "183.5             100.0000%         0.0000%         1.0000         0.0000\n",
      "184.0             100.0000%         0.0000%         1.0000         0.0000\n",
      "184.5             100.0000%         0.0000%         1.0000         0.0000\n",
      "185.0             100.0000%         0.0000%         1.0000         0.0000\n",
      "185.5             100.0000%         0.0000%         1.0000         0.0000\n",
      "186.0             100.0000%         0.0000%         1.0000         0.0000\n",
      "186.5             100.0000%         0.0000%         1.0000         0.0000\n",
      "187.0             100.0000%         0.0000%         1.0000         0.0000\n",
      "187.5             100.0000%         0.0000%         1.0000         0.0000\n",
      "188.0             100.0000%         0.0000%         1.0000         0.0000\n",
      "188.5             100.0000%         0.0000%         1.0000         0.0000\n",
      "189.0             100.0000%         0.0000%         1.0000         0.0000\n",
      "189.5             100.0000%         0.0000%         1.0000         0.0000\n",
      "190.0             100.0000%         0.0000%         1.0000         0.0000\n",
      "190.5             100.0000%         0.0000%         1.0000         0.0000\n",
      "191.0             100.0000%         0.0000%         1.0000         0.0000\n",
      "191.5             100.0000%         0.0000%         1.0000         0.0000\n",
      "192.0             100.0000%         0.0000%         1.0000         0.0000\n",
      "192.5             100.0000%         0.0000%         1.0000         0.0000\n",
      "193.0             100.0000%         0.0000%         1.0000         0.0000\n",
      "193.5             100.0000%         0.0000%         1.0000         0.0000\n",
      "194.0             100.0000%         0.0000%         1.0000         0.0000\n",
      "194.5             100.0000%         0.0000%         1.0000         0.0000\n",
      "195.0             100.0000%         0.0000%         1.0000         0.0000\n",
      "195.5             100.0000%         0.0000%         1.0000         0.0000\n",
      "196.0             100.0000%         0.0000%         1.0000         0.0000\n",
      "196.5             100.0000%         0.0000%         1.0000         0.0000\n",
      "197.0             100.0000%         0.0000%         1.0000         0.0000\n",
      "197.5             100.0000%         0.0000%         1.0000         0.0000\n",
      "198.0             100.0000%         0.0000%         1.0000         0.0000\n",
      "198.5             100.0000%         0.0000%         1.0000         0.0000\n",
      "199.0             100.0000%         0.0000%         1.0000         0.0000\n",
      "199.5             100.0000%         0.0000%         1.0000         0.0000\n",
      "200.0             100.0000%         0.0000%         1.0000         0.0000\n",
      "Neural Tully terminated normally.\n"
     ]
    }
   ],
   "source": [
    "with open('tully.log', 'r') as f:\n",
    "    tully_log = f.read()\n",
    "print(tully_log)"
   ]
  },
  {
   "cell_type": "markdown",
   "metadata": {},
   "source": [
    "This log shows us the population in the different states at each time, the norm of the electronic coefficient vector $c$, and the maximum hopping probability of any of the trajectories. We see that all of the trajectories have returned to the ground state by 200 fs.\n",
    "\n",
    "To get the geometries, forces, etc., we can use the `NeuralTully` class method `from_pickle`:\n",
    "\n"
   ]
  },
  {
   "cell_type": "code",
   "execution_count": 15,
   "metadata": {},
   "outputs": [],
   "source": [
    "state_dicts, trjs = NeuralTully.from_pickle('tully.pickle')"
   ]
  },
  {
   "cell_type": "markdown",
   "metadata": {},
   "source": [
    "The output contains `state_dicts`, a set of dictionaries with information about each trajectory for each time step, and `trjs`, a set of ASE trajectories. We can visualize one of the trajectories:"
   ]
  },
  {
   "cell_type": "code",
   "execution_count": 17,
   "metadata": {},
   "outputs": [
    {
     "data": {
      "application/vnd.jupyter.widget-view+json": {
       "model_id": "38820efd08a9448d83a66116dc424f88",
       "version_major": 2,
       "version_minor": 0
      },
      "text/plain": [
       "NGLWidget(max_frame=48)"
      ]
     },
     "metadata": {},
     "output_type": "display_data"
    }
   ],
   "source": [
    "trj = trjs[1]\n",
    "nv.show_asetraj(trj)"
   ]
  },
  {
   "cell_type": "markdown",
   "metadata": {},
   "source": [
    "We can also take a look at `state_dicts`:"
   ]
  },
  {
   "cell_type": "code",
   "execution_count": 18,
   "metadata": {},
   "outputs": [
    {
     "name": "stdout",
     "output_type": "stream",
     "text": [
      "49\n",
      "['nxyz', 'nacv', 'force_nacv', 'energy', 'forces', 'H_d', 'U', 't', 'vel', 'c', 'T', 'surfs']\n"
     ]
    }
   ],
   "source": [
    "print(len(state_dicts))\n",
    "print(list(state_dicts[0].keys()))\n"
   ]
  },
  {
   "cell_type": "markdown",
   "metadata": {},
   "source": [
    "We see that there is one dictionary for each saved time step (all time steps in which a hop occurs are automatically saved, even if you only asked the geoms to be saved every X steps). Each dictionary has various properties, each of shape `num_trj  x ...`, so that the first dimension divides properties by trajectory. For example:\n",
    "\n"
   ]
  },
  {
   "cell_type": "code",
   "execution_count": 19,
   "metadata": {
    "scrolled": true
   },
   "outputs": [
    {
     "name": "stdout",
     "output_type": "stream",
     "text": [
      "nxyz:  (10, 34, 4)\n",
      "energy:  (10, 2)\n",
      "forces:  (10, 2, 34, 3)\n",
      "H_d:  (10, 3, 3)\n",
      "U:  (10, 3, 3)\n",
      "vel:  (10, 34, 3)\n",
      "c:  (10, 3)\n",
      "surfs:  (10,)\n",
      "None\n",
      "None\n"
     ]
    }
   ],
   "source": [
    "state_dict = state_dicts[0]\n",
    "print('nxyz: ', state_dict['nxyz'].shape) # coordinates \n",
    "print('energy: ', state_dict['energy'].shape) # energy\n",
    "print('forces: ', state_dict['forces'].shape) # forces on each surface\n",
    "print('H_d: ', state_dict['H_d'].shape) # diabatic Hamiltonian\n",
    "print('U: ', state_dict['U'].shape) # unitary transformation from diabatic to adiabatic \n",
    "print('vel: ', state_dict['vel'].shape) # velocities\n",
    "print('c: ', state_dict['c'].shape) # c electronic wavefunction vector \n",
    "print('surfs: ', state_dict['surfs'].shape) # current surface\n",
    "\n",
    "\n",
    "print(state_dict['force_nacv']) # not computed because we did diabatic propagation\n",
    "print(state_dict['T']) # T matrix (NACV off-diagonal components of Hamiltonian)\n",
    "                       # also not computed because we did diabatic propagation"
   ]
  },
  {
   "cell_type": "markdown",
   "metadata": {},
   "source": [
    "Everything is given in atomic units, except for coordinates which are given in Angstroms."
   ]
  },
  {
   "cell_type": "code",
   "execution_count": null,
   "metadata": {},
   "outputs": [],
   "source": []
  }
 ],
 "metadata": {
  "kernelspec": {
   "display_name": "Python [conda env:nff]",
   "language": "python",
   "name": "nff"
  },
  "language_info": {
   "codemirror_mode": {
    "name": "ipython",
    "version": 3
   },
   "file_extension": ".py",
   "mimetype": "text/x-python",
   "name": "python",
   "nbconvert_exporter": "python",
   "pygments_lexer": "ipython3",
   "version": "3.7.10"
  }
 },
 "nbformat": 4,
 "nbformat_minor": 2
}
