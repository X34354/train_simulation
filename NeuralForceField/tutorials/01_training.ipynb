{
 "cells": [
  {
   "cell_type": "markdown",
   "metadata": {},
   "source": [
    "# Introduction to Neural Force Field"
   ]
  },
  {
   "cell_type": "markdown",
   "metadata": {},
   "source": [
    "This Jupyter Notebook contains an introduction to the `nff` package. Here, we will load the modules and functions from `nff` to import a dataset, create dataloaders, create a model, train it and check the test stats. We will do most of it manually to illustrate the usage of the API. However, scripts such as the one provided in the `scripts/` folder already automate most of this process."
   ]
  },
  {
   "cell_type": "markdown",
   "metadata": {},
   "source": [
    "After the `nff` package has been installed, we start by importing all dependencies for this tutorial."
   ]
  },
  {
   "cell_type": "code",
   "execution_count": 1,
   "metadata": {},
   "outputs": [],
   "source": [
    "%load_ext autoreload\n",
    "%autoreload 2"
   ]
  },
  {
   "cell_type": "code",
   "execution_count": 2,
   "metadata": {},
   "outputs": [],
   "source": [
    "import os\n",
    "import shutil\n",
    "import numpy as np\n",
    "import matplotlib.pyplot as plt\n",
    "\n",
    "import torch\n",
    "from torch.optim import Adam\n",
    "from torch.utils.data import DataLoader\n",
    "\n",
    "from nff.data import Dataset, split_train_validation_test, collate_dicts, to_tensor\n",
    "from nff.train import Trainer, get_trainer, get_model, load_model, loss, hooks, metrics, evaluate"
   ]
  },
  {
   "cell_type": "markdown",
   "metadata": {},
   "source": [
    "It might also be useful setting the GPU you want to use:"
   ]
  },
  {
   "cell_type": "code",
   "execution_count": 3,
   "metadata": {},
   "outputs": [],
   "source": [
    "# DEVICE = 1\n",
    "# OUTDIR = './sandbox'\n",
    "# model = load_model(OUTDIR)"
   ]
  },
  {
   "cell_type": "code",
   "execution_count": 4,
   "metadata": {},
   "outputs": [],
   "source": [
    "DEVICE = 3\n",
    "OUTDIR = './sandbox'\n",
    "\n",
    "if os.path.exists(OUTDIR):\n",
    "    newpath = os.path.join(os.path.dirname(OUTDIR), 'backup')\n",
    "    if os.path.exists(newpath):\n",
    "        shutil.rmtree(newpath)\n",
    "        \n",
    "    shutil.move(OUTDIR, newpath)"
   ]
  },
  {
   "cell_type": "markdown",
   "metadata": {},
   "source": [
    "## Loading the relevant data"
   ]
  },
  {
   "cell_type": "markdown",
   "metadata": {},
   "source": [
    "As we usually work with the database, we can pack their information in a class `Dataset`, which is a subclass of `torch.utils.data.Dataset`. It basically wraps information on the atomic numbers, energies, forces and SMILES strings for each one of the geometries. In this example, we already have a pre-compiled `Dataset` to be used. We start by loading this file and creating three slices of the original dataset"
   ]
  },
  {
   "cell_type": "code",
   "execution_count": 5,
   "metadata": {},
   "outputs": [],
   "source": [
    "dataset = Dataset.from_file('./data/dataset.pth.tar')"
   ]
  },
  {
   "cell_type": "code",
   "execution_count": 6,
   "metadata": {},
   "outputs": [],
   "source": [
    "train, val, test = split_train_validation_test(dataset, val_size=0.2, test_size=0.2)"
   ]
  },
  {
   "cell_type": "markdown",
   "metadata": {},
   "source": [
    "We now create a data loader for each one of the slices:"
   ]
  },
  {
   "cell_type": "code",
   "execution_count": 7,
   "metadata": {},
   "outputs": [],
   "source": [
    "train_loader = DataLoader(train, batch_size=50, collate_fn=collate_dicts)\n",
    "val_loader = DataLoader(val, batch_size=50, collate_fn=collate_dicts)\n",
    "test_loader = DataLoader(test, batch_size=50, collate_fn=collate_dicts)"
   ]
  },
  {
   "cell_type": "markdown",
   "metadata": {},
   "source": [
    "## Creating a model"
   ]
  },
  {
   "cell_type": "markdown",
   "metadata": {},
   "source": [
    "`nff` is based on SchNet. It parameterizes interatomic interactions in molecules and materials through a series of convolution layers with continuous filters. Here, we are going to create a simple model using the hyperparameters given on `params`:"
   ]
  },
  {
   "cell_type": "code",
   "execution_count": 8,
   "metadata": {},
   "outputs": [],
   "source": [
    "params = {\n",
    "    'n_atom_basis': 256,\n",
    "    'n_filters': 256,\n",
    "    'n_gaussians': 32,\n",
    "    'n_convolutions': 4,\n",
    "    'cutoff': 5.0,\n",
    "    'trainable_gauss': True,\n",
    "    'dropout_rate': 0.2\n",
    "}\n",
    "\n",
    "model = get_model(params)"
   ]
  },
  {
   "cell_type": "markdown",
   "metadata": {},
   "source": [
    "## Creating a trainer"
   ]
  },
  {
   "cell_type": "markdown",
   "metadata": {},
   "source": [
    "To train our model with the data provided, we have to create a loss function. The easiest way to do that is through the `build_mse_loss` builder. Its argument `rho` is a parameter that will multiply the mean square error (MSE) of the force components before summing it with the MSE of the energy."
   ]
  },
  {
   "cell_type": "code",
   "execution_count": 9,
   "metadata": {},
   "outputs": [],
   "source": [
    "loss_fn = loss.build_mse_loss(loss_coef={'energy': 0.01, 'energy_grad': 1})"
   ]
  },
  {
   "cell_type": "markdown",
   "metadata": {},
   "source": [
    "We should also select an optimizer for our recently created model:"
   ]
  },
  {
   "cell_type": "code",
   "execution_count": 10,
   "metadata": {},
   "outputs": [],
   "source": [
    "trainable_params = filter(lambda p: p.requires_grad, model.parameters())\n",
    "optimizer = Adam(trainable_params, lr=3e-4)"
   ]
  },
  {
   "cell_type": "markdown",
   "metadata": {},
   "source": [
    "### Metrics and hooks"
   ]
  },
  {
   "cell_type": "markdown",
   "metadata": {},
   "source": [
    "Metrics and hooks allow the customization of the training process. Instead of tweaking directly the code or having to resort to countless flags, we can create submodules (or add-ons) to monitor the progress of the training or customize it."
   ]
  },
  {
   "cell_type": "markdown",
   "metadata": {},
   "source": [
    "If we want to monitor the progress of our training, say by looking at the mean absolute error (MAE) of energies and forces, we can simply create metrics to observe them:"
   ]
  },
  {
   "cell_type": "code",
   "execution_count": 11,
   "metadata": {},
   "outputs": [],
   "source": [
    "train_metrics = [\n",
    "    metrics.MeanAbsoluteError('energy'),\n",
    "    metrics.MeanAbsoluteError('energy_grad')\n",
    "]"
   ]
  },
  {
   "cell_type": "markdown",
   "metadata": {},
   "source": [
    "Furthermore, if we want to customize how our training procedure is done, we can use hooks which can interrupt or change the train automatically.\n",
    "\n",
    "In our case, we are adding hooks to:\n",
    "* Stop the training procedure after 100 epochs;\n",
    "* Log the training on a machine-readable CSV file under the directory `./sandbox`;\n",
    "* Print the progress on the screen with custom formatting; and\n",
    "* Setup a scheduler for the learning rate."
   ]
  },
  {
   "cell_type": "code",
   "execution_count": 12,
   "metadata": {},
   "outputs": [],
   "source": [
    "train_hooks = [\n",
    "    hooks.MaxEpochHook(100),\n",
    "    hooks.CSVHook(\n",
    "        OUTDIR,\n",
    "        metrics=train_metrics,\n",
    "    ),\n",
    "    hooks.PrintingHook(\n",
    "        OUTDIR,\n",
    "        metrics=train_metrics,\n",
    "        separator = ' | ',\n",
    "        time_strf='%M:%S'\n",
    "    ),\n",
    "    hooks.ReduceLROnPlateauHook(\n",
    "        optimizer=optimizer,\n",
    "        patience=30,\n",
    "        factor=0.5,\n",
    "        min_lr=1e-7,\n",
    "        window_length=1,\n",
    "        stop_after_min=True\n",
    "    )\n",
    "]"
   ]
  },
  {
   "cell_type": "markdown",
   "metadata": {},
   "source": [
    "### Trainer wrapper"
   ]
  },
  {
   "cell_type": "markdown",
   "metadata": {},
   "source": [
    "A `Trainer` in the `nff` package is a wrapper to train a model. It automatically creates checkpoints, as well as trains and validates a given model. It also allow further training by loading checkpoints from existing paths, making the training procedure more flexible. Its functionalities can be extended by the hooks we created above. To create a trainer, we have to execute the following command:"
   ]
  },
  {
   "cell_type": "code",
   "execution_count": 13,
   "metadata": {},
   "outputs": [],
   "source": [
    "T = Trainer(\n",
    "    model_path=OUTDIR,\n",
    "    model=model,\n",
    "    loss_fn=loss_fn,\n",
    "    optimizer=optimizer,\n",
    "    train_loader=train_loader,\n",
    "    validation_loader=val_loader,\n",
    "    checkpoint_interval=1,\n",
    "    hooks=train_hooks\n",
    ")"
   ]
  },
  {
   "cell_type": "markdown",
   "metadata": {},
   "source": [
    "Now we can finally train the model using the method `train` from the `Trainer`:"
   ]
  },
  {
   "cell_type": "code",
   "execution_count": 14,
   "metadata": {
    "scrolled": false
   },
   "outputs": [
    {
     "name": "stdout",
     "output_type": "stream",
     "text": [
      " Time | Epoch | Learning rate | Train loss | Validation loss | MAE_energy | MAE_energy_grad | GPU Memory (MB)\n",
      "31:08 |     1 |     3.000e-04 |     0.0000 |        653.7650 |     4.3470 |         18.7446 |               0\n",
      "31:09 |     2 |     3.000e-04 |     0.0000 |        402.7412 |    16.9573 |         14.2793 |               0\n",
      "31:10 |     3 |     3.000e-04 |     0.0000 |        190.2560 |    18.7968 |          9.8960 |               0\n",
      "31:10 |     4 |     3.000e-04 |     0.0000 |        119.8420 |     5.4618 |          8.0458 |               0\n",
      "31:11 |     5 |     3.000e-04 |     0.0000 |         90.5733 |     8.6463 |          6.9497 |               0\n",
      "31:11 |     6 |     3.000e-04 |     0.0000 |         75.6132 |     3.1788 |          6.2698 |               0\n",
      "31:12 |     7 |     3.000e-04 |     0.0000 |         64.4374 |     3.2297 |          5.7578 |               0\n",
      "31:13 |     8 |     3.000e-04 |     0.0000 |         55.8868 |     4.3381 |          5.3027 |               0\n",
      "31:13 |     9 |     3.000e-04 |     0.0000 |         50.2694 |     2.7684 |          5.0240 |               0\n",
      "31:14 |    10 |     3.000e-04 |     0.0000 |         46.0890 |     3.2613 |          4.8074 |               0\n",
      "31:14 |    11 |     3.000e-04 |     0.0000 |         42.7644 |     2.5716 |          4.6433 |               0\n",
      "31:15 |    12 |     3.000e-04 |     0.0000 |         40.2658 |     2.1617 |          4.5258 |               0\n",
      "31:15 |    13 |     3.000e-04 |     0.0000 |         37.9686 |     1.8073 |          4.4105 |               0\n",
      "31:16 |    14 |     3.000e-04 |     0.0000 |         35.3795 |     1.3883 |          4.2709 |               0\n",
      "31:16 |    15 |     3.000e-04 |     0.0000 |         32.8582 |     1.1545 |          4.1178 |               0\n",
      "31:17 |    16 |     3.000e-04 |     0.0000 |         30.6161 |     1.1925 |          3.9476 |               0\n",
      "31:18 |    17 |     3.000e-04 |     0.0000 |         28.9084 |     1.5638 |          3.8190 |               0\n",
      "31:18 |    18 |     3.000e-04 |     0.0000 |         27.4283 |     1.5616 |          3.7178 |               0\n",
      "31:19 |    19 |     3.000e-04 |     0.0000 |         26.1926 |     1.7256 |          3.6325 |               0\n",
      "31:19 |    20 |     3.000e-04 |     0.0000 |         24.8778 |     1.4788 |          3.5393 |               0\n",
      "31:20 |    21 |     3.000e-04 |     0.0000 |         23.7122 |     1.3291 |          3.4553 |               0\n",
      "31:21 |    22 |     3.000e-04 |     0.0000 |         22.6868 |     1.3789 |          3.3804 |               0\n",
      "31:21 |    23 |     3.000e-04 |     0.0000 |         21.6874 |     1.4716 |          3.3054 |               0\n",
      "31:22 |    24 |     3.000e-04 |     0.0000 |         20.7829 |     1.5875 |          3.2349 |               0\n",
      "31:23 |    25 |     3.000e-04 |     0.0000 |         19.9491 |     1.6270 |          3.1693 |               0\n",
      "31:23 |    26 |     3.000e-04 |     0.0000 |         19.1425 |     1.5755 |          3.1044 |               0\n",
      "31:24 |    27 |     3.000e-04 |     0.0000 |         18.3849 |     1.5198 |          3.0439 |               0\n",
      "31:24 |    28 |     3.000e-04 |     0.0000 |         17.6789 |     1.4623 |          2.9858 |               0\n",
      "31:25 |    29 |     3.000e-04 |     0.0000 |         17.0095 |     1.3828 |          2.9291 |               0\n",
      "31:26 |    30 |     3.000e-04 |     0.0000 |         16.3842 |     1.3060 |          2.8755 |               0\n",
      "31:26 |    31 |     3.000e-04 |     0.0000 |         15.8072 |     1.2429 |          2.8258 |               0\n",
      "31:27 |    32 |     3.000e-04 |     0.0000 |         15.2656 |     1.1931 |          2.7779 |               0\n",
      "31:28 |    33 |     3.000e-04 |     0.0000 |         14.7500 |     1.1502 |          2.7310 |               0\n",
      "31:28 |    34 |     3.000e-04 |     0.0000 |         14.2598 |     1.1106 |          2.6846 |               0\n",
      "31:29 |    35 |     3.000e-04 |     0.0000 |         13.7960 |     1.0744 |          2.6397 |               0\n",
      "31:29 |    36 |     3.000e-04 |     0.0000 |         13.3585 |     1.0401 |          2.5964 |               0\n",
      "31:30 |    37 |     3.000e-04 |     0.0000 |         12.9479 |     1.0054 |          2.5550 |               0\n",
      "31:31 |    38 |     3.000e-04 |     0.0000 |         12.5645 |     0.9698 |          2.5159 |               0\n",
      "31:31 |    39 |     3.000e-04 |     0.0000 |         12.2080 |     0.9352 |          2.4792 |               0\n",
      "31:32 |    40 |     3.000e-04 |     0.0000 |         11.8766 |     0.9033 |          2.4442 |               0\n",
      "31:32 |    41 |     3.000e-04 |     0.0000 |         11.5674 |     0.8757 |          2.4110 |               0\n",
      "31:33 |    42 |     3.000e-04 |     0.0000 |         11.2772 |     0.8518 |          2.3792 |               0\n",
      "31:34 |    43 |     3.000e-04 |     0.0000 |         11.0025 |     0.8316 |          2.3481 |               0\n",
      "31:34 |    44 |     3.000e-04 |     0.0000 |         10.7406 |     0.8141 |          2.3174 |               0\n",
      "31:35 |    45 |     3.000e-04 |     0.0000 |         10.4902 |     0.7995 |          2.2876 |               0\n",
      "31:35 |    46 |     3.000e-04 |     0.0000 |         10.2532 |     0.7859 |          2.2594 |               0\n",
      "31:36 |    47 |     3.000e-04 |     0.0000 |         10.0328 |     0.7719 |          2.2340 |               0\n",
      "31:37 |    48 |     3.000e-04 |     0.0000 |          9.8310 |     0.7577 |          2.2110 |               0\n",
      "31:37 |    49 |     3.000e-04 |     0.0000 |          9.6457 |     0.7429 |          2.1905 |               0\n",
      "31:38 |    50 |     3.000e-04 |     0.0000 |          9.4730 |     0.7292 |          2.1713 |               0\n",
      "31:38 |    51 |     3.000e-04 |     0.0000 |          9.3102 |     0.7178 |          2.1533 |               0\n",
      "31:39 |    52 |     3.000e-04 |     0.0000 |          9.1558 |     0.7099 |          2.1361 |               0\n",
      "31:40 |    53 |     3.000e-04 |     0.0000 |          9.0081 |     0.7063 |          2.1198 |               0\n",
      "31:40 |    54 |     3.000e-04 |     0.0000 |          8.8657 |     0.7059 |          2.1041 |               0\n",
      "31:41 |    55 |     3.000e-04 |     0.0000 |          8.7276 |     0.7082 |          2.0886 |               0\n",
      "31:41 |    56 |     3.000e-04 |     0.0000 |          8.5931 |     0.7135 |          2.0734 |               0\n",
      "31:42 |    57 |     3.000e-04 |     0.0000 |          8.4620 |     0.7228 |          2.0584 |               0\n",
      "31:43 |    58 |     3.000e-04 |     0.0000 |          8.3339 |     0.7353 |          2.0436 |               0\n",
      "31:43 |    59 |     3.000e-04 |     0.0000 |          8.2094 |     0.7516 |          2.0292 |               0\n",
      "31:44 |    60 |     3.000e-04 |     0.0000 |          8.0888 |     0.7747 |          2.0151 |               0\n",
      "31:44 |    61 |     3.000e-04 |     0.0000 |          7.9728 |     0.8020 |          2.0013 |               0\n",
      "31:45 |    62 |     3.000e-04 |     0.0000 |          7.8616 |     0.8329 |          1.9879 |               0\n",
      "31:46 |    63 |     3.000e-04 |     0.0000 |          7.7556 |     0.8659 |          1.9749 |               0\n",
      "31:46 |    64 |     3.000e-04 |     0.0000 |          7.6548 |     0.9010 |          1.9625 |               0\n",
      "31:47 |    65 |     3.000e-04 |     0.0000 |          7.5586 |     0.9363 |          1.9506 |               0\n",
      "31:48 |    66 |     3.000e-04 |     0.0000 |          7.4659 |     0.9704 |          1.9390 |               0\n",
      "31:48 |    67 |     3.000e-04 |     0.0000 |          7.3754 |     1.0028 |          1.9276 |               0\n",
      "31:49 |    68 |     3.000e-04 |     0.0000 |          7.2851 |     1.0334 |          1.9160 |               0\n",
      "31:49 |    69 |     3.000e-04 |     0.0000 |          7.1922 |     1.0625 |          1.9038 |               0\n",
      "31:50 |    70 |     3.000e-04 |     0.0000 |          7.0944 |     1.0907 |          1.8903 |               0\n",
      "31:51 |    71 |     3.000e-04 |     0.0000 |          6.9885 |     1.1180 |          1.8750 |               0\n",
      "31:51 |    72 |     3.000e-04 |     0.0000 |          6.8721 |     1.1449 |          1.8580 |               0\n",
      "31:52 |    73 |     3.000e-04 |     0.0000 |          6.7441 |     1.1710 |          1.8391 |               0\n",
      "31:52 |    74 |     3.000e-04 |     0.0000 |          6.6064 |     1.1939 |          1.8188 |               0\n"
     ]
    },
    {
     "name": "stdout",
     "output_type": "stream",
     "text": [
      "31:53 |    75 |     3.000e-04 |     0.0000 |          6.4639 |     1.2075 |          1.7978 |               0\n",
      "31:54 |    76 |     3.000e-04 |     0.0000 |          6.3225 |     1.2043 |          1.7770 |               0\n",
      "31:54 |    77 |     3.000e-04 |     0.0000 |          6.1876 |     1.1822 |          1.7573 |               0\n",
      "31:55 |    78 |     3.000e-04 |     0.0000 |          6.0648 |     1.1493 |          1.7398 |               0\n",
      "31:56 |    79 |     3.000e-04 |     0.0000 |          5.9580 |     1.1151 |          1.7253 |               0\n",
      "31:56 |    80 |     3.000e-04 |     0.0000 |          5.8659 |     1.0786 |          1.7132 |               0\n",
      "31:57 |    81 |     3.000e-04 |     0.0000 |          5.7856 |     1.0418 |          1.7025 |               0\n",
      "31:57 |    82 |     3.000e-04 |     0.0000 |          5.7148 |     1.0103 |          1.6935 |               0\n",
      "31:58 |    83 |     3.000e-04 |     0.0000 |          5.6512 |     0.9824 |          1.6855 |               0\n",
      "31:58 |    84 |     3.000e-04 |     0.0000 |          5.5929 |     0.9604 |          1.6780 |               0\n",
      "31:59 |    85 |     3.000e-04 |     0.0000 |          5.5383 |     0.9451 |          1.6708 |               0\n",
      "31:59 |    86 |     3.000e-04 |     0.0000 |          5.4864 |     0.9369 |          1.6638 |               0\n",
      "32:00 |    87 |     3.000e-04 |     0.0000 |          5.4367 |     0.9355 |          1.6570 |               0\n",
      "32:01 |    88 |     3.000e-04 |     0.0000 |          5.3877 |     0.9385 |          1.6500 |               0\n",
      "32:01 |    89 |     3.000e-04 |     0.0000 |          5.3379 |     0.9414 |          1.6427 |               0\n",
      "32:02 |    90 |     3.000e-04 |     0.0000 |          5.2862 |     0.9394 |          1.6349 |               0\n",
      "32:03 |    91 |     3.000e-04 |     0.0000 |          5.2325 |     0.9312 |          1.6269 |               0\n",
      "32:03 |    92 |     3.000e-04 |     0.0000 |          5.1792 |     0.9210 |          1.6190 |               0\n",
      "32:04 |    93 |     3.000e-04 |     0.0000 |          5.1350 |     0.9177 |          1.6128 |               0\n",
      "32:04 |    94 |     3.000e-04 |     0.0000 |          5.1152 |     0.9319 |          1.6112 |               0\n",
      "32:05 |    95 |     3.000e-04 |     0.0000 |          5.1343 |     0.9718 |          1.6161 |               0\n",
      "32:05 |    96 |     3.000e-04 |     0.0000 |          5.1829 |     1.0372 |          1.6247 |               0\n",
      "32:06 |    97 |     3.000e-04 |     0.0000 |          5.2415 |     1.0931 |          1.6323 |               0\n",
      "32:06 |    98 |     3.000e-04 |     0.0000 |          5.2878 |     1.0671 |          1.6377 |               0\n",
      "32:07 |    99 |     3.000e-04 |     0.0000 |          5.1816 |     0.9359 |          1.6230 |               0\n",
      "32:07 |   100 |     3.000e-04 |     0.0000 |          6.1128 |     1.1398 |          1.7550 |               0\n"
     ]
    }
   ],
   "source": [
    "T.train(device=DEVICE, n_epochs=100)"
   ]
  },
  {
   "cell_type": "markdown",
   "metadata": {},
   "source": [
    "## Evaluating the model on the test set"
   ]
  },
  {
   "cell_type": "markdown",
   "metadata": {},
   "source": [
    "Now we have a brand new model trained and validated. We can use the best model from this training to evaluate its performance on the test set. `results` contains the predictions of properties for the whole test dataset. `targets` contains the ground truth for such data. `test_loss` is the loss, calculated with the same function used during the training part"
   ]
  },
  {
   "cell_type": "code",
   "execution_count": 15,
   "metadata": {},
   "outputs": [],
   "source": [
    "results, targets, val_loss = evaluate(T.get_best_model(), test_loader, loss_fn, device=DEVICE)"
   ]
  },
  {
   "cell_type": "code",
   "execution_count": 16,
   "metadata": {},
   "outputs": [
    {
     "data": {
      "text/plain": [
       "torch.Size([200, 1])"
      ]
     },
     "execution_count": 16,
     "metadata": {},
     "output_type": "execute_result"
    }
   ],
   "source": [
    "to_tensor(results['energy'], stack=True).shape"
   ]
  },
  {
   "cell_type": "markdown",
   "metadata": {},
   "source": [
    "Finally, we can plot our results to observe how well is our model performing:"
   ]
  },
  {
   "cell_type": "code",
   "execution_count": 18,
   "metadata": {},
   "outputs": [
    {
     "data": {
      "image/png": "[encoded data removed]",
      "text/plain": [
       "<Figure size 864x432 with 2 Axes>"
      ]
     },
     "metadata": {
      "needs_background": "light"
     },
     "output_type": "display_data"
    }
   ],
   "source": [
    "units = {\n",
    "    'energy_grad': r'kcal/mol/$\\AA$',\n",
    "    'energy': 'kcal/mol'\n",
    "}\n",
    "\n",
    "fig, ax_fig = plt.subplots(1, 2, figsize=(12, 6))\n",
    "\n",
    "for ax, key in zip(ax_fig, units.keys()):\n",
    "    pred = torch.stack(results[key], dim=0).view(-1).detach().cpu().numpy()\n",
    "    targ = torch.stack(targets[key], dim=0).view(-1).detach().cpu().numpy()\n",
    "    mae = abs(pred-targ).mean()\n",
    "\n",
    "    ax.scatter(pred, targ, color='#ff7f0e', alpha=0.3)\n",
    "    \n",
    "    lim_min = min(np.min(pred), np.min(targ)) * 1.1\n",
    "    lim_max = max(np.max(pred), np.max(targ)) * 1.1\n",
    "    \n",
    "    ax.set_xlim(lim_min, lim_max)\n",
    "    ax.set_ylim(lim_min, lim_max)\n",
    "    ax.set_aspect('equal')\n",
    "    \n",
    "    ax.plot((lim_min, lim_max),\n",
    "            (lim_min, lim_max),\n",
    "            color='#000000',\n",
    "            zorder=-1,\n",
    "            linewidth=0.5)\n",
    "    \n",
    "    ax.set_title(key.upper(), fontsize=14)\n",
    "    ax.set_xlabel('predicted %s (%s)' % (key, units[key]), fontsize=12)\n",
    "    ax.set_ylabel('target %s (%s)' % (key, units[key]), fontsize=12)\n",
    "    ax.text(0.1, 0.9, 'MAE: %.2f %s' % (mae, units[key]), \n",
    "           transform=ax.transAxes, fontsize=14)\n",
    "    \n",
    "plt.show()"
   ]
  },
  {
   "cell_type": "markdown",
   "metadata": {},
   "source": [
    "The model is performing quite well."
   ]
  }
 ],
 "metadata": {
  "kernelspec": {
   "display_name": "Python [conda env:nff]",
   "language": "python",
   "name": "conda-env-nff-py"
  },
  "language_info": {
   "codemirror_mode": {
    "name": "ipython",
    "version": 3
   },
   "file_extension": ".py",
   "mimetype": "text/x-python",
   "name": "python",
   "nbconvert_exporter": "python",
   "pygments_lexer": "ipython3",
   "version": "3.7.10"
  }
 },
 "nbformat": 4,
 "nbformat_minor": 2
}
