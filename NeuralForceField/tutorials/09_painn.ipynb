{
 "cells": [
  {
   "cell_type": "code",
   "execution_count": 1,
   "metadata": {},
   "outputs": [],
   "source": [
    "%load_ext autoreload\n",
    "%autoreload 2\n",
    "\n",
    "import sys\n",
    "sys.path.insert(0, \"..\")\n",
    "sys.path.insert(0, \"../..\")"
   ]
  },
  {
   "cell_type": "markdown",
   "metadata": {},
   "source": [
    "# PaiNN \n",
    "This tutorial gives an example of implementing the [equivariant PaiNN architecture](https://arxiv.org/pdf/2102.03150.pdf)"
   ]
  },
  {
   "cell_type": "markdown",
   "metadata": {},
   "source": [
    "First we import dependencies for the tutorial:"
   ]
  },
  {
   "cell_type": "code",
   "execution_count": 2,
   "metadata": {
    "scrolled": true
   },
   "outputs": [],
   "source": [
    "import sys\n",
    "from pathlib import Path\n",
    "\n",
    "import os\n",
    "import shutil\n",
    "import numpy as np\n",
    "import matplotlib.pyplot as plt\n",
    "import copy\n",
    "\n",
    "import torch\n",
    "from torch.optim import Adam\n",
    "from torch.utils.data import DataLoader\n",
    "from torch.utils.data.sampler import RandomSampler\n",
    "\n",
    "\n",
    "from nff.data import Dataset, split_train_validation_test, collate_dicts, to_tensor\n",
    "from nff.train import Trainer, get_trainer, get_model, load_model, loss, hooks, metrics, evaluate"
   ]
  },
  {
   "cell_type": "markdown",
   "metadata": {},
   "source": [
    "First we make a directory for our work and load the ethanol dataset:"
   ]
  },
  {
   "cell_type": "code",
   "execution_count": 3,
   "metadata": {},
   "outputs": [],
   "source": [
    "DEVICE = 0\n",
    "OUTDIR = './sandbox_painn'\n",
    "# batch size used in the original paper\n",
    "BATCH_SIZE = 10\n",
    "\n",
    "if os.path.exists(OUTDIR):\n",
    "    newpath = os.path.join(os.path.dirname(OUTDIR), 'backup')\n",
    "    if os.path.exists(newpath):\n",
    "        shutil.rmtree(newpath)\n",
    "        \n",
    "    shutil.move(OUTDIR, newpath)\n",
    "    \n",
    "dataset = Dataset.from_file('data/dataset.pth.tar')\n",
    "train, val, test = split_train_validation_test(dataset, val_size=0.2, test_size=0.2,\n",
    "                                              seed=0)"
   ]
  },
  {
   "cell_type": "markdown",
   "metadata": {},
   "source": [
    "Now we make the model. Note that we can use the mean and standard deviation of the energy in the training set to scale the outputs of the model:"
   ]
  },
  {
   "cell_type": "code",
   "execution_count": 4,
   "metadata": {},
   "outputs": [],
   "source": [
    "modelparams = {\"feat_dim\": 128,\n",
    "              \"activation\": \"swish\",\n",
    "              \"n_rbf\": 20,\n",
    "              \"cutoff\": 5.0,\n",
    "              \"num_conv\": 3,\n",
    "              \"output_keys\": [\"energy\"],\n",
    "              \"grad_keys\": [\"energy_grad\"],\n",
    "               # whether to sum outputs from all blocks in the model\n",
    "               # or just the final output block. False in the original\n",
    "               # implementation\n",
    "              \"skip_connection\": {\"energy\": False},\n",
    "               # Whether the k parameters in the Bessel basis functions\n",
    "               # are learnable. False originally\n",
    "              \"learnable_k\": False,\n",
    "               # dropout rate in the convolution layers, originally 0\n",
    "               \"conv_dropout\": 0.0,\n",
    "               # dropout rate in the readout layers, originally 0\n",
    "               \"readout_dropout\": 0.0,\n",
    "               # dictionary of means to add to each output key\n",
    "               # (this is optional - if you don't supply it then\n",
    "               # nothing will be added)\n",
    "               \"means\": {\"energy\": train.props['energy'].mean().item()},\n",
    "               # dictionary of standard devations with which to \n",
    "               # multiply each output key\n",
    "               # (this is optional - if you don't supply it then\n",
    "               # nothing will be multiplied)\n",
    "               \"stddevs\": {\"energy\": train.props['energy'].std().item()}\n",
    "              }\n",
    "model = get_model(modelparams, model_type=\"Painn\")\n",
    "\n",
    "# untrained model to test for equivariant/invariant outputs\n",
    "original_model = copy.deepcopy(model)"
   ]
  },
  {
   "cell_type": "markdown",
   "metadata": {},
   "source": [
    "Next we make the training splits, loaders, and trainer\n",
    "- Remember to use a random sampler for the train loader, because that makes a big difference in the results (at least for small datasets)"
   ]
  },
  {
   "cell_type": "code",
   "execution_count": 5,
   "metadata": {},
   "outputs": [],
   "source": [
    "\n",
    "train_loader = DataLoader(train, batch_size=BATCH_SIZE, collate_fn=collate_dicts,\n",
    "                         sampler=RandomSampler(train))\n",
    "\n",
    "val_loader = DataLoader(val, batch_size=BATCH_SIZE, collate_fn=collate_dicts)\n",
    "test_loader = DataLoader(test, batch_size=BATCH_SIZE, collate_fn=collate_dicts)\n",
    "\n",
    "# loss trade-off used in the original paper\n",
    "loss_fn = loss.build_mse_loss(loss_coef={'energy_grad': 0.95, 'energy': 0.05})\n",
    "\n",
    "trainable_params = filter(lambda p: p.requires_grad, model.parameters())\n",
    "\n",
    "# learning rate used in the original paper\n",
    "optimizer = Adam(trainable_params, lr=1e-3)\n",
    "\n",
    "\n",
    "train_metrics = [\n",
    "    metrics.MeanAbsoluteError('energy'),\n",
    "    metrics.MeanAbsoluteError('energy_grad')\n",
    "]\n",
    "\n",
    "\n",
    "train_hooks = [\n",
    "    hooks.MaxEpochHook(100),\n",
    "    hooks.CSVHook(\n",
    "        OUTDIR,\n",
    "        metrics=train_metrics,\n",
    "    ),\n",
    "    hooks.PrintingHook(\n",
    "        OUTDIR,\n",
    "        metrics=train_metrics,\n",
    "        separator = ' | ',\n",
    "        time_strf='%M:%S'\n",
    "    ),\n",
    "    hooks.ReduceLROnPlateauHook(\n",
    "        optimizer=optimizer,\n",
    "        # patience in the original paper\n",
    "        patience=50,\n",
    "        factor=0.5,\n",
    "        min_lr=1e-7,\n",
    "        window_length=1,\n",
    "        stop_after_min=True\n",
    "    )\n",
    "]\n",
    "\n",
    "T = Trainer(\n",
    "    model_path=OUTDIR,\n",
    "    model=model,\n",
    "    loss_fn=loss_fn,\n",
    "    optimizer=optimizer,\n",
    "    train_loader=train_loader,\n",
    "    validation_loader=val_loader,\n",
    "    checkpoint_interval=1,\n",
    "    hooks=train_hooks,\n",
    "    mini_batches=1\n",
    ")"
   ]
  },
  {
   "cell_type": "markdown",
   "metadata": {},
   "source": [
    "Now we train and see the results!"
   ]
  },
  {
   "cell_type": "code",
   "execution_count": 6,
   "metadata": {
    "scrolled": true
   },
   "outputs": [
    {
     "name": "stdout",
     "output_type": "stream",
     "text": [
      " Time | Epoch | Learning rate | Train loss | Validation loss | MAE_energy | MAE_energy_grad | GPU Memory (MB)\n"
     ]
    },
    {
     "name": "stderr",
     "output_type": "stream",
     "text": [
      " 98%|██████████████████████████████████████████████████████████████████████████████████████████████████████████████████████████████████████████████████████████████▎  | 59/60 [00:04<00:00, 12.57it/s]\n"
     ]
    },
    {
     "name": "stdout",
     "output_type": "stream",
     "text": [
      "50:40 |     1 |     1.000e-03 |   104.6426 |         35.8928 |     1.3957 |          4.3919 |              53\n"
     ]
    },
    {
     "name": "stderr",
     "output_type": "stream",
     "text": [
      " 98%|██████████████████████████████████████████████████████████████████████████████████████████████████████████████████████████████████████████████████████████████▎  | 59/60 [00:04<00:00, 12.81it/s]\n"
     ]
    },
    {
     "name": "stdout",
     "output_type": "stream",
     "text": [
      "50:45 |     2 |     1.000e-03 |    24.8587 |         20.1787 |     2.1709 |          3.3579 |              53\n"
     ]
    },
    {
     "name": "stderr",
     "output_type": "stream",
     "text": [
      " 98%|██████████████████████████████████████████████████████████████████████████████████████████████████████████████████████████████████████████████████████████████▎  | 59/60 [00:04<00:00, 12.20it/s]\n"
     ]
    },
    {
     "name": "stdout",
     "output_type": "stream",
     "text": [
      "50:51 |     3 |     1.000e-03 |    14.6834 |         15.2948 |     1.8712 |          2.9489 |              53\n"
     ]
    },
    {
     "name": "stderr",
     "output_type": "stream",
     "text": [
      " 98%|██████████████████████████████████████████████████████████████████████████████████████████████████████████████████████████████████████████████████████████████▎  | 59/60 [00:04<00:00, 12.38it/s]\n"
     ]
    },
    {
     "name": "stdout",
     "output_type": "stream",
     "text": [
      "50:56 |     4 |     1.000e-03 |    14.0037 |         10.8184 |     0.7811 |          2.5381 |              53\n"
     ]
    },
    {
     "name": "stderr",
     "output_type": "stream",
     "text": [
      " 98%|██████████████████████████████████████████████████████████████████████████████████████████████████████████████████████████████████████████████████████████████▎  | 59/60 [00:04<00:00, 12.44it/s]\n"
     ]
    },
    {
     "name": "stdout",
     "output_type": "stream",
     "text": [
      "51:02 |     5 |     1.000e-03 |    10.2829 |          8.8013 |     2.0512 |          2.2229 |              53\n"
     ]
    },
    {
     "name": "stderr",
     "output_type": "stream",
     "text": [
      " 98%|██████████████████████████████████████████████████████████████████████████████████████████████████████████████████████████████████████████████████████████████▎  | 59/60 [00:04<00:00, 12.28it/s]\n"
     ]
    },
    {
     "name": "stdout",
     "output_type": "stream",
     "text": [
      "51:08 |     6 |     1.000e-03 |    11.8799 |         10.7772 |     0.7171 |          2.4730 |              53\n"
     ]
    },
    {
     "name": "stderr",
     "output_type": "stream",
     "text": [
      " 98%|██████████████████████████████████████████████████████████████████████████████████████████████████████████████████████████████████████████████████████████████▎  | 59/60 [00:04<00:00, 12.27it/s]\n"
     ]
    },
    {
     "name": "stdout",
     "output_type": "stream",
     "text": [
      "51:13 |     7 |     1.000e-03 |     7.2207 |          5.7647 |     1.3713 |          1.7525 |              53\n"
     ]
    },
    {
     "name": "stderr",
     "output_type": "stream",
     "text": [
      " 98%|██████████████████████████████████████████████████████████████████████████████████████████████████████████████████████████████████████████████████████████████▎  | 59/60 [00:05<00:00, 10.73it/s]\n"
     ]
    },
    {
     "name": "stdout",
     "output_type": "stream",
     "text": [
      "51:20 |     8 |     1.000e-03 |     6.2374 |          5.4644 |     0.6772 |          1.7618 |              53\n"
     ]
    },
    {
     "name": "stderr",
     "output_type": "stream",
     "text": [
      " 98%|██████████████████████████████████████████████████████████████████████████████████████████████████████████████████████████████████████████████████████████████▎  | 59/60 [00:05<00:00, 10.35it/s]\n"
     ]
    },
    {
     "name": "stdout",
     "output_type": "stream",
     "text": [
      "51:27 |     9 |     1.000e-03 |     4.7774 |          7.0971 |     0.7005 |          1.8925 |              53\n"
     ]
    },
    {
     "name": "stderr",
     "output_type": "stream",
     "text": [
      " 98%|██████████████████████████████████████████████████████████████████████████████████████████████████████████████████████████████████████████████████████████████▎  | 59/60 [00:05<00:00, 10.35it/s]\n"
     ]
    },
    {
     "name": "stdout",
     "output_type": "stream",
     "text": [
      "51:33 |    10 |     1.000e-03 |     4.4307 |          5.7723 |     0.9024 |          1.8400 |              53\n"
     ]
    },
    {
     "name": "stderr",
     "output_type": "stream",
     "text": [
      " 98%|██████████████████████████████████████████████████████████████████████████████████████████████████████████████████████████████████████████████████████████████▎  | 59/60 [00:06<00:00,  9.82it/s]\n"
     ]
    },
    {
     "name": "stdout",
     "output_type": "stream",
     "text": [
      "51:40 |    11 |     1.000e-03 |     4.6491 |          5.6558 |     1.5259 |          1.7586 |              53\n"
     ]
    },
    {
     "name": "stderr",
     "output_type": "stream",
     "text": [
      " 98%|██████████████████████████████████████████████████████████████████████████████████████████████████████████████████████████████████████████████████████████████▎  | 59/60 [00:04<00:00, 12.25it/s]\n"
     ]
    },
    {
     "name": "stdout",
     "output_type": "stream",
     "text": [
      "51:46 |    12 |     1.000e-03 |     4.5384 |          4.6967 |     0.7911 |          1.6179 |              53\n"
     ]
    },
    {
     "name": "stderr",
     "output_type": "stream",
     "text": [
      " 98%|██████████████████████████████████████████████████████████████████████████████████████████████████████████████████████████████████████████████████████████████▎  | 59/60 [00:04<00:00, 12.50it/s]\n"
     ]
    },
    {
     "name": "stdout",
     "output_type": "stream",
     "text": [
      "51:52 |    13 |     1.000e-03 |     3.5612 |          5.6514 |     0.7319 |          1.7251 |              53\n"
     ]
    },
    {
     "name": "stderr",
     "output_type": "stream",
     "text": [
      " 98%|██████████████████████████████████████████████████████████████████████████████████████████████████████████████████████████████████████████████████████████████▎  | 59/60 [00:04<00:00, 12.81it/s]\n"
     ]
    },
    {
     "name": "stdout",
     "output_type": "stream",
     "text": [
      "51:57 |    14 |     1.000e-03 |     4.8459 |          4.3679 |     0.6616 |          1.5538 |              53\n"
     ]
    },
    {
     "name": "stderr",
     "output_type": "stream",
     "text": [
      " 98%|██████████████████████████████████████████████████████████████████████████████████████████████████████████████████████████████████████████████████████████████▎  | 59/60 [00:04<00:00, 13.06it/s]\n"
     ]
    },
    {
     "name": "stdout",
     "output_type": "stream",
     "text": [
      "52:02 |    15 |     1.000e-03 |     4.7874 |          4.9432 |     0.5342 |          1.6184 |              53\n"
     ]
    },
    {
     "name": "stderr",
     "output_type": "stream",
     "text": [
      " 98%|██████████████████████████████████████████████████████████████████████████████████████████████████████████████████████████████████████████████████████████████▎  | 59/60 [00:04<00:00, 12.24it/s]\n"
     ]
    },
    {
     "name": "stdout",
     "output_type": "stream",
     "text": [
      "52:08 |    16 |     1.000e-03 |     3.5366 |          3.3033 |     0.5949 |          1.3329 |              53\n"
     ]
    },
    {
     "name": "stderr",
     "output_type": "stream",
     "text": [
      " 98%|██████████████████████████████████████████████████████████████████████████████████████████████████████████████████████████████████████████████████████████████▎  | 59/60 [00:04<00:00, 12.41it/s]\n"
     ]
    },
    {
     "name": "stdout",
     "output_type": "stream",
     "text": [
      "52:14 |    17 |     1.000e-03 |     2.8693 |          3.5463 |     0.4968 |          1.3950 |              53\n"
     ]
    },
    {
     "name": "stderr",
     "output_type": "stream",
     "text": [
      " 98%|██████████████████████████████████████████████████████████████████████████████████████████████████████████████████████████████████████████████████████████████▎  | 59/60 [00:04<00:00, 11.84it/s]\n"
     ]
    },
    {
     "name": "stdout",
     "output_type": "stream",
     "text": [
      "52:20 |    18 |     1.000e-03 |     2.2900 |          2.8676 |     0.4697 |          1.2603 |              53\n"
     ]
    },
    {
     "name": "stderr",
     "output_type": "stream",
     "text": [
      " 98%|██████████████████████████████████████████████████████████████████████████████████████████████████████████████████████████████████████████████████████████████▎  | 59/60 [00:04<00:00, 12.73it/s]\n"
     ]
    },
    {
     "name": "stdout",
     "output_type": "stream",
     "text": [
      "52:25 |    19 |     1.000e-03 |     1.8572 |          3.5191 |     0.5053 |          1.4538 |              53\n"
     ]
    },
    {
     "name": "stderr",
     "output_type": "stream",
     "text": [
      " 98%|██████████████████████████████████████████████████████████████████████████████████████████████████████████████████████████████████████████████████████████████▎  | 59/60 [00:04<00:00, 12.95it/s]\n"
     ]
    },
    {
     "name": "stdout",
     "output_type": "stream",
     "text": [
      "52:30 |    20 |     1.000e-03 |     2.2247 |          3.3322 |     0.4162 |          1.3760 |              53\n"
     ]
    },
    {
     "name": "stderr",
     "output_type": "stream",
     "text": [
      " 98%|██████████████████████████████████████████████████████████████████████████████████████████████████████████████████████████████████████████████████████████████▎  | 59/60 [00:05<00:00, 11.75it/s]\n"
     ]
    },
    {
     "name": "stdout",
     "output_type": "stream",
     "text": [
      "52:36 |    21 |     1.000e-03 |     2.2692 |          3.4537 |     0.4160 |          1.3745 |              53\n"
     ]
    },
    {
     "name": "stderr",
     "output_type": "stream",
     "text": [
      " 98%|██████████████████████████████████████████████████████████████████████████████████████████████████████████████████████████████████████████████████████████████▎  | 59/60 [00:04<00:00, 12.35it/s]\n"
     ]
    },
    {
     "name": "stdout",
     "output_type": "stream",
     "text": [
      "52:42 |    22 |     1.000e-03 |     2.2595 |          3.0126 |     0.4343 |          1.2782 |              53\n"
     ]
    },
    {
     "name": "stderr",
     "output_type": "stream",
     "text": [
      " 98%|██████████████████████████████████████████████████████████████████████████████████████████████████████████████████████████████████████████████████████████████▎  | 59/60 [00:04<00:00, 12.41it/s]\n"
     ]
    },
    {
     "name": "stdout",
     "output_type": "stream",
     "text": [
      "52:48 |    23 |     1.000e-03 |     2.5160 |          3.1114 |     1.0502 |          1.2860 |              53\n"
     ]
    },
    {
     "name": "stderr",
     "output_type": "stream",
     "text": [
      " 98%|██████████████████████████████████████████████████████████████████████████████████████████████████████████████████████████████████████████████████████████████▎  | 59/60 [00:04<00:00, 12.15it/s]\n"
     ]
    },
    {
     "name": "stdout",
     "output_type": "stream",
     "text": [
      "52:53 |    24 |     1.000e-03 |     2.0448 |          3.2757 |     0.4253 |          1.3663 |              53\n"
     ]
    },
    {
     "name": "stderr",
     "output_type": "stream",
     "text": [
      " 98%|██████████████████████████████████████████████████████████████████████████████████████████████████████████████████████████████████████████████████████████████▎  | 59/60 [00:04<00:00, 12.85it/s]\n"
     ]
    },
    {
     "name": "stdout",
     "output_type": "stream",
     "text": [
      "52:59 |    25 |     1.000e-03 |     2.1274 |          2.8919 |     0.6743 |          1.2026 |              53\n"
     ]
    },
    {
     "name": "stderr",
     "output_type": "stream",
     "text": [
      " 98%|██████████████████████████████████████████████████████████████████████████████████████████████████████████████████████████████████████████████████████████████▎  | 59/60 [00:04<00:00, 12.04it/s]\n"
     ]
    },
    {
     "name": "stdout",
     "output_type": "stream",
     "text": [
      "53:05 |    26 |     1.000e-03 |     1.9718 |          2.6598 |     0.6956 |          1.1884 |              53\n"
     ]
    },
    {
     "name": "stderr",
     "output_type": "stream",
     "text": [
      " 98%|██████████████████████████████████████████████████████████████████████████████████████████████████████████████████████████████████████████████████████████████▎  | 59/60 [00:04<00:00, 12.22it/s]\n"
     ]
    },
    {
     "name": "stdout",
     "output_type": "stream",
     "text": [
      "53:10 |    27 |     1.000e-03 |     1.7271 |          2.7245 |     0.3771 |          1.2327 |              53\n"
     ]
    },
    {
     "name": "stderr",
     "output_type": "stream",
     "text": [
      " 98%|██████████████████████████████████████████████████████████████████████████████████████████████████████████████████████████████████████████████████████████████▎  | 59/60 [00:05<00:00, 11.78it/s]\n"
     ]
    },
    {
     "name": "stdout",
     "output_type": "stream",
     "text": [
      "53:16 |    28 |     1.000e-03 |     2.5700 |          3.7693 |     0.5218 |          1.3995 |              53\n"
     ]
    },
    {
     "name": "stderr",
     "output_type": "stream",
     "text": [
      " 98%|██████████████████████████████████████████████████████████████████████████████████████████████████████████████████████████████████████████████████████████████▎  | 59/60 [00:05<00:00, 11.08it/s]\n"
     ]
    },
    {
     "name": "stdout",
     "output_type": "stream",
     "text": [
      "53:22 |    29 |     1.000e-03 |     2.1624 |          2.8310 |     0.5908 |          1.2286 |              53\n"
     ]
    },
    {
     "name": "stderr",
     "output_type": "stream",
     "text": [
      " 98%|██████████████████████████████████████████████████████████████████████████████████████████████████████████████████████████████████████████████████████████████▎  | 59/60 [00:05<00:00, 11.46it/s]\n"
     ]
    },
    {
     "name": "stdout",
     "output_type": "stream",
     "text": [
      "53:28 |    30 |     1.000e-03 |     2.3878 |          3.7281 |     0.7295 |          1.3752 |              53\n"
     ]
    },
    {
     "name": "stderr",
     "output_type": "stream",
     "text": [
      " 98%|██████████████████████████████████████████████████████████████████████████████████████████████████████████████████████████████████████████████████████████████▎  | 59/60 [00:05<00:00, 11.79it/s]\n"
     ]
    },
    {
     "name": "stdout",
     "output_type": "stream",
     "text": [
      "53:34 |    31 |     1.000e-03 |     2.4486 |          3.9171 |     0.4891 |          1.5428 |              53\n"
     ]
    },
    {
     "name": "stderr",
     "output_type": "stream",
     "text": [
      " 98%|██████████████████████████████████████████████████████████████████████████████████████████████████████████████████████████████████████████████████████████████▎  | 59/60 [00:04<00:00, 12.00it/s]\n"
     ]
    },
    {
     "name": "stdout",
     "output_type": "stream",
     "text": [
      "53:40 |    32 |     1.000e-03 |     1.9909 |          2.7623 |     0.4314 |          1.2030 |              53\n"
     ]
    },
    {
     "name": "stderr",
     "output_type": "stream",
     "text": [
      " 98%|██████████████████████████████████████████████████████████████████████████████████████████████████████████████████████████████████████████████████████████████▎  | 59/60 [00:04<00:00, 12.91it/s]\n"
     ]
    },
    {
     "name": "stdout",
     "output_type": "stream",
     "text": [
      "53:45 |    33 |     1.000e-03 |     1.3829 |          2.2207 |     0.4187 |          1.0630 |              53\n"
     ]
    },
    {
     "name": "stderr",
     "output_type": "stream",
     "text": [
      " 98%|██████████████████████████████████████████████████████████████████████████████████████████████████████████████████████████████████████████████████████████████▎  | 59/60 [00:04<00:00, 12.49it/s]\n"
     ]
    },
    {
     "name": "stdout",
     "output_type": "stream",
     "text": [
      "53:51 |    34 |     1.000e-03 |     1.6256 |          2.1504 |     0.7927 |          1.0498 |              53\n"
     ]
    },
    {
     "name": "stderr",
     "output_type": "stream",
     "text": [
      " 98%|██████████████████████████████████████████████████████████████████████████████████████████████████████████████████████████████████████████████████████████████▎  | 59/60 [00:04<00:00, 12.92it/s]\n"
     ]
    },
    {
     "name": "stdout",
     "output_type": "stream",
     "text": [
      "53:56 |    35 |     1.000e-03 |     1.3646 |          2.2046 |     0.3780 |          1.0779 |              53\n"
     ]
    },
    {
     "name": "stderr",
     "output_type": "stream",
     "text": [
      " 98%|██████████████████████████████████████████████████████████████████████████████████████████████████████████████████████████████████████████████████████████████▎  | 59/60 [00:04<00:00, 13.25it/s]\n"
     ]
    },
    {
     "name": "stdout",
     "output_type": "stream",
     "text": [
      "54:02 |    36 |     1.000e-03 |     1.6907 |          2.5707 |     0.3310 |          1.1942 |              53\n"
     ]
    },
    {
     "name": "stderr",
     "output_type": "stream",
     "text": [
      " 98%|██████████████████████████████████████████████████████████████████████████████████████████████████████████████████████████████████████████████████████████████▎  | 59/60 [00:04<00:00, 11.91it/s]\n"
     ]
    },
    {
     "name": "stdout",
     "output_type": "stream",
     "text": [
      "54:08 |    37 |     1.000e-03 |     1.3743 |          2.2210 |     0.2689 |          1.1090 |              53\n"
     ]
    },
    {
     "name": "stderr",
     "output_type": "stream",
     "text": [
      " 98%|██████████████████████████████████████████████████████████████████████████████████████████████████████████████████████████████████████████████████████████████▎  | 59/60 [00:04<00:00, 12.33it/s]\n"
     ]
    },
    {
     "name": "stdout",
     "output_type": "stream",
     "text": [
      "54:13 |    38 |     1.000e-03 |     1.4463 |          2.2205 |     0.4318 |          1.0839 |              53\n"
     ]
    },
    {
     "name": "stderr",
     "output_type": "stream",
     "text": [
      " 98%|██████████████████████████████████████████████████████████████████████████████████████████████████████████████████████████████████████████████████████████████▎  | 59/60 [00:04<00:00, 13.20it/s]\n"
     ]
    },
    {
     "name": "stdout",
     "output_type": "stream",
     "text": [
      "54:18 |    39 |     1.000e-03 |     1.3386 |          2.6689 |     0.5784 |          1.2062 |              53\n"
     ]
    },
    {
     "name": "stderr",
     "output_type": "stream",
     "text": [
      " 98%|██████████████████████████████████████████████████████████████████████████████████████████████████████████████████████████████████████████████████████████████▎  | 59/60 [00:04<00:00, 12.84it/s]\n"
     ]
    },
    {
     "name": "stdout",
     "output_type": "stream",
     "text": [
      "54:24 |    40 |     1.000e-03 |     1.5063 |          2.2579 |     0.4589 |          1.0841 |              53\n"
     ]
    },
    {
     "name": "stderr",
     "output_type": "stream",
     "text": [
      " 98%|██████████████████████████████████████████████████████████████████████████████████████████████████████████████████████████████████████████████████████████████▎  | 59/60 [00:04<00:00, 13.89it/s]\n"
     ]
    },
    {
     "name": "stdout",
     "output_type": "stream",
     "text": [
      "54:28 |    41 |     1.000e-03 |     1.5443 |          2.5127 |     0.3745 |          1.1543 |              53\n"
     ]
    },
    {
     "name": "stderr",
     "output_type": "stream",
     "text": [
      " 98%|██████████████████████████████████████████████████████████████████████████████████████████████████████████████████████████████████████████████████████████████▎  | 59/60 [00:02<00:00, 22.51it/s]\n"
     ]
    },
    {
     "name": "stdout",
     "output_type": "stream",
     "text": [
      "54:31 |    42 |     1.000e-03 |     1.4072 |          1.9840 |     0.3366 |          1.0172 |              53\n"
     ]
    },
    {
     "name": "stderr",
     "output_type": "stream",
     "text": [
      " 98%|██████████████████████████████████████████████████████████████████████████████████████████████████████████████████████████████████████████████████████████████▎  | 59/60 [00:02<00:00, 26.09it/s]\n"
     ]
    },
    {
     "name": "stdout",
     "output_type": "stream",
     "text": [
      "54:34 |    43 |     1.000e-03 |     1.3038 |          2.7495 |     0.3688 |          1.2444 |              53\n"
     ]
    },
    {
     "name": "stderr",
     "output_type": "stream",
     "text": [
      " 98%|██████████████████████████████████████████████████████████████████████████████████████████████████████████████████████████████████████████████████████████████▎  | 59/60 [00:02<00:00, 23.61it/s]\n"
     ]
    },
    {
     "name": "stdout",
     "output_type": "stream",
     "text": [
      "54:37 |    44 |     1.000e-03 |     1.4283 |          2.1873 |     0.4449 |          1.0756 |              53\n"
     ]
    },
    {
     "name": "stderr",
     "output_type": "stream",
     "text": [
      " 98%|██████████████████████████████████████████████████████████████████████████████████████████████████████████████████████████████████████████████████████████████▎  | 59/60 [00:02<00:00, 22.76it/s]\n"
     ]
    },
    {
     "name": "stdout",
     "output_type": "stream",
     "text": [
      "54:40 |    45 |     1.000e-03 |     1.5195 |          2.2718 |     0.4458 |          1.0732 |              53\n"
     ]
    },
    {
     "name": "stderr",
     "output_type": "stream",
     "text": [
      " 98%|██████████████████████████████████████████████████████████████████████████████████████████████████████████████████████████████████████████████████████████████▎  | 59/60 [00:02<00:00, 21.26it/s]\n"
     ]
    },
    {
     "name": "stdout",
     "output_type": "stream",
     "text": [
      "54:43 |    46 |     1.000e-03 |     1.6631 |          2.0960 |     0.6345 |          1.0568 |              53\n"
     ]
    },
    {
     "name": "stderr",
     "output_type": "stream",
     "text": [
      " 98%|██████████████████████████████████████████████████████████████████████████████████████████████████████████████████████████████████████████████████████████████▎  | 59/60 [00:02<00:00, 20.13it/s]\n"
     ]
    },
    {
     "name": "stdout",
     "output_type": "stream",
     "text": [
      "54:47 |    47 |     1.000e-03 |     1.3507 |          1.7552 |     1.4381 |          0.9448 |              53\n"
     ]
    },
    {
     "name": "stderr",
     "output_type": "stream",
     "text": [
      " 98%|██████████████████████████████████████████████████████████████████████████████████████████████████████████████████████████████████████████████████████████████▎  | 59/60 [00:03<00:00, 18.86it/s]\n"
     ]
    },
    {
     "name": "stdout",
     "output_type": "stream",
     "text": [
      "54:51 |    48 |     1.000e-03 |     1.7653 |          2.5372 |     1.2032 |          1.1152 |              53\n"
     ]
    },
    {
     "name": "stderr",
     "output_type": "stream",
     "text": [
      " 98%|██████████████████████████████████████████████████████████████████████████████████████████████████████████████████████████████████████████████████████████████▎  | 59/60 [00:04<00:00, 14.64it/s]\n"
     ]
    },
    {
     "name": "stdout",
     "output_type": "stream",
     "text": [
      "54:55 |    49 |     1.000e-03 |     2.1702 |          2.5157 |     0.3266 |          1.2236 |              53\n"
     ]
    },
    {
     "name": "stderr",
     "output_type": "stream",
     "text": [
      " 98%|██████████████████████████████████████████████████████████████████████████████████████████████████████████████████████████████████████████████████████████████▎  | 59/60 [00:03<00:00, 15.84it/s]\n"
     ]
    },
    {
     "name": "stdout",
     "output_type": "stream",
     "text": [
      "55:00 |    50 |     1.000e-03 |     2.1654 |          2.8966 |     0.3810 |          1.2571 |              53\n"
     ]
    }
   ],
   "source": [
    "T.train(device=DEVICE, n_epochs=50)"
   ]
  },
  {
   "cell_type": "markdown",
   "metadata": {},
   "source": [
    "Check that the energies are invariant to rotations and that the gradients are equivariant:"
   ]
  },
  {
   "cell_type": "code",
   "execution_count": 10,
   "metadata": {
    "scrolled": true
   },
   "outputs": [
    {
     "name": "stdout",
     "output_type": "stream",
     "text": [
      "tensor([[ 1.0000e+00, -3.5184e-09,  3.8562e-09],\n",
      "        [-3.5184e-09,  1.0000e+00, -6.5784e-09],\n",
      "        [ 3.8562e-09, -6.5784e-09,  1.0000e+00]])\n"
     ]
    }
   ],
   "source": [
    "from numpy import cos, sin\n",
    "\n",
    "def make_rot(alpha, beta, gamma):\n",
    "    \"\"\"\n",
    "    Make a general rotation matrix from angles alpha, beta and gamma\n",
    "    \"\"\"\n",
    "    r = torch.Tensor([\n",
    "        [cos(alpha) * cos(beta),\n",
    "        cos(alpha) * sin(beta) * sin(gamma) - sin(alpha) * cos(gamma),\n",
    "        cos(alpha) * sin(beta) * cos(gamma) + sin(alpha) * sin(gamma)],\n",
    "        [sin(alpha) * cos(beta),\n",
    "        sin(alpha) * sin(beta) * sin(gamma) + cos(alpha) * cos(gamma),\n",
    "        sin(alpha) * sin(beta) * cos(gamma) - cos(alpha) * sin(gamma)],\n",
    "        [-sin(beta), cos(beta) * sin(gamma), cos(beta) * cos(gamma)]\n",
    "    ])\n",
    "    \n",
    "    return r\n",
    "    \n",
    "# test that an arbitrary rotation matrix is unitary\n",
    "r = make_rot(0.2, 0.1, 0.4)\n",
    "print(torch.matmul(r, r.transpose(0, 1)))"
   ]
  },
  {
   "cell_type": "code",
   "execution_count": 11,
   "metadata": {},
   "outputs": [
    {
     "name": "stdout",
     "output_type": "stream",
     "text": [
      "53.97652435 \n",
      "tensor([[12.5535,  4.2386,  5.0381],\n",
      "        [-8.4048, -7.3581,  2.3932],\n",
      "        [ 6.9726,  6.3975,  3.5584],\n",
      "        [ 0.8526,  0.8563, -6.7881],\n",
      "        [ 5.0760, 10.2634,  3.1802],\n",
      "        [-7.9873, -0.6507,  0.5244],\n",
      "        [-0.1297, -1.6504, -6.9545],\n",
      "        [-0.7030, -4.9541,  2.7618],\n",
      "        [-8.2299, -7.1424, -3.7135]], grad_fn=<StackBackward>)\n",
      "53.97652817 \n",
      "tensor([[12.5535,  4.2386,  5.0381],\n",
      "        [-8.4047, -7.3581,  2.3932],\n",
      "        [ 6.9726,  6.3975,  3.5584],\n",
      "        [ 0.8526,  0.8563, -6.7881],\n",
      "        [ 5.0760, 10.2633,  3.1802],\n",
      "        [-7.9873, -0.6507,  0.5244],\n",
      "        [-0.1297, -1.6504, -6.9545],\n",
      "        [-0.7030, -4.9541,  2.7618],\n",
      "        [-8.2299, -7.1424, -3.7135]], grad_fn=<StackBackward>)\n"
     ]
    }
   ],
   "source": [
    "# get results for a geometry and its rotated version\n",
    "\n",
    "nxyz = train.props['nxyz'][0]\n",
    "rots = [torch.diag(torch.ones(3)), make_rot(1.4, -0.5, 1.3)]\n",
    "original_model.to(DEVICE)\n",
    "\n",
    "for rot in rots:\n",
    "    xyz = torch.stack([torch.matmul(rot, i[1:]) for i in nxyz])\n",
    "    z = nxyz[:, 0].reshape(-1, 1)\n",
    "    this_nxyz = torch.cat([z, xyz], dim=-1).to(DEVICE)\n",
    "    batch = {\"nxyz\": this_nxyz,\n",
    "             \"num_atoms\": torch.LongTensor([len(nxyz)]),\n",
    "             \"nbr_list\": train.props['nbr_list'][0].to(DEVICE)}\n",
    "    results = original_model(batch)\n",
    "    energy = results['energy'].cpu()\n",
    "    \n",
    "    # energies should be invariant\n",
    "    print(\"%.8f \" % energy.item())\n",
    "    \n",
    "    energy_grad = results['energy_grad'].cpu()\n",
    "        \n",
    "    # applying R^T to the gradients should give the same value for\n",
    "    # all geometries\n",
    "    rot_grad = torch.stack([torch.matmul(rot.transpose(0, 1), \n",
    "                                         i) for i in energy_grad])\n",
    "    print(rot_grad)"
   ]
  },
  {
   "cell_type": "code",
   "execution_count": 12,
   "metadata": {
    "scrolled": false
   },
   "outputs": [
    {
     "name": "stderr",
     "output_type": "stream",
     "text": [
      "100%|█████████████████████████████████████████████████████████████████████████████████████████████████████████████████████████████████████████████████████████████████| 20/20 [00:00<00:00, 28.28it/s]\n"
     ]
    },
    {
     "data": {
      "image/png": "[encoded data removed]",
      "text/plain": [
       "<Figure size 864x432 with 2 Axes>"
      ]
     },
     "metadata": {
      "needs_background": "light"
     },
     "output_type": "display_data"
    }
   ],
   "source": [
    "results, targets, val_loss = evaluate(T.get_best_model(), \n",
    "                                      test_loader, \n",
    "                                      loss_fn, \n",
    "                                      device=DEVICE)\n",
    "\n",
    "units = {\n",
    "    'energy_grad': r'kcal/mol/$\\AA$',\n",
    "    'energy': 'kcal/mol'\n",
    "}\n",
    "\n",
    "fig, ax_fig = plt.subplots(1, 2, figsize=(12, 6))\n",
    "\n",
    "for ax, key in zip(ax_fig, units.keys()):\n",
    "    pred_fn = torch.cat\n",
    "    targ_fn = torch.cat\n",
    "    if all([len(i.shape) == 0 for i in results[key]]):\n",
    "        pred_fn = torch.stack\n",
    "    if all([len(i.shape) == 0 for i in targets[key]]):\n",
    "        targ_fn = torch.stack\n",
    "        \n",
    "    pred = pred_fn(results[key], dim=0).view(-1).detach().cpu().numpy()\n",
    "    targ = targ_fn(targets[key], dim=0).view(-1).detach().cpu().numpy()\n",
    "\n",
    "    mae = abs(pred-targ).mean()\n",
    "    \n",
    "    ax.hexbin(pred, targ, mincnt=1)\n",
    "    \n",
    "    lim_min = min(np.min(pred), np.min(targ)) * 1.1\n",
    "    lim_max = max(np.max(pred), np.max(targ)) * 1.1\n",
    "    \n",
    "    ax.set_xlim(lim_min, lim_max)\n",
    "    ax.set_ylim(lim_min, lim_max)\n",
    "    ax.set_aspect('equal')\n",
    "    \n",
    "    ax.plot((lim_min, lim_max),\n",
    "            (lim_min, lim_max),\n",
    "            color='#000000',\n",
    "            zorder=-1,\n",
    "            linewidth=0.5)\n",
    "    \n",
    "    ax.set_title(key.upper(), fontsize=14)\n",
    "    ax.set_xlabel('predicted %s (%s)' % (key, units[key]), fontsize=12)\n",
    "    ax.set_ylabel('target %s (%s)' % (key, units[key]), fontsize=12)\n",
    "    ax.text(0.1, 0.9, 'MAE: %.2f %s' % (mae, units[key]), \n",
    "           transform=ax.transAxes, fontsize=14)\n",
    "\n",
    "plt.show()"
   ]
  },
  {
   "cell_type": "markdown",
   "metadata": {},
   "source": [
    "Note that PaiNN is about 30x more efficient than DimeNet (efficiency = 1 / (inference time * memory footprint)), with even better accuracy. The improved accuracy is reported in the PaiNN paper, and we have confirmed this accuracy by training our DimeNet and PaiNN implementations on aspirin in the MD17 dataset."
   ]
  },
  {
   "cell_type": "code",
   "execution_count": null,
   "metadata": {},
   "outputs": [],
   "source": []
  }
 ],
 "metadata": {
  "kernelspec": {
   "display_name": "Python [conda env:nff_new]",
   "language": "python",
   "name": "nff_new"
  },
  "language_info": {
   "codemirror_mode": {
    "name": "ipython",
    "version": 3
   },
   "file_extension": ".py",
   "mimetype": "text/x-python",
   "name": "python",
   "nbconvert_exporter": "python",
   "pygments_lexer": "ipython3",
   "version": "3.7.10"
  }
 },
 "nbformat": 4,
 "nbformat_minor": 2
}
