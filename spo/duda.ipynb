{
 "cells": [
  {
   "cell_type": "code",
   "execution_count": 1,
   "metadata": {},
   "outputs": [
    {
     "name": "stdout",
     "output_type": "stream",
     "text": [
      "Hola Mundo\n",
      "4\n",
      "Hola Mundo \n"
     ]
    }
   ],
   "source": [
    "#Este es un comentario porque empieza con #\n",
    "print(\"Hola Mundo\") #impresión de un string\n",
    "print(4) # impresión de un número\n",
    "hola = 'Hola Mundo '\n",
    "print(hola)"
   ]
  },
  {
   "cell_type": "code",
   "execution_count": null,
   "metadata": {},
   "outputs": [],
   "source": [
    "x=5\n",
    "print(x)\n",
    "\n",
    "y=x+2.5\n",
    "print(y)"
   ]
  },
  {
   "cell_type": "code",
   "execution_count": 2,
   "metadata": {},
   "outputs": [],
   "source": [
    "x = 3 "
   ]
  },
  {
   "cell_type": "code",
   "execution_count": 3,
   "metadata": {},
   "outputs": [
    {
     "name": "stdout",
     "output_type": "stream",
     "text": [
      "- Tipo de x:\n",
      "<class 'int'>\n"
     ]
    }
   ],
   "source": [
    "print(\"- Tipo de x:\")\n",
    "print(type(x)) # Imprime el tipo (o `clase`) de x"
   ]
  },
  {
   "cell_type": "code",
   "execution_count": 4,
   "metadata": {},
   "outputs": [
    {
     "name": "stdout",
     "output_type": "stream",
     "text": [
      "- Valor de x:\n",
      "3\n"
     ]
    }
   ],
   "source": [
    "print(\"- Valor de x:\")\n",
    "print(x)       # Imprimir un valor"
   ]
  },
  {
   "cell_type": "code",
   "execution_count": 5,
   "metadata": {},
   "outputs": [
    {
     "name": "stdout",
     "output_type": "stream",
     "text": [
      "- x+1:\n",
      "4\n"
     ]
    }
   ],
   "source": [
    "print(\"- x+1:\")\n",
    "print(x + 1)   # Suma: imprime \"4\""
   ]
  },
  {
   "cell_type": "code",
   "execution_count": null,
   "metadata": {},
   "outputs": [],
   "source": [
    "x += 1 \n",
    "print(\"- x modificado:\")\n",
    "print(x)  # Imprime \"4\""
   ]
  },
  {
   "cell_type": "code",
   "execution_count": null,
   "metadata": {},
   "outputs": [],
   "source": [
    "print(\"- Varias cosas en una línea:\")\n",
    "print(1,2,x,5*2) # imprime varias cosas a la vez"
   ]
  },
  {
   "cell_type": "code",
   "execution_count": null,
   "metadata": {},
   "outputs": [],
   "source": [
    "### Flotantes ###\n",
    "\n",
    "y = 2.5 \n",
    "print(\"- Tipo de y:\")\n",
    "print(type(y)) # Imprime el tipo de y\n",
    "print(\"- Varios valores en punto flotante:\")\n",
    "print(y, y + 1, y * 2.5, y ** 2) # Imprime varios números en punto flotante"
   ]
  },
  {
   "cell_type": "code",
   "execution_count": 6,
   "metadata": {},
   "outputs": [
    {
     "name": "stdout",
     "output_type": "stream",
     "text": [
      "- Valores de v1 y v2:\n",
      "True False\n"
     ]
    }
   ],
   "source": [
    "### Booleanos ###\n",
    "\n",
    "v1 = True #el valor verdadero se escribe True \n",
    "v2 = False #el valor verdadero se escribe False\n",
    "\n",
    "print(\"- Valores de v1 y v2:\")\n",
    "print(v1,v2)"
   ]
  },
  {
   "cell_type": "code",
   "execution_count": 7,
   "metadata": {},
   "outputs": [
    {
     "name": "stdout",
     "output_type": "stream",
     "text": [
      "- Tipo de v1:\n",
      "<class 'bool'>\n"
     ]
    }
   ],
   "source": [
    "\n",
    "print(\"- Tipo de v1:\")\n",
    "print(type(v1)) # Imprime la clase de un valor booleano ('bool')\n"
   ]
  },
  {
   "cell_type": "code",
   "execution_count": 8,
   "metadata": {},
   "outputs": [
    {
     "name": "stdout",
     "output_type": "stream",
     "text": [
      "- v1 and v2:\n",
      "False\n",
      "True\n",
      "False\n"
     ]
    }
   ],
   "source": [
    "print(\"- v1 and v2:\")\n",
    "print(v1 and v2) # y lógico; imprime False\n",
    "print(v1 or v2)  # o lógico; imprime True\n",
    "print(not v1)   # negación lógica, imprime False"
   ]
  },
  {
   "cell_type": "code",
   "execution_count": null,
   "metadata": {},
   "outputs": [],
   "source": [
    "print(3 == 5)  # Imprime False ya que son distintos\n",
    "print(3 != 5)  # Imprime True ya que son distintos\n",
    "print(3 < 5)  # Imprime True ya que 3 es menor que 5"
   ]
  },
  {
   "cell_type": "code",
   "execution_count": null,
   "metadata": {},
   "outputs": [],
   "source": [
    "Lista = []"
   ]
  },
  {
   "cell_type": "code",
   "execution_count": null,
   "metadata": {},
   "outputs": [],
   "source": [
    "print(\"- Lista con 4 números:\")\n",
    "a=[57,45,7,13] # una lista con cuatro números\n",
    "print(a)"
   ]
  },
  {
   "cell_type": "code",
   "execution_count": null,
   "metadata": {},
   "outputs": [],
   "source": [
    "# la función `len` me da la longitud de la lista\n",
    "print(\"- Longitud de la lista:\")\n",
    "n=len(a)\n",
    "print(n)"
   ]
  },
  {
   "cell_type": "code",
   "execution_count": null,
   "metadata": {},
   "outputs": [],
   "source": [
    "print(\"- Lista con 3 strings:\")\n",
    "b=[\"hola\",\"chau\",\"buen día\"] # una lista con tres strings\n",
    "print(b)"
   ]
  },
  {
   "cell_type": "code",
   "execution_count": null,
   "metadata": {},
   "outputs": [],
   "source": [
    "#Para acceder a sus elementos, se utiliza el []\n",
    "# Los índices comienzan en 0\n",
    "print(\"- Elemento con índice 0 de la lista:\")\n",
    "print(b[0])\n",
    "print(\"- Elemento con índice 1 de la lista:\")\n",
    "print(b[1])\n",
    "print(\"- Elemento con índice 2 de la lista:\")\n",
    "print(b[2])"
   ]
  },
  {
   "cell_type": "code",
   "execution_count": null,
   "metadata": {},
   "outputs": [],
   "source": [
    "# para crear una lista vacía, (sin elementos), simplemente ponemos []\n",
    "vacia=[]\n",
    "print(\"Lista vacía:\")\n",
    "print(vacia)"
   ]
  },
  {
   "cell_type": "code",
   "execution_count": 9,
   "metadata": {},
   "outputs": [
    {
     "name": "stdout",
     "output_type": "stream",
     "text": [
      "- Una lista con 3 strings:\n",
      "['una', 'lista', 'de']\n"
     ]
    }
   ],
   "source": [
    "#por último, le podés agregar elementos a una lista con el método `append`\n",
    "print(\"- Una lista con 3 strings:\")\n",
    "a=['una','lista','de']\n",
    "print(a)"
   ]
  },
  {
   "cell_type": "code",
   "execution_count": 10,
   "metadata": {},
   "outputs": [
    {
     "name": "stdout",
     "output_type": "stream",
     "text": [
      "- La misma lista luego de agregarle un string más:\n",
      "['una', 'lista', 'de', 'strings']\n"
     ]
    }
   ],
   "source": [
    "\n",
    "print(\"- La misma lista luego de agregarle un string más:\")\n",
    "a.append('strings')\n",
    "print(a)"
   ]
  },
  {
   "cell_type": "code",
   "execution_count": 11,
   "metadata": {},
   "outputs": [
    {
     "data": {
      "text/plain": [
       "'una'"
      ]
     },
     "execution_count": 11,
     "metadata": {},
     "output_type": "execute_result"
    }
   ],
   "source": [
    "a.pop(0)"
   ]
  },
  {
   "cell_type": "code",
   "execution_count": 12,
   "metadata": {},
   "outputs": [
    {
     "data": {
      "text/plain": [
       "['lista', 'de', 'strings']"
      ]
     },
     "execution_count": 12,
     "metadata": {},
     "output_type": "execute_result"
    }
   ],
   "source": [
    "a"
   ]
  },
  {
   "cell_type": "code",
   "execution_count": 14,
   "metadata": {},
   "outputs": [],
   "source": [
    "li = [1,2,3,4,5,5]"
   ]
  },
  {
   "cell_type": "code",
   "execution_count": 15,
   "metadata": {},
   "outputs": [
    {
     "data": {
      "text/plain": [
       "1"
      ]
     },
     "execution_count": 15,
     "metadata": {},
     "output_type": "execute_result"
    }
   ],
   "source": [
    "li.pop(0) #se elimina apartir del index"
   ]
  },
  {
   "cell_type": "code",
   "execution_count": 16,
   "metadata": {},
   "outputs": [],
   "source": [
    "li.clear() #se limpia toda la lista"
   ]
  },
  {
   "cell_type": "code",
   "execution_count": null,
   "metadata": {},
   "outputs": [],
   "source": [
    "li.pop(-1) #se elimina el ultimo elemento"
   ]
  },
  {
   "cell_type": "code",
   "execution_count": null,
   "metadata": {},
   "outputs": [],
   "source": [
    "li = ['Alice', 'Bob', 'Charlie', 'Bob', 'Dave']\n"
   ]
  },
  {
   "cell_type": "code",
   "execution_count": null,
   "metadata": {},
   "outputs": [],
   "source": [
    "li.remove('Alice')"
   ]
  },
  {
   "cell_type": "code",
   "execution_count": 17,
   "metadata": {},
   "outputs": [
    {
     "data": {
      "text/plain": [
       "[0, 10, 50]"
      ]
     },
     "execution_count": 17,
     "metadata": {},
     "output_type": "execute_result"
    }
   ],
   "source": [
    "l = [0, 10, 20, 30, 40, 50]\n",
    "del l[2:5]\n",
    "l"
   ]
  },
  {
   "cell_type": "code",
   "execution_count": 18,
   "metadata": {},
   "outputs": [
    {
     "name": "stdout",
     "output_type": "stream",
     "text": [
      "[0, 10, 20, 30]\n"
     ]
    }
   ],
   "source": [
    "l = [0, 10, 20, 30, 40, 50]\n",
    "del l[-2:]\n",
    "print(l)"
   ]
  },
  {
   "cell_type": "code",
   "execution_count": null,
   "metadata": {},
   "outputs": [],
   "source": [
    "l = [0, 10, 20, 30, 40, 50]\n",
    "del l[:]\n",
    "print(l)"
   ]
  },
  {
   "cell_type": "code",
   "execution_count": null,
   "metadata": {},
   "outputs": [],
   "source": [
    "l = ['Alice', 'Bob', 'Charlie', 'Bob', 'David']\n",
    "print(l)\n"
   ]
  },
  {
   "cell_type": "code",
   "execution_count": null,
   "metadata": {},
   "outputs": [],
   "source": [
    "print([s for s in l if s != 'Bob'])"
   ]
  },
  {
   "cell_type": "code",
   "execution_count": null,
   "metadata": {},
   "outputs": [],
   "source": [
    "#Podés crear una tupla con valores entre () separados por ,\n",
    "a=(1,2,57,4)\n",
    "print(\"- Una tupla de cuatro elementos:\")\n",
    "print(a)\n",
    "print(\"- El elemento con índice 2:\")\n",
    "print(a[2])\n",
    "print(\"- Los elementos entre los índices 0 y 2:\")\n",
    "print(a[0:2])"
   ]
  },
  {
   "cell_type": "code",
   "execution_count": null,
   "metadata": {},
   "outputs": [],
   "source": [
    "edad = 25\n",
    "\n",
    "print(\"La persona es\")\n",
    "if edad < 18: # el if termina con : para indicar donde acaba la condición\n",
    "    # el print va indentado con 4 espacios para indicar que está dentro del\n",
    "    # cuerpo del if\n",
    "    print(\"Menor\") \n",
    "else:\n",
    "    #Lo mismo con este print\n",
    "    print(\"Mayor\")\n",
    "    \n",
    "print(\"De edad\")"
   ]
  },
  {
   "cell_type": "code",
   "execution_count": null,
   "metadata": {},
   "outputs": [],
   "source": [
    "print(\"- Impresion de los elementos de la lista:\")\n",
    "\n",
    "# Imprimir los strings de mi_lista por separado\n",
    "mi_lista=[\"img\",\"python\",\"numpy\"]\n",
    "for s in mi_lista:\n",
    "    print(s)# este print va con indentación\n"
   ]
  },
  {
   "cell_type": "code",
   "execution_count": null,
   "metadata": {},
   "outputs": [],
   "source": [
    "    \n",
    "#calcular la suma de los números e imprimirla\n",
    "suma=0\n",
    "mis_numeros=[5,8,17,12]\n",
    "for numero in mis_numeros:\n",
    "    suma=suma+numero\n",
    "print(\"- La suma de los números es:\")\n",
    "print(suma)"
   ]
  },
  {
   "cell_type": "code",
   "execution_count": 20,
   "metadata": {},
   "outputs": [],
   "source": [
    "import numpy as np"
   ]
  },
  {
   "cell_type": "code",
   "execution_count": null,
   "metadata": {},
   "outputs": [],
   "source": [
    "#Crear un vector con valores dentro del rango 10 a 49\n",
    "a = np.arange(10,50)\n",
    "a"
   ]
  },
  {
   "cell_type": "code",
   "execution_count": null,
   "metadata": {},
   "outputs": [],
   "source": [
    "#Invertir el vector\n",
    "a[::-1]"
   ]
  },
  {
   "cell_type": "code",
   "execution_count": 21,
   "metadata": {},
   "outputs": [],
   "source": [
    "a = np.array([[0,1,2],[3,4,5],[6,7,8]])"
   ]
  },
  {
   "cell_type": "code",
   "execution_count": 22,
   "metadata": {},
   "outputs": [
    {
     "data": {
      "text/plain": [
       "array([[0, 1, 2],\n",
       "       [3, 4, 5],\n",
       "       [6, 7, 8]])"
      ]
     },
     "execution_count": 22,
     "metadata": {},
     "output_type": "execute_result"
    }
   ],
   "source": [
    "a"
   ]
  },
  {
   "cell_type": "code",
   "execution_count": 23,
   "metadata": {},
   "outputs": [
    {
     "data": {
      "text/plain": [
       "array([[0, 1, 2],\n",
       "       [3, 4, 5],\n",
       "       [6, 7, 8]])"
      ]
     },
     "execution_count": 23,
     "metadata": {},
     "output_type": "execute_result"
    }
   ],
   "source": [
    "#Crear una matriz 3x3 con valores de 0 a 8\n",
    "np.arange(0,9).reshape(3,3)"
   ]
  },
  {
   "cell_type": "code",
   "execution_count": null,
   "metadata": {},
   "outputs": [],
   "source": [
    "np.identity(6)"
   ]
  },
  {
   "cell_type": "code",
   "execution_count": 25,
   "metadata": {},
   "outputs": [
    {
     "name": "stdout",
     "output_type": "stream",
     "text": [
      "[[0.8517207  0.79192755 0.16996856]\n",
      " [0.84342572 0.72144639 0.85135095]\n",
      " [0.33404302 0.80580423 0.33236869]] [[0.07110096 0.72337598 0.3189811 ]\n",
      " [0.97188101 0.08966665 0.78894601]\n",
      " [0.83594013 0.82597663 0.04990972]]\n"
     ]
    },
    {
     "data": {
      "text/plain": [
       "array([[False, False, False],\n",
       "       [False, False, False],\n",
       "       [False, False, False]])"
      ]
     },
     "execution_count": 25,
     "metadata": {},
     "output_type": "execute_result"
    }
   ],
   "source": [
    "a = np.random.random((3,3))\n",
    "b = np.random.random((3,3))\n",
    "print(a,b)\n",
    "a == b "
   ]
  },
  {
   "cell_type": "code",
   "execution_count": 47,
   "metadata": {},
   "outputs": [
    {
     "name": "stdout",
     "output_type": "stream",
     "text": [
      "2+5=\n",
      "7\n",
      "los elementos de la lista suman:\n",
      "180\n"
     ]
    }
   ],
   "source": [
    "#esta funcion recibe dos números y devuelve su suma\n",
    "\n",
    "def sumar(a,b):\n",
    "    return a+b\n",
    "\n",
    "\n",
    "c=sumar(2,5)\n",
    "print(\"2+5=\")\n",
    "print(c)\n",
    "\n",
    "\n",
    "#esta funcion recibe una lista y devuelve la suma de sus elementos\n",
    "def sumar_todos(lista):\n",
    "    suma=0\n",
    "    for v in lista:\n",
    "        suma+=v\n",
    "    return suma\n",
    "\n",
    "mi_lista=[54,12,99,15]\n",
    "print(\"los elementos de la lista suman:\")\n",
    "print(sumar_todos(mi_lista))"
   ]
  },
  {
   "cell_type": "code",
   "execution_count": null,
   "metadata": {},
   "outputs": [],
   "source": [
    "suma = sumar_todos(mi_lista)"
   ]
  },
  {
   "cell_type": "code",
   "execution_count": null,
   "metadata": {},
   "outputs": [],
   "source": [
    "#Ejercicio\n",
    "# Escribir una función que reciba una lista y un valor, \n",
    "#y devuelva la cantidad de veces que aparece ese valor en la lista\n",
    "\n",
    "def ocurrencias(lista,valor):\n",
    "    # IMPLEMENTAR\n",
    "    return 0\n",
    "\n",
    "\n",
    "l=[1,4,2,3,5,1,4,2,3,6,1,7,1,3,5,1,1,5,3,2]\n",
    "v=2\n",
    "\n",
    "print(ocurrencias(l,v))"
   ]
  },
  {
   "cell_type": "code",
   "execution_count": 27,
   "metadata": {},
   "outputs": [],
   "source": [
    "def ocurrencias(lista,valor):\n",
    "    count = 0\n",
    "    for ele in lista: \n",
    "        if (ele == valor): \n",
    "            count = count + 1\n",
    "\n",
    "    a = np.random.random((n,n))\n",
    "    indentidad = np.identity(n)\n",
    "    diagonal_iden = np.diag(indentidad)\n",
    "    diagonal_iden_a = np.diag(a)\n",
    "    boole = diagonal_iden.all() == diagonal_iden_a.all()\n",
    "    return count , a , boole"
   ]
  },
  {
   "cell_type": "code",
   "execution_count": 45,
   "metadata": {},
   "outputs": [],
   "source": [
    "lst = [8, 6, 8, 10, 8, 20, 10, 8, 8] \n",
    "x = 8\n",
    "count , a , boole = ocurrencias(lst,x)"
   ]
  },
  {
   "cell_type": "code",
   "execution_count": 46,
   "metadata": {},
   "outputs": [
    {
     "data": {
      "text/plain": [
       "(5,\n",
       " array([[0.87318033, 0.03839277, 0.6402581 , 0.54324396, 0.97985708],\n",
       "        [0.76504734, 0.66342341, 0.62933831, 0.83255443, 0.97123556],\n",
       "        [0.67582518, 0.33345242, 0.09571765, 0.96127013, 0.81472005],\n",
       "        [0.26859107, 0.93749547, 0.25244821, 0.96586181, 0.56579606],\n",
       "        [0.65409396, 0.00621326, 0.28394863, 0.59076099, 0.46185151]]),\n",
       " True)"
      ]
     },
     "execution_count": 46,
     "metadata": {},
     "output_type": "execute_result"
    }
   ],
   "source": [
    "count , a , boole"
   ]
  },
  {
   "cell_type": "code",
   "execution_count": 43,
   "metadata": {},
   "outputs": [],
   "source": [
    "def ocurrencias(lst, x): \n",
    "    n = lst.count(x)\n",
    "    a = np.random.random((n,n))\n",
    "    indentidad = np.identity(n)\n",
    "    diagonal_iden = np.diag(indentidad)\n",
    "    diagonal_iden_a = np.diag(a)\n",
    "    boole = diagonal_iden.all() == diagonal_iden_a.all()\n",
    "\n",
    "    return n,a,boole\n",
    "  \n",
    "lst = [8, 6, 8, 10, 8, 20, 10, 8, 8] \n",
    "x = 8\n",
    "n,a,boole = ocurrencias(lst,x)"
   ]
  },
  {
   "cell_type": "code",
   "execution_count": 44,
   "metadata": {},
   "outputs": [
    {
     "data": {
      "text/plain": [
       "(5,\n",
       " array([[0.48265666, 0.38965504, 0.78939823, 0.67977802, 0.50320364],\n",
       "        [0.75296771, 0.23986568, 0.66674154, 0.56210365, 0.84783956],\n",
       "        [0.13638022, 0.27323926, 0.5989428 , 0.65090353, 0.76727862],\n",
       "        [0.96596181, 0.3434753 , 0.83240823, 0.69529098, 0.02113831],\n",
       "        [0.55794963, 0.29011529, 0.5065356 , 0.33928643, 0.10910274]]),\n",
       " True)"
      ]
     },
     "execution_count": 44,
     "metadata": {},
     "output_type": "execute_result"
    }
   ],
   "source": [
    "n,a,boole"
   ]
  },
  {
   "cell_type": "code",
   "execution_count": 38,
   "metadata": {},
   "outputs": [
    {
     "ename": "TypeError",
     "evalue": "random() takes at most 1 positional argument (2 given)",
     "output_type": "error",
     "traceback": [
      "\u001b[1;31m---------------------------------------------------------------------------\u001b[0m",
      "\u001b[1;31mTypeError\u001b[0m                                 Traceback (most recent call last)",
      "\u001b[1;32mc:\\Users\\fraja\\Documents\\T\\duda.ipynb Cell 52\u001b[0m in \u001b[0;36m<cell line: 1>\u001b[1;34m()\u001b[0m\n\u001b[1;32m----> <a href='vscode-notebook-cell:/c%3A/Users/fraja/Documents/T/duda.ipynb#Y110sZmlsZQ%3D%3D?line=0'>1</a>\u001b[0m randnums\u001b[39m=\u001b[39m np\u001b[39m.\u001b[39;49mrandom\u001b[39m.\u001b[39;49mrandom(\u001b[39m1\u001b[39;49m,\u001b[39m3\u001b[39;49m, size\u001b[39m=\u001b[39;49m(x,x))\n",
      "File \u001b[1;32mmtrand.pyx:427\u001b[0m, in \u001b[0;36mnumpy.random.mtrand.RandomState.random\u001b[1;34m()\u001b[0m\n",
      "\u001b[1;31mTypeError\u001b[0m: random() takes at most 1 positional argument (2 given)"
     ]
    }
   ],
   "source": [
    "randnums= np.random.random(1,3, size=(x,x))"
   ]
  },
  {
   "cell_type": "code",
   "execution_count": 40,
   "metadata": {},
   "outputs": [
    {
     "data": {
      "text/plain": [
       "(8, 8)"
      ]
     },
     "execution_count": 40,
     "metadata": {},
     "output_type": "execute_result"
    }
   ],
   "source": [
    "\n"
   ]
  },
  {
   "cell_type": "code",
   "execution_count": 30,
   "metadata": {},
   "outputs": [],
   "source": [
    "lst = [8, 6, 8, 10, 8, 20, 10, 8, 8] "
   ]
  },
  {
   "cell_type": "code",
   "execution_count": 33,
   "metadata": {},
   "outputs": [],
   "source": [
    "a = np.array(lst)"
   ]
  },
  {
   "cell_type": "code",
   "execution_count": 35,
   "metadata": {},
   "outputs": [
    {
     "data": {
      "text/plain": [
       "array([10,  8, 10, 12, 10, 22, 12, 10, 10])"
      ]
     },
     "execution_count": 35,
     "metadata": {},
     "output_type": "execute_result"
    }
   ],
   "source": [
    "a+2"
   ]
  },
  {
   "cell_type": "code",
   "execution_count": null,
   "metadata": {},
   "outputs": [],
   "source": []
  }
 ],
 "metadata": {
  "kernelspec": {
   "display_name": "especies2",
   "language": "python",
   "name": "python3"
  },
  "language_info": {
   "codemirror_mode": {
    "name": "ipython",
    "version": 3
   },
   "file_extension": ".py",
   "mimetype": "text/x-python",
   "name": "python",
   "nbconvert_exporter": "python",
   "pygments_lexer": "ipython3",
   "version": "3.8.15 (default, Nov 24 2022, 14:38:14) [MSC v.1916 64 bit (AMD64)]"
  },
  "orig_nbformat": 4,
  "vscode": {
   "interpreter": {
    "hash": "d9fbf87a3a5ca311427fa41d212bb088447c123d4c7119f64be7cb4823fe47d8"
   }
  }
 },
 "nbformat": 4,
 "nbformat_minor": 2
}
